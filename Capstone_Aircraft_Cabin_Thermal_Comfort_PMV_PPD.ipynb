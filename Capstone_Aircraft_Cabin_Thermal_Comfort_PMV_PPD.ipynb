{
  "nbformat": 4,
  "nbformat_minor": 0,
  "metadata": {
    "colab": {
      "name": "Capstone Aircraft Cabin Thermal Comfort PMV PPD ",
      "provenance": [],
      "collapsed_sections": [],
      "authorship_tag": "ABX9TyPpl4Acewht7IccIDiReQdl",
      "include_colab_link": true
    },
    "kernelspec": {
      "name": "python3",
      "display_name": "Python 3"
    }
  },
  "cells": [
    {
      "cell_type": "markdown",
      "metadata": {
        "id": "view-in-github",
        "colab_type": "text"
      },
      "source": [
        "<a href=\"https://colab.research.google.com/github/DhanieArdiyan/ASE2306-Capstone-Project/blob/main/Capstone_Aircraft_Cabin_Thermal_Comfort_PMV_PPD.ipynb\" target=\"_parent\"><img src=\"https://colab.research.google.com/assets/colab-badge.svg\" alt=\"Open In Colab\"/></a>"
      ]
    },
    {
      "cell_type": "code",
      "metadata": {
        "id": "-tVWOwTFpZry",
        "outputId": "2581f3ff-3117-49b3-b0e8-1d8ca394baaf",
        "colab": {
          "base_uri": "https://localhost:8080/"
        }
      },
      "source": [
        "pip install pythermalcomfort\n"
      ],
      "execution_count": 9,
      "outputs": [
        {
          "output_type": "stream",
          "text": [
            "Requirement already satisfied: pythermalcomfort in /usr/local/lib/python3.6/dist-packages (1.3.1)\n",
            "Requirement already satisfied: scipy in /usr/local/lib/python3.6/dist-packages (from pythermalcomfort) (1.4.1)\n",
            "Requirement already satisfied: numba in /usr/local/lib/python3.6/dist-packages (from pythermalcomfort) (0.48.0)\n",
            "Requirement already satisfied: numpy>=1.13.3 in /usr/local/lib/python3.6/dist-packages (from scipy->pythermalcomfort) (1.18.5)\n",
            "Requirement already satisfied: setuptools in /usr/local/lib/python3.6/dist-packages (from numba->pythermalcomfort) (50.3.2)\n",
            "Requirement already satisfied: llvmlite<0.32.0,>=0.31.0dev0 in /usr/local/lib/python3.6/dist-packages (from numba->pythermalcomfort) (0.31.0)\n"
          ],
          "name": "stdout"
        }
      ]
    },
    {
      "cell_type": "markdown",
      "metadata": {
        "id": "pMIbEKbRH5Ju"
      },
      "source": [
        "# PMV PPD MODEL\n",
        "\n",
        "The PMV (Predicted Mean Vote) is the most recognized thermal comfort model, an index and an indicator, that aims to predict the mean value of votes of a group of occupants on a seven-point thermal sensation scale (+3 means that it is too hot, while -3 means its too cold). One can figure out through the PMV whether a person is feeling cold or hot, also explaining why they feel that way. \n",
        "\n",
        "The PMV model helps the user to understand the environment parameters to see how it affects the people, and how the different parameters may affect the human. There is a complex set of calculations done to calculate the PMV for a specific environment based on ISO 7730’s standards. These formulas are automatically computed in the pythermalcomfort library which will be imported.\n",
        "\n",
        "The Predicted Percentage of Dissatisfied, PPD, describes the number of people in percentage, who are uncomfortable at a given PMV index. This would be done once the PMV is calculated to give a quantitative prediction. The contributing factors to cause discomfort includes unwanted cooling or heating of an occupant’s body. Therefore, it is paramount to understand drafts, vertical temperature differences between the ankles and head, and floor temperature, which are the parameters involved in the programming.\n"
      ]
    },
    {
      "cell_type": "code",
      "metadata": {
        "id": "wdQBTwi9_8Jc",
        "outputId": "12b84b35-5d35-48db-ab26-04418752622d",
        "colab": {
          "base_uri": "https://localhost:8080/"
        }
      },
      "source": [
        "# Predicted Mean Vote (PMV) and Predicted Percentage of Dissatisfied (PPD) calculated in accordance to main thermal comfort standards. \n",
        "# PMV: Index to predict the mean value of the thermal sensation votes (self-reported perceptions) of a large group of people.\n",
        "# PPD: Index to establish a quantitative prediction of the percentage of thermally dissatisfied people determined from PMV.\n",
        "\n",
        "from pythermalcomfort.models import pmv_ppd\n",
        "from pythermalcomfort.models import v_relative\n",
        "import warnings \n",
        "warnings.filterwarnings('ignore')\n",
        "\n",
        "#Calculating relative air velocity\n",
        "vr = v_relative(v=0.1, met=1.0)\n",
        "# ^ edit this accordingly based on diff metabolism rate of people \n",
        "\n",
        "results = pmv_ppd(tdb=24, tr=24, vr=vr, rh=25, met=1.0, clo=0.77, wme=0, standard=\"ISO\")\n",
        "print(results)\n",
        "\n",
        "# The relative air velocity can be calculated using the function:\n",
        "#\t(py:meth:'pythermalcomfort.psychrometrics.v_relative')\n",
        "\n",
        "# ASHRAE Standard Use of the PMV model is limited to air speeds below 0.20m/s (40 fpm).\n",
        "# When air speeds exceed 0.20 m/s (40 fpm), the comfort zone boundaries are adjusted based on the SET model (Not applicable)"
      ],
      "execution_count": 7,
      "outputs": [
        {
          "output_type": "stream",
          "text": [
            "{'pmv': -0.37, 'ppd': 7.8}\n"
          ],
          "name": "stdout"
        }
      ]
    },
    {
      "cell_type": "markdown",
      "metadata": {
        "id": "X1T4BSKUREFR"
      },
      "source": [
        "\n",
        "**PARAMETERS EXPLAINED**\n",
        "\n",
        "\n",
        "**tdb** (dry bulb air temp in [°C]): Basically refers to ambient temperature. Ambient temperature is kept between 22-24°C inside a typical aircraft.\n",
        "\n",
        "**tr**: Mean Radiant Temperature in [°C]. This is a measure of the average temperature of the surfaces that surround a particular point, with which it will exchange thermal radiation. Generally equates the same as tdb.\n",
        "\n",
        "**vr**: Relative Air Velocity, default in [m/s]. vr is caused by body movement and not the air speed measured by the air velocity sensor (2 diff things). The standard is kept at 0.2m/s.\n",
        "\n",
        "**rh**: Relative Humidity in [%]. It is kept at 25% max for modern aircrafts (like B787). It would be lower in older planes.\n",
        "\n",
        "**met**: Metabolic Rate [met]. The metabolic rate for different activities that a human does can be referred to the picture below. For this case, we will apply a metabolic rate of 1.0, corresponding to a person seated.\n",
        "\n",
        "**clo**: Clothing Insulation [clo]. refers to the different clothing insulation based on typical outfits worn by passengers.\n",
        "\n",
        "**wme**: External Work [met], default 0 (passengers are not doing strenous work)\n",
        "\n",
        "**standard**: ISO/ASHRAE (diff equations are used)"
      ]
    },
    {
      "cell_type": "markdown",
      "metadata": {
        "id": "rlRMQyzbaPcb"
      },
      "source": [
        "![met rate](https://drive.google.com/uc?id=1NuhLjMAxukeT1VLtAJFuH086GMQ6ENJ_)\n",
        "\n",
        "\n",
        "\n"
      ]
    },
    {
      "cell_type": "markdown",
      "metadata": {
        "id": "QRGUxoQeMBXG"
      },
      "source": [
        "**ACCEPTABLE RANGES**\n",
        "\n",
        "In order to comply with the ASHRAE 55 standards, the recommended thermal limit output on the scale has to be between \n",
        "**-0.5 to 0.5**.\n",
        "\n",
        "Humans also have a subjective opinion on what thermal comfort is and what they think is thermally comfortable. This makes it difficult to satisfy everyone, therefore in order to comply with standards, it is acceptable to PPD ranges **below 20%**.\n",
        "\n",
        "*ASHRAE 55 defines thermal comfort as “that condition of mind that expresses satisfaction within the thermal environment”. "
      ]
    },
    {
      "cell_type": "markdown",
      "metadata": {
        "id": "nbl0dx52bqUN"
      },
      "source": [
        "**EVALUATION OF RESULTS**\n",
        "\n",
        "We can observe from the results that it returns a PMV value -0.37 and PPD value of 7.8. We can infer from these results that the person is feeling slightly cold, but is still comfortable as it falls under the recommended range.\n",
        "\n",
        "However, the parameter values can be changed respectively if we want to find out how each individual variable affects the whole model for eg. passenger wearing different set of clothings."
      ]
    },
    {
      "cell_type": "markdown",
      "metadata": {
        "id": "2-rHQ_dzSRR-"
      },
      "source": [
        "# CLOTHING INSULATION\n",
        "\n",
        "The following part calculates the different clothing insulation based on typical outfits worn by passengers. The insulation values are referred from the pictures attached.\n",
        "\n",
        "For the purpose of an example, we will take account of a lady passenger that has the following choice of clothing:\n",
        "\n",
        "Single breasted coat + Bra + Long sleeve shirt (thin) + Thin trousers + Womens underwear + Ankle socks + Boots\n"
      ]
    },
    {
      "cell_type": "code",
      "metadata": {
        "id": "g19zWJf0Ahve",
        "outputId": "9599e049-af14-4df6-ea88-cf55b70ae0e8",
        "colab": {
          "base_uri": "https://localhost:8080/"
        }
      },
      "source": [
        "#Calculating the total clothing insulation\n",
        "\n",
        "from pythermalcomfort.utilities import met_typical_tasks \n",
        "#If want to print the indiv task to see the metabolism rate, print seperately\n",
        "#print(met_typical_tasks['the_activity'])\n",
        "\n",
        "from pythermalcomfort.utilities import clo_typical_ensembles #clothings\n",
        "from pythermalcomfort.utilities import clo_individual_garments \n",
        "\n",
        "i_cl = clo_individual_garments['Long sleeve shirt (thin)'] + clo_individual_garments['Bra'] + clo_individual_garments['Single-breasted coat (thin)'] + clo_individual_garments['Ankle socks'] + clo_individual_garments[\"Women's underwear\"] + clo_individual_garments['Boots'] \n",
        "\n",
        "print(i_cl)"
      ],
      "execution_count": 4,
      "outputs": [
        {
          "output_type": "stream",
          "text": [
            "0.77\n"
          ],
          "name": "stdout"
        }
      ]
    },
    {
      "cell_type": "markdown",
      "metadata": {
        "id": "THrL5MtbZ8I7"
      },
      "source": [
        "Through this outfit, we can get a clothing insulation value of 0.77, which holds the value for the variable 'clo' that is computed into the main program.\n",
        "\n",
        "\n",
        "![clothing of indiv garments](https://drive.google.com/uc?id=1Klkv_ZEWUF2KwonjYttaoIvj-8wGs64N)\n"
      ]
    },
    {
      "cell_type": "markdown",
      "metadata": {
        "id": "iKmw4nRNkuc1"
      },
      "source": [
        "# VERTICAL TEMPERATURE GRADIENT SATISFACTION \n",
        "This program calculates the percentage of thermally dissatisfied people with a vertical temperature gradient between feet and head.\n",
        "\n",
        "ASHRAE Standard 55 recommends that the difference should not be greater than 3°C for seated occupants in an environment. \n",
        "\n",
        "However due to the decreased relative humidity in the aircraft, the vertical temperature gradient between the feet and the head should not be more than 1.6°C/m. Any temperature difference higher than 1.6°C/m would cause thermal discomfort, with the passengers being cold.\n",
        "\n",
        "    FROM vertical_tmp_grad_ppd,\n",
        "    \n",
        "    def vertical_tmp_grad_ppd(tdb, tr, vr, rh, met, clo, vertical_tmp_grad, units=\"SI\"):\n",
        "    This equation is only applicable for vr < 0.2 m/s (40 fps).\n",
        "\n",
        "    Returns: \n",
        "    PPD in %, Acceptability in bol.\n",
        "    1. ASHRAE STANDARD 55 recommends that the difference not be greater than 3°C for seated passengers.\n",
        "    2. ASHRAE 55 2017 standard defines that the value of air speed at the ankle level is acceptable if PPD_ad is lower or equal than 5%\n"
      ]
    },
    {
      "cell_type": "code",
      "metadata": {
        "id": "SfrwcvrkArOO",
        "outputId": "300527ea-529b-473a-fc2d-2b31f41525e5",
        "colab": {
          "base_uri": "https://localhost:8080/"
        }
      },
      "source": [
        "# Calculates the percentage of thermally dissatisfied people with a \n",
        "# vertical temperature gradient between feet and head.\n",
        "\n",
        "from pythermalcomfort.models import vertical_tmp_grad_ppd\n",
        "results = vertical_tmp_grad_ppd(24, 24, 0.2, 25, 1.0, 0.77, 1.6)\n",
        "print(results)\n",
        "\n",
        "# 1. ASHRAE STANDARD 55 recommends that the difference not be greater \n",
        "#    than 3°C for seated passengers.\n",
        "# 2. ASHRAE 55 2017 standard defines that the value of air speed at the \n",
        "#    ankle level is acceptable if PPD_ad is lower or equal than 5%"
      ],
      "execution_count": 5,
      "outputs": [
        {
          "output_type": "stream",
          "text": [
            "{'PPD_vg': 1.5, 'Acceptability': True}\n"
          ],
          "name": "stdout"
        }
      ]
    },
    {
      "cell_type": "markdown",
      "metadata": {
        "id": "6MNkhhqdoKSq"
      },
      "source": [
        "The results return a PPD value of 1.5%, which is reasonable for the passenger to be comfortable with the given input parameters."
      ]
    },
    {
      "cell_type": "markdown",
      "metadata": {
        "id": "52rSRk_ppekV"
      },
      "source": [
        "# ANKLE DRAFT PPD\n",
        "\n",
        "Excessive air motion or draft causes undesired local cooling of the human body, with draft being identified as the most annoying factor in most environments. \n",
        "\n",
        "A low level of air motion is desirable as it removes the warm moist air that builds around the ankle, but it should be strong enough to remove heat and moisture, yet gentle enough to be unnoticed.\n",
        "Ideally, it should be kept below 0.25m/s in buildings, but that is based on normal relative humidity of 50%, unlike in an aircraft where the relative humidity is at 25%. \n",
        "\n",
        "Therefore, ankle velocity must be kept at below 0.1m/s to keep the PPD below 20%.\n"
      ]
    },
    {
      "cell_type": "markdown",
      "metadata": {
        "id": "TaXnz34pqHmK"
      },
      "source": [
        "    FROM ankle_draft,\n",
        "    \n",
        "    def ankle_draft(tdb, tr, vr, rh, met, clo, v_ankle, units=\"SI\"):\n",
        "\n",
        "    Returns:\n",
        "    PPD in %, Acceptability: bol\n",
        "    The ASHRAE 55 2017 standard defines that the value of air speed at the ankle level is acceptable if PPD_ad is lower or equal than 20 %"
      ]
    },
    {
      "cell_type": "code",
      "metadata": {
        "id": "baS4-0r5Axi2",
        "outputId": "33f1d4bc-6e3a-44bf-b4fe-1673ac5e987a",
        "colab": {
          "base_uri": "https://localhost:8080/"
        }
      },
      "source": [
        "# Calculates the percentage of thermally dissatisfied people with the ankle draft (0.1 m) above floor level.\n",
        "\n",
        "from pythermalcomfort.models import ankle_draft\n",
        "results = ankle_draft(25, 25, 0.2, 50, 1.0, 0.77, 0.25, units=\"SI\")\n",
        "print(results)\n",
        "\n",
        "\n",
        "# PARAMETERS in respective order\n",
        "#     tdb: dry bulb air temp in [°C] \n",
        "#     \t   Note: The air temperature is the average value over two heights: \n",
        "#\t\t\t     0.6 m (24 in.) and 1.1 m (43 in.) for seated occupants\n",
        "#          1.1 m (43 in.) and 1.7 m (67 in.) for standing occupants.\n",
        "\n",
        "#     v_ankle : air speed at the 0.1 m (4 in.) above the floor in [m/s] \n",
        "\n",
        "# The ASHRAE 55 2017 standard defines that the value of air speed at the ankle level is acceptable if PPD is lower or equal than 20 %."
      ],
      "execution_count": 6,
      "outputs": [
        {
          "output_type": "stream",
          "text": [
            "{'PPD_ad': 15.0, 'Acceptability': True}\n"
          ],
          "name": "stdout"
        }
      ]
    },
    {
      "cell_type": "markdown",
      "metadata": {
        "id": "wQPUwbmurPW1"
      },
      "source": [
        "The results return a PPD of 15%, which is still fairly decent, but close to being uncomfortable."
      ]
    }
  ]
}