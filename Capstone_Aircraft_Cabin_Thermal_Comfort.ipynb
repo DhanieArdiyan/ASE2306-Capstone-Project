{
  "nbformat": 4,
  "nbformat_minor": 0,
  "metadata": {
    "colab": {
      "name": "Capstone Aircraft Cabin Thermal Comfort",
      "provenance": [],
      "collapsed_sections": [],
      "authorship_tag": "ABX9TyOzVl0dgPZcp1/ilK/tV3uU",
      "include_colab_link": true
    },
    "kernelspec": {
      "name": "python3",
      "display_name": "Python 3"
    }
  },
  "cells": [
    {
      "cell_type": "markdown",
      "metadata": {
        "id": "view-in-github",
        "colab_type": "text"
      },
      "source": [
        "<a href=\"https://colab.research.google.com/github/DhanieArdiyan/ASE2306-Capstone-Project/blob/main/Capstone_Aircraft_Cabin_Thermal_Comfort.ipynb\" target=\"_parent\"><img src=\"https://colab.research.google.com/assets/colab-badge.svg\" alt=\"Open In Colab\"/></a>"
      ]
    },
    {
      "cell_type": "code",
      "metadata": {
        "id": "-tVWOwTFpZry",
        "outputId": "bdbe34ad-e66f-400a-e617-b7f9decce56a",
        "colab": {
          "base_uri": "https://localhost:8080/"
        }
      },
      "source": [
        "pip install pythermalcomfort"
      ],
      "execution_count": 1,
      "outputs": [
        {
          "output_type": "stream",
          "text": [
            "Collecting pythermalcomfort\n",
            "  Downloading https://files.pythonhosted.org/packages/45/6f/4224f999d3cdb7139767cd3935f3000def8be53b9a0f9096ef872b4edad3/pythermalcomfort-1.3.1-py2.py3-none-any.whl\n",
            "Requirement already satisfied: scipy in /usr/local/lib/python3.6/dist-packages (from pythermalcomfort) (1.4.1)\n",
            "Requirement already satisfied: numba in /usr/local/lib/python3.6/dist-packages (from pythermalcomfort) (0.48.0)\n",
            "Requirement already satisfied: numpy>=1.13.3 in /usr/local/lib/python3.6/dist-packages (from scipy->pythermalcomfort) (1.18.5)\n",
            "Requirement already satisfied: setuptools in /usr/local/lib/python3.6/dist-packages (from numba->pythermalcomfort) (50.3.2)\n",
            "Requirement already satisfied: llvmlite<0.32.0,>=0.31.0dev0 in /usr/local/lib/python3.6/dist-packages (from numba->pythermalcomfort) (0.31.0)\n",
            "Installing collected packages: pythermalcomfort\n",
            "Successfully installed pythermalcomfort-1.3.1\n"
          ],
          "name": "stdout"
        }
      ]
    },
    {
      "cell_type": "code",
      "metadata": {
        "id": "wdQBTwi9_8Jc",
        "outputId": "8e8bfc21-f9d5-411f-8be6-97200b8ee577",
        "colab": {
          "base_uri": "https://localhost:8080/"
        }
      },
      "source": [
        "# Predicted Mean Vote (PMV) and Predicted Percentage of Dissatisfied (PPD) calculated in accordance to main thermal comfort standards. \n",
        "# PMV: Index to predict the mean value of the thermal sensation votes (self-reported perceptions) of a large group of people.\n",
        "# PPD: Index to establish a quantitative prediction of the percentage of thermally dissatisfied people determined from PMV.\n",
        "\n",
        "from pythermalcomfort.models import pmv_ppd\n",
        "from pythermalcomfort.models import v_relative\n",
        "\n",
        "#Calculating relative air velocity\n",
        "vr = v_relative(v=0.1, met=1.0)\n",
        "# ^ edit this accordingly based on diff metabolism rate of people \n",
        "\n",
        "results = pmv_ppd(tdb=24, tr=24, vr=vr, rh=25, met=1.0, clo=0.58, wme=0, standard=\"ISO\")\n",
        "print(results)\n",
        "\n",
        "# PARAMETERS in respective order\n",
        "#     tdb: dry bulb air temp in [°C] \n",
        "#     tr: mean radiant temperature in [°C]\n",
        "#     vr: relative air velocity, default in [m/s] \n",
        "#       Note: vr is the relative air velocity caused by body movement and not the air speed measured by the air velocity sensor (2 diff things)\n",
        "#     rh: relative humidity in [%]\n",
        "#     met: metabolic rate [met]\n",
        "#     clo: clothing insulation [clo]\n",
        "#     wme: external work [met], default 0 (passengers are not doing strenous work)\n",
        "#     standard: ISO/ASHRAE (diff equations are used)\n",
        "\n",
        "#\t\tThe relative air velocity can be calculate using the function:\n",
        "#\t\tpy:meth:`pythermalcomfort.psychrometrics.v_relative`\n",
        "#       v_relative = v + 0.3 (MET - 1).\n",
        "\n",
        "# ASHRAE Standard Use of the PMV model is limited to air speeds below 0.20m/s (40 fpm).\n",
        "# When air speeds exceed 0.20 m/s (40 fpm), the comfort zone boundaries are adjusted based on the SET model (below)."
      ],
      "execution_count": 2,
      "outputs": [
        {
          "output_type": "stream",
          "text": [
            "/usr/lib/python3.6/importlib/_bootstrap.py:219: RuntimeWarning: numpy.ufunc size changed, may indicate binary incompatibility. Expected 192 from C header, got 216 from PyObject\n",
            "  return f(*args, **kwds)\n",
            "/usr/lib/python3.6/importlib/_bootstrap.py:219: RuntimeWarning: numpy.ufunc size changed, may indicate binary incompatibility. Expected 192 from C header, got 216 from PyObject\n",
            "  return f(*args, **kwds)\n",
            "/usr/lib/python3.6/importlib/_bootstrap.py:219: RuntimeWarning: numpy.ufunc size changed, may indicate binary incompatibility. Expected 192 from C header, got 216 from PyObject\n",
            "  return f(*args, **kwds)\n",
            "/usr/lib/python3.6/importlib/_bootstrap.py:219: RuntimeWarning: numpy.ufunc size changed, may indicate binary incompatibility. Expected 192 from C header, got 216 from PyObject\n",
            "  return f(*args, **kwds)\n",
            "/usr/lib/python3.6/importlib/_bootstrap.py:219: RuntimeWarning: numpy.ufunc size changed, may indicate binary incompatibility. Expected 192 from C header, got 216 from PyObject\n",
            "  return f(*args, **kwds)\n",
            "/usr/lib/python3.6/importlib/_bootstrap.py:219: RuntimeWarning: numpy.ufunc size changed, may indicate binary incompatibility. Expected 192 from C header, got 216 from PyObject\n",
            "  return f(*args, **kwds)\n",
            "/usr/lib/python3.6/importlib/_bootstrap.py:219: RuntimeWarning: numpy.ufunc size changed, may indicate binary incompatibility. Expected 192 from C header, got 216 from PyObject\n",
            "  return f(*args, **kwds)\n",
            "/usr/lib/python3.6/importlib/_bootstrap.py:219: RuntimeWarning: numpy.ufunc size changed, may indicate binary incompatibility. Expected 192 from C header, got 216 from PyObject\n",
            "  return f(*args, **kwds)\n",
            "/usr/lib/python3.6/importlib/_bootstrap.py:219: RuntimeWarning: numpy.ufunc size changed, may indicate binary incompatibility. Expected 192 from C header, got 216 from PyObject\n",
            "  return f(*args, **kwds)\n",
            "/usr/lib/python3.6/importlib/_bootstrap.py:219: RuntimeWarning: numpy.ufunc size changed, may indicate binary incompatibility. Expected 192 from C header, got 216 from PyObject\n",
            "  return f(*args, **kwds)\n",
            "/usr/lib/python3.6/importlib/_bootstrap.py:219: RuntimeWarning: numpy.ufunc size changed, may indicate binary incompatibility. Expected 192 from C header, got 216 from PyObject\n",
            "  return f(*args, **kwds)\n",
            "/usr/lib/python3.6/importlib/_bootstrap.py:219: RuntimeWarning: numpy.ufunc size changed, may indicate binary incompatibility. Expected 192 from C header, got 216 from PyObject\n",
            "  return f(*args, **kwds)\n",
            "/usr/lib/python3.6/importlib/_bootstrap.py:219: RuntimeWarning: numpy.ufunc size changed, may indicate binary incompatibility. Expected 192 from C header, got 216 from PyObject\n",
            "  return f(*args, **kwds)\n",
            "/usr/lib/python3.6/importlib/_bootstrap.py:219: RuntimeWarning: numpy.ufunc size changed, may indicate binary incompatibility. Expected 192 from C header, got 216 from PyObject\n",
            "  return f(*args, **kwds)\n",
            "/usr/lib/python3.6/importlib/_bootstrap.py:219: RuntimeWarning: numpy.ufunc size changed, may indicate binary incompatibility. Expected 192 from C header, got 216 from PyObject\n",
            "  return f(*args, **kwds)\n",
            "/usr/lib/python3.6/importlib/_bootstrap.py:219: RuntimeWarning: numpy.ufunc size changed, may indicate binary incompatibility. Expected 192 from C header, got 216 from PyObject\n",
            "  return f(*args, **kwds)\n",
            "/usr/lib/python3.6/importlib/_bootstrap.py:219: RuntimeWarning: numpy.ufunc size changed, may indicate binary incompatibility. Expected 192 from C header, got 216 from PyObject\n",
            "  return f(*args, **kwds)\n",
            "/usr/lib/python3.6/importlib/_bootstrap.py:219: RuntimeWarning: numpy.ufunc size changed, may indicate binary incompatibility. Expected 192 from C header, got 216 from PyObject\n",
            "  return f(*args, **kwds)\n",
            "/usr/lib/python3.6/importlib/_bootstrap.py:219: RuntimeWarning: numpy.ufunc size changed, may indicate binary incompatibility. Expected 192 from C header, got 216 from PyObject\n",
            "  return f(*args, **kwds)\n",
            "/usr/lib/python3.6/importlib/_bootstrap.py:219: RuntimeWarning: numpy.ufunc size changed, may indicate binary incompatibility. Expected 192 from C header, got 216 from PyObject\n",
            "  return f(*args, **kwds)\n",
            "/usr/lib/python3.6/importlib/_bootstrap.py:219: RuntimeWarning: numpy.ufunc size changed, may indicate binary incompatibility. Expected 192 from C header, got 216 from PyObject\n",
            "  return f(*args, **kwds)\n",
            "/usr/lib/python3.6/importlib/_bootstrap.py:219: RuntimeWarning: numpy.ufunc size changed, may indicate binary incompatibility. Expected 192 from C header, got 216 from PyObject\n",
            "  return f(*args, **kwds)\n"
          ],
          "name": "stderr"
        },
        {
          "output_type": "stream",
          "text": [
            "{'pmv': -0.76, 'ppd': 17.3}\n"
          ],
          "name": "stdout"
        }
      ]
    },
    {
      "cell_type": "code",
      "metadata": {
        "id": "xd8wHVTDAp87",
        "outputId": "8e83883c-4c2d-411a-b9b3-de7908b82f83",
        "colab": {
          "base_uri": "https://localhost:8080/"
        }
      },
      "source": [
        "#Calculating the Standard Effective Temperature (SET) in an imaginary environment to simulate an imaginary occupant being in an actual environment.\n",
        "\n",
        "from pythermalcomfort.models import set_tmp\n",
        "results = set_tmp(tdb=24, tr=24, v=0.1, rh=25, met=1.0, clo=0.58)\n",
        "print (results)\n",
        "\n",
        "# PARAMETERS in respective order (same as above)\n",
        "\n",
        "#     body surface area: average value 1.8258 [m2] \n",
        "#     patm: atmospheric pressure, default value 101325 [Pa] "
      ],
      "execution_count": 3,
      "outputs": [
        {
          "output_type": "stream",
          "text": [
            "23.2\n"
          ],
          "name": "stdout"
        }
      ]
    },
    {
      "cell_type": "code",
      "metadata": {
        "id": "g19zWJf0Ahve",
        "outputId": "c5240ab4-9b3a-4bd8-bc7f-a53239d43338",
        "colab": {
          "base_uri": "https://localhost:8080/"
        }
      },
      "source": [
        "#Calculating the total clothing insulation\n",
        "\n",
        "from pythermalcomfort.utilities import met_typical_tasks \n",
        "#If want to print the indiv task to see the metabolism rate, print seperately\n",
        "#print(met_typical_tasks['the_activity'])\n",
        "\n",
        "from pythermalcomfort.utilities import clo_typical_ensembles #clothings\n",
        "from pythermalcomfort.utilities import clo_individual_garments \n",
        "\n",
        "i_cl = clo_individual_garments['Long sleeve shirt (thin)'] + clo_individual_garments['Bra'] + clo_individual_garments['Single-breasted coat (thin)'] + clo_individual_garments['Ankle socks'] + clo_individual_garments[\"Women's underwear\"] + clo_individual_garments['Boots'] \n",
        "\n",
        "print(i_cl)\n",
        "\n",
        "#Refer to project report for values of the respective met rates and clothing insulation values."
      ],
      "execution_count": 4,
      "outputs": [
        {
          "output_type": "stream",
          "text": [
            "0.77\n"
          ],
          "name": "stdout"
        }
      ]
    },
    {
      "cell_type": "code",
      "metadata": {
        "id": "SfrwcvrkArOO",
        "outputId": "10d06d4a-c0fe-4506-a108-2bccb6e87021",
        "colab": {
          "base_uri": "https://localhost:8080/"
        }
      },
      "source": [
        "#Calculates the percentage of thermally dissatisfied people with a vertical temperature gradient between feet and head.\n",
        "\n",
        "from pythermalcomfort.models import vertical_tmp_grad_ppd\n",
        "results = vertical_tmp_grad_ppd(24, 24, 0.2, 25, 1.0, 0.58, 1.6)\n",
        "print(results)\n",
        "\n",
        "# PARAMETERS in respective order\n",
        "#     tdb: dry bulb air temp in [°C] \n",
        "#     \t   Note: The air temperature is the average value over two heights: \n",
        "#\t\t      \t0.6 m (24 in.) and 1.1 m (43 in.) for seated occupants\n",
        "#         \t1.1 m (43 in.) and 1.7 m (67 in.) for standing occupants.\n",
        "\n",
        "# vertical_tmp_grad: vertical temperature gradient between the feet and the head, in [°C/m]\n",
        "\n",
        "# ASHRAE STANDARD 55 recommends that the difference not be greater than 3°C for seated passengers.\n",
        "# ASHRAE 55 2017 standard defines that the value of air speed at the ankle level is acceptable if PPD_ad is lower or equal than 5%\n"
      ],
      "execution_count": 5,
      "outputs": [
        {
          "output_type": "stream",
          "text": [
            "{'PPD_vg': 8.3, 'Acceptability': False}\n"
          ],
          "name": "stdout"
        }
      ]
    },
    {
      "cell_type": "code",
      "metadata": {
        "id": "baS4-0r5Axi2",
        "outputId": "2b1e6e1b-806e-4a9c-e517-d8bfceff4646",
        "colab": {
          "base_uri": "https://localhost:8080/"
        }
      },
      "source": [
        "# Calculates the percentage of thermally dissatisfied people with the ankle draft (0.1 m) above floor level.\n",
        "\n",
        "from pythermalcomfort.models import ankle_draft\n",
        "results = ankle_draft(25, 25, 0.2, 50, 1.0, 0.58, 0.25, units=\"SI\")\n",
        "print(results)\n",
        "\n",
        "\n",
        "# PARAMETERS in respective order\n",
        "#     tdb: dry bulb air temp in [°C] \n",
        "#     \t   Note: The air temperature is the average value over two heights: \n",
        "#\t\t\t     0.6 m (24 in.) and 1.1 m (43 in.) for seated occupants\n",
        "#          1.1 m (43 in.) and 1.7 m (67 in.) for standing occupants.\n",
        "\n",
        "#     v_ankle : air speed at the 0.1 m (4 in.) above the floor in [m/s] \n",
        "\n",
        "# The ASHRAE 55 2017 standard defines that the value of air speed at the ankle level is acceptable if PPD is lower or equal than 20 %."
      ],
      "execution_count": 6,
      "outputs": [
        {
          "output_type": "stream",
          "text": [
            "{'PPD_ad': 20.9, 'Acceptability': False}\n"
          ],
          "name": "stdout"
        }
      ]
    }
  ]
}