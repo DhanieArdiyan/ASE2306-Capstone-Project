{
  "nbformat": 4,
  "nbformat_minor": 0,
  "metadata": {
    "colab": {
      "name": "IOT Logistic Regression",
      "provenance": [],
      "collapsed_sections": [],
      "authorship_tag": "ABX9TyPnPX8BqOu7FPVs7v8Z6Xv5",
      "include_colab_link": true
    },
    "kernelspec": {
      "name": "python3",
      "display_name": "Python 3"
    }
  },
  "cells": [
    {
      "cell_type": "markdown",
      "metadata": {
        "id": "view-in-github",
        "colab_type": "text"
      },
      "source": [
        "<a href=\"https://colab.research.google.com/github/DhanieArdiyan/ASE2306-Capstone-Project/blob/main/IOT_Logistic_Regression.ipynb\" target=\"_parent\"><img src=\"https://colab.research.google.com/assets/colab-badge.svg\" alt=\"Open In Colab\"/></a>"
      ]
    },
    {
      "cell_type": "markdown",
      "metadata": {
        "id": "N19zSP0Df-aV"
      },
      "source": [
        "# Communication between Arduino and Python.\n",
        "The following codes runs the program for the vending machine selection. It allows a two-way communication between Arduino and Python. Since Google Colab is an independent platform seperate from the OS, Spyder is used as the coding platform. "
      ]
    },
    {
      "cell_type": "code",
      "metadata": {
        "id": "dumpduRaf00Z"
      },
      "source": [
        "# import serial\n",
        "# import time\n",
        "# import gspread\n",
        "# gc = gspread.service_account(filename='credentials.json')\n",
        "# sh = gc.open_by_key('1q1yoNsM5ukwB6lJIfMFQTqSjVlyjaAzVs0nUG_NVPug')\n",
        "# worksheet = sh.sheet1\n",
        "\n",
        "# import gspread_dataframe as gd\n",
        "# from datetime import datetime\n",
        "# import pytz\n",
        "\n",
        "# timezone = pytz.timezone ('Singapore')\n",
        "\n",
        "# def current_time():\n",
        "#     return datetime.now(timezone).strftime('%H:%M:%S')\n",
        "\n",
        "# def appending_data(worksheet, input, user):\n",
        "#     dataframe = gd.get_as_dataframe(worksheet)\n",
        "    \n",
        "#     data = {'Time': current_time(), 'Choice': input, 'Staff': user}\n",
        "#     updated = dataframe.append(data, ignore_index=True)\n",
        "#     gd.set_with_dataframe(worksheet, updated)\n",
        "#     return dataframe\n",
        "\n",
        "\n",
        "# ser = serial.Serial('COM4', 9600)\n",
        "# fileName = \"test_data.csv\" #name of CSV file generated\n",
        "# time.sleep (2)\n",
        "\n",
        "# while 1:\n",
        "#       if (ser.inWaiting()>0): #if there is data waiting at the serial port\n",
        "#         myData = ser.readline()\n",
        "#         myData_string=myData.decode(\"utf-8\")\n",
        "#         print (myData_string)\n",
        "        \n",
        "#         if myData_string[16:23] in ['Snack 1', 'Snack 2']: \n",
        "#             selection = myData_string[16:23]\n",
        "            \n",
        "            \n",
        "#         if myData_string[0:5] == 'Hello': \n",
        "#             user = myData_string[6:].replace('!','')\n",
        "            \n",
        "            \n",
        "#         if myData_string[0:5] == 'Enjoy':\n",
        "#             appending_data(worksheet, selection, user)"
      ],
      "execution_count": null,
      "outputs": []
    },
    {
      "cell_type": "markdown",
      "metadata": {
        "id": "BxPfSk6Rgn0u"
      },
      "source": [
        "# MACHINE LEARNING\n",
        "### Importing the necessary libraries.\n",
        "The approach used is Logistic Regression - Confusion Matrix."
      ]
    },
    {
      "cell_type": "code",
      "metadata": {
        "id": "EhSw5zQUU3EO"
      },
      "source": [
        "import pandas as pd \n",
        "import matplotlib.pyplot as plt \n",
        "import numpy as np \n",
        "import seaborn as sns \n",
        "from sklearn import preprocessing\n",
        "from sklearn.linear_model import LogisticRegression\n",
        "from sklearn import metrics\n",
        "from sklearn.model_selection import train_test_split\n",
        "import warnings \n",
        "warnings.filterwarnings('ignore')"
      ],
      "execution_count": 1,
      "outputs": []
    },
    {
      "cell_type": "markdown",
      "metadata": {
        "id": "IdpouD2umZdV"
      },
      "source": [
        "## Importing the snack count csv file.\n",
        "\n",
        "There is a section in Spyder where the program captures the input from Arduino and stores it in a CSV file. This CSV file does not run in Microsoft Excel, but rather on gspread (something like google sheets).\n",
        "\n",
        "This method allows real-time data updates and it is so much efficient than storing it into the conventional saving to a microsoft excel csv file. Why is this so?\n",
        "\n",
        "Imagine being a software engineer that needs to come down to the remote vending machine, open the vending machine to access the CPU, export the csv file manually in person? It would be so troublesome. All these processes could easily be eliminated if the data is received digitally. The software engineer could be in Dubai and access the data while the vending machine is in SIAEC.\n"
      ]
    },
    {
      "cell_type": "code",
      "metadata": {
        "colab": {
          "base_uri": "https://localhost:8080/",
          "height": 1000
        },
        "id": "lIOHyGOoVBKP",
        "outputId": "0bad9682-ac02-4561-e71c-e786e9634f40"
      },
      "source": [
        "df = pd.read_csv('Snack count - Sheet1.csv', header=0)\n",
        "df"
      ],
      "execution_count": 2,
      "outputs": [
        {
          "output_type": "execute_result",
          "data": {
            "text/html": [
              "<div>\n",
              "<style scoped>\n",
              "    .dataframe tbody tr th:only-of-type {\n",
              "        vertical-align: middle;\n",
              "    }\n",
              "\n",
              "    .dataframe tbody tr th {\n",
              "        vertical-align: top;\n",
              "    }\n",
              "\n",
              "    .dataframe thead th {\n",
              "        text-align: right;\n",
              "    }\n",
              "</style>\n",
              "<table border=\"1\" class=\"dataframe\">\n",
              "  <thead>\n",
              "    <tr style=\"text-align: right;\">\n",
              "      <th></th>\n",
              "      <th>Time</th>\n",
              "      <th>Choice</th>\n",
              "      <th>Staff</th>\n",
              "    </tr>\n",
              "  </thead>\n",
              "  <tbody>\n",
              "    <tr>\n",
              "      <th>0</th>\n",
              "      <td>17:18:21</td>\n",
              "      <td>Snack 2</td>\n",
              "      <td>Dhanie</td>\n",
              "    </tr>\n",
              "    <tr>\n",
              "      <th>1</th>\n",
              "      <td>17:18:53</td>\n",
              "      <td>Snack 1</td>\n",
              "      <td>Dhanie</td>\n",
              "    </tr>\n",
              "    <tr>\n",
              "      <th>2</th>\n",
              "      <td>17:20:36</td>\n",
              "      <td>Snack 1</td>\n",
              "      <td>Jay</td>\n",
              "    </tr>\n",
              "    <tr>\n",
              "      <th>3</th>\n",
              "      <td>17:25:13</td>\n",
              "      <td>Snack 1</td>\n",
              "      <td>Dhanie</td>\n",
              "    </tr>\n",
              "    <tr>\n",
              "      <th>4</th>\n",
              "      <td>17:25:47</td>\n",
              "      <td>Snack 2</td>\n",
              "      <td>Jay</td>\n",
              "    </tr>\n",
              "    <tr>\n",
              "      <th>5</th>\n",
              "      <td>17:28:42</td>\n",
              "      <td>Snack 2</td>\n",
              "      <td>Dhanie</td>\n",
              "    </tr>\n",
              "    <tr>\n",
              "      <th>6</th>\n",
              "      <td>17:29:01</td>\n",
              "      <td>Snack 1</td>\n",
              "      <td>Jay</td>\n",
              "    </tr>\n",
              "    <tr>\n",
              "      <th>7</th>\n",
              "      <td>17:36:08</td>\n",
              "      <td>Snack 1</td>\n",
              "      <td>Dhanie</td>\n",
              "    </tr>\n",
              "    <tr>\n",
              "      <th>8</th>\n",
              "      <td>17:36:28</td>\n",
              "      <td>Snack 1</td>\n",
              "      <td>Jay</td>\n",
              "    </tr>\n",
              "    <tr>\n",
              "      <th>9</th>\n",
              "      <td>17:38:28</td>\n",
              "      <td>Snack 1</td>\n",
              "      <td>Dhanie</td>\n",
              "    </tr>\n",
              "    <tr>\n",
              "      <th>10</th>\n",
              "      <td>17:56:24</td>\n",
              "      <td>Snack 1</td>\n",
              "      <td>Dhanie</td>\n",
              "    </tr>\n",
              "    <tr>\n",
              "      <th>11</th>\n",
              "      <td>17:56:45</td>\n",
              "      <td>Snack 2</td>\n",
              "      <td>Dhanie</td>\n",
              "    </tr>\n",
              "    <tr>\n",
              "      <th>12</th>\n",
              "      <td>17:57:54</td>\n",
              "      <td>Snack 1</td>\n",
              "      <td>Dhanie</td>\n",
              "    </tr>\n",
              "    <tr>\n",
              "      <th>13</th>\n",
              "      <td>17:59:02</td>\n",
              "      <td>Snack 2</td>\n",
              "      <td>Jay</td>\n",
              "    </tr>\n",
              "    <tr>\n",
              "      <th>14</th>\n",
              "      <td>18:01:10</td>\n",
              "      <td>Snack 1</td>\n",
              "      <td>Dhanie</td>\n",
              "    </tr>\n",
              "    <tr>\n",
              "      <th>15</th>\n",
              "      <td>18:01:24</td>\n",
              "      <td>Snack 1</td>\n",
              "      <td>Jay</td>\n",
              "    </tr>\n",
              "    <tr>\n",
              "      <th>16</th>\n",
              "      <td>18:02:21</td>\n",
              "      <td>Snack 1</td>\n",
              "      <td>Dhanie</td>\n",
              "    </tr>\n",
              "    <tr>\n",
              "      <th>17</th>\n",
              "      <td>18:02:31</td>\n",
              "      <td>Snack 2</td>\n",
              "      <td>Dhanie</td>\n",
              "    </tr>\n",
              "    <tr>\n",
              "      <th>18</th>\n",
              "      <td>18:02:44</td>\n",
              "      <td>Snack 2</td>\n",
              "      <td>Jay</td>\n",
              "    </tr>\n",
              "    <tr>\n",
              "      <th>19</th>\n",
              "      <td>18:02:58</td>\n",
              "      <td>Snack 1</td>\n",
              "      <td>Jay</td>\n",
              "    </tr>\n",
              "    <tr>\n",
              "      <th>20</th>\n",
              "      <td>18:03:09</td>\n",
              "      <td>Snack 1</td>\n",
              "      <td>Jay</td>\n",
              "    </tr>\n",
              "    <tr>\n",
              "      <th>21</th>\n",
              "      <td>18:03:19</td>\n",
              "      <td>Snack 1</td>\n",
              "      <td>Dhanie</td>\n",
              "    </tr>\n",
              "    <tr>\n",
              "      <th>22</th>\n",
              "      <td>18:03:29</td>\n",
              "      <td>Snack 2</td>\n",
              "      <td>Dhanie</td>\n",
              "    </tr>\n",
              "    <tr>\n",
              "      <th>23</th>\n",
              "      <td>18:03:42</td>\n",
              "      <td>Snack 1</td>\n",
              "      <td>Jay</td>\n",
              "    </tr>\n",
              "    <tr>\n",
              "      <th>24</th>\n",
              "      <td>18:03:53</td>\n",
              "      <td>Snack 1</td>\n",
              "      <td>Jay</td>\n",
              "    </tr>\n",
              "    <tr>\n",
              "      <th>25</th>\n",
              "      <td>18:04:06</td>\n",
              "      <td>Snack 2</td>\n",
              "      <td>Dhanie</td>\n",
              "    </tr>\n",
              "    <tr>\n",
              "      <th>26</th>\n",
              "      <td>18:08:23</td>\n",
              "      <td>Snack 1</td>\n",
              "      <td>Dhanie</td>\n",
              "    </tr>\n",
              "    <tr>\n",
              "      <th>27</th>\n",
              "      <td>18:08:38</td>\n",
              "      <td>Snack 1</td>\n",
              "      <td>Jay</td>\n",
              "    </tr>\n",
              "    <tr>\n",
              "      <th>28</th>\n",
              "      <td>18:18:47</td>\n",
              "      <td>Snack 2</td>\n",
              "      <td>Dhanie</td>\n",
              "    </tr>\n",
              "    <tr>\n",
              "      <th>29</th>\n",
              "      <td>18:23:53</td>\n",
              "      <td>Snack 2</td>\n",
              "      <td>Dhanie</td>\n",
              "    </tr>\n",
              "    <tr>\n",
              "      <th>30</th>\n",
              "      <td>18:25:31</td>\n",
              "      <td>Snack 2</td>\n",
              "      <td>Jay</td>\n",
              "    </tr>\n",
              "    <tr>\n",
              "      <th>31</th>\n",
              "      <td>18:25:45</td>\n",
              "      <td>Snack 1</td>\n",
              "      <td>Dhanie</td>\n",
              "    </tr>\n",
              "    <tr>\n",
              "      <th>32</th>\n",
              "      <td>18:26:16</td>\n",
              "      <td>Snack 1</td>\n",
              "      <td>Jay</td>\n",
              "    </tr>\n",
              "    <tr>\n",
              "      <th>33</th>\n",
              "      <td>18:49:11</td>\n",
              "      <td>Snack 1</td>\n",
              "      <td>Dhanie</td>\n",
              "    </tr>\n",
              "    <tr>\n",
              "      <th>34</th>\n",
              "      <td>18:49:24</td>\n",
              "      <td>Snack 2</td>\n",
              "      <td>Dhanie</td>\n",
              "    </tr>\n",
              "    <tr>\n",
              "      <th>35</th>\n",
              "      <td>19:13:17</td>\n",
              "      <td>Snack 1</td>\n",
              "      <td>Dhanie</td>\n",
              "    </tr>\n",
              "    <tr>\n",
              "      <th>36</th>\n",
              "      <td>19:15:46</td>\n",
              "      <td>Snack 1</td>\n",
              "      <td>Dhanie</td>\n",
              "    </tr>\n",
              "    <tr>\n",
              "      <th>37</th>\n",
              "      <td>19:16:19</td>\n",
              "      <td>Snack 2</td>\n",
              "      <td>Jay</td>\n",
              "    </tr>\n",
              "    <tr>\n",
              "      <th>38</th>\n",
              "      <td>19:43:35</td>\n",
              "      <td>Snack 1</td>\n",
              "      <td>Dhanie</td>\n",
              "    </tr>\n",
              "    <tr>\n",
              "      <th>39</th>\n",
              "      <td>19:51:04</td>\n",
              "      <td>Snack 1</td>\n",
              "      <td>Dhanie</td>\n",
              "    </tr>\n",
              "    <tr>\n",
              "      <th>40</th>\n",
              "      <td>19:51:40</td>\n",
              "      <td>Snack 2</td>\n",
              "      <td>Dhanie</td>\n",
              "    </tr>\n",
              "    <tr>\n",
              "      <th>41</th>\n",
              "      <td>19:52:26</td>\n",
              "      <td>Snack 1</td>\n",
              "      <td>Dhanie</td>\n",
              "    </tr>\n",
              "    <tr>\n",
              "      <th>42</th>\n",
              "      <td>19:52:56</td>\n",
              "      <td>Snack 1</td>\n",
              "      <td>Dhanie</td>\n",
              "    </tr>\n",
              "    <tr>\n",
              "      <th>43</th>\n",
              "      <td>19:53:17</td>\n",
              "      <td>Snack 1</td>\n",
              "      <td>Dhanie</td>\n",
              "    </tr>\n",
              "    <tr>\n",
              "      <th>44</th>\n",
              "      <td>19:55:18</td>\n",
              "      <td>Snack 2</td>\n",
              "      <td>Dhanie</td>\n",
              "    </tr>\n",
              "    <tr>\n",
              "      <th>45</th>\n",
              "      <td>19:55:30</td>\n",
              "      <td>Snack 2</td>\n",
              "      <td>Dhanie</td>\n",
              "    </tr>\n",
              "    <tr>\n",
              "      <th>46</th>\n",
              "      <td>19:57:27</td>\n",
              "      <td>Snack 1</td>\n",
              "      <td>Jay</td>\n",
              "    </tr>\n",
              "    <tr>\n",
              "      <th>47</th>\n",
              "      <td>19:58:27</td>\n",
              "      <td>Snack 2</td>\n",
              "      <td>Dhanie</td>\n",
              "    </tr>\n",
              "    <tr>\n",
              "      <th>48</th>\n",
              "      <td>20:04:19</td>\n",
              "      <td>Snack 2</td>\n",
              "      <td>Jay</td>\n",
              "    </tr>\n",
              "    <tr>\n",
              "      <th>49</th>\n",
              "      <td>20:10:21</td>\n",
              "      <td>Snack 1</td>\n",
              "      <td>Dhanie</td>\n",
              "    </tr>\n",
              "  </tbody>\n",
              "</table>\n",
              "</div>"
            ],
            "text/plain": [
              "        Time   Choice   Staff\n",
              "0   17:18:21  Snack 2  Dhanie\n",
              "1   17:18:53  Snack 1  Dhanie\n",
              "2   17:20:36  Snack 1     Jay\n",
              "3   17:25:13  Snack 1  Dhanie\n",
              "4   17:25:47  Snack 2     Jay\n",
              "5   17:28:42  Snack 2  Dhanie\n",
              "6   17:29:01  Snack 1     Jay\n",
              "7   17:36:08  Snack 1  Dhanie\n",
              "8   17:36:28  Snack 1     Jay\n",
              "9   17:38:28  Snack 1  Dhanie\n",
              "10  17:56:24  Snack 1  Dhanie\n",
              "11  17:56:45  Snack 2  Dhanie\n",
              "12  17:57:54  Snack 1  Dhanie\n",
              "13  17:59:02  Snack 2     Jay\n",
              "14  18:01:10  Snack 1  Dhanie\n",
              "15  18:01:24  Snack 1     Jay\n",
              "16  18:02:21  Snack 1  Dhanie\n",
              "17  18:02:31  Snack 2  Dhanie\n",
              "18  18:02:44  Snack 2     Jay\n",
              "19  18:02:58  Snack 1     Jay\n",
              "20  18:03:09  Snack 1     Jay\n",
              "21  18:03:19  Snack 1  Dhanie\n",
              "22  18:03:29  Snack 2  Dhanie\n",
              "23  18:03:42  Snack 1     Jay\n",
              "24  18:03:53  Snack 1     Jay\n",
              "25  18:04:06  Snack 2  Dhanie\n",
              "26  18:08:23  Snack 1  Dhanie\n",
              "27  18:08:38  Snack 1     Jay\n",
              "28  18:18:47  Snack 2  Dhanie\n",
              "29  18:23:53  Snack 2  Dhanie\n",
              "30  18:25:31  Snack 2     Jay\n",
              "31  18:25:45  Snack 1  Dhanie\n",
              "32  18:26:16  Snack 1     Jay\n",
              "33  18:49:11  Snack 1  Dhanie\n",
              "34  18:49:24  Snack 2  Dhanie\n",
              "35  19:13:17  Snack 1  Dhanie\n",
              "36  19:15:46  Snack 1  Dhanie\n",
              "37  19:16:19  Snack 2     Jay\n",
              "38  19:43:35  Snack 1  Dhanie\n",
              "39  19:51:04  Snack 1  Dhanie\n",
              "40  19:51:40  Snack 2  Dhanie\n",
              "41  19:52:26  Snack 1  Dhanie\n",
              "42  19:52:56  Snack 1  Dhanie\n",
              "43  19:53:17  Snack 1  Dhanie\n",
              "44  19:55:18  Snack 2  Dhanie\n",
              "45  19:55:30  Snack 2  Dhanie\n",
              "46  19:57:27  Snack 1     Jay\n",
              "47  19:58:27  Snack 2  Dhanie\n",
              "48  20:04:19  Snack 2     Jay\n",
              "49  20:10:21  Snack 1  Dhanie"
            ]
          },
          "metadata": {
            "tags": []
          },
          "execution_count": 2
        }
      ]
    },
    {
      "cell_type": "markdown",
      "metadata": {
        "id": "sOQ7HUGlm6rl"
      },
      "source": [
        "### Plotting the no. of snacks consumed by each staff."
      ]
    },
    {
      "cell_type": "code",
      "metadata": {
        "colab": {
          "base_uri": "https://localhost:8080/",
          "height": 295
        },
        "id": "gbEPgDZIVu4I",
        "outputId": "561762dd-f4bf-4935-bf58-82dca79693c7"
      },
      "source": [
        "df[\"Staff\"].replace(\"\\n\", \"\", regex = True, inplace = True) \n",
        "\n",
        "group_by_staff = df.groupby([\"Staff\", \"Choice\"]).count().unstack() \n",
        "group_by_staff.columns = [\"Snack 1\", \"Snack 2\"]  \n",
        "   \n",
        "group_by_staff.plot(kind = \"bar\")       \n",
        "plt.xticks(rotation=360, ha='right')    \n",
        "plt.ylabel(\"Count of Snacks\")           \n",
        "plt.yticks(np.arange(0, group_by_staff.max().max() + 1, 2.0)) \n",
        "plt.title(\"Number of Snacks Consumed by each Staff\")    \n",
        "plt.show()"
      ],
      "execution_count": 3,
      "outputs": [
        {
          "output_type": "display_data",
          "data": {
            "image/png": "[encoded data removed]",
            "text/plain": [
              "<Figure size 432x288 with 1 Axes>"
            ]
          },
          "metadata": {
            "tags": [],
            "needs_background": "light"
          }
        }
      ]
    },
    {
      "cell_type": "markdown",
      "metadata": {
        "id": "0b6hWLpNnMvX"
      },
      "source": [
        "### Adding new columns to convert the Choice and Staff into an integer type."
      ]
    },
    {
      "cell_type": "code",
      "metadata": {
        "colab": {
          "base_uri": "https://localhost:8080/",
          "height": 1000
        },
        "id": "OTqLxE9ghsrc",
        "outputId": "8780b94b-dbee-4db8-beda-cc1b0f519ea2"
      },
      "source": [
        "df['Numbered choice'] = df['Choice']\n",
        "df['Staff ID'] = df['Staff']\n",
        "\n",
        "df['Numbered choice'] = df['Numbered choice'].replace(['Snack 1'],'0')\n",
        "df['Numbered choice'] = df['Numbered choice'].replace(['Snack 2'],'1')\n",
        "\n",
        "df['Staff ID'] = df['Staff ID'].replace(['Dhanie'],'123')\n",
        "df['Staff ID'] = df['Staff ID'].replace(['Jay'],'1234')\n",
        "\n",
        "df"
      ],
      "execution_count": 4,
      "outputs": [
        {
          "output_type": "execute_result",
          "data": {
            "text/html": [
              "<div>\n",
              "<style scoped>\n",
              "    .dataframe tbody tr th:only-of-type {\n",
              "        vertical-align: middle;\n",
              "    }\n",
              "\n",
              "    .dataframe tbody tr th {\n",
              "        vertical-align: top;\n",
              "    }\n",
              "\n",
              "    .dataframe thead th {\n",
              "        text-align: right;\n",
              "    }\n",
              "</style>\n",
              "<table border=\"1\" class=\"dataframe\">\n",
              "  <thead>\n",
              "    <tr style=\"text-align: right;\">\n",
              "      <th></th>\n",
              "      <th>Time</th>\n",
              "      <th>Choice</th>\n",
              "      <th>Staff</th>\n",
              "      <th>Numbered choice</th>\n",
              "      <th>Staff ID</th>\n",
              "    </tr>\n",
              "  </thead>\n",
              "  <tbody>\n",
              "    <tr>\n",
              "      <th>0</th>\n",
              "      <td>17:18:21</td>\n",
              "      <td>Snack 2</td>\n",
              "      <td>Dhanie</td>\n",
              "      <td>1</td>\n",
              "      <td>123</td>\n",
              "    </tr>\n",
              "    <tr>\n",
              "      <th>1</th>\n",
              "      <td>17:18:53</td>\n",
              "      <td>Snack 1</td>\n",
              "      <td>Dhanie</td>\n",
              "      <td>0</td>\n",
              "      <td>123</td>\n",
              "    </tr>\n",
              "    <tr>\n",
              "      <th>2</th>\n",
              "      <td>17:20:36</td>\n",
              "      <td>Snack 1</td>\n",
              "      <td>Jay</td>\n",
              "      <td>0</td>\n",
              "      <td>1234</td>\n",
              "    </tr>\n",
              "    <tr>\n",
              "      <th>3</th>\n",
              "      <td>17:25:13</td>\n",
              "      <td>Snack 1</td>\n",
              "      <td>Dhanie</td>\n",
              "      <td>0</td>\n",
              "      <td>123</td>\n",
              "    </tr>\n",
              "    <tr>\n",
              "      <th>4</th>\n",
              "      <td>17:25:47</td>\n",
              "      <td>Snack 2</td>\n",
              "      <td>Jay</td>\n",
              "      <td>1</td>\n",
              "      <td>1234</td>\n",
              "    </tr>\n",
              "    <tr>\n",
              "      <th>5</th>\n",
              "      <td>17:28:42</td>\n",
              "      <td>Snack 2</td>\n",
              "      <td>Dhanie</td>\n",
              "      <td>1</td>\n",
              "      <td>123</td>\n",
              "    </tr>\n",
              "    <tr>\n",
              "      <th>6</th>\n",
              "      <td>17:29:01</td>\n",
              "      <td>Snack 1</td>\n",
              "      <td>Jay</td>\n",
              "      <td>0</td>\n",
              "      <td>1234</td>\n",
              "    </tr>\n",
              "    <tr>\n",
              "      <th>7</th>\n",
              "      <td>17:36:08</td>\n",
              "      <td>Snack 1</td>\n",
              "      <td>Dhanie</td>\n",
              "      <td>0</td>\n",
              "      <td>123</td>\n",
              "    </tr>\n",
              "    <tr>\n",
              "      <th>8</th>\n",
              "      <td>17:36:28</td>\n",
              "      <td>Snack 1</td>\n",
              "      <td>Jay</td>\n",
              "      <td>0</td>\n",
              "      <td>1234</td>\n",
              "    </tr>\n",
              "    <tr>\n",
              "      <th>9</th>\n",
              "      <td>17:38:28</td>\n",
              "      <td>Snack 1</td>\n",
              "      <td>Dhanie</td>\n",
              "      <td>0</td>\n",
              "      <td>123</td>\n",
              "    </tr>\n",
              "    <tr>\n",
              "      <th>10</th>\n",
              "      <td>17:56:24</td>\n",
              "      <td>Snack 1</td>\n",
              "      <td>Dhanie</td>\n",
              "      <td>0</td>\n",
              "      <td>123</td>\n",
              "    </tr>\n",
              "    <tr>\n",
              "      <th>11</th>\n",
              "      <td>17:56:45</td>\n",
              "      <td>Snack 2</td>\n",
              "      <td>Dhanie</td>\n",
              "      <td>1</td>\n",
              "      <td>123</td>\n",
              "    </tr>\n",
              "    <tr>\n",
              "      <th>12</th>\n",
              "      <td>17:57:54</td>\n",
              "      <td>Snack 1</td>\n",
              "      <td>Dhanie</td>\n",
              "      <td>0</td>\n",
              "      <td>123</td>\n",
              "    </tr>\n",
              "    <tr>\n",
              "      <th>13</th>\n",
              "      <td>17:59:02</td>\n",
              "      <td>Snack 2</td>\n",
              "      <td>Jay</td>\n",
              "      <td>1</td>\n",
              "      <td>1234</td>\n",
              "    </tr>\n",
              "    <tr>\n",
              "      <th>14</th>\n",
              "      <td>18:01:10</td>\n",
              "      <td>Snack 1</td>\n",
              "      <td>Dhanie</td>\n",
              "      <td>0</td>\n",
              "      <td>123</td>\n",
              "    </tr>\n",
              "    <tr>\n",
              "      <th>15</th>\n",
              "      <td>18:01:24</td>\n",
              "      <td>Snack 1</td>\n",
              "      <td>Jay</td>\n",
              "      <td>0</td>\n",
              "      <td>1234</td>\n",
              "    </tr>\n",
              "    <tr>\n",
              "      <th>16</th>\n",
              "      <td>18:02:21</td>\n",
              "      <td>Snack 1</td>\n",
              "      <td>Dhanie</td>\n",
              "      <td>0</td>\n",
              "      <td>123</td>\n",
              "    </tr>\n",
              "    <tr>\n",
              "      <th>17</th>\n",
              "      <td>18:02:31</td>\n",
              "      <td>Snack 2</td>\n",
              "      <td>Dhanie</td>\n",
              "      <td>1</td>\n",
              "      <td>123</td>\n",
              "    </tr>\n",
              "    <tr>\n",
              "      <th>18</th>\n",
              "      <td>18:02:44</td>\n",
              "      <td>Snack 2</td>\n",
              "      <td>Jay</td>\n",
              "      <td>1</td>\n",
              "      <td>1234</td>\n",
              "    </tr>\n",
              "    <tr>\n",
              "      <th>19</th>\n",
              "      <td>18:02:58</td>\n",
              "      <td>Snack 1</td>\n",
              "      <td>Jay</td>\n",
              "      <td>0</td>\n",
              "      <td>1234</td>\n",
              "    </tr>\n",
              "    <tr>\n",
              "      <th>20</th>\n",
              "      <td>18:03:09</td>\n",
              "      <td>Snack 1</td>\n",
              "      <td>Jay</td>\n",
              "      <td>0</td>\n",
              "      <td>1234</td>\n",
              "    </tr>\n",
              "    <tr>\n",
              "      <th>21</th>\n",
              "      <td>18:03:19</td>\n",
              "      <td>Snack 1</td>\n",
              "      <td>Dhanie</td>\n",
              "      <td>0</td>\n",
              "      <td>123</td>\n",
              "    </tr>\n",
              "    <tr>\n",
              "      <th>22</th>\n",
              "      <td>18:03:29</td>\n",
              "      <td>Snack 2</td>\n",
              "      <td>Dhanie</td>\n",
              "      <td>1</td>\n",
              "      <td>123</td>\n",
              "    </tr>\n",
              "    <tr>\n",
              "      <th>23</th>\n",
              "      <td>18:03:42</td>\n",
              "      <td>Snack 1</td>\n",
              "      <td>Jay</td>\n",
              "      <td>0</td>\n",
              "      <td>1234</td>\n",
              "    </tr>\n",
              "    <tr>\n",
              "      <th>24</th>\n",
              "      <td>18:03:53</td>\n",
              "      <td>Snack 1</td>\n",
              "      <td>Jay</td>\n",
              "      <td>0</td>\n",
              "      <td>1234</td>\n",
              "    </tr>\n",
              "    <tr>\n",
              "      <th>25</th>\n",
              "      <td>18:04:06</td>\n",
              "      <td>Snack 2</td>\n",
              "      <td>Dhanie</td>\n",
              "      <td>1</td>\n",
              "      <td>123</td>\n",
              "    </tr>\n",
              "    <tr>\n",
              "      <th>26</th>\n",
              "      <td>18:08:23</td>\n",
              "      <td>Snack 1</td>\n",
              "      <td>Dhanie</td>\n",
              "      <td>0</td>\n",
              "      <td>123</td>\n",
              "    </tr>\n",
              "    <tr>\n",
              "      <th>27</th>\n",
              "      <td>18:08:38</td>\n",
              "      <td>Snack 1</td>\n",
              "      <td>Jay</td>\n",
              "      <td>0</td>\n",
              "      <td>1234</td>\n",
              "    </tr>\n",
              "    <tr>\n",
              "      <th>28</th>\n",
              "      <td>18:18:47</td>\n",
              "      <td>Snack 2</td>\n",
              "      <td>Dhanie</td>\n",
              "      <td>1</td>\n",
              "      <td>123</td>\n",
              "    </tr>\n",
              "    <tr>\n",
              "      <th>29</th>\n",
              "      <td>18:23:53</td>\n",
              "      <td>Snack 2</td>\n",
              "      <td>Dhanie</td>\n",
              "      <td>1</td>\n",
              "      <td>123</td>\n",
              "    </tr>\n",
              "    <tr>\n",
              "      <th>30</th>\n",
              "      <td>18:25:31</td>\n",
              "      <td>Snack 2</td>\n",
              "      <td>Jay</td>\n",
              "      <td>1</td>\n",
              "      <td>1234</td>\n",
              "    </tr>\n",
              "    <tr>\n",
              "      <th>31</th>\n",
              "      <td>18:25:45</td>\n",
              "      <td>Snack 1</td>\n",
              "      <td>Dhanie</td>\n",
              "      <td>0</td>\n",
              "      <td>123</td>\n",
              "    </tr>\n",
              "    <tr>\n",
              "      <th>32</th>\n",
              "      <td>18:26:16</td>\n",
              "      <td>Snack 1</td>\n",
              "      <td>Jay</td>\n",
              "      <td>0</td>\n",
              "      <td>1234</td>\n",
              "    </tr>\n",
              "    <tr>\n",
              "      <th>33</th>\n",
              "      <td>18:49:11</td>\n",
              "      <td>Snack 1</td>\n",
              "      <td>Dhanie</td>\n",
              "      <td>0</td>\n",
              "      <td>123</td>\n",
              "    </tr>\n",
              "    <tr>\n",
              "      <th>34</th>\n",
              "      <td>18:49:24</td>\n",
              "      <td>Snack 2</td>\n",
              "      <td>Dhanie</td>\n",
              "      <td>1</td>\n",
              "      <td>123</td>\n",
              "    </tr>\n",
              "    <tr>\n",
              "      <th>35</th>\n",
              "      <td>19:13:17</td>\n",
              "      <td>Snack 1</td>\n",
              "      <td>Dhanie</td>\n",
              "      <td>0</td>\n",
              "      <td>123</td>\n",
              "    </tr>\n",
              "    <tr>\n",
              "      <th>36</th>\n",
              "      <td>19:15:46</td>\n",
              "      <td>Snack 1</td>\n",
              "      <td>Dhanie</td>\n",
              "      <td>0</td>\n",
              "      <td>123</td>\n",
              "    </tr>\n",
              "    <tr>\n",
              "      <th>37</th>\n",
              "      <td>19:16:19</td>\n",
              "      <td>Snack 2</td>\n",
              "      <td>Jay</td>\n",
              "      <td>1</td>\n",
              "      <td>1234</td>\n",
              "    </tr>\n",
              "    <tr>\n",
              "      <th>38</th>\n",
              "      <td>19:43:35</td>\n",
              "      <td>Snack 1</td>\n",
              "      <td>Dhanie</td>\n",
              "      <td>0</td>\n",
              "      <td>123</td>\n",
              "    </tr>\n",
              "    <tr>\n",
              "      <th>39</th>\n",
              "      <td>19:51:04</td>\n",
              "      <td>Snack 1</td>\n",
              "      <td>Dhanie</td>\n",
              "      <td>0</td>\n",
              "      <td>123</td>\n",
              "    </tr>\n",
              "    <tr>\n",
              "      <th>40</th>\n",
              "      <td>19:51:40</td>\n",
              "      <td>Snack 2</td>\n",
              "      <td>Dhanie</td>\n",
              "      <td>1</td>\n",
              "      <td>123</td>\n",
              "    </tr>\n",
              "    <tr>\n",
              "      <th>41</th>\n",
              "      <td>19:52:26</td>\n",
              "      <td>Snack 1</td>\n",
              "      <td>Dhanie</td>\n",
              "      <td>0</td>\n",
              "      <td>123</td>\n",
              "    </tr>\n",
              "    <tr>\n",
              "      <th>42</th>\n",
              "      <td>19:52:56</td>\n",
              "      <td>Snack 1</td>\n",
              "      <td>Dhanie</td>\n",
              "      <td>0</td>\n",
              "      <td>123</td>\n",
              "    </tr>\n",
              "    <tr>\n",
              "      <th>43</th>\n",
              "      <td>19:53:17</td>\n",
              "      <td>Snack 1</td>\n",
              "      <td>Dhanie</td>\n",
              "      <td>0</td>\n",
              "      <td>123</td>\n",
              "    </tr>\n",
              "    <tr>\n",
              "      <th>44</th>\n",
              "      <td>19:55:18</td>\n",
              "      <td>Snack 2</td>\n",
              "      <td>Dhanie</td>\n",
              "      <td>1</td>\n",
              "      <td>123</td>\n",
              "    </tr>\n",
              "    <tr>\n",
              "      <th>45</th>\n",
              "      <td>19:55:30</td>\n",
              "      <td>Snack 2</td>\n",
              "      <td>Dhanie</td>\n",
              "      <td>1</td>\n",
              "      <td>123</td>\n",
              "    </tr>\n",
              "    <tr>\n",
              "      <th>46</th>\n",
              "      <td>19:57:27</td>\n",
              "      <td>Snack 1</td>\n",
              "      <td>Jay</td>\n",
              "      <td>0</td>\n",
              "      <td>1234</td>\n",
              "    </tr>\n",
              "    <tr>\n",
              "      <th>47</th>\n",
              "      <td>19:58:27</td>\n",
              "      <td>Snack 2</td>\n",
              "      <td>Dhanie</td>\n",
              "      <td>1</td>\n",
              "      <td>123</td>\n",
              "    </tr>\n",
              "    <tr>\n",
              "      <th>48</th>\n",
              "      <td>20:04:19</td>\n",
              "      <td>Snack 2</td>\n",
              "      <td>Jay</td>\n",
              "      <td>1</td>\n",
              "      <td>1234</td>\n",
              "    </tr>\n",
              "    <tr>\n",
              "      <th>49</th>\n",
              "      <td>20:10:21</td>\n",
              "      <td>Snack 1</td>\n",
              "      <td>Dhanie</td>\n",
              "      <td>0</td>\n",
              "      <td>123</td>\n",
              "    </tr>\n",
              "  </tbody>\n",
              "</table>\n",
              "</div>"
            ],
            "text/plain": [
              "        Time   Choice   Staff Numbered choice Staff ID\n",
              "0   17:18:21  Snack 2  Dhanie               1      123\n",
              "1   17:18:53  Snack 1  Dhanie               0      123\n",
              "2   17:20:36  Snack 1     Jay               0     1234\n",
              "3   17:25:13  Snack 1  Dhanie               0      123\n",
              "4   17:25:47  Snack 2     Jay               1     1234\n",
              "5   17:28:42  Snack 2  Dhanie               1      123\n",
              "6   17:29:01  Snack 1     Jay               0     1234\n",
              "7   17:36:08  Snack 1  Dhanie               0      123\n",
              "8   17:36:28  Snack 1     Jay               0     1234\n",
              "9   17:38:28  Snack 1  Dhanie               0      123\n",
              "10  17:56:24  Snack 1  Dhanie               0      123\n",
              "11  17:56:45  Snack 2  Dhanie               1      123\n",
              "12  17:57:54  Snack 1  Dhanie               0      123\n",
              "13  17:59:02  Snack 2     Jay               1     1234\n",
              "14  18:01:10  Snack 1  Dhanie               0      123\n",
              "15  18:01:24  Snack 1     Jay               0     1234\n",
              "16  18:02:21  Snack 1  Dhanie               0      123\n",
              "17  18:02:31  Snack 2  Dhanie               1      123\n",
              "18  18:02:44  Snack 2     Jay               1     1234\n",
              "19  18:02:58  Snack 1     Jay               0     1234\n",
              "20  18:03:09  Snack 1     Jay               0     1234\n",
              "21  18:03:19  Snack 1  Dhanie               0      123\n",
              "22  18:03:29  Snack 2  Dhanie               1      123\n",
              "23  18:03:42  Snack 1     Jay               0     1234\n",
              "24  18:03:53  Snack 1     Jay               0     1234\n",
              "25  18:04:06  Snack 2  Dhanie               1      123\n",
              "26  18:08:23  Snack 1  Dhanie               0      123\n",
              "27  18:08:38  Snack 1     Jay               0     1234\n",
              "28  18:18:47  Snack 2  Dhanie               1      123\n",
              "29  18:23:53  Snack 2  Dhanie               1      123\n",
              "30  18:25:31  Snack 2     Jay               1     1234\n",
              "31  18:25:45  Snack 1  Dhanie               0      123\n",
              "32  18:26:16  Snack 1     Jay               0     1234\n",
              "33  18:49:11  Snack 1  Dhanie               0      123\n",
              "34  18:49:24  Snack 2  Dhanie               1      123\n",
              "35  19:13:17  Snack 1  Dhanie               0      123\n",
              "36  19:15:46  Snack 1  Dhanie               0      123\n",
              "37  19:16:19  Snack 2     Jay               1     1234\n",
              "38  19:43:35  Snack 1  Dhanie               0      123\n",
              "39  19:51:04  Snack 1  Dhanie               0      123\n",
              "40  19:51:40  Snack 2  Dhanie               1      123\n",
              "41  19:52:26  Snack 1  Dhanie               0      123\n",
              "42  19:52:56  Snack 1  Dhanie               0      123\n",
              "43  19:53:17  Snack 1  Dhanie               0      123\n",
              "44  19:55:18  Snack 2  Dhanie               1      123\n",
              "45  19:55:30  Snack 2  Dhanie               1      123\n",
              "46  19:57:27  Snack 1     Jay               0     1234\n",
              "47  19:58:27  Snack 2  Dhanie               1      123\n",
              "48  20:04:19  Snack 2     Jay               1     1234\n",
              "49  20:10:21  Snack 1  Dhanie               0      123"
            ]
          },
          "metadata": {
            "tags": []
          },
          "execution_count": 4
        }
      ]
    },
    {
      "cell_type": "markdown",
      "metadata": {
        "id": "ak5_GQlMlimy"
      },
      "source": [
        "### Preparing the variables for machine learning."
      ]
    },
    {
      "cell_type": "code",
      "metadata": {
        "id": "cv3vmTDCYWO5"
      },
      "source": [
        "X = df[['Staff ID']]\n",
        "y = df['Numbered choice']"
      ],
      "execution_count": 6,
      "outputs": []
    },
    {
      "cell_type": "markdown",
      "metadata": {
        "id": "2NlOvWmF7npq"
      },
      "source": [
        "#LOGISTIC REGRESSION vs LINEAR REGRESSION\n",
        "Why use a Logistic Regression instead of Linear Regression?\n",
        "1. Logistic Regression outcome is discrete (0 and 1), unlike in the case of Linear Regression where the outcome is continuous.\n",
        "\n",
        "2. Do not need a linear relationship.\n",
        "\n",
        "3. Linear Regression is a regression algorithm for Machine Learning. Logistic Regression is a classification algorithm.\n",
        "\n",
        "Hence, Logistic Regression is better suited to be used for this project. A confusion matrix is a classification model, and useful in model evaluation. It summarises the performance of a classification model in a table, that projects the no. of correct and incorrect predictions."
      ]
    },
    {
      "cell_type": "code",
      "metadata": {
        "id": "HLRUGI1iYVpJ"
      },
      "source": [
        "from sklearn.linear_model import LogisticRegression\n",
        "from sklearn.model_selection import train_test_split\n",
        "X_train, X_test, y_train, y_test = train_test_split(X, y, test_size=0.20, random_state=5)"
      ],
      "execution_count": 7,
      "outputs": []
    },
    {
      "cell_type": "code",
      "metadata": {
        "colab": {
          "base_uri": "https://localhost:8080/"
        },
        "id": "ujbujNo6Yea-",
        "outputId": "eb492f62-f115-4bc4-b8b8-fa80c019f17c"
      },
      "source": [
        "logisticRegr = LogisticRegression()\n",
        "\n",
        "#Fitting the training datasets\n",
        "logisticRegr.fit(X_train, y_train)"
      ],
      "execution_count": 8,
      "outputs": [
        {
          "output_type": "execute_result",
          "data": {
            "text/plain": [
              "LogisticRegression(C=1.0, class_weight=None, dual=False, fit_intercept=True,\n",
              "                   intercept_scaling=1, l1_ratio=None, max_iter=100,\n",
              "                   multi_class='auto', n_jobs=None, penalty='l2',\n",
              "                   random_state=None, solver='lbfgs', tol=0.0001, verbose=0,\n",
              "                   warm_start=False)"
            ]
          },
          "metadata": {
            "tags": []
          },
          "execution_count": 8
        }
      ]
    },
    {
      "cell_type": "code",
      "metadata": {
        "id": "ZPBg7JQlYkVl"
      },
      "source": [
        "#Making predictions on entire dataset\n",
        "predictions = logisticRegr.predict(X_test)\n",
        "\n",
        "cm = metrics.confusion_matrix(y_test, predictions)"
      ],
      "execution_count": 9,
      "outputs": []
    },
    {
      "cell_type": "code",
      "metadata": {
        "colab": {
          "base_uri": "https://localhost:8080/"
        },
        "id": "_QZCnMxWYnmv",
        "outputId": "e1754ba0-7fa2-41ab-ccb8-76411ad6b8d3"
      },
      "source": [
        "score = logisticRegr.score(X_test, y_test)\n",
        "print(\"-----------------------------------\")\n",
        "print(\"The accuracy of the model is: \" + str(score))"
      ],
      "execution_count": 10,
      "outputs": [
        {
          "output_type": "stream",
          "text": [
            "-----------------------------------\n",
            "The accuracy of the model is: 0.7\n"
          ],
          "name": "stdout"
        }
      ]
    },
    {
      "cell_type": "code",
      "metadata": {
        "colab": {
          "base_uri": "https://localhost:8080/"
        },
        "id": "rl7UQ6gZ64JW",
        "outputId": "4df7a741-b02e-4ffe-f29e-0fcc35e8c989"
      },
      "source": [
        "#Confusion Matrix\n",
        "from sklearn.metrics import confusion_matrix\n",
        "confusion_matrix(y_test, predictions)"
      ],
      "execution_count": 12,
      "outputs": [
        {
          "output_type": "execute_result",
          "data": {
            "text/plain": [
              "array([[7, 0],\n",
              "       [3, 0]])"
            ]
          },
          "metadata": {
            "tags": []
          },
          "execution_count": 12
        }
      ]
    },
    {
      "cell_type": "code",
      "metadata": {
        "colab": {
          "base_uri": "https://localhost:8080/",
          "height": 623
        },
        "id": "h0NW_1VVYv5o",
        "outputId": "55d0b39e-2ba1-4f14-f58b-d1ec8453f41c"
      },
      "source": [
        "from sklearn import metrics\n",
        "plt.figure(figsize=(15,10))\n",
        "sns.heatmap(cm, annot=True, fmt=\".3f\", linewidths = 1, square = True, cmap = 'Blues_r');\n",
        "# this graph actually plots the confusion matrix\n",
        "# fmt basically leaves the float's decimal points to 3 sf\n",
        "plt.ylabel('Predicted Choice');\n",
        "plt.xlabel('Actual Choice');\n",
        "all_sample_title = 'Accuracy Score: {0}'.format(score)\n",
        "plt.title(all_sample_title, size = 15);"
      ],
      "execution_count": 13,
      "outputs": [
        {
          "output_type": "display_data",
          "data": {
            "image/png": "[encoded data removed]",
            "text/plain": [
              "<Figure size 1080x720 with 2 Axes>"
            ]
          },
          "metadata": {
            "tags": [],
            "needs_background": "light"
          }
        }
      ]
    },
    {
      "cell_type": "markdown",
      "metadata": {
        "id": "DPfrpSu50j-B"
      },
      "source": [
        "True Positive (TP): Outcome where the model correctly predicts the positive class.\n",
        "\n",
        "True Negative (TN): Outcome where the model correctly predicts the negative class.\n",
        "\n",
        "False Positive (FP): An outcome where the model incorrectly predicts the positive class when it is actually negative.\n",
        "\n",
        "False Negative (FN): An outcome where the model incorrectly predicts the negative class when it is actually positive."
      ]
    },
    {
      "cell_type": "markdown",
      "metadata": {
        "id": "BvPM0d_c8FYA"
      },
      "source": [
        "### Accuracy\n",
        "This is simply equal to the proportion of predictions that the model classified correctly.\n"
      ]
    },
    {
      "cell_type": "code",
      "metadata": {
        "colab": {
          "base_uri": "https://localhost:8080/"
        },
        "id": "9EYucKRx67x7",
        "outputId": "77634e52-904e-459a-b053-fbe4c7cdc08c"
      },
      "source": [
        "from sklearn.metrics import accuracy_score\n",
        "accuracy_score(y_test, predictions)"
      ],
      "execution_count": 14,
      "outputs": [
        {
          "output_type": "execute_result",
          "data": {
            "text/plain": [
              "0.7"
            ]
          },
          "metadata": {
            "tags": []
          },
          "execution_count": 14
        }
      ]
    },
    {
      "cell_type": "code",
      "metadata": {
        "colab": {
          "base_uri": "https://localhost:8080/"
        },
        "id": "QaeBFv7E685g",
        "outputId": "04014d90-2d08-4930-9175-383e875882b2"
      },
      "source": [
        "# Recall\n",
        "from sklearn.metrics import recall_score\n",
        "recall_score(y_test, predictions, average=None)"
      ],
      "execution_count": 15,
      "outputs": [
        {
          "output_type": "execute_result",
          "data": {
            "text/plain": [
              "array([1., 0.])"
            ]
          },
          "metadata": {
            "tags": []
          },
          "execution_count": 15
        }
      ]
    },
    {
      "cell_type": "markdown",
      "metadata": {
        "id": "yPjSOuMh8OJK"
      },
      "source": [
        "### Precision\n",
        "Precision is also known as positive predictive value. It basically calculates the proportion of positive identifications that were actually correct."
      ]
    },
    {
      "cell_type": "code",
      "metadata": {
        "colab": {
          "base_uri": "https://localhost:8080/"
        },
        "id": "MMy4WyTy7Ahv",
        "outputId": "42622fc0-3825-4939-9abc-a6beac4550d1"
      },
      "source": [
        "from sklearn.metrics import precision_score\n",
        "precision_score(y_test, predictions, average=None)"
      ],
      "execution_count": 16,
      "outputs": [
        {
          "output_type": "execute_result",
          "data": {
            "text/plain": [
              "array([0.7, 0. ])"
            ]
          },
          "metadata": {
            "tags": []
          },
          "execution_count": 16
        }
      ]
    },
    {
      "cell_type": "markdown",
      "metadata": {
        "id": "lHZsuMRQWxo8"
      },
      "source": [
        "### Recall\n",
        "Recall (True Positive Rate) is the proportion of actual positives that were identified correctly."
      ]
    },
    {
      "cell_type": "code",
      "metadata": {
        "colab": {
          "base_uri": "https://localhost:8080/"
        },
        "id": "T2SeztmoWwUV",
        "outputId": "0d51de84-4fc6-4ab5-bf56-74fc59041fca"
      },
      "source": [
        "from sklearn.metrics import recall_score\n",
        "recall_score(y_test, predictions, average=None)"
      ],
      "execution_count": 17,
      "outputs": [
        {
          "output_type": "execute_result",
          "data": {
            "text/plain": [
              "array([1., 0.])"
            ]
          },
          "metadata": {
            "tags": []
          },
          "execution_count": 17
        }
      ]
    },
    {
      "cell_type": "markdown",
      "metadata": {
        "id": "bFE4x6VU8lJe"
      },
      "source": [
        "### F1 Score\n",
        "The F1 score is a measure of a test’s accuracy. It can have a maximum score of 1 (perfect precision and recall) and a minimum of 0. Overall, it is a measure of the preciseness and robustness of the model."
      ]
    },
    {
      "cell_type": "code",
      "metadata": {
        "colab": {
          "base_uri": "https://localhost:8080/"
        },
        "id": "Xtu2ZXWG7RYB",
        "outputId": "2e532008-7e6b-4c7c-ae62-715d562ad960"
      },
      "source": [
        "from sklearn.metrics import f1_score\n",
        "f1_score(y_test, predictions, average=None)"
      ],
      "execution_count": 18,
      "outputs": [
        {
          "output_type": "execute_result",
          "data": {
            "text/plain": [
              "array([0.82352941, 0.        ])"
            ]
          },
          "metadata": {
            "tags": []
          },
          "execution_count": 18
        }
      ]
    },
    {
      "cell_type": "markdown",
      "metadata": {
        "id": "Z9OlPGBs8uQH"
      },
      "source": [
        "### Classification report\n",
        "A summary of all the computed values."
      ]
    },
    {
      "cell_type": "code",
      "metadata": {
        "colab": {
          "base_uri": "https://localhost:8080/"
        },
        "id": "TVgD-ATc7Hwi",
        "outputId": "6ea02867-b61c-477d-fafa-6ee0c3e00974"
      },
      "source": [
        "from sklearn.metrics import classification_report\n",
        "print(classification_report(y_test, predictions))"
      ],
      "execution_count": 19,
      "outputs": [
        {
          "output_type": "stream",
          "text": [
            "              precision    recall  f1-score   support\n",
            "\n",
            "           0       0.70      1.00      0.82         7\n",
            "           1       0.00      0.00      0.00         3\n",
            "\n",
            "    accuracy                           0.70        10\n",
            "   macro avg       0.35      0.50      0.41        10\n",
            "weighted avg       0.49      0.70      0.58        10\n",
            "\n"
          ],
          "name": "stdout"
        }
      ]
    }
  ]
}