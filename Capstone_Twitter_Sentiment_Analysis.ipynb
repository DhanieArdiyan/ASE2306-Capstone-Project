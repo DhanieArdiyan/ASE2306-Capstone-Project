{
  "nbformat": 4,
  "nbformat_minor": 0,
  "metadata": {
    "colab": {
      "name": "Capstone Twitter Sentiment Analysis",
      "provenance": [],
      "collapsed_sections": [],
      "include_colab_link": true
    },
    "kernelspec": {
      "name": "python3",
      "display_name": "Python 3"
    }
  },
  "cells": [
    {
      "cell_type": "markdown",
      "metadata": {
        "id": "view-in-github",
        "colab_type": "text"
      },
      "source": [
        "<a href=\"https://colab.research.google.com/github/DhanieArdiyan/ASE2306-Capstone-Project/blob/main/Capstone_Twitter_Sentiment_Analysis.ipynb\" target=\"_parent\"><img src=\"https://colab.research.google.com/assets/colab-badge.svg\" alt=\"Open In Colab\"/></a>"
      ]
    },
    {
      "cell_type": "markdown",
      "metadata": {
        "id": "iHcBrjYlgR_g"
      },
      "source": [
        "# SENTIMENT ANALYSIS\n",
        "Sentiment Analysis refers to the use of Natural Language Processing, Text Analysis, and Computational Linguistic to systematically identify, extract, and quantify whether a piece of writing is positive, negative, or neutral. It can be used as a predictive modelling task where the model can be trained to predict the polarity of such textual data. Some applications would include social media monitoring and gauging customers' experiences of the company's products.\n",
        "\n",
        "Ideally, the second phase of the project aims to use Sentiment Analysis to understand passenger's opinions with regards to their thermal comfort inside the aircaft cabin. These opinions would revolve around the variables that were previously calculated in the PMV PPD model, done in the first phase of the project. Examples of valuable feedbacks would include how the passenger felt when there was enough wind velocity (or drafts), or if they experienced discomfort due to the pressurisation of aircraft cabin, etc.\n",
        "\n",
        "Hence, the purpose of Sentiment Analysis is to use the passengers' sentiments to complement the calculated values of PMV PPD model. This would then justify the optimum condition the aircraft cabin that will cause the least passenger thermal dissatisfaction. \n",
        "\n",
        "There are various ways to data mine and extract feedbacks from social media like Twitter, Facebook and Reddit. For the purpose of this project, I will be focusing on Twitter and utilising its API."
      ]
    },
    {
      "cell_type": "code",
      "metadata": {
        "id": "93cFhRHhrNgT",
        "outputId": "d4a6553e-84fe-466a-9895-bc39d9dabec0",
        "colab": {
          "base_uri": "https://localhost:8080/"
        }
      },
      "source": [
        "pip install stopwords"
      ],
      "execution_count": 1,
      "outputs": [
        {
          "output_type": "stream",
          "text": [
            "Requirement already satisfied: stopwords in /usr/local/lib/python3.6/dist-packages (0.1.3)\n"
          ],
          "name": "stdout"
        }
      ]
    },
    {
      "cell_type": "code",
      "metadata": {
        "id": "85kbYjbt2wVr",
        "outputId": "289ac957-bf17-467d-de39-ca604f3823dc",
        "colab": {
          "base_uri": "https://localhost:8080/"
        }
      },
      "source": [
        "pip install nltk"
      ],
      "execution_count": 2,
      "outputs": [
        {
          "output_type": "stream",
          "text": [
            "Requirement already satisfied: nltk in /usr/local/lib/python3.6/dist-packages (3.2.5)\n",
            "Requirement already satisfied: six in /usr/local/lib/python3.6/dist-packages (from nltk) (1.15.0)\n"
          ],
          "name": "stdout"
        }
      ]
    },
    {
      "cell_type": "code",
      "metadata": {
        "id": "ZipMB84jwpQk",
        "outputId": "0ec3dcd8-212c-4a78-f21d-aed796590988",
        "colab": {
          "base_uri": "https://localhost:8080/"
        }
      },
      "source": [
        "pip install wordcloud"
      ],
      "execution_count": 3,
      "outputs": [
        {
          "output_type": "stream",
          "text": [
            "Requirement already satisfied: wordcloud in /usr/local/lib/python3.6/dist-packages (1.5.0)\n",
            "Requirement already satisfied: pillow in /usr/local/lib/python3.6/dist-packages (from wordcloud) (7.0.0)\n",
            "Requirement already satisfied: numpy>=1.6.1 in /usr/local/lib/python3.6/dist-packages (from wordcloud) (1.18.5)\n"
          ],
          "name": "stdout"
        }
      ]
    },
    {
      "cell_type": "markdown",
      "metadata": {
        "id": "ROKjrWF7LE1H"
      },
      "source": [
        "# 1. INITIALISATION & AUTHORISATION STAGE\n",
        "Just a note, the consumer_key, consumer_secret, access_token, access_token_secret are unique to my own Twitter Developer account access. \n",
        "\n",
        "If test run is unsuccessful, do contact me for verification."
      ]
    },
    {
      "cell_type": "code",
      "metadata": {
        "id": "5Ssv-DNGS_vK"
      },
      "source": [
        "#START INITIALISATION\n",
        "from textblob import TextBlob\n",
        "from wordcloud import WordCloud\n",
        "import re\n",
        "import pandas as pd \n",
        "import numpy as np \n",
        "import sys, tweepy\n",
        "import matplotlib.pyplot as plt \n",
        "plt.style.use('fivethirtyeight')\n",
        "\n",
        "def percentage(part, whole):\n",
        "\treturn 100 * float(part)/float(whole)\n",
        "\n",
        "consumer_key = \"duCD34AKM0yj2FJGe1vOomirc\"\n",
        "consumer_secret = \"aKkRF84oLs3pGm5gJzPavojoI23WZXMxrv4FWGZMKWnnSCoF1r\"\n",
        "access_token = \"1284696550740901893-xwi5gsHUdnwnD1ztZbSyVdhe6ZWdev\"\n",
        "access_token_secret = \"y8yNJJIxXtKiUgeY6kh8xWNSGEssNdCAdTIwQqnqR57yk\"\n",
        "\n",
        "auth = tweepy.OAuthHandler(consumer_key, consumer_secret) \n",
        "auth.set_access_token(access_token, access_token_secret) \n",
        "api = tweepy.API(auth, wait_on_rate_limit=True) "
      ],
      "execution_count": 4,
      "outputs": []
    },
    {
      "cell_type": "markdown",
      "metadata": {
        "id": "IuIgVNb2HNzF"
      },
      "source": [
        "# 2. EXTRACTING TWEETS\n",
        "This part of the codes consists of the main program extracting the tweets. There are 3 ways in which the user can extract the tweets:\n",
        "\n",
        "1.   Input the keyword only\n",
        "2.   Skip the keyword, and input username only\n",
        "3.   Input keyword + username (finding keywords in one specific account)\n",
        "\n",
        "Numerous efforts and trials had been made to extract data that are relatable to the project, only to return irrelevant tweets. This is due to the coronavirus pandemic that had grounded the aviation industry for 8 months, which does not permit passenger travel. As such, it is close to none that people are tweeting about their experiences in aircraft cabin, other than them missing travelling. Nonetheless, the program would still run perfectly for other queries. \n",
        "\n",
        "For this case we will using Option 2: Analysing tweets under the account of ChannelNewsAsia. We will analyse 100 tweets (the max count), and the list will display the most recent 100 tweets, up to 7 days ago (a limitation of using the standard Tweepy API). \n",
        "\n",
        "\n",
        "KEYNOTES:\n",
        "\n",
        "Polarity - A float which lies in the range between -1 to 1, where 1 would equate to a positive statement and -1 would equate to a negative statement. \n",
        "\n",
        "Subjectivity - Sentences which generally refer to personal opinions, emotion or judgement. It is also a float which lies in the range between 0 to 1.\n",
        "\n",
        "\n",
        "\n"
      ]
    },
    {
      "cell_type": "code",
      "metadata": {
        "id": "803UPqaDluEa",
        "outputId": "216a2489-3f31-4dbb-e651-390022454ab9",
        "colab": {
          "base_uri": "https://localhost:8080/",
          "height": 1000
        }
      },
      "source": [
        "#EXTRACTING TWEETS\n",
        "keyWord = input(\"Enter the keyword you are searching for (skip if NA):  \") #search by keyword\n",
        "UserName = input(\"Enter the Twitter username (excluding @, skip if NA): \") #search by username\n",
        "inputString = keyWord +\" from:\" + UserName\n",
        "print ('\\n')\n",
        "print ('RESULTS:')\n",
        "\n",
        "public_tweets = api.search(q=inputString, count=100, lang = \"en\")\n",
        "\n",
        "i = 1\n",
        "for tweet in public_tweets:\n",
        "  print ('\\n')\n",
        "  print ((str(i) + ') ' + tweet.text))\n",
        "  print (('Tweeted by') + ': ' + str(tweet.user.screen_name))\n",
        "  print (('Tweeted at') + ': ' + str(tweet.user.location))\n",
        "  print (('Tweeted on') + ': ' + str(tweet.created_at))\n",
        "  i=i+1\n",
        "  # print(tweet.text)\n",
        "\n",
        "#IF I want to print the latest 5 tweets from the account\n",
        "# print(\"Show the 5 recent tweets: \\n\")\n",
        "# i = 1\n",
        "# for tweet in posts [0:5]:\n",
        "#     print ((str(i) + ') ' + tweet.full_text + '\\n'))\n",
        "#     i = i + 1\n",
        "\n",
        "#Creating a dataframe with a column called Tweets\n",
        "df = pd.DataFrame ([tweet.text for tweet in public_tweets], columns = ['Tweets'])\n",
        "\n",
        "#Show first 5 rows of data\n",
        "df.head()\n",
        "\n",
        "#function to clean the tweets\n",
        "def cleanTxt(text):\n",
        "\ttext = re.sub(r'@[A-Za-z0-9]+', '', text) #removes @mentions\n",
        "\ttext = re.sub(r'#', '', text) #removes the '#'\n",
        "\ttext = re.sub(r'RT[\\s+]+', '', text) #removing RT\n",
        "\ttext = re.sub(r'https:\\/\\/\\S+', '', text) #removes hyperlinks\n",
        "\treturn text\n",
        "\n",
        "#cleaning the text\n",
        "df['Tweets'] = df['Tweets'].apply(cleanTxt)\n",
        "\n",
        "#Show the cleaned text\n",
        "df\n",
        "\n",
        "#Subjectivity function\n",
        "def getSubjectivity(text):\n",
        "\treturn TextBlob(text).sentiment.subjectivity\n",
        "\n",
        "#Polarity function\n",
        "def getPolarity(text):\n",
        "\treturn TextBlob(text).sentiment.polarity\n",
        "\n",
        "#Creating columns for Subjectivity and Polarity\n",
        "df ['Subjectivity'] = df['Tweets'].apply(getSubjectivity)\n",
        "df ['Polarity'] = df['Tweets'].apply(getPolarity)\n",
        "\n",
        "#Show the new dataframe with the new columns\n",
        "df\n"
      ],
      "execution_count": 5,
      "outputs": [
        {
          "output_type": "stream",
          "text": [
            "Enter the keyword you are searching for (skip if NA):  \n",
            "Enter the Twitter username (excluding @, skip if NA): channelnewsasia\n",
            "\n",
            "\n",
            "RESULTS:\n",
            "\n",
            "\n",
            "1) Home Depot to buy building products distributor HD Supply in US$8 billion deal https://t.co/DROh8cxB6C https://t.co/1gpgfTxopd\n",
            "Tweeted by: ChannelNewsAsia\n",
            "Tweeted at: Singapore\n",
            "Tweeted on: 2020-11-16 14:49:34\n",
            "\n",
            "\n",
            "2) Germany postpones decision on COVID-19 curbs at schools https://t.co/hyUrDtk1j6 https://t.co/FNBeVGEhqq\n",
            "Tweeted by: ChannelNewsAsia\n",
            "Tweeted at: Singapore\n",
            "Tweeted on: 2020-11-16 14:49:33\n",
            "\n",
            "\n",
            "3) Nissan 'absolutely not' in talks about Mitsubishi stake sale https://t.co/qlypZKKSc2 https://t.co/0JTSqxGGuI\n",
            "Tweeted by: ChannelNewsAsia\n",
            "Tweeted at: Singapore\n",
            "Tweeted on: 2020-11-16 14:49:32\n",
            "\n",
            "\n",
            "4) Ireland's Doherty, McClean test positive for COVID-19 https://t.co/dQGyqSeMBu https://t.co/W6O3sHI6ly\n",
            "Tweeted by: ChannelNewsAsia\n",
            "Tweeted at: Singapore\n",
            "Tweeted on: 2020-11-16 14:42:06\n",
            "\n",
            "\n",
            "5) The imported #COVID19 cases include 2 Singaporeans who returned from the UK and India\n",
            "https://t.co/vJTJ166xgX https://t.co/J5nT1XPJ0z\n",
            "Tweeted by: ChannelNewsAsia\n",
            "Tweeted at: Singapore\n",
            "Tweeted on: 2020-11-16 14:36:56\n",
            "\n",
            "\n",
            "6) Sweden limits public gatherings to eight people to fight COVID-19 https://t.co/kgyIeOybMA https://t.co/uvRv6h8YMm\n",
            "Tweeted by: ChannelNewsAsia\n",
            "Tweeted at: Singapore\n",
            "Tweeted on: 2020-11-16 14:24:03\n",
            "\n",
            "\n",
            "7) China's Didi Chuxing, BYD roll out customized car model for ride-hailing service https://t.co/USDJwFKoo1 https://t.co/9h3W5ClYkm\n",
            "Tweeted by: ChannelNewsAsia\n",
            "Tweeted at: Singapore\n",
            "Tweeted on: 2020-11-16 14:17:34\n",
            "\n",
            "\n",
            "8) Uber to accept fast payments in Brazil in partnership with Ebanx https://t.co/6elF6kunTo https://t.co/gqQHkUZoDM\n",
            "Tweeted by: ChannelNewsAsia\n",
            "Tweeted at: Singapore\n",
            "Tweeted on: 2020-11-16 14:17:33\n",
            "\n",
            "\n",
            "9) Busquets out of Spain v Germany clash, doubt for Atletico v Barca https://t.co/aDCUYaGQ6U https://t.co/I5UdXnURVN\n",
            "Tweeted by: ChannelNewsAsia\n",
            "Tweeted at: Singapore\n",
            "Tweeted on: 2020-11-16 14:17:33\n",
            "\n",
            "\n",
            "10) Virgin Galactic reschedules test flight due to New Mexico lockdown https://t.co/8ktRebQCIj https://t.co/kQUNw5RIsX\n",
            "Tweeted by: ChannelNewsAsia\n",
            "Tweeted at: Singapore\n",
            "Tweeted on: 2020-11-16 13:58:06\n",
            "\n",
            "\n",
            "11) Strong Atletico start has Suarez dreaming of title https://t.co/c34sWIDXfh https://t.co/u8V5AQDTLQ\n",
            "Tweeted by: ChannelNewsAsia\n",
            "Tweeted at: Singapore\n",
            "Tweeted on: 2020-11-16 13:58:05\n",
            "\n",
            "\n",
            "12) Inovio to begin mid-stage study of COVID-19 vaccine candidate https://t.co/j9reT0zrYj https://t.co/SfkNU39HDU\n",
            "Tweeted by: ChannelNewsAsia\n",
            "Tweeted at: Singapore\n",
            "Tweeted on: 2020-11-16 13:52:06\n",
            "\n",
            "\n",
            "13) Time is running out for Brexit deal, EU tells Britain https://t.co/ICtzevyCdE https://t.co/DauL0tVXYq\n",
            "Tweeted by: ChannelNewsAsia\n",
            "Tweeted at: Singapore\n",
            "Tweeted on: 2020-11-16 13:52:05\n",
            "\n",
            "\n",
            "14) We can stop COVID-19: Moderna vaccine success gives world more hope https://t.co/xYCoGVTpjx https://t.co/x1YRC5x2td\n",
            "Tweeted by: ChannelNewsAsia\n",
            "Tweeted at: Singapore\n",
            "Tweeted on: 2020-11-16 13:52:04\n",
            "\n",
            "\n",
            "15) 5 men arrested for rioting after 61-year-old found unconscious at North Bridge Road https://t.co/n0f9wcaPHF https://t.co/ChO3UgknFp\n",
            "Tweeted by: ChannelNewsAsia\n",
            "Tweeted at: Singapore\n",
            "Tweeted on: 2020-11-16 13:38:05\n",
            "\n",
            "\n",
            "16) S&amp;P, Dow futures rise after Moderna says vaccine 94.5per cent effective https://t.co/eIG7w7XSvY https://t.co/LiwCsYZ1sb\n",
            "Tweeted by: ChannelNewsAsia\n",
            "Tweeted at: Singapore\n",
            "Tweeted on: 2020-11-16 13:32:04\n",
            "\n",
            "\n",
            "17) Home Depot to buy HD Supply Holdings in US$8 billion deal https://t.co/QxDNOlOtib https://t.co/X2bYiHy6ry\n",
            "Tweeted by: ChannelNewsAsia\n",
            "Tweeted at: Singapore\n",
            "Tweeted on: 2020-11-16 13:32:03\n",
            "\n",
            "\n",
            "18) Support for MAX brand wavers as Boeing jet nears green light https://t.co/nUe4JTyacy https://t.co/yOQYFaHj9C\n",
            "Tweeted by: ChannelNewsAsia\n",
            "Tweeted at: Singapore\n",
            "Tweeted on: 2020-11-16 13:32:02\n",
            "\n",
            "\n",
            "19) Moderna trial success gives world more hope in race to end pandemic https://t.co/8Bf2l2YXBO https://t.co/yqDpw9AvG0\n",
            "Tweeted by: ChannelNewsAsia\n",
            "Tweeted at: Singapore\n",
            "Tweeted on: 2020-11-16 13:26:03\n",
            "\n",
            "\n",
            "20) SEC Chairman Clayton to step down at end of year: statement https://t.co/8rahzI7Ur4 https://t.co/qHLj25QDwV\n",
            "Tweeted by: ChannelNewsAsia\n",
            "Tweeted at: Singapore\n",
            "Tweeted on: 2020-11-16 13:20:03\n",
            "\n",
            "\n",
            "21) Racing Point say hidden front wing damage slowed Stroll https://t.co/LZpPMLxRvA https://t.co/UIhJR31Vab\n",
            "Tweeted by: ChannelNewsAsia\n",
            "Tweeted at: Singapore\n",
            "Tweeted on: 2020-11-16 13:13:35\n",
            "\n",
            "\n",
            "22) Tyson Foods beats sales estimates on strong pork, beef demand https://t.co/Xg3VQ4SuTb https://t.co/53b0b0paf1\n",
            "Tweeted by: ChannelNewsAsia\n",
            "Tweeted at: Singapore\n",
            "Tweeted on: 2020-11-16 13:13:34\n",
            "\n",
            "\n",
            "23) Walmart expects US$2 billion non-cash loss from stake sale in Japan's Seiyu https://t.co/gLgFeG8SlL https://t.co/IBmtKygoi0\n",
            "Tweeted by: ChannelNewsAsia\n",
            "Tweeted at: Singapore\n",
            "Tweeted on: 2020-11-16 13:13:33\n",
            "\n",
            "\n",
            "24) England losing their way with Southgate's return of caution https://t.co/SBHstAAWeo https://t.co/hGcYH57faT\n",
            "Tweeted by: ChannelNewsAsia\n",
            "Tweeted at: Singapore\n",
            "Tweeted on: 2020-11-16 13:06:35\n",
            "\n",
            "\n",
            "25) Malaysia's Top Glove workers put under tighter COVID-19 restrictions https://t.co/AQat9hpsfE https://t.co/MCDnKUp5gV\n",
            "Tweeted by: ChannelNewsAsia\n",
            "Tweeted at: Singapore\n",
            "Tweeted on: 2020-11-16 13:06:33\n",
            "\n",
            "\n",
            "26) Moderna says its vaccine is 94.5% effective in preventing COVID-19 https://t.co/XkY7hcsNe9 https://t.co/0LzRLRnGMi\n",
            "Tweeted by: ChannelNewsAsia\n",
            "Tweeted at: Singapore\n",
            "Tweeted on: 2020-11-16 12:40:03\n",
            "\n",
            "\n",
            "27) Stock futures climb on vaccine optimism as COVID-19 cases surge https://t.co/KaQgetJGuJ https://t.co/6quPvzRfhU\n",
            "Tweeted by: ChannelNewsAsia\n",
            "Tweeted at: Singapore\n",
            "Tweeted on: 2020-11-16 12:21:33\n",
            "\n",
            "\n",
            "28) Moderna says its vaccine is 94.5per cent effective in preventing COVID-19 https://t.co/thAGtvTWro https://t.co/B1kVPFDNaK\n",
            "Tweeted by: ChannelNewsAsia\n",
            "Tweeted at: Singapore\n",
            "Tweeted on: 2020-11-16 12:15:35\n",
            "\n",
            "\n",
            "29) Rugby: Sexton and Henshaw ruled out of England clash https://t.co/oUL85jLWuT https://t.co/kChh1VEZrU\n",
            "Tweeted by: ChannelNewsAsia\n",
            "Tweeted at: Singapore\n",
            "Tweeted on: 2020-11-16 12:15:34\n",
            "\n",
            "\n",
            "30) Arise, Sir Lewis? I'm no unsung hero, says Hamilton https://t.co/2Wh0ix8PZ9 https://t.co/zAqZd6i7Af\n",
            "Tweeted by: ChannelNewsAsia\n",
            "Tweeted at: Singapore\n",
            "Tweeted on: 2020-11-16 12:15:33\n",
            "\n",
            "\n",
            "31) Vaccine will not be enough to stop pandemic: WHO chief https://t.co/ccEWO7ez37 https://t.co/0iGCSeC9dz\n",
            "Tweeted by: ChannelNewsAsia\n",
            "Tweeted at: Singapore\n",
            "Tweeted on: 2020-11-16 12:09:04\n",
            "\n",
            "\n",
            "32) Aubameyang and Gabon team mates forced to sleep on airport floor https://t.co/mIdhQKOsti https://t.co/zE1tVUgy9G\n",
            "Tweeted by: ChannelNewsAsia\n",
            "Tweeted at: Singapore\n",
            "Tweeted on: 2020-11-16 12:09:03\n",
            "\n",
            "\n",
            "33) US approval for 737 MAX return nears as challenges remain for Boeing https://t.co/EdZj3g2sqB https://t.co/cfJ9itgmXp\n",
            "Tweeted by: ChannelNewsAsia\n",
            "Tweeted at: Singapore\n",
            "Tweeted on: 2020-11-16 11:48:33\n",
            "\n",
            "\n",
            "34) Wet weather to continue through rest of November: Met Service https://t.co/d58dzhglW5 https://t.co/R0jVxNcurG\n",
            "Tweeted by: ChannelNewsAsia\n",
            "Tweeted at: Singapore\n",
            "Tweeted on: 2020-11-16 11:48:32\n",
            "\n",
            "\n",
            "35) Buttler hails 'brilliant' De Kock ahead of South Africa tour https://t.co/l5ESlaCT6a https://t.co/U2NMsBNWMk\n",
            "Tweeted by: ChannelNewsAsia\n",
            "Tweeted at: Singapore\n",
            "Tweeted on: 2020-11-16 11:42:06\n",
            "\n",
            "\n",
            "36) Three Ukraine players test positive for COVID-19 before match with Switzerland https://t.co/iz4e7J0CEy https://t.co/TEPk2Z0gaJ\n",
            "Tweeted by: ChannelNewsAsia\n",
            "Tweeted at: Singapore\n",
            "Tweeted on: 2020-11-16 11:42:05\n",
            "\n",
            "\n",
            "37) Football: Grealish earns rave reviews despite England's slump https://t.co/QocOPSgRBz https://t.co/ZxwtYelZty\n",
            "Tweeted by: ChannelNewsAsia\n",
            "Tweeted at: Singapore\n",
            "Tweeted on: 2020-11-16 11:42:04\n",
            "\n",
            "\n",
            "38) Ireland's Sexton, Henshaw ruled out of England clash https://t.co/nK2m8MHe0d https://t.co/HWofwyzuZP\n",
            "Tweeted by: ChannelNewsAsia\n",
            "Tweeted at: Singapore\n",
            "Tweeted on: 2020-11-16 11:28:03\n",
            "\n",
            "\n",
            "39) Russia focuses on freeze-dried COVID-19 vaccine doses as transport fix https://t.co/05zpGuJi4u https://t.co/J28wFzeU8x\n",
            "Tweeted by: ChannelNewsAsia\n",
            "Tweeted at: Singapore\n",
            "Tweeted on: 2020-11-16 11:22:06\n",
            "\n",
            "\n",
            "40) CAS halves Australian Jack's doping ban to two years https://t.co/Tn0F7u5iRW https://t.co/HeDIaDrfWU\n",
            "Tweeted by: ChannelNewsAsia\n",
            "Tweeted at: Singapore\n",
            "Tweeted on: 2020-11-16 11:22:05\n",
            "\n",
            "\n",
            "41) Malaysia in final stage of talks with COVID-19 vaccine producers, aims to roll out immunisations by Q1… https://t.co/FODi6C1EEZ\n",
            "Tweeted by: ChannelNewsAsia\n",
            "Tweeted at: Singapore\n",
            "Tweeted on: 2020-11-16 11:22:04\n",
            "\n",
            "\n",
            "42) World stocks head for record high on recovery, vaccine hopes https://t.co/Vvi7uS3l9e https://t.co/C59dTqN0aT\n",
            "Tweeted by: ChannelNewsAsia\n",
            "Tweeted at: Singapore\n",
            "Tweeted on: 2020-11-16 10:54:35\n",
            "\n",
            "\n",
            "43) SIA Group passenger carriage down 98.1% in October amid 'tepid' demand for air travel https://t.co/SCKQAohKss https://t.co/nUxY6RxPsl\n",
            "Tweeted by: ChannelNewsAsia\n",
            "Tweeted at: Singapore\n",
            "Tweeted on: 2020-11-16 10:54:34\n",
            "\n",
            "\n",
            "44) Indian capital's third coronavirus wave has peaked: Minister https://t.co/fF3qxMvNPq https://t.co/pGkA7WUoZh\n",
            "Tweeted by: ChannelNewsAsia\n",
            "Tweeted at: Singapore\n",
            "Tweeted on: 2020-11-16 10:54:33\n",
            "\n",
            "\n",
            "45) Pakistan's second wave of COVID-19 infections gathers momentum https://t.co/YnUCtt3U4D https://t.co/pMjCWlkeoY\n",
            "Tweeted by: ChannelNewsAsia\n",
            "Tweeted at: Singapore\n",
            "Tweeted on: 2020-11-16 10:34:35\n",
            "\n",
            "\n",
            "46) Indonesia reports 3,535 new COVID-19 infections, 85 deaths https://t.co/1L0XHp5X76 https://t.co/ZLpjNwRmmu\n",
            "Tweeted by: ChannelNewsAsia\n",
            "Tweeted at: Singapore\n",
            "Tweeted on: 2020-11-16 10:34:34\n",
            "\n",
            "\n",
            "47) Korean Air to take over troubled Asiana Airlines for US$1.6 billion https://t.co/oDiDyX7Rz6 https://t.co/5ngtNhJ6pS\n",
            "Tweeted by: ChannelNewsAsia\n",
            "Tweeted at: Singapore\n",
            "Tweeted on: 2020-11-16 10:34:33\n",
            "\n",
            "\n",
            "48) Arsenal a winner with UN in signing Climate Action Framework https://t.co/imgnbih8HZ https://t.co/HLflK61ddN\n",
            "Tweeted by: ChannelNewsAsia\n",
            "Tweeted at: Singapore\n",
            "Tweeted on: 2020-11-16 10:02:34\n",
            "\n",
            "\n",
            "49) Saudi Aramco plans debt market comeback with multi-tranche bond deal https://t.co/w76GFTXgG9 https://t.co/llnZKNborx\n",
            "Tweeted by: ChannelNewsAsia\n",
            "Tweeted at: Singapore\n",
            "Tweeted on: 2020-11-16 10:02:33\n",
            "\n",
            "\n",
            "50) Japan games firm Nexon bets on growing computing power of mobile devices https://t.co/7A2N8o2OLX https://t.co/1XboE2a6je\n",
            "Tweeted by: ChannelNewsAsia\n",
            "Tweeted at: Singapore\n",
            "Tweeted on: 2020-11-16 09:50:04\n",
            "\n",
            "\n",
            "51) France flyhalf Ntamack ruled out of Scotland game https://t.co/v8jeyMtcgq https://t.co/PoR3m1NduQ\n",
            "Tweeted by: ChannelNewsAsia\n",
            "Tweeted at: Singapore\n",
            "Tweeted on: 2020-11-16 09:50:03\n",
            "\n",
            "\n",
            "52) Deutsche Bank CEO says focusing on restructuring in 2021, not mergers https://t.co/MOD5bHPNgg https://t.co/tzqhtbdGkK\n",
            "Tweeted by: ChannelNewsAsia\n",
            "Tweeted at: Singapore\n",
            "Tweeted on: 2020-11-16 09:50:02\n",
            "\n",
            "\n",
            "53) UN-led Libya talks end without naming interim government https://t.co/eIRYiP8WVW https://t.co/QBBYuP1Hut\n",
            "Tweeted by: ChannelNewsAsia\n",
            "Tweeted at: Singapore\n",
            "Tweeted on: 2020-11-16 09:44:05\n",
            "\n",
            "\n",
            "54) Tennis: Djokovic says he has mixed feelings about ending 2020 as number one https://t.co/ue977irYD3 https://t.co/BOCZiD0BAV\n",
            "Tweeted by: ChannelNewsAsia\n",
            "Tweeted at: Singapore\n",
            "Tweeted on: 2020-11-16 09:44:04\n",
            "\n",
            "\n",
            "55) Global stocks head for record high on recovery, vaccine hopes https://t.co/gqNOKsz8E7 https://t.co/RFYHSvm2gP\n",
            "Tweeted by: ChannelNewsAsia\n",
            "Tweeted at: Singapore\n",
            "Tweeted on: 2020-11-16 09:44:03\n",
            "\n",
            "\n",
            "56) Merkel, German governors to eye results of partial COVID-19 lockdown https://t.co/n9BhJMwFdn https://t.co/emmsthrHcG\n",
            "Tweeted by: ChannelNewsAsia\n",
            "Tweeted at: Singapore\n",
            "Tweeted on: 2020-11-16 09:24:03\n",
            "\n",
            "\n",
            "57) Singapore new private home sales plunge 51.7% in October after new regulations https://t.co/Ag2uSjiS7j https://t.co/c4lTMTmK5A\n",
            "Tweeted by: ChannelNewsAsia\n",
            "Tweeted at: Singapore\n",
            "Tweeted on: 2020-11-16 09:18:05\n",
            "\n",
            "\n",
            "58) Trial begins over foiled 2015 Paris train attack that inspired film https://t.co/Mxp2PECoQl https://t.co/DS1Rm4yrlu\n",
            "Tweeted by: ChannelNewsAsia\n",
            "Tweeted at: Singapore\n",
            "Tweeted on: 2020-11-16 09:18:04\n",
            "\n",
            "\n",
            "59) Boxing: Mayweather returns to ring for Feb 2021 Tokyo bout https://t.co/iU3eQy8vts https://t.co/PjFxhHiP2g\n",
            "Tweeted by: ChannelNewsAsia\n",
            "Tweeted at: Singapore\n",
            "Tweeted on: 2020-11-16 09:18:03\n",
            "\n",
            "\n",
            "60) Thai central bank has tools to handle strong baht: Finance minister https://t.co/hgEnNkPNcq https://t.co/zPjvda4CZk\n",
            "Tweeted by: ChannelNewsAsia\n",
            "Tweeted at: Singapore\n",
            "Tweeted on: 2020-11-16 09:11:03\n",
            "\n",
            "\n",
            "61) Japan games firm Nexon bets on growing computing power of mobile devices https://t.co/XRZ1ad6z8y https://t.co/hnSsh56uMh\n",
            "Tweeted by: ChannelNewsAsia\n",
            "Tweeted at: Singapore\n",
            "Tweeted on: 2020-11-16 08:57:03\n",
            "\n",
            "\n",
            "62) Boxing: Fury ditches plan to fight in December, to return to ring in 2021 https://t.co/3JuDKMQQ8u https://t.co/hYiQi4s9Hl\n",
            "Tweeted by: ChannelNewsAsia\n",
            "Tweeted at: Singapore\n",
            "Tweeted on: 2020-11-16 08:57:02\n",
            "\n",
            "\n",
            "63) New slip road connecting Punggol and TPE to open on Nov 28 https://t.co/SejKXziN6C https://t.co/Z0Q59QEht1\n",
            "Tweeted by: ChannelNewsAsia\n",
            "Tweeted at: Singapore\n",
            "Tweeted on: 2020-11-16 08:50:35\n",
            "\n",
            "\n",
            "64) UAE's Etihad Airways to launch direct flights to Tel Aviv next year https://t.co/SpKbaOleVH https://t.co/F00l5ANM1A\n",
            "Tweeted by: ChannelNewsAsia\n",
            "Tweeted at: Singapore\n",
            "Tweeted on: 2020-11-16 08:50:34\n",
            "\n",
            "\n",
            "65) Australia COVID-19 cluster causes jitters over India cricket tour https://t.co/AiHliGZS7K https://t.co/SiHJeNL4TV\n",
            "Tweeted by: ChannelNewsAsia\n",
            "Tweeted at: Singapore\n",
            "Tweeted on: 2020-11-16 08:50:33\n",
            "\n",
            "\n",
            "66) Landless Thais get homes in mangrove forest in conservation push https://t.co/JJ30kyan6G https://t.co/kqokQRMJ1d\n",
            "Tweeted by: ChannelNewsAsia\n",
            "Tweeted at: Singapore\n",
            "Tweeted on: 2020-11-16 08:25:03\n",
            "\n",
            "\n",
            "67) UK PM Johnson says he is well, will govern by Zoom after COVID-19 contact https://t.co/OJI6KbDs6V https://t.co/biE2iFbV9F\n",
            "Tweeted by: ChannelNewsAsia\n",
            "Tweeted at: Singapore\n",
            "Tweeted on: 2020-11-16 08:25:02\n",
            "\n",
            "\n",
            "68) 5 new COVID-19 cases in Singapore, all imported https://t.co/lSphJY5t8Y https://t.co/tWyVwahQtU\n",
            "Tweeted by: ChannelNewsAsia\n",
            "Tweeted at: Singapore\n",
            "Tweeted on: 2020-11-16 08:18:35\n",
            "\n",
            "\n",
            "69) Vodafone confirms guidance after resilient H1 https://t.co/oFT2yfeEdj https://t.co/9rl252cgaw\n",
            "Tweeted by: ChannelNewsAsia\n",
            "Tweeted at: Singapore\n",
            "Tweeted on: 2020-11-16 08:18:34\n",
            "\n",
            "\n",
            "70) Fury ditches plan to fight in December, to return to ring in 2021 https://t.co/O5FnJWqJqr https://t.co/UaybIiDX9H\n",
            "Tweeted by: ChannelNewsAsia\n",
            "Tweeted at: Singapore\n",
            "Tweeted on: 2020-11-16 08:18:33\n",
            "\n",
            "\n",
            "71) JUST IN: Singapore reports 5 new #COVID19 infections, all imported; 6th consecutive day with no locally transmitted… https://t.co/YaTiJsqcjG\n",
            "Tweeted by: ChannelNewsAsia\n",
            "Tweeted at: Singapore\n",
            "Tweeted on: 2020-11-16 08:15:59\n",
            "\n",
            "\n",
            "72) Syria's veteran foreign minister Walid Moalem dies at 79 https://t.co/JZ14Zyw5ob https://t.co/ECbLeU8QyZ\n",
            "Tweeted by: ChannelNewsAsia\n",
            "Tweeted at: Singapore\n",
            "Tweeted on: 2020-11-16 07:59:33\n",
            "\n",
            "\n",
            "73) Japan and Australia seek to align on defence as China's regional influence grows https://t.co/u3rrdYM1kL https://t.co/bL1fLumkA8\n",
            "Tweeted by: ChannelNewsAsia\n",
            "Tweeted at: Singapore\n",
            "Tweeted on: 2020-11-16 07:59:33\n",
            "\n",
            "\n",
            "74) Vodafone confirms guidance after resilient first-half https://t.co/qztQE5cGlL https://t.co/L5lGiJu7s3\n",
            "Tweeted by: ChannelNewsAsia\n",
            "Tweeted at: Singapore\n",
            "Tweeted on: 2020-11-16 07:51:33\n",
            "\n",
            "\n",
            "75) Analysis: Indian Premier League cash-cow delivers even in COVID times https://t.co/9pOhzRWLfX https://t.co/isCbFbth2k\n",
            "Tweeted by: ChannelNewsAsia\n",
            "Tweeted at: Singapore\n",
            "Tweeted on: 2020-11-16 07:32:02\n",
            "\n",
            "\n",
            "76) Abu Dhabi's Etihad to start direct flights to Israel next year https://t.co/eG15h6KG9a https://t.co/pWoXigVYC7\n",
            "Tweeted by: ChannelNewsAsia\n",
            "Tweeted at: Singapore\n",
            "Tweeted on: 2020-11-16 07:25:03\n",
            "\n",
            "\n",
            "77) Horse racing: Seventh placed runner handed win in Fontwell after disqualifications https://t.co/ZdfBtyLzyq https://t.co/Gk7azTZRT7\n",
            "Tweeted by: ChannelNewsAsia\n",
            "Tweeted at: Singapore\n",
            "Tweeted on: 2020-11-16 07:12:33\n",
            "\n",
            "\n",
            "78) High Court grants bank creditors’ application to place Hyflux under judicial management https://t.co/HJC7zLPMyg https://t.co/WEeelZoX1w\n",
            "Tweeted by: ChannelNewsAsia\n",
            "Tweeted at: Singapore\n",
            "Tweeted on: 2020-11-16 07:06:07\n",
            "\n",
            "\n",
            "79) China central bank tries to soothe market nerves after SOE debt shocks https://t.co/gDTPrF69lH https://t.co/vYoX4ucFIl\n",
            "Tweeted by: ChannelNewsAsia\n",
            "Tweeted at: Singapore\n",
            "Tweeted on: 2020-11-16 07:06:06\n",
            "\n",
            "\n",
            "80) Asia reaches crossroads in fight against COVID-19 as cases surge https://t.co/2ZBGifz1DG https://t.co/PWxgUC9l9m\n",
            "Tweeted by: ChannelNewsAsia\n",
            "Tweeted at: Singapore\n",
            "Tweeted on: 2020-11-16 07:06:05\n",
            "\n",
            "\n",
            "81) Biden to focus on plans for US economy as Trump presses long-shot legal claims https://t.co/C0LB9XVI5k https://t.co/xKDPuaHHdg\n",
            "Tweeted by: ChannelNewsAsia\n",
            "Tweeted at: Singapore\n",
            "Tweeted on: 2020-11-16 06:59:33\n",
            "\n",
            "\n",
            "82) Privacy activist files complaints against Apple's tracking tool https://t.co/myJM8NXqSQ https://t.co/x2OOpMAYNV\n",
            "Tweeted by: ChannelNewsAsia\n",
            "Tweeted at: Singapore\n",
            "Tweeted on: 2020-11-16 06:46:04\n",
            "\n",
            "\n",
            "83) PNC to buy BBVA's US banking arm for US$11.6 billion in cash https://t.co/Gyid7cS1ra https://t.co/yNlSQnH0mO\n",
            "Tweeted by: ChannelNewsAsia\n",
            "Tweeted at: Singapore\n",
            "Tweeted on: 2020-11-16 06:46:03\n",
            "\n",
            "\n",
            "84) Saudi Aramco hires banks for multi-tranche bond deal https://t.co/3JUSQXxVzm https://t.co/6Lk8pCQkPv\n",
            "Tweeted by: ChannelNewsAsia\n",
            "Tweeted at: Singapore\n",
            "Tweeted on: 2020-11-16 06:46:02\n",
            "\n",
            "\n",
            "85) Privacy activist files complaints against Apple's tracking tool https://t.co/FnV2MNjyWo https://t.co/q3BEE7owvI\n",
            "Tweeted by: ChannelNewsAsia\n",
            "Tweeted at: Singapore\n",
            "Tweeted on: 2020-11-16 06:33:33\n",
            "\n",
            "\n",
            "86) More support for firms in precision engineering sector to build partnerships, deepen capabilities… https://t.co/2UVgsRaSie\n",
            "Tweeted by: ChannelNewsAsia\n",
            "Tweeted at: Singapore\n",
            "Tweeted on: 2020-11-16 06:33:32\n",
            "\n",
            "\n",
            "87) Willis revels in excitement of first test cap after delayed England debut https://t.co/XqpOL0Xjmm https://t.co/lZDeRiLQA8\n",
            "Tweeted by: ChannelNewsAsia\n",
            "Tweeted at: Singapore\n",
            "Tweeted on: 2020-11-16 06:20:35\n",
            "\n",
            "\n",
            "88) COVID-19 pandemic pushes steep drop in foreign college students in US https://t.co/SCUOuTwSgB https://t.co/ZVRHXI0aQG\n",
            "Tweeted by: ChannelNewsAsia\n",
            "Tweeted at: Singapore\n",
            "Tweeted on: 2020-11-16 06:20:33\n",
            "\n",
            "\n",
            "89) Football: Son Heung-min faces COVID-19 scare as outbreak hits South Korea team https://t.co/1Lv1yOJb4l https://t.co/TN0hxxQX8j\n",
            "Tweeted by: ChannelNewsAsia\n",
            "Tweeted at: Singapore\n",
            "Tweeted on: 2020-11-16 06:08:02\n",
            "\n",
            "\n",
            "90) COVID-19: New Zealand makes masks mandatory on domestic flights, Auckland public transport https://t.co/rxVeDg58Gp https://t.co/YpjMQGNygO\n",
            "Tweeted by: ChannelNewsAsia\n",
            "Tweeted at: Singapore\n",
            "Tweeted on: 2020-11-16 05:54:33\n",
            "\n",
            "\n",
            "91) Investors tell European firms to reveal 'missing' climate costs in their accounts https://t.co/1DDFvXQ0Zz https://t.co/VbgHxxGmSJ\n",
            "Tweeted by: ChannelNewsAsia\n",
            "Tweeted at: Singapore\n",
            "Tweeted on: 2020-11-16 05:42:04\n",
            "\n",
            "\n",
            "92) Investors tell European firms to reveal 'missing' climate costs in their accounts https://t.co/6WLlRbVj8I https://t.co/xJgyvZSYZ1\n",
            "Tweeted by: ChannelNewsAsia\n",
            "Tweeted at: Singapore\n",
            "Tweeted on: 2020-11-16 05:30:03\n",
            "\n",
            "\n",
            "93) Djokovic says he has mixed feelings about ending 2020 as number one https://t.co/NZoH3Ws0qo https://t.co/jOGkVkZHUv\n",
            "Tweeted by: ChannelNewsAsia\n",
            "Tweeted at: Singapore\n",
            "Tweeted on: 2020-11-16 05:30:02\n",
            "\n",
            "\n",
            "94) Fire in Hong Kong apartment building kills 7, injures 11 https://t.co/y8P5m3Skh1 https://t.co/l1bZYkYZwh\n",
            "Tweeted by: ChannelNewsAsia\n",
            "Tweeted at: Singapore\n",
            "Tweeted on: 2020-11-16 05:18:04\n",
            "\n",
            "\n",
            "95) Golf: South Korean debutant Im posts best Asian finish at Masters https://t.co/QHScLeGRvz https://t.co/pbHorwngb2\n",
            "Tweeted by: ChannelNewsAsia\n",
            "Tweeted at: Singapore\n",
            "Tweeted on: 2020-11-16 05:18:03\n",
            "\n",
            "\n",
            "96) Construction in land-starved Hong Kong shrinks wild buffaloes habitat https://t.co/c4mAcyvQnZ https://t.co/YFCLPeH792\n",
            "Tweeted by: ChannelNewsAsia\n",
            "Tweeted at: Singapore\n",
            "Tweeted on: 2020-11-16 04:52:02\n",
            "\n",
            "\n",
            "97) Rugby: Jones warns England untested ahead of Ireland clash https://t.co/QFePqeRBWP https://t.co/t6JxoiKORn\n",
            "Tweeted by: ChannelNewsAsia\n",
            "Tweeted at: Singapore\n",
            "Tweeted on: 2020-11-16 04:24:34\n",
            "\n",
            "\n",
            "98) Taiwan talks up trans-Pacific trade pact after exclusion from RCEP https://t.co/OApEHW5VkE https://t.co/TwvDEFxa5Q\n",
            "Tweeted by: ChannelNewsAsia\n",
            "Tweeted at: Singapore\n",
            "Tweeted on: 2020-11-16 04:24:33\n",
            "\n",
            "\n",
            "99) PNC nears deal to buy BBVA's US banking arm for more than US$10b: Sources https://t.co/8kpOHCl9oy https://t.co/2xFdrZIXJY\n",
            "Tweeted by: ChannelNewsAsia\n",
            "Tweeted at: Singapore\n",
            "Tweeted on: 2020-11-16 04:12:34\n",
            "\n",
            "\n",
            "100) Korean Air to spend US$1.6b to become Asiana Airlines' top shareholder https://t.co/ehNGDcjtpl https://t.co/ShLM5gWkIt\n",
            "Tweeted by: ChannelNewsAsia\n",
            "Tweeted at: Singapore\n",
            "Tweeted on: 2020-11-16 04:12:34\n"
          ],
          "name": "stdout"
        },
        {
          "output_type": "execute_result",
          "data": {
            "text/html": [
              "<div>\n",
              "<style scoped>\n",
              "    .dataframe tbody tr th:only-of-type {\n",
              "        vertical-align: middle;\n",
              "    }\n",
              "\n",
              "    .dataframe tbody tr th {\n",
              "        vertical-align: top;\n",
              "    }\n",
              "\n",
              "    .dataframe thead th {\n",
              "        text-align: right;\n",
              "    }\n",
              "</style>\n",
              "<table border=\"1\" class=\"dataframe\">\n",
              "  <thead>\n",
              "    <tr style=\"text-align: right;\">\n",
              "      <th></th>\n",
              "      <th>Tweets</th>\n",
              "      <th>Subjectivity</th>\n",
              "      <th>Polarity</th>\n",
              "    </tr>\n",
              "  </thead>\n",
              "  <tbody>\n",
              "    <tr>\n",
              "      <th>0</th>\n",
              "      <td>Home Depot to buy building products distributo...</td>\n",
              "      <td>0.000000</td>\n",
              "      <td>0.000000</td>\n",
              "    </tr>\n",
              "    <tr>\n",
              "      <th>1</th>\n",
              "      <td>Germany postpones decision on COVID-19 curbs a...</td>\n",
              "      <td>0.000000</td>\n",
              "      <td>0.000000</td>\n",
              "    </tr>\n",
              "    <tr>\n",
              "      <th>2</th>\n",
              "      <td>Nissan 'absolutely not' in talks about Mitsubi...</td>\n",
              "      <td>0.900000</td>\n",
              "      <td>-0.100000</td>\n",
              "    </tr>\n",
              "    <tr>\n",
              "      <th>3</th>\n",
              "      <td>Ireland's Doherty, McClean test positive for C...</td>\n",
              "      <td>0.545455</td>\n",
              "      <td>0.227273</td>\n",
              "    </tr>\n",
              "    <tr>\n",
              "      <th>4</th>\n",
              "      <td>The imported COVID19 cases include 2 Singapore...</td>\n",
              "      <td>0.000000</td>\n",
              "      <td>0.000000</td>\n",
              "    </tr>\n",
              "    <tr>\n",
              "      <th>...</th>\n",
              "      <td>...</td>\n",
              "      <td>...</td>\n",
              "      <td>...</td>\n",
              "    </tr>\n",
              "    <tr>\n",
              "      <th>95</th>\n",
              "      <td>Construction in land-starved Hong Kong shrinks...</td>\n",
              "      <td>0.400000</td>\n",
              "      <td>0.100000</td>\n",
              "    </tr>\n",
              "    <tr>\n",
              "      <th>96</th>\n",
              "      <td>Rugby: Jones warns England untested ahead of I...</td>\n",
              "      <td>0.000000</td>\n",
              "      <td>0.000000</td>\n",
              "    </tr>\n",
              "    <tr>\n",
              "      <th>97</th>\n",
              "      <td>Taiwan talks up trans-Pacific trade pact after...</td>\n",
              "      <td>0.000000</td>\n",
              "      <td>0.000000</td>\n",
              "    </tr>\n",
              "    <tr>\n",
              "      <th>98</th>\n",
              "      <td>PNC nears deal to buy BBVA's US banking arm fo...</td>\n",
              "      <td>0.500000</td>\n",
              "      <td>0.500000</td>\n",
              "    </tr>\n",
              "    <tr>\n",
              "      <th>99</th>\n",
              "      <td>Korean Air to spend US$1.6b to become Asiana A...</td>\n",
              "      <td>0.500000</td>\n",
              "      <td>0.500000</td>\n",
              "    </tr>\n",
              "  </tbody>\n",
              "</table>\n",
              "<p>100 rows × 3 columns</p>\n",
              "</div>"
            ],
            "text/plain": [
              "                                               Tweets  Subjectivity  Polarity\n",
              "0   Home Depot to buy building products distributo...      0.000000  0.000000\n",
              "1   Germany postpones decision on COVID-19 curbs a...      0.000000  0.000000\n",
              "2   Nissan 'absolutely not' in talks about Mitsubi...      0.900000 -0.100000\n",
              "3   Ireland's Doherty, McClean test positive for C...      0.545455  0.227273\n",
              "4   The imported COVID19 cases include 2 Singapore...      0.000000  0.000000\n",
              "..                                                ...           ...       ...\n",
              "95  Construction in land-starved Hong Kong shrinks...      0.400000  0.100000\n",
              "96  Rugby: Jones warns England untested ahead of I...      0.000000  0.000000\n",
              "97  Taiwan talks up trans-Pacific trade pact after...      0.000000  0.000000\n",
              "98  PNC nears deal to buy BBVA's US banking arm fo...      0.500000  0.500000\n",
              "99  Korean Air to spend US$1.6b to become Asiana A...      0.500000  0.500000\n",
              "\n",
              "[100 rows x 3 columns]"
            ]
          },
          "metadata": {
            "tags": []
          },
          "execution_count": 5
        }
      ]
    },
    {
      "cell_type": "markdown",
      "metadata": {
        "id": "c1hdbWDWL07-"
      },
      "source": [
        "# 3. PLOTTING WORDCLOUD\n",
        "WordCloud is a data visualization technique used for representing text data, in which the size of each word indicates its frequency or importance. If the same words are detected very frequently, then the size of that particular word will be very big in the wordcloud.\n",
        "\n",
        "I'm having trouble at this part (seen in my error as attached). I have tried to troubleshoot it by researching various example but I can't seem to understand the problem."
      ]
    },
    {
      "cell_type": "code",
      "metadata": {
        "id": "2XpWHrZb3Qxy",
        "outputId": "bdc4a7f8-f510-4f7c-e0ab-62079256cc52",
        "colab": {
          "base_uri": "https://localhost:8080/",
          "height": 250
        }
      },
      "source": [
        "from wordcloud import WordCloud, ImageColorGenerator\n",
        "import matplotlib.pyplot as plt\n",
        "from PIL import Image\n",
        "import numpy as np\n",
        "\n",
        "allWords = ' '.join( [twts for twts in df['Tweets']] )\n",
        "custom_mask = np.array(Image.open('twitter1.png'))\n",
        "\n",
        "wordCloud = WordCloud (background_color='white',\n",
        "                       mask = custom_mask,\n",
        "                        \n",
        "                       contour_width = 3,\n",
        "                       contour_color = 'blue')\n",
        "\n",
        "wordCloud.generate(allWords)\n",
        "\n",
        "image_colors = ImageColorGenerator(custom_mask)\n",
        "# wordCloud.recolor(color_func = image_colors)\n",
        "plt.imshow(wordCloud, interpolation = 'bilinear')\n",
        "plt.axis('off')\n",
        "plt.show()\n",
        "\n"
      ],
      "execution_count": 6,
      "outputs": [
        {
          "output_type": "display_data",
          "data": {
            "image/png": "[encoded data removed]",
            "text/plain": [
              "<Figure size 432x288 with 1 Axes>"
            ]
          },
          "metadata": {
            "tags": []
          }
        }
      ]
    },
    {
      "cell_type": "code",
      "metadata": {
        "id": "1uFmQ7rsOu-L",
        "outputId": "4081c068-118d-4076-e7b7-10407d454396",
        "colab": {
          "base_uri": "https://localhost:8080/",
          "height": 399
        }
      },
      "source": [
        "#Computing the negative, neutral, positive analysis\n",
        "def getAnalysis (score):\n",
        "\tif score < 0:\n",
        "\t\treturn 'Negative'\n",
        "\telif score == 0:\n",
        "\t\treturn 'Neutral'\n",
        "\telse:\n",
        "\t\treturn 'Positive'\n",
        "\n",
        "df['Analysis'] = df['Polarity'].apply(getAnalysis)\n",
        "df\n"
      ],
      "execution_count": 7,
      "outputs": [
        {
          "output_type": "execute_result",
          "data": {
            "text/html": [
              "<div>\n",
              "<style scoped>\n",
              "    .dataframe tbody tr th:only-of-type {\n",
              "        vertical-align: middle;\n",
              "    }\n",
              "\n",
              "    .dataframe tbody tr th {\n",
              "        vertical-align: top;\n",
              "    }\n",
              "\n",
              "    .dataframe thead th {\n",
              "        text-align: right;\n",
              "    }\n",
              "</style>\n",
              "<table border=\"1\" class=\"dataframe\">\n",
              "  <thead>\n",
              "    <tr style=\"text-align: right;\">\n",
              "      <th></th>\n",
              "      <th>Tweets</th>\n",
              "      <th>Subjectivity</th>\n",
              "      <th>Polarity</th>\n",
              "      <th>Analysis</th>\n",
              "    </tr>\n",
              "  </thead>\n",
              "  <tbody>\n",
              "    <tr>\n",
              "      <th>0</th>\n",
              "      <td>Home Depot to buy building products distributo...</td>\n",
              "      <td>0.000000</td>\n",
              "      <td>0.000000</td>\n",
              "      <td>Neutral</td>\n",
              "    </tr>\n",
              "    <tr>\n",
              "      <th>1</th>\n",
              "      <td>Germany postpones decision on COVID-19 curbs a...</td>\n",
              "      <td>0.000000</td>\n",
              "      <td>0.000000</td>\n",
              "      <td>Neutral</td>\n",
              "    </tr>\n",
              "    <tr>\n",
              "      <th>2</th>\n",
              "      <td>Nissan 'absolutely not' in talks about Mitsubi...</td>\n",
              "      <td>0.900000</td>\n",
              "      <td>-0.100000</td>\n",
              "      <td>Negative</td>\n",
              "    </tr>\n",
              "    <tr>\n",
              "      <th>3</th>\n",
              "      <td>Ireland's Doherty, McClean test positive for C...</td>\n",
              "      <td>0.545455</td>\n",
              "      <td>0.227273</td>\n",
              "      <td>Positive</td>\n",
              "    </tr>\n",
              "    <tr>\n",
              "      <th>4</th>\n",
              "      <td>The imported COVID19 cases include 2 Singapore...</td>\n",
              "      <td>0.000000</td>\n",
              "      <td>0.000000</td>\n",
              "      <td>Neutral</td>\n",
              "    </tr>\n",
              "    <tr>\n",
              "      <th>...</th>\n",
              "      <td>...</td>\n",
              "      <td>...</td>\n",
              "      <td>...</td>\n",
              "      <td>...</td>\n",
              "    </tr>\n",
              "    <tr>\n",
              "      <th>95</th>\n",
              "      <td>Construction in land-starved Hong Kong shrinks...</td>\n",
              "      <td>0.400000</td>\n",
              "      <td>0.100000</td>\n",
              "      <td>Positive</td>\n",
              "    </tr>\n",
              "    <tr>\n",
              "      <th>96</th>\n",
              "      <td>Rugby: Jones warns England untested ahead of I...</td>\n",
              "      <td>0.000000</td>\n",
              "      <td>0.000000</td>\n",
              "      <td>Neutral</td>\n",
              "    </tr>\n",
              "    <tr>\n",
              "      <th>97</th>\n",
              "      <td>Taiwan talks up trans-Pacific trade pact after...</td>\n",
              "      <td>0.000000</td>\n",
              "      <td>0.000000</td>\n",
              "      <td>Neutral</td>\n",
              "    </tr>\n",
              "    <tr>\n",
              "      <th>98</th>\n",
              "      <td>PNC nears deal to buy BBVA's US banking arm fo...</td>\n",
              "      <td>0.500000</td>\n",
              "      <td>0.500000</td>\n",
              "      <td>Positive</td>\n",
              "    </tr>\n",
              "    <tr>\n",
              "      <th>99</th>\n",
              "      <td>Korean Air to spend US$1.6b to become Asiana A...</td>\n",
              "      <td>0.500000</td>\n",
              "      <td>0.500000</td>\n",
              "      <td>Positive</td>\n",
              "    </tr>\n",
              "  </tbody>\n",
              "</table>\n",
              "<p>100 rows × 4 columns</p>\n",
              "</div>"
            ],
            "text/plain": [
              "                                               Tweets  ...  Analysis\n",
              "0   Home Depot to buy building products distributo...  ...   Neutral\n",
              "1   Germany postpones decision on COVID-19 curbs a...  ...   Neutral\n",
              "2   Nissan 'absolutely not' in talks about Mitsubi...  ...  Negative\n",
              "3   Ireland's Doherty, McClean test positive for C...  ...  Positive\n",
              "4   The imported COVID19 cases include 2 Singapore...  ...   Neutral\n",
              "..                                                ...  ...       ...\n",
              "95  Construction in land-starved Hong Kong shrinks...  ...  Positive\n",
              "96  Rugby: Jones warns England untested ahead of I...  ...   Neutral\n",
              "97  Taiwan talks up trans-Pacific trade pact after...  ...   Neutral\n",
              "98  PNC nears deal to buy BBVA's US banking arm fo...  ...  Positive\n",
              "99  Korean Air to spend US$1.6b to become Asiana A...  ...  Positive\n",
              "\n",
              "[100 rows x 4 columns]"
            ]
          },
          "metadata": {
            "tags": []
          },
          "execution_count": 7
        }
      ]
    },
    {
      "cell_type": "markdown",
      "metadata": {
        "id": "Szh44R6_N2-R"
      },
      "source": [
        "# 4. SEGREGATING SENTIMENTS\n",
        "The following parts that follow will classify the tweets based on their sentiments, either Positive, Negative, or Neutral. A Bar graph and a Scatter plot would also help to assist in illustration to observe how the tweets of the user are feeling.\n",
        "\n",
        "As we can observe, there are certain tweets which were not classified accurately. For example in the first positive tweet, it should not be regarded as a positive sentiment. As a human reader, we would understand that it would be better suited to be classified as a negative sentiment (having a Covid case is undesirable).\n",
        "\n",
        "This would question the accuracy of the sentiment analysis, which if given more time, I would love to continue the project. \n"
      ]
    },
    {
      "cell_type": "code",
      "metadata": {
        "id": "JsaMCganO8wI",
        "outputId": "407bb3be-098c-4a23-a528-aeadecedcf8d",
        "colab": {
          "base_uri": "https://localhost:8080/"
        }
      },
      "source": [
        "#To seperate and print POSITIVE tweets\n",
        "j = 1\n",
        "sortedDF = df.sort_values(by=['Polarity'])\n",
        "for i in range (0, sortedDF.shape[0]):\n",
        "\tif (sortedDF['Analysis'][i] == 'Positive'):\n",
        "\t\tprint (str(j) + ') '+sortedDF['Tweets'][i])\n",
        "\t\tprint()\n",
        "\t\tj = j + 1\n"
      ],
      "execution_count": 8,
      "outputs": [
        {
          "output_type": "stream",
          "text": [
            "1) Ireland's Doherty, McClean test positive for COVID-19  \n",
            "\n",
            "2) Uber to accept fast payments in Brazil in partnership with Ebanx  \n",
            "\n",
            "3) Virgin Galactic reschedules test flight due to New Mexico lockdown  \n",
            "\n",
            "4) Strong Atletico start has Suarez dreaming of title  \n",
            "\n",
            "5) We can stop COVID-19: Moderna vaccine success gives world more hope  \n",
            "\n",
            "6) S&amp;P, Dow futures rise after Moderna says vaccine 94.5per cent effective  \n",
            "\n",
            "7) Support for MAX brand wavers as Boeing jet nears green light  \n",
            "\n",
            "8) Moderna trial success gives world more hope in race to end pandemic  \n",
            "\n",
            "9) Tyson Foods beats sales estimates on strong pork, beef demand  \n",
            "\n",
            "10) Malaysia's Top Glove workers put under tighter COVID-19 restrictions  \n",
            "\n",
            "11) Moderna says its vaccine is 94.5% effective in preventing COVID-19  \n",
            "\n",
            "12) Moderna says its vaccine is 94.5per cent effective in preventing COVID-19  \n",
            "\n",
            "13) Buttler hails 'brilliant' De Kock ahead of South Africa tour  \n",
            "\n",
            "14) Three Ukraine players test positive for COVID-19 before match with Switzerland  \n",
            "\n",
            "15) World stocks head for record high on recovery, vaccine hopes  \n",
            "\n",
            "16) Indonesia reports 3,535 new COVID-19 infections, 85 deaths  \n",
            "\n",
            "17) Arsenal a winner with UN in signing Climate Action Framework  \n",
            "\n",
            "18) Global stocks head for record high on recovery, vaccine hopes  \n",
            "\n",
            "19) Singapore new private home sales plunge 51.7% in October after new regulations  \n",
            "\n",
            "20) Thai central bank has tools to handle strong baht: Finance minister  \n",
            "\n",
            "21) New slip road connecting Punggol and TPE to open on Nov 28  \n",
            "\n",
            "22) UAE's Etihad Airways to launch direct flights to Tel Aviv next year  \n",
            "\n",
            "23) 5 new COVID-19 cases in Singapore, all imported  \n",
            "\n",
            "24) JUST IN: Singapore reports 5 new COVID19 infections, all imported; 6th consecutive day with no locally transmitted… \n",
            "\n",
            "25) Abu Dhabi's Etihad to start direct flights to Israel next year  \n",
            "\n",
            "26) Horse racing: Seventh placed runner handed win in Fontwell after disqualifications  \n",
            "\n",
            "27) High Court grants bank creditors’ application to place Hyflux under judicial management  \n",
            "\n",
            "28) Biden to focus on plans for US economy as Trump presses long-shot legal claims  \n",
            "\n",
            "29) More support for firms in precision engineering sector to build partnerships, deepen capabilities… \n",
            "\n",
            "30) Willis revels in excitement of first test cap after delayed England debut  \n",
            "\n",
            "31) COVID-19: New Zealand makes masks mandatory on domestic flights, Auckland public transport  \n",
            "\n",
            "32) Golf: South Korean debutant Im posts best Asian finish at Masters  \n",
            "\n",
            "33) Construction in land-starved Hong Kong shrinks wild buffaloes habitat  \n",
            "\n",
            "34) PNC nears deal to buy BBVA's US banking arm for more than US$10b: Sources  \n",
            "\n",
            "35) Korean Air to spend US$1.6b to become Asiana Airlines' top shareholder  \n",
            "\n"
          ],
          "name": "stdout"
        }
      ]
    },
    {
      "cell_type": "code",
      "metadata": {
        "id": "9gpq5V-kO3TR",
        "outputId": "0b2f0729-d0a4-4120-ae2c-4acee4f27abe",
        "colab": {
          "base_uri": "https://localhost:8080/"
        }
      },
      "source": [
        "#To seperate and print NEGATIVE tweets\n",
        "j = 1\n",
        "sortedDF = df.sort_values(by=['Polarity'], ascending='False')\n",
        "for i in range(0, sortedDF.shape[0]):\n",
        "  if (sortedDF['Analysis'][i] == 'Negative'):\n",
        "    print (str(j) + ') '+sortedDF['Tweets'][i])\n",
        "    print()\n",
        "    j = j + 1"
      ],
      "execution_count": 9,
      "outputs": [
        {
          "output_type": "stream",
          "text": [
            "1) Nissan 'absolutely not' in talks about Mitsubishi stake sale  \n",
            "\n",
            "2) SEC Chairman Clayton to step down at end of year: statement  \n",
            "\n",
            "3) Racing Point say hidden front wing damage slowed Stroll  \n",
            "\n",
            "4) Aubameyang and Gabon team mates forced to sleep on airport floor  \n",
            "\n",
            "5) Wet weather to continue through rest of November: Met Service  \n",
            "\n",
            "6) SIA Group passenger carriage down 98.1% in October amid 'tepid' demand for air travel  \n",
            "\n",
            "7) Korean Air to take over troubled Asiana Airlines for US$1.6 billion  \n",
            "\n",
            "8) Japan games firm Nexon bets on growing computing power of mobile devices  \n",
            "\n",
            "9) France flyhalf Ntamack ruled out of Scotland game  \n",
            "\n",
            "10) Merkel, German governors to eye results of partial COVID-19 lockdown  \n",
            "\n",
            "11) Japan games firm Nexon bets on growing computing power of mobile devices  \n",
            "\n",
            "12) Syria's veteran foreign minister Walid Moalem dies at 79  \n",
            "\n",
            "13) China central bank tries to soothe market nerves after SOE debt shocks  \n",
            "\n",
            "14) COVID-19 pandemic pushes steep drop in foreign college students in US  \n",
            "\n",
            "15) Investors tell European firms to reveal 'missing' climate costs in their accounts  \n",
            "\n",
            "16) Investors tell European firms to reveal 'missing' climate costs in their accounts  \n",
            "\n"
          ],
          "name": "stdout"
        }
      ]
    },
    {
      "cell_type": "code",
      "metadata": {
        "id": "pNwUQf2EfwXO",
        "outputId": "9e6cea3f-fc91-4b39-8526-57378f1dfb18",
        "colab": {
          "base_uri": "https://localhost:8080/"
        }
      },
      "source": [
        "#To seperate and print NEUTRAL tweets\n",
        "j = 1\n",
        "sortedDF = df.sort_values(by=['Polarity'])\n",
        "for i in range (0, sortedDF.shape[0]):\n",
        "\tif (sortedDF['Analysis'][i] == 'Neutral'):\n",
        "\t\tprint (str(j) + ') '+sortedDF['Tweets'][i])\n",
        "\t\tprint()\n",
        "\t\tj = j + 1\n"
      ],
      "execution_count": 10,
      "outputs": [
        {
          "output_type": "stream",
          "text": [
            "1) Home Depot to buy building products distributor HD Supply in US$8 billion deal  \n",
            "\n",
            "2) Germany postpones decision on COVID-19 curbs at schools  \n",
            "\n",
            "3) The imported COVID19 cases include 2 Singaporeans who returned from the UK and India\n",
            " \n",
            "\n",
            "4) Sweden limits public gatherings to eight people to fight COVID-19  \n",
            "\n",
            "5) China's Didi Chuxing, BYD roll out customized car model for ride-hailing service  \n",
            "\n",
            "6) Busquets out of Spain v Germany clash, doubt for Atletico v Barca  \n",
            "\n",
            "7) Inovio to begin mid-stage study of COVID-19 vaccine candidate  \n",
            "\n",
            "8) Time is running out for Brexit deal, EU tells Britain  \n",
            "\n",
            "9) 5 men arrested for rioting after 61-year-old found unconscious at North Bridge Road  \n",
            "\n",
            "10) Home Depot to buy HD Supply Holdings in US$8 billion deal  \n",
            "\n",
            "11) Walmart expects US$2 billion non-cash loss from stake sale in Japan's Seiyu  \n",
            "\n",
            "12) England losing their way with Southgate's return of caution  \n",
            "\n",
            "13) Stock futures climb on vaccine optimism as COVID-19 cases surge  \n",
            "\n",
            "14) Rugby: Sexton and Henshaw ruled out of England clash  \n",
            "\n",
            "15) Arise, Sir Lewis? I'm no unsung hero, says Hamilton  \n",
            "\n",
            "16) Vaccine will not be enough to stop pandemic: WHO chief  \n",
            "\n",
            "17) US approval for 737 MAX return nears as challenges remain for Boeing  \n",
            "\n",
            "18) Football: Grealish earns rave reviews despite England's slump  \n",
            "\n",
            "19) Ireland's Sexton, Henshaw ruled out of England clash  \n",
            "\n",
            "20) Russia focuses on freeze-dried COVID-19 vaccine doses as transport fix  \n",
            "\n",
            "21) CAS halves Australian Jack's doping ban to two years  \n",
            "\n",
            "22) Malaysia in final stage of talks with COVID-19 vaccine producers, aims to roll out immunisations by Q1… \n",
            "\n",
            "23) Indian capital's third coronavirus wave has peaked: Minister  \n",
            "\n",
            "24) Pakistan's second wave of COVID-19 infections gathers momentum  \n",
            "\n",
            "25) Saudi Aramco plans debt market comeback with multi-tranche bond deal  \n",
            "\n",
            "26) Deutsche Bank CEO says focusing on restructuring in 2021, not mergers  \n",
            "\n",
            "27) UN-led Libya talks end without naming interim government  \n",
            "\n",
            "28) Tennis: Djokovic says he has mixed feelings about ending 2020 as number one  \n",
            "\n",
            "29) Trial begins over foiled 2015 Paris train attack that inspired film  \n",
            "\n",
            "30) Boxing: Mayweather returns to ring for Feb 2021 Tokyo bout  \n",
            "\n",
            "31) Boxing: Fury ditches plan to fight in December, to return to ring in 2021  \n",
            "\n",
            "32) Australia COVID-19 cluster causes jitters over India cricket tour  \n",
            "\n",
            "33) Landless Thais get homes in mangrove forest in conservation push  \n",
            "\n",
            "34) UK PM Johnson says he is well, will govern by Zoom after COVID-19 contact  \n",
            "\n",
            "35) Vodafone confirms guidance after resilient H1  \n",
            "\n",
            "36) Fury ditches plan to fight in December, to return to ring in 2021  \n",
            "\n",
            "37) Japan and Australia seek to align on defence as China's regional influence grows  \n",
            "\n",
            "38) Vodafone confirms guidance after resilient first-half  \n",
            "\n",
            "39) Analysis: Indian Premier League cash-cow delivers even in COVID times  \n",
            "\n",
            "40) Asia reaches crossroads in fight against COVID-19 as cases surge  \n",
            "\n",
            "41) Privacy activist files complaints against Apple's tracking tool  \n",
            "\n",
            "42) PNC to buy BBVA's US banking arm for US$11.6 billion in cash  \n",
            "\n",
            "43) Saudi Aramco hires banks for multi-tranche bond deal  \n",
            "\n",
            "44) Privacy activist files complaints against Apple's tracking tool  \n",
            "\n",
            "45) Football: Son Heung-min faces COVID-19 scare as outbreak hits South Korea team  \n",
            "\n",
            "46) Djokovic says he has mixed feelings about ending 2020 as number one  \n",
            "\n",
            "47) Fire in Hong Kong apartment building kills 7, injures 11  \n",
            "\n",
            "48) Rugby: Jones warns England untested ahead of Ireland clash  \n",
            "\n",
            "49) Taiwan talks up trans-Pacific trade pact after exclusion from RCEP  \n",
            "\n"
          ],
          "name": "stdout"
        }
      ]
    },
    {
      "cell_type": "code",
      "metadata": {
        "id": "N1JNjhZIQ78a",
        "outputId": "629af255-e8a5-4182-c5af-df6067b6b83d",
        "colab": {
          "base_uri": "https://localhost:8080/"
        }
      },
      "source": [
        "#POSITIVE TWEETS in %\n",
        "ptweets = df[df.Analysis == 'Positive']\n",
        "ptweets = ptweets['Tweets']\n",
        "\n",
        "positive = round ( (ptweets.shape[0]/df.shape[0]) * 100, 1)\n",
        "positive"
      ],
      "execution_count": 11,
      "outputs": [
        {
          "output_type": "execute_result",
          "data": {
            "text/plain": [
              "35.0"
            ]
          },
          "metadata": {
            "tags": []
          },
          "execution_count": 11
        }
      ]
    },
    {
      "cell_type": "code",
      "metadata": {
        "id": "LwO7XeziRr-B",
        "outputId": "e3496c4a-0455-46c0-ceba-f6b6197ab04a",
        "colab": {
          "base_uri": "https://localhost:8080/"
        }
      },
      "source": [
        "#NEGATIVE TWEETS in %\n",
        "ntweets = df[df.Analysis == 'Negative']\n",
        "ntweets = ntweets['Tweets']\n",
        "\n",
        "negative = round ( (ntweets.shape[0]/df.shape[0]) * 100, 1)\n",
        "negative"
      ],
      "execution_count": 12,
      "outputs": [
        {
          "output_type": "execute_result",
          "data": {
            "text/plain": [
              "16.0"
            ]
          },
          "metadata": {
            "tags": []
          },
          "execution_count": 12
        }
      ]
    },
    {
      "cell_type": "code",
      "metadata": {
        "id": "NX4o2CGRqv7k",
        "outputId": "95c31f15-dfd1-4266-e796-9c4869e7ac04",
        "colab": {
          "base_uri": "https://localhost:8080/"
        }
      },
      "source": [
        "#NEUTRAL TWEETS in %\n",
        "100 - positive - negative"
      ],
      "execution_count": 13,
      "outputs": [
        {
          "output_type": "execute_result",
          "data": {
            "text/plain": [
              "49.0"
            ]
          },
          "metadata": {
            "tags": []
          },
          "execution_count": 13
        }
      ]
    },
    {
      "cell_type": "code",
      "metadata": {
        "id": "K_kNCZsyR3cg",
        "outputId": "8e9a190a-eb5b-4ef5-d449-7e6ecc3a2724",
        "colab": {
          "base_uri": "https://localhost:8080/",
          "height": 374
        }
      },
      "source": [
        "#BAR GRAPH - POSITIVE, NEGATIVE, NEUTRAL\n",
        "df['Analysis'].value_counts()\n",
        "\n",
        "#plot and visualise the counts\n",
        "plt.title('Sentiment Analysis')\n",
        "plt.xlabel('Sentiment')\n",
        "plt.ylabel('Counts')\n",
        "df['Analysis'].value_counts().plot(kind='bar')\n",
        "plt.show()"
      ],
      "execution_count": 34,
      "outputs": [
        {
          "output_type": "display_data",
          "data": {
            "image/png": "[encoded data removed]",
            "text/plain": [
              "<Figure size 432x288 with 1 Axes>"
            ]
          },
          "metadata": {
            "tags": []
          }
        }
      ]
    },
    {
      "cell_type": "code",
      "metadata": {
        "id": "tAcuvzzPQF9v",
        "outputId": "d1f0dfce-a205-49e0-b4ea-70df4021a8d2",
        "colab": {
          "base_uri": "https://localhost:8080/",
          "height": 441
        }
      },
      "source": [
        "#SCATTER PLOT - POLARITY AND SUBJECTIVITY\n",
        "plt.figure(figsize = (8,6))\n",
        "for i in range (0,df.shape[0]):\n",
        "  plt.scatter(df['Polarity'][i], df['Subjectivity'][i], color='Blue') #(x,y axis)\n",
        "\n",
        "plt.title('Sentiment Analysis')\n",
        "plt.xlabel('Polarity')\n",
        "plt.ylabel('Subjectivity')\n",
        "plt.show()"
      ],
      "execution_count": 15,
      "outputs": [
        {
          "output_type": "display_data",
          "data": {
            "image/png": "[encoded data removed]",
            "text/plain": [
              "<Figure size 576x432 with 1 Axes>"
            ]
          },
          "metadata": {
            "tags": []
          }
        }
      ]
    },
    {
      "cell_type": "markdown",
      "metadata": {
        "id": "mwX5ActTf9wr"
      },
      "source": [
        "# ATTEMPTS TO MEASURE THE ABOVE SENTIMENT ACCURACY\n",
        "While the above program provides the sentiment result classifications, which are then further calculated into percentages, how can we determine that the program is accurate? We can observe that some of the tweets do not belong into their respective categories, for eg. a positive tweet determined in the program would be better suited to be classified as negative if it was a sarcastic tweet. How then can we identify its accuracy?\n",
        "\n",
        "This part of the project aims to code another program that will use the same dataset as the program above, which will then be compared and cross-checked with the accuracy of percentages and classification of tweets. \n",
        "\n",
        "Extensive research has been done to determine the best possible method to conduct the analysis. The following methods are chosen due to their relevance to this project:\n",
        "\n",
        "\n",
        "1.   RandomForestClassifier Algorithm\n",
        "2.   LSTM and RNN\n",
        "3.   SVM with Python's Scikit-Learn\n",
        "\n",
        "\n",
        "\n",
        "\n",
        "\n",
        "\n",
        "\n"
      ]
    },
    {
      "cell_type": "markdown",
      "metadata": {
        "id": "M8m3dI1tEQiN"
      },
      "source": [
        "# ATTEMPT 1: Training model by RandomForestClassifier Algorithm\n",
        "\n",
        "Random forests is a supervised learning algorithm and considered as the most flexible and easy to use algorithm. It can be used for both classification and regression. A forest is comprised of trees and the more trees it has, the more robust a forest is. Hence, random forests creates decision trees based on randomly selected data samples, gets prediction from each tree, and selects the best solution by means of voting. It also provides a good indicator of the feature importance. Such applications include recommendation search engines that are heavily used.\n",
        "\n",
        "The field of sentiment analysis involves some form of the data mining process to extract the text, later carried out in  the machine  learning to be built. As such using the Random Forest approach would be ideal, owing to its ability to act upon non-normalised data."
      ]
    },
    {
      "cell_type": "code",
      "metadata": {
        "id": "KyGMA6dCxe-i"
      },
      "source": [
        "# Link: https://stackabuse.com/python-for-nlp-sentiment-analysis-with-scikit-learn/\n",
        "# Resource: https://www.datacamp.com/community/tutorials/random-forests-classifier-python"
      ],
      "execution_count": 16,
      "outputs": []
    },
    {
      "cell_type": "markdown",
      "metadata": {
        "id": "SfkkKaTU38RS"
      },
      "source": [
        "# IMPORTING LIBRARIES AND DATA CLEANING\n",
        "Tweets may contain many slang words and punctuation marks, and we need to clean the tweets first before they can be used to train the machine learning model.\n",
        "\n",
        "To do, we will use regular expresions for text manipulation, already installed in Python's package. "
      ]
    },
    {
      "cell_type": "code",
      "metadata": {
        "id": "98saclPJEZ3U"
      },
      "source": [
        "# import matplotlib.pyplot as plt \n",
        "# import nltk\n",
        "# from nltk.corpus import stopwords\n",
        "# from sklearn.feature_extraction.text import TfidfVectorizer\n",
        "# from sklearn.model_selection import train_test_split\n",
        "# from sklearn.ensemble import RandomForestClassifier\n",
        "# from sklearn.metrics import classification_report, confusion_matrix, accuracy_score\n",
        "\n",
        "# processed_features = []\n",
        "# features = df['Tweets']\n",
        "\n",
        "\n",
        "# for sentence in range(0, len(features)):\n",
        "#     # Remove all the special characters\n",
        "#     processed_feature = re.sub(r'\\W', ' ', str(features[sentence]))\n",
        "\n",
        "     # remove all single characters\n",
        "#     processed_feature= re.sub(r'\\s+[a-zA-Z]\\s+', ' ', processed_feature)\n",
        "\n",
        "#     # Remove single characters from the start\n",
        "#     processed_feature = re.sub(r'\\^[a-zA-Z]\\s+', ' ', processed_feature) \n",
        "\n",
        "#     # Substituting multiple spaces with single space\n",
        "#     processed_feature = re.sub(r'\\s+', ' ', processed_feature, flags=re.I)\n",
        "\n",
        "#     # Removing prefixed 'b'\n",
        "#     processed_feature = re.sub(r'^b\\s+', '', processed_feature)\n",
        "\n",
        "#     # Converting to Lowercase\n",
        "#     processed_feature = processed_feature.lower()\n",
        "\n",
        "#     processed_features.append(processed_feature)\n",
        "\n",
        "# processed_features"
      ],
      "execution_count": 17,
      "outputs": []
    },
    {
      "cell_type": "markdown",
      "metadata": {
        "id": "fDBy8tVQ44GN"
      },
      "source": [
        "Next, we will use the Python's Scikit-Learn library which contains the 'TfidVectorizer' class that can be used to convert text features into TF-IDF feature vectors.\n",
        "\n",
        "A TF-IDF (Term-Frequency and Inverse Document Frequency) algorithm is one of 3 ways that can make statistical algorithms work with text (since mathematics only work with numbers). The tweets and data will be converted into numeric form through this algorithm. \n",
        "\n",
        "*The other two methods are Bag of Words, and Word2Vec.\n",
        "\n",
        "NOTE: I would really like to make this algorithm work because it seems to be most promising and relatable. Unfortunately, I came across problems with TfidVectorizer and after multiple searches, I really don't understand the solutions. I can't progress ever since."
      ]
    },
    {
      "cell_type": "code",
      "metadata": {
        "id": "prvDBmYnLnKq"
      },
      "source": [
        "# from nltk.corpus import stopwords\n",
        "# from sklearn.feature_extraction.text import TfidfVectorizer\n",
        "\n",
        "# vectorizer = TfidfVectorizer (max_features=2500, min_df=7, max_df=0.8, stop_words=stopwords.words('english'))\n",
        "# processed_features = vectorizer.fit_transform(processed_features).toarray()\n",
        "\n",
        "# #max_features = most frequently occuring words to create a bag of words feature vector\n",
        "# #max_df = specifies to only using words that occur in a maximum of 80% of the docs\n",
        "# #min_df = similar, include words that occur in at least 7 docs"
      ],
      "execution_count": 18,
      "outputs": []
    },
    {
      "cell_type": "markdown",
      "metadata": {
        "id": "7GSuy78z5rzr"
      },
      "source": [
        "Here, we will be dividing our data into training and testing sets. The training set will be used to train the algorithm while the test set will be used to evaluate the performance of the machine learning model.\n",
        "\n",
        "We use the train_test_split class from the sklearn.model_selection module to divide our data into training and testing set.\n",
        "\n",
        "Test size is set to a value of 0.2, which means that our data set will be split into two sets of 80% and 20% data. We will use the 80% dataset for training and 20% dataset for testing."
      ]
    },
    {
      "cell_type": "code",
      "metadata": {
        "id": "ieDjC9BJNJwO"
      },
      "source": [
        "# from sklearn.model_selection import train_test_split\n",
        "\n",
        "# X_train, X_test, y_train, y_test = train_test_split(processed_features, df, test_size=0.2, random_state=0)"
      ],
      "execution_count": 19,
      "outputs": []
    },
    {
      "cell_type": "markdown",
      "metadata": {
        "id": "BU1BAGDO6QBf"
      },
      "source": [
        "# TRAINING THE MODEL\n",
        "\n",
        "Once the data above is split into training and test set, we can now use RandomForest to learn from the training data. \n",
        "\n",
        "The sklearn.ensemble module contains the RandomForestClassifier class that can be used to train the machine learning model. We need to call the fit method on the RandomForestClassifier class and pass it our training features and labels, as parameters. "
      ]
    },
    {
      "cell_type": "code",
      "metadata": {
        "id": "wJco-l21Ng87"
      },
      "source": [
        "# from sklearn.ensemble import RandomForestClassifier\n",
        "# from sklearn.preprocessing import StandardScaler\n",
        "\n",
        "# text_classifier = RandomForestClassifier(n_estimators=200, random_state=0)\n",
        "# text_classifier.fit(X_train, y_train)"
      ],
      "execution_count": 20,
      "outputs": []
    },
    {
      "cell_type": "markdown",
      "metadata": {
        "id": "wp4YlFhs7XRQ"
      },
      "source": [
        "Once the model has been trained, the last step is to make predictions on the model by calling the predict method on the object of the RandomForestClassifier class that we used for training."
      ]
    },
    {
      "cell_type": "code",
      "metadata": {
        "id": "gCreftKpNiFA"
      },
      "source": [
        "# predictions = text_classifier.predict(X_test)"
      ],
      "execution_count": 21,
      "outputs": []
    },
    {
      "cell_type": "code",
      "metadata": {
        "id": "2KHey9XtNkuk"
      },
      "source": [
        "# from sklearn.metrics import classification_report, confusion_matrix, accuracy_score\n",
        "\n",
        "# print(confusion_matrix(y_test,predictions))\n",
        "# print(classification_report(y_test,predictions))\n",
        "# print(accuracy_score(y_test, predictions))"
      ],
      "execution_count": 22,
      "outputs": []
    },
    {
      "cell_type": "markdown",
      "metadata": {
        "id": "o6vZxzBmF-_N"
      },
      "source": [
        "The following picture illustrates an example of how the results are portrayed if the program runs smoothly.\n",
        "\n",
        "![ideal RFC score.JPG](data:image/jpeg;base64,/9j/4AAQSkZJRgABAQEAeAB4AAD/4RD4RXhpZgAATU0AKgAAAAgABAE7AAIAAAAPAAAISodpAAQAAAABAAAIWpydAAEAAAAeAAAQ0uocAAcAAAgMAAAAPgAAAAAc6gAAAAgAAAAAAAAAAAAAAAAAAAAAAAAAAAAAAAAAAAAAAAAAAAAAAAAAAAAAAAAAAAAAAAAAAAAAAAAAAAAAAAAAAAAAAAAAAAAAAAAAAAAAAAAAAAAAAAAAAAAAAAAAAAAAAAAAAAAAAAAAAAAAAAAAAAAAAAAAAAAAAAAAAAAAAAAAAAAAAAAAAAAAAAAAAAAAAAAAAAAAAAAAAAAAAAAAAAAAAAAAAAAAAAAAAAAAAAAAAAAAAAAAAAAAAAAAAAAAAAAAAAAAAAAAAAAAAAAAAAAAAAAAAAAAAAAAAAAAAAAAAAAAAAAAAAAAAAAAAAAAAAAAAAAAAAAAAAAAAAAAAAAAAAAAAAAAAAAAAAAAAAAAAAAAAAAAAAAAAAAAAAAAAAAAAAAAAAAAAAAAAAAAAAAAAAAAAAAAAAAAAAAAAAAAAAAAAAAAAAAAAAAAAAAAAAAAAAAAAAAAAAAAAAAAAAAAAAAAAAAAAAAAAAAAAAAAAAAAAAAAAAAAAAAAAAAAAAAAAAAAAAAAAAAAAAAAAAAAAAAAAAAAAAAAAAAAAAAAAAAAAAAAAAAAAAAAAAAAAAAAAAAAAAAAAAAAAAAAAAAAAAAAAAAAAAAAAAAAAAAAAAAAAAAAAAAAAAAAAAAAAAAAAAAAAAAAAAAAAAAAAAAAAAAAAAAAAAAAAAAAAAAAAAAAAAAAAAAAAAAAAAAAAAAAAAAAAAAAAAAAAAAAAAAAAAAAAAAAAAAAAAAAAAAAAAAAAAAAAAAAAAAAAAAAAAAAAAAAAAAAAAAAAAAAAAAAAAAAAAAAAAAAAAAAAAAAAAAAAAAAAAAAAAAAAAAAAAAAAAAAAAAAAAAAAAAAAAAAAAAAAAAAAAAAAAAAAAAAAAAAAAAAAAAAAAAAAAAAAAAAAAAAAAAAAAAAAAAAAAAAAAAAAAAAAAAAAAAAAAAAAAAAAAAAAAAAAAAAAAAAAAAAAAAAAAAAAAAAAAAAAAAAAAAAAAAAAAAAAAAAAAAAAAAAAAAAAAAAAAAAAAAAAAAAAAAAAAAAAAAAAAAAAAAAAAAAAAAAAAAAAAAAAAAAAAAAAAAAAAAAAAAAAAAAAAAAAAAAAAAAAAAAAAAAAAAAAAAAAAAAAAAAAAAAAAAAAAAAAAAAAAAAAAAAAAAAAAAAAAAAAAAAAAAAAAAAAAAAAAAAAAAAAAAAAAAAAAAAAAAAAAAAAAAAAAAAAAAAAAAAAAAAAAAAAAAAAAAAAAAAAAAAAAAAAAAAAAAAAAAAAAAAAAAAAAAAAAAAAAAAAAAAAAAAAAAAAAAAAAAAAAAAAAAAAAAAAAAAAAAAAAAAAAAAAAAAAAAAAAAAAAAAAAAAAAAAAAAAAAAAAAAAAAAAAAAAAAAAAAAAAAAAAAAAAAAAAAAAAAAAAAAAAAAAAAAAAAAAAAAAAAAAAAAAAAAAAAAAAAAAAAAAAAAAAAAAAAAAAAAAAAAAAAAAAAAAAAAAAAAAAAAAAAAAAAAAAAAAAAAAAAAAAAAAAAAAAAAAAAAAAAAAAAAAAAAAAAAAAAAAAAAAAAAAAAAAAAAAAAAAAAAAAAAAAAAAAAAAAAAAAAAAAAAAAAAAAAAAAAAAAAAAAAAAAAAAAAAAAAAAAAAAAAAAAAAAAAAAAAAAAAAAAAAAAAAAAAAAAAAAAAAAAAAAAAAAAAAAAAAAAAAAAAAAAAAAAAAAAAAAAAAAAAAAAAAAAAAAAAAAAAAAAAAAAAAAAAAAAAAAAAAAAAAAAAAAAAAAAAAAAAAAAAAAAAAAAAAAAAAAAAAAAAAAAAAAAAAAAAAAAAAAAAAAAAAAAAAAAAAAAAAAAAAAAAAAAAAAAAAAAAAAAAAAAAAAAAAAAAAAAAAAAAAAAAAAAAAAAAAAAAAAAAAAAAAAAAAAAAAAAAAAAAAAAAAAAAAAAAAAAAAAAAAAAAAAAAAAAAAAAAAAAAAAAAAAAAAAAAAAAAAAAAAAAAAAAAAAAAAAAAAAAAAAAAAAAAAAAAAAAAAAAAAAAAAAAAAAAAAAAAAAAAAAAAAAAAAAAAAAAAAAAAAAAAAAAAAAAAAAAAAAAAAAAAAAAAAAAAAAAAAAAAAAAAAAAAAAAAAAAAAAAAAAAAAAAAAAAAAAAAAAAAAAAAAAAAAAAAAAAAAAAAAAAAAAAAAAAAAAAAAAAAAAAAAAAAAAAAAAAAAAAAAAAAAAAAAAAAAAAAAAAAAAAAAAAAAAAAAAAAAAAAAAAAAAAAAAAAAAAAAAAAAAAAAAAAAAAAAAAAAAAAAAAAAAAAAAAAAAAAAAAAAAAAAAAAAAAAAAAAAAAAAAAAAAAAAAAAAAAAAAAAAAAAAAAAAAAAAAAAAAAAAAAAAAAAAAAAAAAAAAAAAAAAAAAAAAAAAAAAAAAAAAAAAAAAAAAAAAAAAAAAAAAAAAAAAAAAAAAAAAAAAAAAAAAAAAAAAAAAAAAAAAAAAAAAAAAAAAAAAAAAAAAAAAAAAAAAAAAAAAAAAAAAAAAAAAAAAAAAAAAAAAAAAAAAAAAAAAAAAAAAAAAAAAAAAAAAAAAAAAAAAAAAAAAAAAAAAAAAAAAAAAAAAAAAAAAAAAAAAAAAAAAAAAAAAAAAAAAAAAAAAAAAAAAAAAAAAAAAAAAAAAAAAAAAAAAAAAAAAAAAAAAAAAAAAAAAAAAAAAAAAAAAAAAAAAAAAAAAAAAAAAAAAAAAAAAAAAAAAAAAAAAAAAAAAAAAAAAAAAAAAAAAAAAAAAAAAAAERoYW5pZSBTdXlhbnRvAAAABZADAAIAAAAUAAAQqJAEAAIAAAAUAAAQvJKRAAIAAAADMTcAAJKSAAIAAAADMTcAAOocAAcAAAgMAAAInAAAAAAc6gAAAAgAAAAAAAAAAAAAAAAAAAAAAAAAAAAAAAAAAAAAAAAAAAAAAAAAAAAAAAAAAAAAAAAAAAAAAAAAAAAAAAAAAAAAAAAAAAAAAAAAAAAAAAAAAAAAAAAAAAAAAAAAAAAAAAAAAAAAAAAAAAAAAAAAAAAAAAAAAAAAAAAAAAAAAAAAAAAAAAAAAAAAAAAAAAAAAAAAAAAAAAAAAAAAAAAAAAAAAAAAAAAAAAAAAAAAAAAAAAAAAAAAAAAAAAAAAAAAAAAAAAAAAAAAAAAAAAAAAAAAAAAAAAAAAAAAAAAAAAAAAAAAAAAAAAAAAAAAAAAAAAAAAAAAAAAAAAAAAAAAAAAAAAAAAAAAAAAAAAAAAAAAAAAAAAAAAAAAAAAAAAAAAAAAAAAAAAAAAAAAAAAAAAAAAAAAAAAAAAAAAAAAAAAAAAAAAAAAAAAAAAAAAAAAAAAAAAAAAAAAAAAAAAAAAAAAAAAAAAAAAAAAAAAAAAAAAAAAAAAAAAAAAAAAAAAAAAAAAAAAAAAAAAAAAAAAAAAAAAAAAAAAAAAAAAAAAAAAAAAAAAAAAAAAAAAAAAAAAAAAAAAAAAAAAAAAAAAAAAAAAAAAAAAAAAAAAAAAAAAAAAAAAAAAAAAAAAAAAAAAAAAAAAAAAAAAAAAAAAAAAAAAAAAAAAAAAAAAAAAAAAAAAAAAAAAAAAAAAAAAAAAAAAAAAAAAAAAAAAAAAAAAAAAAAAAAAAAAAAAAAAAAAAAAAAAAAAAAAAAAAAAAAAAAAAAAAAAAAAAAAAAAAAAAAAAAAAAAAAAAAAAAAAAAAAAAAAAAAAAAAAAAAAAAAAAAAAAAAAAAAAAAAAAAAAAAAAAAAAAAAAAAAAAAAAAAAAAAAAAAAAAAAAAAAAAAAAAAAAAAAAAAAAAAAAAAAAAAAAAAAAAAAAAAAAAAAAAAAAAAAAAAAAAAAAAAAAAAAAAAAAAAAAAAAAAAAAAAAAAAAAAAAAAAAAAAAAAAAAAAAAAAAAAAAAAAAAAAAAAAAAAAAAAAAAAAAAAAAAAAAAAAAAAAAAAAAAAAAAAAAAAAAAAAAAAAAAAAAAAAAAAAAAAAAAAAAAAAAAAAAAAAAAAAAAAAAAAAAAAAAAAAAAAAAAAAAAAAAAAAAAAAAAAAAAAAAAAAAAAAAAAAAAAAAAAAAAAAAAAAAAAAAAAAAAAAAAAAAAAAAAAAAAAAAAAAAAAAAAAAAAAAAAAAAAAAAAAAAAAAAAAAAAAAAAAAAAAAAAAAAAAAAAAAAAAAAAAAAAAAAAAAAAAAAAAAAAAAAAAAAAAAAAAAAAAAAAAAAAAAAAAAAAAAAAAAAAAAAAAAAAAAAAAAAAAAAAAAAAAAAAAAAAAAAAAAAAAAAAAAAAAAAAAAAAAAAAAAAAAAAAAAAAAAAAAAAAAAAAAAAAAAAAAAAAAAAAAAAAAAAAAAAAAAAAAAAAAAAAAAAAAAAAAAAAAAAAAAAAAAAAAAAAAAAAAAAAAAAAAAAAAAAAAAAAAAAAAAAAAAAAAAAAAAAAAAAAAAAAAAAAAAAAAAAAAAAAAAAAAAAAAAAAAAAAAAAAAAAAAAAAAAAAAAAAAAAAAAAAAAAAAAAAAAAAAAAAAAAAAAAAAAAAAAAAAAAAAAAAAAAAAAAAAAAAAAAAAAAAAAAAAAAAAAAAAAAAAAAAAAAAAAAAAAAAAAAAAAAAAAAAAAAAAAAAAAAAAAAAAAAAAAAAAAAAAAAAAAAAAAAAAAAAAAAAAAAAAAAAAAAAAAAAAAAAAAAAAAAAAAAAAAAAAAAAAAAAAAAAAAAAAAAAAAAAAAAAAAAAAAAAAAAAAAAAAAAAAAAAAAAAAAAAAAAAAAAAAAAAAAAAAAAAAAAAAAAAAAAAAAAAAAAAAAAAAAAAAAAAAAAAAAAAAAAAAAAAAAAAAAAAAAAAAAAAAAAAAAAAAAAAAAAAAAAAAAAAAAAAAAAAAAAAAAAAAAAAAAAAAAAAAAAAAAAAAAAAAAAAAAAAAAAAAAAAAAAAAAAAAAAAAAAAAAAAAAAAAAAAAAAAAAAAAAAAAAAAAAAAAAAAAAAAAAAAAAAAAAAAAAAAAAAAAAAAAAAAAAAAAAAAAAAAAAAAAAAAAAAAAAAAAAAAAAAAAAAAAAAAAAAAAAAAAAAAAAAAAAAAAAAAAAAAAAAAAAAAAAAAAAAAAAAAAAAAAAAAAAAAAAAAAAAAAAAAAAAAAAAAAAAAAAAAAAAAAAAAAAAAAAAAAAAAAAAAAAAAAAAAAAAAAAAAAAAAAAAAAAAAAAAAAAAAAAAAAAAAAAAAAAAAAAAAAAAAAAAAAAAAAAAAAAAAAAAAAAAAAAAAAAAAAAAAAAAAAAAAAAAAAAAAAAAAAAAAAAAAAAAAAAAAAAAAAAAAAAAAAAAAAAAAAAAAAAAAAAAAAAAAAAAAAAAAAAAAAAAAAAAAAAAAAAAAAAAAAAAAAAAAAAAAAAAAAAAAAAAAAAAAAAAAAAAAAAAAAAAAAAAAAAAAAAAAAAAAAAAAAAAAAAAAAAAAAAAAAAAAAAAAAAAAAAAAAAAAAAAAAAAAAAAAAAAAAAAAAAAAAAAAAAAAAAAAAAAAAAAAAAAAAAAAAAAAAAAAAAAAAAAAAAAAAAAAAAAAAAAAAAAAAAAAAAAAAAAAAAAAAAAAAAAAAAAAAAAAAAAAAAAAAAAAAAAAAAAAAAAAAAAAAAAAAAAAAAAAAAAAAAAAAAAAAAAAAAAAAAAAAAAAAAADIwMjA6MTE6MDggMTI6MjM6MzYAMjAyMDoxMTowOCAxMjoyMzozNgAAAEQAaABhAG4AaQBlACAAUwB1AHkAYQBuAHQAbwAAAP/hCyFodHRwOi8vbnMuYWRvYmUuY29tL3hhcC8xLjAvADw/eHBhY2tldCBiZWdpbj0n77u/JyBpZD0nVzVNME1wQ2VoaUh6cmVTek5UY3prYzlkJz8+DQo8eDp4bXBtZXRhIHhtbG5zOng9ImFkb2JlOm5zOm1ldGEvIj48cmRmOlJERiB4bWxuczpyZGY9Imh0dHA6Ly93d3cudzMub3JnLzE5OTkvMDIvMjItcmRmLXN5bnRheC1ucyMiPjxyZGY6RGVzY3JpcHRpb24gcmRmOmFib3V0PSJ1dWlkOmZhZjViZGQ1LWJhM2QtMTFkYS1hZDMxLWQzM2Q3NTE4MmYxYiIgeG1sbnM6ZGM9Imh0dHA6Ly9wdXJsLm9yZy9kYy9lbGVtZW50cy8xLjEvIi8+PHJkZjpEZXNjcmlwdGlvbiByZGY6YWJvdXQ9InV1aWQ6ZmFmNWJkZDUtYmEzZC0xMWRhLWFkMzEtZDMzZDc1MTgyZjFiIiB4bWxuczp4bXA9Imh0dHA6Ly9ucy5hZG9iZS5jb20veGFwLzEuMC8iPjx4bXA6Q3JlYXRlRGF0ZT4yMDIwLTExLTA4VDEyOjIzOjM2LjE3MjwveG1wOkNyZWF0ZURhdGU+PC9yZGY6RGVzY3JpcHRpb24+PHJkZjpEZXNjcmlwdGlvbiByZGY6YWJvdXQ9InV1aWQ6ZmFmNWJkZDUtYmEzZC0xMWRhLWFkMzEtZDMzZDc1MTgyZjFiIiB4bWxuczpkYz0iaHR0cDovL3B1cmwub3JnL2RjL2VsZW1lbnRzLzEuMS8iPjxkYzpjcmVhdG9yPjxyZGY6U2VxIHhtbG5zOnJkZj0iaHR0cDovL3d3dy53My5vcmcvMTk5OS8wMi8yMi1yZGYtc3ludGF4LW5zIyI+PHJkZjpsaT5EaGFuaWUgU3V5YW50bzwvcmRmOmxpPjwvcmRmOlNlcT4NCgkJCTwvZGM6Y3JlYXRvcj48L3JkZjpEZXNjcmlwdGlvbj48L3JkZjpSREY+PC94OnhtcG1ldGE+DQogICAgICAgICAgICAgICAgICAgICAgICAgICAgICAgICAgICAgICAgICAgICAgICAgICAgICAgICAgICAgICAgICAgICAgICAgICAgICAgICAgICAgICAgICAgICAgICAgICAgCiAgICAgICAgICAgICAgICAgICAgICAgICAgICAgICAgICAgICAgICAgICAgICAgICAgICAgICAgICAgICAgICAgICAgICAgICAgICAgICAgICAgICAgICAgICAgICAgICAgICAKICAgICAgICAgICAgICAgICAgICAgICAgICAgICAgICAgICAgICAgICAgICAgICAgICAgICAgICAgICAgICAgICAgICAgICAgICAgICAgICAgICAgICAgICAgICAgICAgICAgIAogICAgICAgICAgICAgICAgICAgICAgICAgICAgICAgICAgICAgICAgICAgICAgICAgICAgICAgICAgICAgICAgICAgICAgICAgICAgICAgICAgICAgICAgICAgICAgICAgICAgCiAgICAgICAgICAgICAgICAgICAgICAgICAgICAgICAgICAgICAgICAgICAgICAgICAgICAgICAgICAgICAgICAgICAgICAgICAgICAgICAgICAgICAgICAgICAgICAgICAgICAKICAgICAgICAgICAgICAgICAgICAgICAgICAgICAgICAgICAgICAgICAgICAgICAgICAgICAgICAgICAgICAgICAgICAgICAgICAgICAgICAgICAgICAgICAgICAgICAgICAgIAogICAgICAgICAgICAgICAgICAgICAgICAgICAgICAgICAgICAgICAgICAgICAgICAgICAgICAgICAgICAgICAgICAgICAgICAgICAgICAgICAgICAgICAgICAgICAgICAgICAgCiAgICAgICAgICAgICAgICAgICAgICAgICAgICAgICAgICAgICAgICAgICAgICAgICAgICAgICAgICAgICAgICAgICAgICAgICAgICAgICAgICAgICAgICAgICAgICAgICAgICAKICAgICAgICAgICAgICAgICAgICAgICAgICAgICAgICAgICAgICAgICAgICAgICAgICAgICAgICAgICAgICAgICAgICAgICAgICAgICAgICAgICAgICAgICAgICAgICAgICAgIAogICAgICAgICAgICAgICAgICAgICAgICAgICAgICAgICAgICAgICAgICAgICAgICAgICAgICAgICAgICAgICAgICAgICAgICAgICAgICAgICAgICAgICAgICAgICAgICAgICAgCiAgICAgICAgICAgICAgICAgICAgICAgICAgICAgICAgICAgICAgICAgICAgICAgICAgICAgICAgICAgICAgICAgICAgICAgICAgICAgICAgICAgICAgICAgICAgICAgICAgICAKICAgICAgICAgICAgICAgICAgICAgICAgICAgICAgICAgICAgICAgICAgICAgICAgICAgICAgICAgICAgICAgICAgICAgICAgICAgICAgICAgICAgICAgICAgICAgICAgICAgIAogICAgICAgICAgICAgICAgICAgICAgICAgICAgICAgICAgICAgICAgICAgICAgICAgICAgICAgICAgICAgICAgICAgICAgICAgICAgICAgICAgICAgICAgICAgICAgICAgICAgCiAgICAgICAgICAgICAgICAgICAgICAgICAgICAgICAgICAgICAgICAgICAgICAgICAgICAgICAgICAgICAgICAgICAgICAgICAgICAgICAgICAgICAgICAgICAgICAgICAgICAKICAgICAgICAgICAgICAgICAgICAgICAgICAgICAgICAgICAgICAgICAgICAgICAgICAgICAgICAgICAgICAgICAgICAgICAgICAgICAgICAgICAgICAgICAgICAgICAgICAgIAogICAgICAgICAgICAgICAgICAgICAgICAgICAgICAgICAgICAgICAgICAgICAgICAgICAgICAgICAgICAgICAgICAgICAgICAgICAgICAgICAgICAgICAgICAgICAgICAgICAgCiAgICAgICAgICAgICAgICAgICAgICAgICAgICAgICAgICAgICAgICAgICAgICAgICAgICAgICAgICAgICAgICAgICAgICAgICAgICAgICAgICAgICAgICAgICAgICAgICAgICAKICAgICAgICAgICAgICAgICAgICAgICAgICAgICAgICAgICAgICAgICAgICAgICAgICAgICAgICAgICAgICAgICAgICAgICAgICAgICAgICAgICAgICAgICAgICAgICAgICAgIAogICAgICAgICAgICAgICAgICAgICAgICAgICAgICAgICAgICAgICAgICAgICAgICAgICAgICAgICAgICAgICAgICAgICAgICAgICAgICAgICAgICAgICAgICAgICAgICAgICAgCiAgICAgICAgICAgICAgICAgICAgICAgICAgICAgICAgICAgICAgICAgICAgICAgICAgICAgICAgICAgICAgICAgICAgICAgICAgICAgICAgICAgICAgICAgICAgICAgICAgICAKICAgICAgICAgICAgICAgICAgICAgICAgICAgIDw/eHBhY2tldCBlbmQ9J3cnPz7/2wBDAAcFBQYFBAcGBQYIBwcIChELCgkJChUPEAwRGBUaGRgVGBcbHichGx0lHRcYIi4iJSgpKywrGiAvMy8qMicqKyr/2wBDAQcICAoJChQLCxQqHBgcKioqKioqKioqKioqKioqKioqKioqKioqKioqKioqKioqKioqKioqKioqKioqKioqKir/wAARCAFLA/oDASIAAhEBAxEB/8QAHwAAAQUBAQEBAQEAAAAAAAAAAAECAwQFBgcICQoL/8QAtRAAAgEDAwIEAwUFBAQAAAF9AQIDAAQRBRIhMUEGE1FhByJxFDKBkaEII0KxwRVS0fAkM2JyggkKFhcYGRolJicoKSo0NTY3ODk6Q0RFRkdISUpTVFVWV1hZWmNkZWZnaGlqc3R1dnd4eXqDhIWGh4iJipKTlJWWl5iZmqKjpKWmp6ipqrKztLW2t7i5usLDxMXGx8jJytLT1NXW19jZ2uHi4+Tl5ufo6erx8vP09fb3+Pn6/8QAHwEAAwEBAQEBAQEBAQAAAAAAAAECAwQFBgcICQoL/8QAtREAAgECBAQDBAcFBAQAAQJ3AAECAxEEBSExBhJBUQdhcRMiMoEIFEKRobHBCSMzUvAVYnLRChYkNOEl8RcYGRomJygpKjU2Nzg5OkNERUZHSElKU1RVVldYWVpjZGVmZ2hpanN0dXZ3eHl6goOEhYaHiImKkpOUlZaXmJmaoqOkpaanqKmqsrO0tba3uLm6wsPExcbHyMnK0tPU1dbX2Nna4uPk5ebn6Onq8vP09fb3+Pn6/9oADAMBAAIRAxEAPwDx+iitjWrCx062sUgS4a4uLWK4eR5lKfMDlQoUH8d1bdLkGPRWxe2NjaeHdPudlw93eo77vOURptkK427cngf3qWHQUl8PXepfb4jJbojm2jG4gM+0bm6Ke+OT64oAxqK1dI02x1O4t7Vrq8S7nkCBIrRZFGTwdxkB9zxxTl03Slvp4J9Xfalx5MTQ2u8yDP3yCwAX6En2osxGRRWsPD1z/wAJJLo7OgeB2Es38CIvJc+2Oah1zTBo2tT2Cz/aBFtxJs27sqG6ZOOtLdXH1sZ9FFPhiM88cQZELsFDOwVRnuSeg96YhlFa+raGunQ6dJb3i3gvkLKUjKgENtwM8kZ7kD6Vcn8KKq6hDa3zT3umxeZcxiDEYx94LJk5I9wM4OKBnOUVsnQUHhubVBfxSSQtGGgiUttD9Mt0zxyBnHc5yBjUdbAFFFFABRVnT7CfU9Qhs7UAyytgZOAB3J9gMk/Stl/C8S+KY9JTUDJDJB54uVg6r5Zf7pb0HrR5gc7RVq5Swjlj+xz3NxH/AMtPNhWE/QYZ/wA6u6vYWUGl6Ze2C3EYvFkLRzyrJt2tt4IVf5UAZFFFFABRRRQAUUUUAFFFFABRRRQAUUUUAFFFFABRRRQAUUUUAFFFFABRRRQAUUUUAFFFFABRRRQAUUUUAFFFFABRRRQAUUUUAFFFFABRRRQAUUUUAFFFFABRRRQAUUUUAFFFFABRRRQAUUUUAFFFFABRRRQAUUUUAFFFFABRRRQAUUUUAFFFFABRRRQAUUUUAFFFFABRRRQAUUUUAFFFFABRRRQAUUUUAFFFFABRRRQAUUUUAFFFFABRRRQAUUUUAFFFFABRRRQAUUUUAFFFFABRRRQAUUUUAFbvin/WaV/2C7f+RrCqzNqV9cWiWs97cS28eNkLysUXAwMKTgUdA6mprP8AyLPh7/rjN/6OaptHbT4fDep21xq1rDNfJEERo5jsKvk7iIyOnpmsX+0r77B9h+23H2T/AJ9/Nby+ufu5x15qtR1YGzo15baVa6hd+eDfmMwWqKp43cNJnHGFyB35qbw2dKtllvr68t1vYj/osFxHIY9399iitnHZe561gUUCN9NXtbVdRhvA+oTXzhpb20nMRdfvFPniJwW5PAzgdqj8WX9hqWvS3OmCQowXdI75D4RRwNoIxjHOc1iUUhhTo1DyqrOsYYgF2zhfc4BP5Cm0UxHTardWS6Xo32PU7a4n01CGjWOUbyZNw2lkAxj1xWhf+JbMPqN3Z3qmK7hdYdPjhZCkkgw7yHG1iOecsTkAYFcTRRv+P4gtHf8ArQ6SxbT08JXtjLq9qlxdSRSqpjmOzbnIJEeM89sj3rm6KKOtw6BRRRQM1dH1W1062vI7i0mle6QR+bDOI2RP4gMo3XgH2+taOr6nZXmt2c+jXsunvHbRo11JK+FIjA2jZHuB6gkZB9hXM0UXEb3iDVIr3T7C2a7Oo3dvv82+YN8wJyqAsAzAc8sO/HFJq/8AyKfh/wD3Lj/0ZWGjtG6ujFWU5DA4IPrVi81G91Bla/vLi6KDCmeVn2/TJoGVqKKKACiiigAooooAKKKKACiiigAooooAKKKKACiiigAooooAKKKKACiiigAooooAKKKKACiiigAooooAKKKKACiiigAooooAKKKKACiiigAooooAKKKKACiiigAooooAKKKKACiiigAooooAKKKKACiiigAooooAKKKKACiiigAooooAKKKKACiiigAooooAKKKKACiiigAooooAKKKKACiiigAooooAKKKKACiiigAooooAKKKKACiiigAooooAKKKKACiiigAooooAKKKKACiiigAooooAKKKKANvUIbS18M6U8dlEbi8jkaS4Z33ArIQMDdt6DHSsSui1a0uZPB+hXMdvK8EUMoklVCVQmZsZPQVztD3fqwN3w7pVvq8qwy6fqEo8wLLdW8qiOBT3YFD05PLCq1nDpK3LwXgvLtzcCOM2rrGpTON2SGJJ4wuB9aTSpNNtZobu7uLxZ4ZBIIoIVw2DkfvC4K/Xace9aena5pkd9qGp3S3EGpXEzPbvFAsqW4Y5JALrlueD2609Lk62GS+H7TT5dZe8kmuoNNmWEJbsEZyxIBZiGCgYweDzxWfrumJpl1B5Hm+RdW6XEQmGHVW7H1IIPPGaks7y3tNUmni1jVLdWH/HxBCBLJnlgw80Y59zmotd1dtZ1BZiJFjjjWKISSb22juzdySSSfep6IrqzNp0YQyqJmZY8jcyrkgd8DIz+YptSQeUbiP7SXEO4eYYwCwXPOM8ZxTW4jXu9O06bw/LqmmC6hWG6EBS5kV/MBBIIIUYIxyOevWpZdGtW8Oz6iLO/wBPMYjML3UodLnccEJ8inOOcjPANLr2p6XfWscGmz3cNtbjFvZtaqqD1ZnEhJY+uPyqGDUNO0zTr6Kwlu7qW9hELCaFYkQZBLYDtuPGB0xkml3H2JtHsdG1GOdri2v4YrS3Ms84u0IBAwAF8rqzEADP8q56tRtSgi8Mrp1qsgmnn827kYABgvCKMHkcknOOay6b3F0CiiigZd0nTX1XUY7ZHWJSC0srfdiQDLMfYCtqfw/pg8XQafFdTR2c0CTI0zqHcsm4JuwFBJ4BPTPesnTdYbTbW6t/sdtcx3QVZPO3g4BzgFGU4z1HfArbfxXYNr9vex2LW6JZ/ZzLCSJUJj2blyxHy846H1NP+vz/AOAL+vyM/WtLtNMtbOZYbi2uZGbzbC8kDuqgjDEqFIB54IB4yKTWre0Gi6Re2tnHaSXSymVYncqdr4H32Yjj3o1LUoLvSLHSrI3N2YJGZZriMK/zYHlqoLccZ68k9Kn8QWtxZ+G9AgvIJIJVSfdHKhVh+89DS/z/AEGc7RRRQAUUUUAFFFFABRRRQAUUUUAFFFFABRRRQAUUUUAFFFFABRRRQAUUUUAFFFFABRRRQAUUUUAFFFFABRRRQAUUUUAFFFFABRRRQAUUUUAFFFFABRRRQAUUUUAFFFFABRRRQAUUUUAFFFFABRRRQAUUUUAFFFFABRRRQAUUUUAFFFFABRRRQAUUUUAFFFFABRRRQAUUUUAFFFFABRRRQAUUUUAFFFFABRRRQAUUUUAFFFFABRRRQAUUUUAFFFFABRRRQAUUUUAFFFFABRRRQAUUUUAFFFFABRRRQAUVv6m62/hTRkhgt1+0xStLJ9nQyMRKQPnxuHAxwawKOtgCiuh8PWWl3tnfpcwSzXcdlNOGZ9qRlQNuAOWP147YPWmeGNKtbu5F3qylrJJUhEYYqZpXOAoI9BljjsPenbWwr6XMGitef7Fp+uajB/Zq3YWd4reN5XCphyOQpDMcDA+YfjR4nsLfTdca3tUMQ8uN3hJJ8l2UFkyeTgmp6Jj62MiiiimAUUV1Ov6bBHHdPoumWEtjEI/9Lt7tpZEyBksolOOcjlaBdbHLUV21poWmtpdvO9gJLRrBpp5y8ouVkA5KIDgqCVw20rjOWriaHo7B0uFFFXtNmgjLRvpi6hcSsqxK8jhR7bUIJJ4xz+BoSuBRorpbvw/af8JjeWUMpi060PmXEmd3koACy57kE7R74pNX0WC48U29lo8AtYbiCKXazlhEGQMzEk5wBkn6UdhnN0V0Pia002yGlz6LEVilhLbpCWMpVyoYg8c7c4xjmm66Vm0DRLswW8c06TeY0ECRb8PgZCgDpQBgUV0F24uvA8NzLBbLOt+YhJFbpGxQRg4JUDPPrXP0dbC6BRRRQMKKKKACiiigAooooAKKKKACiiigAooooAKKKKACiiigAooooAKKKKACiiigAooooAKKKKACiiigAooooAKKKKACiiigAooooAKKKKACiiigAooooAKKKKACiiigAooooAKKKKACiiigAooooAKKKKACiiigAooooAKKKKACiiigAooooAKKKKACiiigAooooAKKKKACiiigAooooAKKKKACiiigAooooAKKKKACiiigAooooAKKKKACiiigAooooAKKKKACiiigAooooAKKKKACiiigDf1NFuPCmjPDPbt9milWWP7QgkUmUkfJnceDngVgUUUdbgbOiaxZaTHcGaxuLiW4ge3dlulRQjDsNh598/hRZ+JLiwkt47aONrK3m82KC4hildckE/vCmQTjqMdvSsaii+txW0sdFa+KIY9du9UutNWSeXd5BhdIjb5JO4fIQzc/eIz3rGvprae4MlpFcRhuX+0TiVmbPJyFX+VVqKQwooopgFa6ava2djdQaVZSwyXcflSy3FwJSEzkhQEXGSBknNZFFAHRweKYobi1vvsDHUbW2FvHILjERAUqGMe3Odp6BgM9q5yiih6u4grY0HWrbRvtDvZSy3Mi7IriKcRvAD125Rhk9M9R2xWPRQBqJrb2PnxaSnlW1xtMsV2sVzuIzg5aMDv6VcvfGF9cXYntora3/wBGW3dfs0T71AAOcp0O0cdB0Fc/RQM2NT16bWbKxs2t7aL7OuwusUabiWJzkKNg56Zx3qfXQsOgaJaGe3kmgSbzFgnSXZl8jJUkdKwKKAOgu0Fr4HhtpZ7Zp2vzKI4rhJGCGMDJCk459a5+iijrcXQKKKKBhRRRQAUUUUAFFFFABRRRQAUUUUAFFFFABRRRQAUUUUAFFFFABRRRQAUUUUAFFFFABRRRQAUUUUAFFFFABRRRQAUUUUAFFFFABRRRQAUUUUAFFFFABRRRQAUUUUAFFFFABRRRQAUUUUAFFFFABRRRQAUUUUAFFFFABRRRQAUUUUAFFFFABRRRQAUUUUAFFFFABRRRQAUUUUAFFFFABRRRQAUUUUAFFFFABRRRQAUUUUAFFFFABRRRQAUUUUAFFFFABRRRQAUUUUAFFFFABRRRQAUUUUAFFFFABRRRQAUUUUAFFFFABRRRQAUUUUAFFFFAGroujxapFfTXF59kis4hK7eUXyNwGAARzz/+rrV238Kpeanp0NrfE2uoQySxXEkO0qUDblZQx7r1BPXNQ+HtTtNOsdXW8WORri2CRQyB9sjbwcEqQRwM9RUcXiW7h1K2u4YbeNbWJooLdVPlxqwIPfJJ3E5JJzQ/6/H/AIAl1v8A1t/wSWHw9b6hNaQ6PqaXMlxO0DJLH5bLgZ3hcklMZ5wDxjGak1PwpNZaf9rg+2FBOICt5Zm2Yk/dZcscg4PoRxxWNY3s+m30V3aNsmhbcpIyPxHpU13qMVzhoNNtLKQPv8y3aXP0wzkAfQU9A1J9W0uy0qWW0N/LPfQkLIiW4EQb+IBy+Tjn+HtVmdX/AOEHia31CWS1F6Fe1ktlTbKY8lg4YkjHHOPpVPUdZ/tTfJc6faC6kwZLqMOrse5K7tmT3+XvUp15Tox00aVYiEv5m4Gbd5m3bv8A9ZjOO2Me1Lox9SWDw8kmgJqckt3IrhywtLQTLDt/56NvGw9+nTmn6EHOj6uLPUJYJfsjPPD9mVkljDAY3lsg5bsPxqpp2uHStklnYWq3SKwW6JlLjIIzjft6H+7il03XBplrNCmm2cxnjMUskpl3OhIOPlcAdB0APFD627C7Ba6TbnRxqWpXclvA8xhiWGESu7AZY4LKABkd+/Sr7eFI7c6m99qPlwWKxOJI4C5mSTlSASMHpwfXrxWdBrZis3s5rG1ubUzGaOGXzMRMRg7SrBsYxwSegp0/iK9uYdRjmETDUDH5mFxsEZ+VVAOAB078CgCLWNMXS7mFI5zPFPbpcRuU2NtYZwRk4P4ms+reoajNqLW5nVF+zwJAuwEZVehOT1qpQMKKKKACuil8NWUH2WO41lIri7tBcxq8OEXKbgruW4yeAQD+Fc7VzUdTm1N7dp1jU29uluuwEZVRgE5PWjoLqbeneC7i9s7OR2ulkvVLRGGzaWJB0UySAjbk+gOByaoRaJFFpsl7q121tGJ2t0SGESu7r97gsoAGRzn8KjXXC9nb299p9nei2UpFJN5isq5ztyjrkA5xnPWm2usvb6e1jPaW15a+Z5qRzhx5bYwSrKynkY4zjgUPfQFtqO0zSE1O4uBCb6WOL7otbIzSMCeCVDAKOOfm6kYzyRfhtLrw144t7KC8lU+dCrPHuiLoxVtrDtwRkVQtNba1tbq0NjazWtxKspgk8zajDOMFXDd+5NSP4ilm1v8AtS5sbOadRHsUh1RCgABAVh6Djp7U07NMHqmR6tcz2fivUJ7SaSCZbuXbJE5Vh8xHBFWvGpLeML0sSSRGST3/AHa1SudVju9Ua9m0y0JkLNJEGlCOxJJY/PkHnsQPajWdYbWrv7TNZ29vM333g3/PgADIZiOAO2KlaJIb1ZnUq43DcSFzyQM4pKKYjsby4tdN8I6aum6pqNstws7nyoBH9obdt/eYl4HGP4uPyqlbGzuPBGqGPT4Y5bZrcCc/PIzMx3Hceg46DH49axrnUZrrT7OzkVBHZhxGVBydzbjnn1q7a6+LTS5bBdKsZIp9nnFzNukK5wTiQY6npgUPZ/11Ap2mmT3kJkhktVUHBE13FEfydgfxq7oug/2ta3M/mTsYGVfItLcTytnPzbNy/KPXnrWNVyxvorMHzNPtrp9wZXmeUFfpsdaasDuWrLR4rn7fPNdSW9lY48yRocykkkKoj3dSR/ewPWiz0m1vprqSG8lSxtIfNlmkgAk6gABA5BJJA+8KUeJLxr2+nuo4Lpb85uIJUOxsdOhBBHYg5qK31lrS6ne3srVLe4i8qa0O9o3X8WLA5AOQwIIpLzH1NC18LR319paWd+WtdSMipNJBtaNkHIZdxHpyG71X/sK3ufs8elanHdXEtyLZopE8s5I4deSSnXkgHpxzSReJrq3v7K4tre2hSx3eRboreWC33icsWJOepPYVmW91NaXkd1bP5c0Th0YDoQcihWvqLobuq+EpNP025vI2u9lrIqSfarJoA4JwGQkncM+uDyK5ytC/1OK/8xv7Ls7aWR97SwGUHPfguVH5Vn0hhRRRTA29J8PjUtLkvTJdP5cvlmGytftEi8Z3Mu5dq9geeQaqjSlbw/NqiTkrHdLbiMpgsCpbdnPHTp+tJpuqpprxyLp1rPPFIJEmlaUMpHI4VwOCPSprfxDcRR3Ud1b217Hczi4dLhWwJBn5htK+p46e1Dt0/rb/AIIkXj4VhiudSW61LyodPgimeQQFi4cDgDd1+bHXB74oh8KR3F3CI9R22c9k92lxJAQQEzuVlBOCCD0JqS28TRTw63carFbyT3kEMccGx1jkKMo/hII4Geo/pTdI8RxjU5ZtRWGK3TT5ba3t0V/LGV4Tg7uSTkk5560/6/P/AIAL+vw/4JFD4WS++xTabfGS1uGkWSWeHyzD5Y3NlQzZ+XkYP5VB/YVvc2cV3pt7JNCbpbaXzrcRtGW+62AzAjr3B496aniW7gntWs4be2htSxS2jUmNt3D7txJbI45PTpio5Ndk8qGG0tLazginFwYoQ5EjjoWLMTx6ZA5NCtcHexb1HQLDT5L2H+2VkubKQLJH5O0ON207CWyzDgkYA68nGam1+z0eHTNLe3muEley3LizRfNO9xlyJODxj+LgD6VhX97JqOo3F5OFWS4kaRggwASc8Zq1JrLT6XDZ3VlbTG3jMcM7bxIikk44YA4JOMg1P2R6c2hm0UUUwCiiigAooooAKKKKACiiigAooooAKKKKACiiigAooooAKKKKACiiigAooooAKKKKACiiigAooooAKKKKACiiigAooooAKKKKACiiigAooooAKKKKACiiigAooooAKKKKACiiigAooooAKKKKACiiigAooooAKKKKACiiigAooooAKKKKACiiigAooooAKKKKACiiigAooooAKKKKACiiigAooooAKKKKACiiigAooooAKKKKACiiigAooooAKKKKACiiigAooooAKKKKACiiigAooooAKKKKACiiigAooooAKKKKACiiigAooooAKKKKACiiigAooooAKKKKACiiigAooooAKKKKACiiigAooooAKKKKACiiigAooooAKKKKACiiigAooooAKKKKACiiigAooooAKKKKACiiigAooooAKKKKACiiigAooooAKKKKACiiigAooooAKKKKACiiigAooooAKKKKACiiigAooooAKKKKACiiigAooooAKKKKACiiigAooooAKKKKACiiigAooooAKKKKACipJoJbaUx3ETxSAAlHUqQCMjg+1Ty6Zdw6XBqMkWLWd2SOTcPmI6jGcigCpRRRQAUUUUAFFFFABRRRQAUUUUAFFWotMv57N7uCyuJLaPO+ZImKLjrlgMCqtABRVy00jUr+Iy2On3VzGG2l4YGcA+mQOvNIuk6i961mlhdNdIMtAIWLqPUrjPcUCKlFPmhlt5nhuI3ilQ4ZHUqyn0IPSmUDCiiigAooooAKKKs2mm32ob/sFlcXXl43+TEz7c9M4HHQ0AVqKKmtbS5vZxDZ28txKRkRxIWY/gKBENFWPsF4L77EbWf7Vnb5Hlnfn029abdWd1YzeTe201tLjOyaMo2PXBoGQ0UUUAFFFFABRRRQAUVNa2V1fTeTY201zLjdshjLtj1wKZNDLbzPDcRvFKhwyOpVlPoQelADKKdHG80qxxIzu5CqqjJYnoAKs3OlahZyxR3dhcwSTHEaSwspc+wI56igRUoq5d6RqVhEJb7T7q2jJ2h5oGQE+mSKp0DCiiigAooooAKKKUAkgAZJ6AUCEoqaWzuoLv7LNbTR3GQvkvGQ+T0G3rzmpp9I1K1liiutPuoZJjtiSSBlMh9FBHPUdPWgZToq9caHq1nA093pl5BEv3pJbd1UfUkVG+mX8Vkt5LZXCWrY2ztEwQ56YbGKAKtFFFABRRRQAUUUUAFFFFABRRRQAUUUUAFFFFABRRRQAUUUUAFFFFABRRRQAUUUUAFFFFABRRRQAUUUUAFFFFABRRRQAUUUUAFFFFABRRRQAUUUUAFFFFABRRRQAUUUUAFFFFABRRRQAUUUUAFFFFABRRRQAUUUUAFFFFABRRRQAUUUUAFFFFABRRRQAUUUUAFb+n29hD4RudSubBLu4S8SGMSSOqgFCTkKRnp6j+hwKkFxMLY24lkELMHMW47S2MZx0z70dBdTsZdA0uC+1mcpCsNolu0UVy8pjTzVBJJjBcgdB9Rk1WtdL0W+1x/sRhngi09p5I/MkjgWYDG3e+1gmcHJPfGa52PVL+G7N1FfXKXBXaZlmYOR0xnOccD8q0NM8S3Npfz3V89zeSzQGETfaCs0Yz1SQhsH8O5p6AaE+nWF9qekWGnWVmLqRS12ltduyA5Jx5hZhjaMnbk9RyaTU7HTrfw/aatb2tlKxumhZYGuBDKu3PPmEPkH+6cVS1XxNPfrZrAbmNrMsyXE9yZZyxP/AD0wuAMDAArNu9Tv79QL6+ubkA5AmmZ+fXk0ugG742uom1qSJdPt43aKFhcK0m4jy19XK47dO1VNQgtJPCtlfwWUVtO9zJC5idyGCqpBwzHnk9MVmyapfy2a2kt9cvbJjbA0zFFx0wucVLLr2sTwNDPqt9JE42tG9y5Vh6EE0PqC6G7Fo+mywQa19nUaalkzzweY3NwvybM5yMsyt16E0tnpmjWuj6Xc6kbUre72medrjcoDbdsflgrkAZ+bPJ6YrlxdXAtDaieUW7NvMIc7C3rjpn3qe01fUtPiMdhqF1bIx3FYZmQE+uAaYEF0sKXkyWshkgWRhG5GCy54OPpUVKzM7lnYszHJJOSTSVK2GFFFFMAooooAKKKKAPRbIwQ6t4Wlj86ctaxrDFH8sUYwfOdm7n72VHpyex4ee0e5ur2bTreWW1hdmLxxkrGmTgnHQY9aji1K+hs3tIb24jtpM74UlYI2euVzg0yG8ubeGWK3uJYo5htlRHKiQejAdfxoerv6/iJaL7jQ8N2EV7qvmXgJsrRDcXPui84/E4H41bTX49QXVotVM8balKkgltkDspU8IVJXK4PrxgdawkuZ4oZYY5pEimx5iKxCvjkZHfFSWeoXunszWF3Pas4wxhlZCw98GgDZ8ZCJNSs4YzKZYbGKObzgA4YA8MB0O0rx26Vz1KzFmLMSSTkk96SkMKKKKYBRRRQAV2Vr5EfhLRJx58pS8kxa23ymW43DbucfdwuMdSc8Y6jjas2mpX1gHFjeXFsJMbxDKybseuDz1NNOwjX8T2zX/jbUYtKt3uGaUkxwIWO4Ab+B/tZqrpGoW1rY6jY3vnxJeIi+dAgZ0KtnG0lcg9+R0FZ9td3FlOJrO4lt5QCBJE5VgPqKdaX95YStLY3c9tIwwzwyFCR6EiktFYZ0muW9w+paRp2kG7a++wLBIr/JJgliFYA/L8h5BPC4yeKz/EN1bi20/SrWZbr+zo3SS5X7ruzbiFPdR0B781lwX95a3TXNtdTw3DZzLHIVY568jnmn3mq6hqCKt/f3N0qnKiaZnAPtk0PUCpRRRQAUUUUAFFFFAHUaGlu/gvVTNLLGi3ELXIhXLvFzhR2A3Y5PA9+hb4wP2zU9MWC2dbl7GJXgyXcMSdqk9S20r71z9re3VjN51jczW0uNu+GQo2PTIpDdXBu/tRnk+0b/ADPO3nfuzndnrnPejdiWiNrwrb3lt4wgi2G3uIRIXSWIlgAjFhtyDkjOBkVfurq3g8O6bfaTFJHYW+pszW07ZdpBhgQ/TbtAGABg9d3WuXa8uXvPtb3ErXO4P5xcl9w6Hd1z71JcapqF3PHPdX1zNLEcxySTMzJzngk8c0X0QGvqNvZarpF7r1tHcWkv2vDxzSrIkpfLEIQqkEdwc8Y5rnqs3mo3uoMrX95cXRQYUzys+36ZNVqQwooopgFFFFABU9ne3FhP51nKYZdpUOoG5QRg4PY+45qCprW7ubKcTWdxLbygYEkTlWH4igR2l0Lhviyn2R1SUKjZdC4wIAT8oIJOM9x9azdWa2m8GxyaQklvYrqDB4LjLOZCpwQ3TG3AxjIPUt1rDuNY1O7eJ7rUbuZoW3RmSdmKH1GTwaZeaje6gytf3lxdFBhTNKz7fpk8UPVWGbV1s0fw9ZadICsuoMt3eeoiz+7T8st+IrprtraDxFr6z+dP5llIZJD8sMUO0eUqj+I5288DPQHrXnVxcT3czTXU0k0rYy8jFmOOOpqWTUr6WzSzlvbh7ZMbYGlYouOmFzgUPVff/kJaP+vUrUUUUDCiiigAooooAKKKKACiiigAooooAKKKKACiiigAooooAKKKKACiiigAooooAKKKKACiiigAooooAKKKKACiiigAooooAKKKKACiiigAooooAKKKKACiiigAooooAKKKKACiiigAooooAKKKKACiiigAooooAKKKKACiiigAooooAKKKKACiiigAooooAKKKKACiui0ExQeGdcvGtbeeeDyPKaeESbCzEEgHj8+K14LCwn16F5LaITS6MlxHFFArCScgZKxZCscZO3gEjpTt/XyuI4aiu6t7axbxPosN7pssMj+akpvNPS1SfIOzEYJXIJxkY7d6y59PuNF8I29xdWMcF6b9sfaIFZ9nl9GVgeMgkAj3pdL/ANbh1sYF7ZXGn3Rt7yPy5VCsV3A8EAjkexFQV1vjRtQnuTcCzQ6dLFCyXSWaAN+7X/lqFz1yMZ9qXxPe2ena1e6cmk2f2drdVXy4lR1kKKRIGwSMH+EYB/EmjuNa2ORrRtNIa80y5vIbu3zap5kkB3hwuQM/d29SO9dho+hp9it47u2Sa2msGmLrpyGPJViP9ILb94OOAPbGOaxvDWl6hPousyQ2NzIk9nsiZIWIkYSLkKccng9PSh6Nrt/wf8hLozl6Kc6NHIySKUdSQysMEH0NNoGFFFFABRRRQAUUUUAaVt4e1O7tUuILYMkgZo1MqB5QvLFEJ3Nj2BrNr0WxKNdeH9UtLX7RHDbxJPdyt+5s1jH7wEDo/U5b1GATzXGnTrnVpNSv9Ot91rbs0shLKPLQkkcE89O2aJaP7xLVFay0y61DzDaxqUiAMkkkixomeBlmIAz2yeakttHvbu4nht0jc24zLJ56CNB0yZCdv681uaQDceDHt7TTBqlwl/vkt/3hKqUAVtqEMeQwznAz7itJLHTkTXdLsIZLoxzQTiyt5ctKADujDckhGbnAJwPxDat/XoBxd9YXOnXRt72IxSABsZBBB5BBHBB9RVeuj8Y3Aln06CSKKK5trNY54ouFiO5iI8eqggevrzXOVIwooopgFFFFABWhYaHf6nD5tpCpj8wRB5JkjDOeiqWI3N7DJrPrtNNiF94W0o2Fi2o3dncSI0Gf3cLO24SSAckYHHReDk9i0riOOlikgmeKZGjkRirIwwVI6gipbSylvZGSFoFKjJM06RD83IB+lbes20vibxxepoaLctI5K7XUB9qgMwJIGMgmsrTLS6nvCLbS21Ixgl4QkjD0ydhB/WktdxvyFOh6iNTFh9mP2grvADqVK4zu3Z27cc7s4qK+02607y/tSKFlUtHJHIsiOAcHDKSDg+/FdTfXM0OvwxQ2Ul3Lc6YLe60+3OWgGCNiYBKkBVOCCRznNUPEZtrXQ9N02O2e2uI3kmkhlm8ySINtwHIAAY4zjAwMZ5NDBf19xzdFFFABRRRQAUUUUAW7HTLvUfNNpGpWFQ0kkkixogJwMsxAGT70y9sbnTrtra9iMUq4ypIOQehBHBHuK6Lw4kN54X1G0FvNd3EdxFcfY4Gw06gFccc7QTk45+nUM8UmTUtZ0yxhhiF6ltFbSQwkBUkLHEY5wMbgOTx3NDWtkJao5itC40LUbQ2gu4Fg+2LvhMsqICPUkn5eo64q1ptjb6d4kaDxE0dt9kyzRSAuruPuoSgbgnqcHjNanikNeaDpFzJqMF3cSNOf3SSZlLSfwgoOB0wce2aOiaAwrjQr61sHvXFu9ujhGeG7il2seg+Rie1Z1dB4iP8AZtnZ6DHgG2XzrvB6zuOQf91cD865+jqPoFFFFABRRRQAUUUUAOjjeaVY4kZ3chVVRksT0AFWr3SrrT2VboQh2bb5cc8cjqfRlUkqfrir/g6WKHxZZvcMFX51UltvzFGC89uSOat6jpzW+kwXR0x9I1T7YI4IYzKHmXGdwVyWyGwARwc0xGNqGj3+lRwNqFs1uLhS0YcjJwcHI6g+xxRHpF9LpEuqJbk2ULhHlLAAE44xnJ6jpXQa5pV8vhjQDe21zAkQmFxLLC/7ndLwW4yOufetCdrK78N6vb2Oq2n2C3it4oBsmBUCTJZ/3f3mPPGfyGaT0uBwVFFFAwooooAKKKKACiiigAooooAKKKKACiiigAooooAKKKKACiiigAooooAKKKKACiiigAooooAKKKKACiiigAooooAKKKKACiiigAooooAKKKKACiiigAooooAKKKKACiiigAooooAKKKKACiiigAooooAKKKKACiiigAooooAKKKKACiiigAooooAKKKKACiiigAooooAKKKt6hb2ltcIlhe/bYzGGaTyjHtY9VwfT1oAqUVb1PTpdKv2tLhkaRVViUJIwyhh1A7GiW3tF0uCeO98y6d2Elr5RHlgdDu6HPpQBUooooAKKKKACiiigAooooAKKKKACitq28MXdzFbf6RaxXF4he2tZHYSTKOhHG0ZwQNxGaxmUqxVgQQcEEdKBCUVdsrCG7TMmpWtq5baI5UlLN7jYjD9c1ZuNAa01S7srvUbGA2mPMlZ2KknHCgKWJ55wvGDmgDJoq3qemz6VfG2uSjHarq8ZyrqwyGB9CKqUDCiiigAooooAKKK1LHQpbyzjupru1soZpfJha5Zh5rd8bVPAyMk4HPWi1xGXRU13aT2F5La3cZjmhYo6nsRVnTNJfUxcsLiC2jtYvNkkm3YC5A/hUnqR2oWoyhRWnaaMb/VfsVpfWso8tpDPiQIAqlj1QN0HpVS8torZ1EN7BeBhktCsgC+x3qv6UAV6KKKACiiigAooooAKKv6fpMt/b3FwZoba2tgvmzzltoJOAoCgkk+w7UzU9Mn0q7EFwUfcgkjkjbKSIejKfQ0AU6KmtLSe+u47W0jMs0rbUQdz/T61PdaclvPHDDqFndO77D5LMFQ5xyzqq49wSKBFKitO90OS1sWvILy1vYEm8mR7YsfLbGRncoyDzgjI4rMoGFFFFABRRRQAUUUUAFFFamr+H7zRbezlvTEDdqWWNWJaPGMhuODyOOaBGXRWpdeH7yy0G31a4MSw3DhEj3HzBkEgkYwAQOOaI/D95J4dl1omJLaNgoVmO98sFyox0ycZz60AZdFFFAwooooAKKKKACiiigAooooAKKKKACiiigAooooAKKKKACiiigAooooAKKKKACiiigAooooAKKKKACiiigAooooAKKKKACiiigAooooAKKKKACiiigAooooAKKKKACiiigAooooAKKKKACiiigAooooAKKKKACiiigAooooAKKKKACiiigAooooAKKKKACuu0J75PAt4dMuY7Wc36DzWnSEgbDnDsRg/Q5xntmuRqwt9crpz2Ak/0Z5RKybRy4BAOevQmjoxdUzsbjUreefVTo99BDqrpbj7X5wh80qMS7JDgDLYPUZAPWq8mpBPEWnzRta3l9FZeXeTNdJGGfBGRMSBvCkDcCeR3xXHUUAdHrPmvq1jJZ6tNLeNHkm41FJDbMCcDzwQvPXtjPrUniie5j1Cx1GDUI3nS0hjea3vUeQSBMNnaxb156e9cxRR0t53GdV4tvr3UJPtEWqi406WOIiH7apIbYAcxbsg5z2pdVF1c+DbSO81C2ubi3nkdlbUYpHWMqoUD5yT0PA/KuUoo6MS6HZQ6raHTYdekuV/tS1tGs1iLje0n3Ukx1ICMefVRU+kalBb6Fpv9nyfvImc3cA1SK0Ej7s/vFkX94CuB1xjI4rhqKdwJrx0kvp3jiWFGkYrGjBggz0BHUD1qGiipWiGFFFFMAooooAKKKKAO+stVtRJouo209lbi2gjjvZpZV89BGMGNEJzhh3UEncQSBkVyf2X+1n1G/FzaWojYzeTNLtaTcSdqDHzEf4Vm0UPV3/rUS0RteGmtrS8l1O7kixYxmWKJ2GZZeiADqcHk+mKNDsINZ1Ke41a9ijjTMsoknSOSdic7VLkDJPU9qxaKA6Gr4jnuLrVmnuhbpuRRFHbXCTJGijaq5UkcAf171lUUUhhRRRTAKKKKACuw0y8iuPDmnR2cljDqFlM6GS8lVPJR23eYiscMe3cjAwMkGuPopp2EdBqZi8UeMruS2u7a1imYlJ7uTy0IVQMk44Jxn8ap6LNfwTXCabNaJ5keyUXTwhHXIOP3vB5ArLopLQDp7y6EXiC3k8PyWMV2LUJdOpiS3aTBD7d/wAmCOOOCc4qr4he0a009QLT+0lVxdmyVBHjOUHyfIWxnJX6HpWFRQAUUUUDCiiigAooooA6bw9dWzeH76xkW1e7WeO5t0u5RHHIQCpySQDgHIUkA+/Qs8SXY1nWdPtftkDyQwR20t0WCxb9xJORxtG7GRxgccVzlFG71EtEdBoLwaJ4wEd1cW0saiSHz433RZZCoO4Y+XJ5P1qXUoop9JtoLx9MTVJLvCPaGFUSEgDMjRfL97pnkDNc1RR6gdTrkCadog0zTJ7Se0RxLcXKXkTPcSYwNqBiwUZ4GM9zXLUUUhhRRRTAKKKKACiiigDR0G5sbLVo7nUllaOEF0EaB/3g+6SCy5APOM84xW/qF5odzp2jSX9/eXgSaeSdFhQSOGcE7h5ny57dcj0rj6KLiOy1LUtJ1Pw7M9xqVy8kmoiUxi2RXCiPaAF8w4UDgH2Ax3qSfVNFvtG1dEvrmGHyoIre3e3QMiI+Qqjzfn9WPHUn2riaKQBRRRTGFFFFABRRRQAUUUUAFFFFABRRRQAUUUUAFFFFABRRRQAUUUUAFFFFABRRRQAUUUUAFFFFABRRRQAUUUUAFFFFABRRRQAUUUUAFFFFABRRRQAUUUUAFFFFABRRRQAUUUUAFFFFABRRRQAUUUUAFFFFABRRRQAUUUUAFFFFABRRRQAUUUUAFFFFABRRRQAUUUUAFFFFABRRRQAUUUUAFFFFABRRRQAUUUUAFFFFABRRRQAUUUUAFFFFABRRRQAUUUUAFFFFABRRRQAUUUUAFFFFABRRRQAUUUUAFFFFABRRRQAUUUUAFFFFABRRRQAUUUUAFFFFABRRRQAUUUUAFFFFABRRRQAUUUUAFFFFABRRRQAUUUUAFFFFABRRRQAUUUUAFFFFABRRRQAUUUUAFFFFABRRRQAUUUUAFFFFABRRRQAUUUUAFFFFABRRRQAUUUUAFFFFABRRRQAUUUUAFFFFABRRRQAUUUUAFFFFABRRRQAUUUUAFFFFABRRRQAUUUUAFFFFABRRRQAUUUUAFFa1p4X1e+s47q1tQ0Mil0YzIuVDbWOCwOAep7cE8VY0vRZ4tWube+0yK8kgRle1a+SFgdudw+bLYAzxkUPTcDBoq1Y6ddalM0dnFvKIXdiwVUUdSzEgKPcmpodDv7m+aztIkuZ1jMhW3mSXKjrgqSCfYc0CM+itKXw9qcVzbQG2Ej3RKw+TIkgcg4I3KSOO/PHeo7zR7ywt0uJ0jaB3KCWGZJU3AZ2lkJAOOcGgZRoorRfQNRjs5LkwoUiQPKqzI0kanoWQHcvXuKBGdRWh/Yeo/wBow2P2cG4mjEsa+YuGQru3bs4xgE9afYeHdT1KOKS0gjKzOUi8yeOMykddoZgWx7ZoAzKKfNE0EzxSbdyMVO1gwyPQjg/UUygYUUUUAFFFFABRRRQAUV1mneFbS6msbGT7W93eW4neeJlEVqGHybgRlu2fmXqAMmuXnhe3uJIZOHjco31BwaHo7CI6K0tIhs7u4itJrK7ubmaUJH5N0sY5wACDG355rYh8Pabc6hrSWEV/fw2AQQxwSL5kpLBW5CHIzkjA6CiwHK0VZv4lgvpIktri1CHBhuW3SKcc5O1f5Cq1IYUUUUwCiiigAoorotL0K1lsrCW8ivLmbUJmWKK0dU8uNDhnYspzyenAwCSaEriOdoq9rWmNo2s3Onu4kMD7Q4GNwxkH8iKis3skZvt9vcTg42iCdYsfXKNn9KFqPYrUV1v/AAjemv4ng0uNL3d9kaa4gEys6y7C4jDBMegPHU1g6tarZ3CRDTr2wbbkx3j7mPoR8i4H4GjYChRRRQAUUUUAFFFFABRWxpOlW8+m3F/ercSokqW8NvbEK80rZOMkNjAB7HPFHiXRBoeoxxIZPKnhWZFlILpnIKsRwSCCOKNg3MeipbZrdZwbyKWWLusUgjY/iVb+Vb8uj6W1vo7Rx3ltNqNwB5Uk6yYh3bd/CLgk5x14FFhHN0VueItKi0mZ4Y9M1K2CzMiXF3ICkqgkZUeWvXg9TWHS3GFFFFMAooooAKKKns/sn2kHUPOMABJWDAZjjgZPA574OPQ0CIKK6eLw1Z3txpL20lxDb38UsrQyMJJV8vOQpAUHdjjj86pXWm2T6LDqtml3b25ufs8qzFZSDjduVgFB4zx69+aP6/QDForcudO02fQLjUtMF1CLe5WErdSK/mhgSCNqjBGORz161fvPDem2+n3MyvceTHbCSDUTMhhuZOP3aptznO4Y3EjGSKP6/UDlKKKKBhRRRQAUUUUAFFFFABRRRQAUUUUAFFFFABRRRQAUUUUAFFFFABRRRQAUUUUAFFFFABRRRQAUUUUAFFFFABRRRQAUUUUAFFFFABRRRQAUUUUAFFFFABRRRQAUUUUAFFFFABRRRQAUUUUAFFFFABRRRQAUUUUAFFFFABRRRQAUUUUAFFFFABRRRQAUUUUAdNbeJLOHQYbJo5zJHYXFsSFG3dJIGB69MDmpY9f0l/F1zrUz3qK4ZUiS3RiQ0WzJPmDByc45+tcpRQ9Xr/VxG1p+oafaQ6lp8r3T2V6iATpEqyIVO4HZuIIzwRu6d6NK1Gx0fULqSGS5nils5YUdoVRg7LgZG88e+fwrFooH1NXQtabS9Qhe4M0tqgkQxI/3A67WZQeAe/vin3OoWMGgvpmmtcTia4E8ktxEseNqkBQoZvU5OfTiseijcArr7jxJoy2eoxWFvJEt1beTDCtlDH5PTrICXfp1P5HtyFFG6sHW50UXiOFPDn2donOpRwvaRT4G0QMQTk5zkfMBx0auh0eBjoWhGG0llmQSNDdxWbXC27M55ZvMRVx1wwYDGa88op3FYnvovI1C4iE6XASRl85DlZMH7w9j1qCiipWiG9WFFFFMAooooAKKKKAOrh8U2jwaVJefa/N0xRttYgvkzug/duzZBBHAPDcDjGaw4ZbC4jvptVN2byT5rcwbdhckk78846dKoUUPUDU0TUoNJa6uisjXnktHalQNqM3BcnOcgE44PJqpZpZOz/b7i4gAA2mCBZc/XLrj9arUUCNPXtVXV9QSWJHWKGFIIzI2XdVGAzH+8f8A61ZlFFAwooooAKKKKACuistdtZPDsOk6nJeQxQTF82iK3nxk5KNlhjB5B5HPTgVztFF7CNiTUrHV/Ek9/rq3KW0xJKWhUuvGFALcHAAFV9GubKy1iG6vo5JYYG8xY0AJdhyoOSMDOM1n0ULTYC358d/qUtxqk8qec7SSSRRCRtx56Fl7+9W9W1SC506w06zEzwWIfbNOAHcuQT8oJCgY4GT61k0Uulh9bhRRRTAKKKKACiiigDd0TXUsdKvtOuJbi3juSrpcWyhnjYcEYJHBBIOCPxHFQ6jqVpqOpWask6adaRpbqBjzTGDy3puOScdB0rIoo6i2Lc/9nnVD9mNyLDzBgyBTKE78DAz1qxrGpRatrTTgPBaDbFEgG4xRKAAAM4zgZxnr3rMoo6DNqbU7K28PzaVpz3NwLmZZZJLiMRhNo4CqGbk55bPQAYrFoooAKKKKACiiigAq7pDacmpxPrSzvaKcukAG5/QckYHrzn+dUqKE7CN3U9Stb7VobxdRvVKMAuyzWIWyL90RgSnp6ZHrnNO1TXkv7W2097q/ubZJvNnublt0rnp8qliAAM4G45JzxWBRQM6HXNT0q8s47bTJ7yG1th+4s3tVClu7O4kJLH12+3FXLrxRZSSajcxNeu19aC3+wyIvkxcAAhtxyF5KjaOvUc1yVFAtgooooGFFFFABRRRQAUUUUAFFFFABRRRQAUUUUAFFFFABRRRQAUUUUAFFFFABRRRQAUUUUAFFFFABRRRQAUUUUAFFFFABRRRQAUUUUAFFFFABRRRQAUUUUAFFFFABRRRQAUUUUAFFFFABRRRQAUUUUAFFFFABRRRQAUUUUAFFFFABRRRQAUUUUAFFFFABRRRQBvWXhK7vdNivReWUMcsTzASyMCERtrE4U9OPrnjJ4qvNoDWuoXFpfahZWrwOELSM5DkjIwFUtjHcgCrMHifydHisfsm7y7Oa13+b18xw27GO2MY71cPjUNNdyfZLmA3Nws5a0vfJchU27GYKSy98cdael/67/wCQuhl/8I3erqN7azvBAtiM3FxI/wC7QdjkAk54wACeelMstCk1LUZLPTru1uGSFpvMDMiEKMkZdRg/UAe9XJ/FC3epanNd2O+11IKJYVmKspXG0q+DyCM8g1VsdXttMvrmWytJfKntZLfZLOGZS643bggz9MfjS6D6kn/CL3ck1mlncW13Hdl1SaFmCLs+/u3AEYHOcdOmarXmjtbaeL6C7tr2283ymkgLjY+MgEOqnkZwcY4NM0jU20nUkuliWZQGR42JG9GBVhkdOCeamutWgOknTdNtZLeCSYTSmacSs7AYUZCqABk9u/WjoBl1qjQXksrie3vrOd7aISzQRuxdFyATkrtOMjOGNZVdXeeNhdWl7Clpcot3AIfKa9LQwAY/1ce0AdPf60PYXUyx4bum1K3tFmtyJ7b7Us+5vLEe0sSTjIxgg8dafp3hmfUY7RjeWlqb2RktknZ8ylTgkbVIAzxzili8SSR+G20zyMy7WiS538rEzBmTGPUdc9zXRaVewLoWkQRXEACB/MmF5bwSWxZzuIEqs+cc5QjPGKfUOhw08XkXEkW9ZNjFd6ggNjuMgH8wKjqe9WBL6dbSVpoFkYRysuC654JH0qCpWw3uFFFFMAooooAKKKKAO30/w5ZM+mWlzYq0V3CjXGoSzMhR5BlEjAO0sODghic84HI426gNreTW7HLRSMhPrg4rch8UKsenyXVkZ7zTY/LtZfPxGAPulkwclT6EZwM1mW15aLb3gvrE3dxOv7qczsnktzlsD73Xv6US308/+AJbFjQUW8voNPXTLS7lnkwJJ2lBQd/uOowACenrWxFpmm3lxqt7pWmG7gjnS2srXzH2MSCS7ENuxhSeoxnnpWDpeqDS47wxwb7meEwxyl8eUG+8cY5JHGcjGTUmlayLCxvbG5heezvVXzEjl8tgVOVIbBH4EHNP+v6/rqH9f1/XQs+KdKt9NubSWy2CG7txLsjk8xEfJVgrHkjI4PP1NYVXtW1P+0p4ikIggt4lhgiDbtiD1Pckkknjk1RqRhRRRTAKKKKACuq0rRrddHsbufT4703crNNLcTNFFbQq237ykYYnPJz0AAJrla2rPXYV0mDTtUs3u4LafzoRHP5WCfvK3yncD+BHPPNNWEV/EOmJo/iC7sInZ44X+Rm6lSARn3wateHNHTUVvrqeMTR2Uav5JlESuxOBuckbV6knI6dRVdNXhudel1HW7IX6zFmeBZWiGT0wRyAPT2pmm6olkl3b3Fu09neIFliWTYwwcqQ2Dgg+x71K0Q3qTXka6dqkb6jpECRNFvjgguGMUmc4bfuYkZ64YdMZFSa/ZW1vYaVdQ2y2c95A0ktsrMVUbsK43EkBh6ntTl1+zOoWDT6V51hp8ZSG0ebliTks7bfm+Y5xgDoMdc1NY1G31S6a6WK7FzI26SS4uVl3ewAjXFN7AZtFFFABRRRQAUUUUAdBoWkpcaTc3xsTqE4mS3gtyzKgJBZncqQcAD1AGcmo/FWlW2l39ubEp5F1brOFjk3qhJIIVj94ZBwag0zWRZadeaddQPPZ3m0uscvlurKcghsEfUEGm3urR32qW889oPsduEjS0EhH7pT93d1yect6nND1YltqHh7ShrOtw2blxGwZ38sfMVVSxA9zjA+tXrqwRb6wkn0yzs9PkuhG0tveGZSMjKu4kYAhT229z9KVtq8Vj4gOoafZrDb5YfZWkLjYw2su488gnmnXGrWrabHp1nZSw2f2jz5g9wHkkOMYDbAAMZ7Hr3ovsBb8Q6f5Mcs1lpllHYrcMkd3aXLTZHOA37xgCRg8gGuerVn1eBNJl07S7SS3huJFkneaYSu+37oBCqABknpnPesqkMKKKKYBRRRQAVPZy28FyJLu2+1RgH90ZCgJxxkjnGewxn1FQVd0i7tbDU4rm/shfRRnPkGTYGPbPByPbvQtxHQpoum3N9oZmtxZvfQySSWaSMA5BPlgFySu/AHX6dararo4g0GDUrrR30yRbryZLcM6+YhXcGAkLMp4Iz09utZ+palY6lqH2ua3vnkkfdOZLxGLj0UiIBfyIxxikudVt5YLazt7NodPhl814jNuklY4BLPgDOBgYUY96P6/r8v0Au3VtY3fhabU4tPTTmS7WKDZI7iZSCSDuJyVwORgc9K1b7QtOg0y8mSwAtEs0kt7gNL9p8xuhkQnCqSG5KgEYwTWLreuWOrKvlWFzbGFAlvELtWhhXuAnlgnPrnOamuPFMUk97eQ2Dx399bmCZzcZiAIAYqm0EdOMsQKOjt/Wn9f8EF0uc7RRRQMKKKKACiiigAooooAKKKKACiiigAooooAKKKKACiiigAooooAKKKKACiiigAooooAKKKKACiiigAooooAKKKKACiiigAooooAKKKKACiiigAooooAKKKKACiiigAooooAKKKKACiiigAooooAKKKKACiiigAooooAKKKKACiiigAooooAKKsafai+1K2tDJ5YnlWMvjO3JAzjv1rUTwvdh52uiYII4rh0l2hvMMJwRjPHOBz+tAGHRXVSeBrqOCQFrr7THb+exNmwt+BuKCbPLY9sZ4zVOxVz4O1Q2uoSoqmI3Vq1su18vhcSbieOvQUbC8zBord0vw/Be2dpcXl7JALy6+ywiG3835uMlvmXA+YdMnrxWrLYWNv4NurW5vpkht9YZFkS3DPIwjxwu/A7nO7oPwp2/r7v8w/r+vuONorrdK0SxsfEOp6fqUzTPb20+zFsrqV8skPywww6gevcVl6bocWsalJBps9xJBDAZpHa1/eYHGFjVjuOSAOR17UgMaiukm8HXCXlhGkksUV4sjbry3MLxCPlyyZPGORgnNLfJaR+AoxYTzTx/wBptlpoRGc+UOwZuPxo2V/63sPqc1RRXRt4Tc6PcXqPeKbeATlprFo4ZBxkJITk9eMqM0dLi62OcorfXwyHvLYLdn7FNZm8a68n7iqDuBXPUMNvXqRT9K8MQX8Wmm6v5YH1KV44BFbeaBtOCWO4Y57DPrRbWwdLnO0VJcIkVzJHE7OisQrMoBIz1wCcfmajpDas7BRRRTAKKKKACiiigAorv7HTLS3l0W1uoLJLG8gj81polee5klHRD95QuRyCAMHqeDw15ALW/uIFbcIpWQN64OM0PR2/rQS2IaK2vDbXNzqUOnwC0Ecjl5JJ7SKUogGWOXUnAAJx0q2v2C/1y/1uW1jh0m1bMcCIEWVukceB3bGTjsGoA5qitvxhFFB4rvEt4Y4IxsIjiQKq5jUnAHTk1iUDCiiigAooooAKKK7DTLOKx8O6dfGOxWO4md7u5vYVlwqttWNFIJJPJ+XnpkgDNNK4jj6K1fE9hBpnia9tLMEQRuDGCc7QQDj8M4qtplxcxXSw2UUEss7KirNbRy5JOABvU469qS1G9CnRXY3F7pUHjBIblLFYLO2e3km+yL5cs+0/OUVSMbzgcHgVja7bXSRWl1NJYz286t5M1lAsSkg/MCAinI46jvQBj0UUUAFFFFABRRRQAUV03h6w3eH76/hitXuFnjhEt2FaO3QglnIYEdgBwTzwM1D4utLO3vrOfT/L8u7tEmbyk2IWyQSq/wAIOM496HoJanP0VLbXL2k4liWJmHQSxLIv/fLAj9K6DXbn7JpumW8tvZ/2gcXczpZxJsDfcjIVQDx8xBB6igDmqK6XV4oZ/C8V0hsrueO6KSXNlbiBY1K8Iy7UJJIJB244Iz2rmqOthhRRRQAUUUUAFFFT2d19juRMIIZ2AIVZ03qCRjO3ocdecj2NAiCiuzlg06LVdEXWobW3vWgdrqPy1jjVzkw+YqgBe24YHGM1U1W0x4ag1C9i01rqO98oizMe2RCu7DeUdvUducH6Ubf152A5eiumvytx4RN5qNna21xNdD7CLeBIi0eDv4UAlRwATk571sX9larZaikVnalY7FWXT1gjFzatgfvGkHzMBjJ+Yn5huUUbX/rpcFrY4GiiigYUUUUAFFFFABRRRQAUUUUAFFFFABRRRQAUUUUAFFFFABRRRQAUUUUAFFFFABRRRQAUUUUAFFFFABRRRQAUUUUAFFFFABRRRQAUUUUAFFFFABRRRQAUUUUAFFFFABRRRQAUUUUAFFFFABRRRQAUUUUAFFFFABRRRQAUUUUAFFFFABRRRQA+KVoZkljOGRgyn3HNbd34v1G8jv45EgVL0AMqKQIhnJ2c8Z75zmsGijdWF1uat3rn29M32nWc1yYxGbo+YshwMAkK4UkDHJHbnNLZa8tlps1kNKspY5womaQzbpNpyM4kAHPoBWTRQB2Oka5bW3h21tI9QgtnEkhuI52uk4YjG3yMBhgfxkn8KxdU1WBoZ9N0qLZpn2w3MPmA+YDt24znp+vvWRRRfUDW/wCEjuz4gl1YxwGWZSskRU+WyldpUjOcEe9R2+tNaXsk9pZWsUUsJhlthvaORT1B3MW9DwR0FZtFAGnDrRtNSgvdPsbW0eHOUTzGWQEYIYO7cEEjjHWi91t7vS006OztbW2jl85VgVs7sYOSzEn8c/lxWZRQMOlb1z4subn7axsbJJ76LyridVfe449WIHQdABWDRR0sBpx69eR6C+kr5fkMxO/B3hSQSgOcbSVBxiui07XLFNC0+ya/hihVGW7hma6RiC5yFEOEYEH+Ln1riqKLiJrw27X05sVdLYyMYlkPzBc8A++KhoopDCiiimAUUUUAFFFFAGzb+Jrq3hth9ntpbi0QpbXUisZIVPYYO04ycbgcZ4qlaaj9ktbuE2lrcG6Xb5k8W54uvKHPB561TooEXbHU5tPt7uO3SMNdxeS0pB3KmckLzgZ6Hg0201bUdPjaOwv7q1RjuZYZmQE+uAaqUUAaGs63e67em5v5SxwAqBmKpwB8oJOM4yfes+iigYUUUUAFFFFABWpY67LZ2aWstra3sMUvnQrcqx8pu+NrDg8ZByOOlZdFFxGhbazNDrD6ldQW1/NIWZ1vIt6MT3K8VHpmpy6VqK3tvFE0yA+X5ikhCRjcACOR2zVOigZNb3CxXPmz28d2OcpMz4JPclWB/WrGoarNqEcEJjigtrcEQ28IIVM8k8kkknnJJqjRQAUUUUAFFFFABRRRQBf0/VpbC3uLcww3NtchfNgnDbSQchgVIII9j3ouNXmutWivriKB/KKbLcp+6VF6Jt/u44x3qhRQItz3wn1Q3ptLZAZA5t40Kxcfw4ByB+NLd6lLf6vJqF6kc0ksm942yFP+zwQQMccHpVOigZoXervcWAsoLW3s7XzPNaOAMd74wCS7MeATxnHPSs+iigAooooAKKKKACruk6m+kalFfRW8FxJFyizqWUHscAjkdqpUUbCNG61WK6ulnfS7QPvLyfvJz5pP94tIT78EGi51iS5Nsn2a3itbZt6Wkat5ZPGScks2ccknOOBis6igZsat4gOsu0lzptmk7KFWWNpQUA6BVMhUD2xinT+KLmc3Ev2W0ju7qLyZ7tFbzJFIAPBbaCQOSFFYtFABRRRQAUUUUAFFFFABRRRQAUUUUAFFFFABRRRQAUUUUAFFFFABRRRQAUUUUAFFFFABRRRQAUUUUAFFFFABRRRQAUUUUAFFFFABRRRQAUUUUAFFFFABRRRQAUUUUAFFFFABRRRQAUUUUAFFFFABRRRQAUUUUAFFFFABRRRQAUUUUAFFFFABRRRQAUUUUAFFFFABRRRQAUUUUAFFFFABRRRQAUUUUAFFFFABRRRQAUUUUAFFFFABRRRQAUUUUAFFFFABRRRQAUUUUAFFFFABRRRQAUUUUAFFFFABRRRQAUUUUAFFFFABRRRQAUUUUAFFFFABRRRQAUUUUAFFFFABRRRQAUUUUAFFFFABRRRQAUUUUAFFFFABRRRQAUUUUAFFFFABRRRQAUUUUAFFFFABRRRQAUUUUAFFFFABRRRQAUUUUAFFFFABRRRQAUUUUAFFFFABRRRQAUUUUAFFFFABRRRQAUUUUAFFFFABRRRQAUUUUAFFFFABRRRQAUUUUAFFFFABRRRQAUUUUAFWZtNvra1jubiyuIreTGyWSJlR8jIwSMHil0vyf7Ys/te3yPPTzN3TbuGc/hXb3jQQ3HiyK68+eRoWaeeXKxo+4eUir36jDHsOAByR7X9fwF1PPq0IdA1i4hSaDSb6WJxuV0tnKsPUEDmqps7lbNbtreUWzNsWYodhb03dM+1bPh8f2Zp95rzj57ceRaZ7zOPvf8BXJ/KgDNttF1S8jMlnpt5cIrFS0UDMAR1GQOtJbaRqV7v+x6fdXHlttfyoGbafQ4HBrU0i7tNStbLQr6zupC12WWa2mUMC+0fdKHOMZ6iqsEdnpfiKSC6invxb3GyNrWYR7yrYz91s5x0BH1p21SBvS5Qt7K6vLg29pbTTzDOY4oyzcdeBzUkelahNeSWkNhcyXMYy8KwsXUe64yOors7m3jVfFK3d024XUUl01tFh3jOSVVc8fMQCSSBjv0OX4oj/ALSv9Egtbdo7uazjQws25hliEDE9Ttxk8fhSXT5fih6amFLo2qQTxQz6beRyzEiKN4GDSEdcAjn8KbNpWoW91HbXFhdRTy/6uJ4WVn7cAjJrR8S3UH9pQ6bbZex0xfITaceYc/vHzzyzZ/IVPqpim8GafLZxy29tFdSxrFO3mO7EAlw4AG3gDAUc9zS0tcOtjKuND1a0hMt1pd7BGCAXkt3VQScDkinS6BrMELyz6TfRxoNzO9s4VR6kkcVf1P8A4lHhu00tRtuLwC8u/UDnyk/LLY9WFC/8SbwgXxtu9XJQHutup5/76bj6LTfUXYyl0y/exN6llcNajrOImMY5x97GOtR21pc3khjs7eWdwpYrEhYgDqcDtXotu1pb+K9PdvOnjk05PLA+WGC28v5yx/i5DccAE9zwKvhK3WyNnFYz2kj3qvLdOLuPeqbG2RbS27r8zcenpQ1a/wDX9f0gWqOItNMv79Xaxsri5WP75hiZwv1wOKit7ae8nWC0hknlbO2OJCzHvwBXR6fJFcxadosjXcd5aXTPH/Z4SZZixBzuDgAjH3huwPpWhpWpZ+KEkOnTEWVzflnCYxJjd3HVc5IHToafVf12E3ZNnG29pcXlwILS3lnmOcRxIWY468DmnS6fewXi2k9pPHcuQFheJg7Z6YUjPNbnhs+WmtyzKZLRbUi4iQfO4LgDac/Lg8k8gAdDXQ2cay39ibadoIpNGlWwDoTNCQSGPqzY3EFcZ7AUul/66/5FNWbX9dP8zhJtMv7e7jtZ7G5iuJMbIXhYO2eBhSMmkvNOvdPZVv7O4tS4yoniZN30yK6HVpbNvAunJBDMipeyCBp2+eWPA3tjoo3EcDIGOpOTUV48UngiCTT45rWCHUCAk0nmNI5TO5XAXGMdNvcHNHf+u3+YjEudMv7KFJryxubeKT7jywsqt34JHNVa6W9aTSPDt3ZanK0up6pJHNLE53NAqkkM5P8AG2enUDr1xXNUdRhRRRQAUUUUAFFFFABRRRQAUUUUAFFFFABRRRQAUUUUAFFFFABRRRQAUUUUAFFFFABRRRQAUUUUAFFFFABRRRQAUUUUAFFFFABRRRQAUUUUAFFFFABRRRQAUUUUAFFFFABRRRQAUUUUAFFFFABRRRQAUUUUAFFFFABRRRQAUUUUAFFFFABRRRQAUUUUAFFFFABRRRQAUUUUAFFFFABRRRQAUUUUAFFFFABRRRQAUUUUAFFFFABRRRQAUUUUAFFFFABRRRQAUUUUAFFFFABRRRQAUUUUAFWZ9Svrm1jtrm8uJoIseXFJKzKmBgYBOBxxVaigCY3ly1mto1xKbZW3rCXOwN67emfeka5ne3S3eaRoYyWSMuSqk9SB0FRUUAW4dV1C3tGtbe/uYrd87oUmZUbPXKg45otNV1GwjaOxv7q2RjllhmZAT6kA1UooETWt5c2U/nWVxNby4x5kTlGx9RSrfXa3pvFuphdEkmcSHeSep3dagooGSQXE1rcLPbTSQzKcrJGxVh9CKfd313fzCW+uprmQDaHmkLkD0yagooAkuLia6naa6mkmlb70kjFmPbkmia4muNn2iaSXy0Eab2LbVHRRnoB6VHRQBZGpXy2JslvLgWh624lbyzzn7ucdeaihnmtphLbyvFIucPGxUjIweR7VHRQBZh1K+t7SS1gvLiK3lzvhSVgj5GDlQcHils9Tv9PDiwvrm1D43CCZk3Y9cHmqtFAi5/a+pfbftn9oXX2rbt8/zm349N2c4qKS+u5rwXk11NJcghhO0hLgjod3XjFQUUDLUup3814l3NfXMlzHjZM8zF1x0w2cikudSvryZJry9uJ5Y/uPLKzMvOeCTxVaigRfn17WLmFobnVb6WJxhkkuXZWHuCeaoUUUDCiiigAooooAKKKKACiiigAooooAKKKKACiiigAooooAKKKKACiiigAooooAKKKKACiiigAooooAKKKKACiiigAooooAKKKKACiiigAooooAKKKKACiiigAooooAKKKKACiiigAooooAKKKKACiiigAooooAKKKKACiiigAooooAKKKKACiiigAooooAKKKKACiiigAooooAKKKKACiiigAooooAKKKKACiiigAooooAKKKKACiiigAooooAKKKKACiiigAooooAKKKKACiiigAooooA/9k=)"
      ]
    },
    {
      "cell_type": "markdown",
      "metadata": {
        "id": "Yf8HWjts_y8E"
      },
      "source": [
        "# ATTEMPT 2: Long Short Term Memory (LSTM) and Recurrent Neural Networks (RNN).\n",
        "\n",
        "LSTM is a type of RNN network that can grasp long term dependence, capable of learning order dependence in sequence prediction problems. This behaviour is important in machine learning that requires complex problem domains like machine translation, text classification, speech recognition, and sentiment analysis. \n",
        "\n",
        "RNN was designed in such a way that they can catch the sequential/time series data. However, it suffers from vanishing gradients and exploding gradients - both related to how the network is trained. As such, LSTM was introduced to overcome this problem. (Dwivedi, 2020)\n"
      ]
    },
    {
      "cell_type": "code",
      "metadata": {
        "id": "96vo_klsvtwz"
      },
      "source": [
        "#Reference link: https://analyticsindiamag.com/how-to-implement-lstm-rnn-network-for-sentiment-analysis/"
      ],
      "execution_count": 23,
      "outputs": []
    },
    {
      "cell_type": "markdown",
      "metadata": {
        "id": "2hCzuAYtOP7-"
      },
      "source": [
        "# IMPORTING FILES AND LIBRARIES\n",
        "At this stage is where we initialise importing the required libraries and the csv file that the model should train. \n",
        "\n",
        "The correct procedure for doing this is to first save the tweets extracted in the program above into a csv file, where it will be downloaded back here into this program. We will then be able to compare the accuracy of both such programs.\n",
        "\n",
        "However for the purpose of attempting, we can include any csv file to test the program."
      ]
    },
    {
      "cell_type": "code",
      "metadata": {
        "id": "4_jC2AqDVYXo"
      },
      "source": [
        "# from google.colab import files\n",
        "\n",
        "# df.to_csv('insertcsvfilehere.csv')\n",
        "# files.download('insertcsvfilehere.csv')"
      ],
      "execution_count": 24,
      "outputs": []
    },
    {
      "cell_type": "code",
      "metadata": {
        "id": "hi_jdy3xrafS"
      },
      "source": [
        "# import numpy as np\n",
        "# import pandas as pd\n",
        "# from keras.models import Sequential\n",
        "# from keras.layers import Dense, Embedding, LSTM, SpatialDropout1D\n",
        "# from sklearn.model_selection import train_test_split\n",
        "# from sklearn.feature_extraction.text import CountVectorizer\n",
        "# from keras.preprocessing.text import Tokenizer\n",
        "# from keras.preprocessing.sequence import pad_sequences\n",
        "# from keras.utils.np_utils import to_categorical\n",
        "# import re\n",
        "\n",
        "# from google.colab import files\n",
        "\n",
        "# df.to_csv('insertcsvfilehere.csv')\n",
        "# files.download('insertcsvfilehere.csv')\n",
        "\n",
        "# print(df.columns)"
      ],
      "execution_count": 25,
      "outputs": []
    },
    {
      "cell_type": "markdown",
      "metadata": {
        "id": "hiFMvNbkRo9m"
      },
      "source": [
        "This part will be only using the tweets and their corresponding sentiments. The new_df creats a new datafame that will only hold these two columns. We will also check the different sentiments present."
      ]
    },
    {
      "cell_type": "code",
      "metadata": {
        "id": "N-zhgDIurflb"
      },
      "source": [
        "# new_df = df[['text','sentiment']]\n",
        "\n",
        "# print(data.sentiment)"
      ],
      "execution_count": 26,
      "outputs": []
    },
    {
      "cell_type": "code",
      "metadata": {
        "id": "vmIx56mjR-CX"
      },
      "source": [
        "# new_df = new_df[new_df.sentiment != \"Neutral\"]\n",
        "# new_df['text'] = new_df['text'].str.lower()\n",
        "# new_df['text'] = new_df['text'].re.sub('[^a-zA-z0-9\\s]')"
      ],
      "execution_count": 27,
      "outputs": []
    },
    {
      "cell_type": "markdown",
      "metadata": {
        "id": "15Tm2J7CSHe9"
      },
      "source": [
        "This part defines the vocabulary size that is to be used and use the tokenizer to convert them into vectors. The X variable is used to store them. Then we will define the LSTM model architecture from embed_dim onwards.\n",
        "\n",
        "My progress came to a halt when it came to vocabSize. Tried to resolve the issue but the deeper I searched into it, the deeper I got confused. \n",
        "\n",
        "\"NameError: name 'vocabsize' is not defined\". "
      ]
    },
    {
      "cell_type": "code",
      "metadata": {
        "id": "wYg-lCJiSD8F"
      },
      "source": [
        "# tokenizer = Tokenizer(num_words=1500, split=' ')\n",
        "# tokenizer.fit_on_texts(data['text'].values)\n",
        "# X = tokenizer.texts_to_sequences(new_df['text'])\n",
        "# X = pad_sequences(X)\n",
        "\n",
        "# embed_dim = 128\n",
        "# lstm_out = 196\n",
        "# model = Sequential()\n",
        "# model.add(Embedding(vocabSize, embed_dim,input_length = 28)) \n",
        "\n",
        "# model.add(LSTM(lstm_out, dropout=0.2, recurrent_dropout=0.2))\n",
        "# model.add(Dense(2,activation='softmax'))\n",
        "# model.compile(loss = 'binary_crossentropy', optimizer='adam',metrics = ['accuracy'])"
      ],
      "execution_count": 28,
      "outputs": []
    },
    {
      "cell_type": "markdown",
      "metadata": {
        "id": "YPoY48TdTXfD"
      },
      "source": [
        "This part encodes the sentiments using Label Encoder. The tweets are stored in X and the corresponding sentiments are stored in y."
      ]
    },
    {
      "cell_type": "code",
      "metadata": {
        "id": "zS3Pk_fPryUg"
      },
      "source": [
        "# from sklearn.preprocessing import LabelEncoder\n",
        "# Le = LabelEncoder()\n",
        "# y = Le.fit_transform(new_df['sentiment'])\n"
      ],
      "execution_count": 29,
      "outputs": []
    },
    {
      "cell_type": "markdown",
      "metadata": {
        "id": "fuekyKPfT7IE"
      },
      "source": [
        "This part divides the data set into training sets and testing sets. After which, we will pass the training data and validation data to the model.\n",
        "\n",
        "From the problem above, I 'hashtagged' the vocabSize and I am able to progress up to here. However I stumbled across another problem and I have no idea how to solve ever since. This is the error shown:\n",
        "\n",
        "\"train_test_split() error: Found input variables with inconsistent numbers of samples\" --> based on test_size line"
      ]
    },
    {
      "cell_type": "code",
      "metadata": {
        "id": "dAbbItdRrjQN"
      },
      "source": [
        "# X_train, X_test, y_train, y_test = train_test_split(X,y, test_size = 0.15, random_state = 42)\n",
        "# model.fit(X_train, Y_train,validation_data = (X_test,y_test),epochs = 10, batch_size=32)\n",
        "\n",
        "# model.evaluate(X_test,y_test)"
      ],
      "execution_count": 30,
      "outputs": []
    },
    {
      "cell_type": "code",
      "metadata": {
        "id": "iWE-4zbmr9J6"
      },
      "source": [
        "# print(\"Prediction: \",model.predict_classes(X_test[5:10]))\n",
        "# print(\"Actual: \\n\",y_test[5:10])"
      ],
      "execution_count": 31,
      "outputs": []
    },
    {
      "cell_type": "markdown",
      "metadata": {
        "id": "4WLZ5PqhVGwk"
      },
      "source": [
        "This would be the ideal result based on example.\n",
        "\n",
        "![lstm rnn ccuracy result](https://drive.google.com/uc?id=1F09C3LLd-L6xJRwAw2SwKATGWWGo0vS8)\n"
      ]
    },
    {
      "cell_type": "markdown",
      "metadata": {
        "id": "E82Z-nh490Rx"
      },
      "source": [
        "# ATTEMPT 3: IMPLEMENTATION SVM with SCIKIT-LEARN\n",
        "\n",
        "SVM differs from the other classification algorithms in the way that it chooses the decision boundary that maximizes the distance from the nearest data points of all the classes. An SVM doesn't merely find a decision boundary; it finds the most optimal decision boundary.\n",
        "\n",
        "This method works, but it only works for values and finds an optimal decision boundary. For my case, I need to tokenize the words, then vectorize it to map words to a corresponding number. Not ideal for my sentiment analysis.\n",
        "\n",
        "*Bill authentication is the csv file based on the web example given."
      ]
    },
    {
      "cell_type": "code",
      "metadata": {
        "id": "6Su7rAOZ06Zr"
      },
      "source": [
        "#link: https://stackabuse.com/implementing-svm-and-kernel-svm-with-pythons-scikit-learn/"
      ],
      "execution_count": 32,
      "outputs": []
    },
    {
      "cell_type": "code",
      "metadata": {
        "id": "k1Vm6czz1QJD"
      },
      "source": [
        "# import pandas as pd\n",
        "# import numpy as np\n",
        "# import matplotlib.pyplot as plt\n",
        "# %matplotlib inline\n",
        "\n",
        "# bankdata = pd.read_csv(\"bill_authentication.csv\")\n",
        "# bankdata.shape\n",
        "# bankdata.head()\n",
        "\n",
        "# X = bankdata.drop('Class', axis=1)\n",
        "# y = bankdata['Class']\n",
        "\n",
        "# from sklearn.model_selection import train_test_split\n",
        "# X_train, X_test, y_train, y_test = train_test_split(X, y, test_size = 0.20)\n",
        "\n",
        "# from sklearn.svm import SVC\n",
        "# svclassifier = SVC(kernel='linear')\n",
        "# svclassifier.fit(X_train, y_train)\n",
        "\n",
        "# y_pred = svclassifier.predict(X_test)\n",
        "\n",
        "# from sklearn.metrics import classification_report, confusion_matrix\n",
        "# print(confusion_matrix(y_test,y_pred))\n",
        "# print(classification_report(y_test,y_pred))"
      ],
      "execution_count": 33,
      "outputs": []
    }
  ]
}