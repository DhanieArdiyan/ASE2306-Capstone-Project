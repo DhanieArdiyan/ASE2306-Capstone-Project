{
  "nbformat": 4,
  "nbformat_minor": 0,
  "metadata": {
    "colab": {
      "name": "Capstone Twitter Sentiment Analysis",
      "provenance": [],
      "collapsed_sections": [],
      "include_colab_link": true
    },
    "kernelspec": {
      "name": "python3",
      "display_name": "Python 3"
    }
  },
  "cells": [
    {
      "cell_type": "markdown",
      "metadata": {
        "id": "view-in-github",
        "colab_type": "text"
      },
      "source": [
        "<a href=\"https://colab.research.google.com/github/DhanieArdiyan/ASE2306-Capstone-Project/blob/main/Capstone_Twitter_Sentiment_Analysis.ipynb\" target=\"_parent\"><img src=\"https://colab.research.google.com/assets/colab-badge.svg\" alt=\"Open In Colab\"/></a>"
      ]
    },
    {
      "cell_type": "markdown",
      "metadata": {
        "id": "iHcBrjYlgR_g"
      },
      "source": [
        "# SENTIMENT ANALYSIS\n",
        "Sentiment Analysis refers to the use of Natural Language Processing, Text Analysis, and Computational Linguistic to systematically identify, extract, and quantify whether a piece of writing is positive, negative, or neutral. It can be used as a predictive modelling task where the model can be trained to predict the polarity of such textual data. Some applications would include social media monitoring and gauging customers' experiences of the company's products.\n",
        "\n",
        "Ideally, the second phase of the project aims to use Sentiment Analysis to understand passenger's opinions with regards to their thermal comfort inside the aircaft cabin. These opinions would revolve around the variables that were previously calculated in the PMV PPD model, done in the first phase of the project. Examples of valuable feedbacks would include how the passenger felt when there was enough wind velocity (or drafts), or if they experienced discomfort due to the pressurisation of aircraft cabin, etc.\n",
        "\n",
        "Hence, the purpose of Sentiment Analysis is to use the passengers' sentiments to complement the calculated values of PMV PPD model. This would then justify the optimum condition the aircraft cabin that will cause the least passenger thermal dissatisfaction. \n",
        "\n",
        "There are various ways to data mine and extract feedbacks from social media like Twitter, Facebook and Reddit. For the purpose of this project, I will be focusing on Twitter and utilising its API."
      ]
    },
    {
      "cell_type": "code",
      "metadata": {
        "id": "93cFhRHhrNgT"
      },
      "source": [
        "pip install stopwords"
      ],
      "execution_count": null,
      "outputs": []
    },
    {
      "cell_type": "code",
      "metadata": {
        "id": "85kbYjbt2wVr"
      },
      "source": [
        "pip install nltk"
      ],
      "execution_count": null,
      "outputs": []
    },
    {
      "cell_type": "code",
      "metadata": {
        "id": "ZipMB84jwpQk"
      },
      "source": [
        "pip install wordcloud"
      ],
      "execution_count": null,
      "outputs": []
    },
    {
      "cell_type": "markdown",
      "metadata": {
        "id": "ROKjrWF7LE1H"
      },
      "source": [
        "# 1. INITIALISATION & AUTHORISATION STAGE\n",
        "Just a note, the consumer_key, consumer_secret, access_token, access_token_secret are unique to my own Twitter Developer account access. \n",
        "\n",
        "If test run is unsuccessful, do contact me for verification."
      ]
    },
    {
      "cell_type": "code",
      "metadata": {
        "id": "5Ssv-DNGS_vK"
      },
      "source": [
        "#START INITIALISATION\n",
        "from textblob import TextBlob\n",
        "from wordcloud import WordCloud\n",
        "import re\n",
        "import pandas as pd \n",
        "import numpy as np \n",
        "import sys, tweepy\n",
        "import matplotlib.pyplot as plt \n",
        "plt.style.use('fivethirtyeight')\n",
        "\n",
        "def percentage(part, whole):\n",
        "\treturn 100 * float(part)/float(whole)\n",
        "\n",
        "consumer_key = \"duCD34AKM0yj2FJGe1vOomirc\"\n",
        "consumer_secret = \"aKkRF84oLs3pGm5gJzPavojoI23WZXMxrv4FWGZMKWnnSCoF1r\"\n",
        "access_token = \"1284696550740901893-xwi5gsHUdnwnD1ztZbSyVdhe6ZWdev\"\n",
        "access_token_secret = \"y8yNJJIxXtKiUgeY6kh8xWNSGEssNdCAdTIwQqnqR57yk\"\n",
        "\n",
        "auth = tweepy.OAuthHandler(consumer_key, consumer_secret) \n",
        "auth.set_access_token(access_token, access_token_secret) \n",
        "api = tweepy.API(auth, wait_on_rate_limit=True) "
      ],
      "execution_count": null,
      "outputs": []
    },
    {
      "cell_type": "markdown",
      "metadata": {
        "id": "IuIgVNb2HNzF"
      },
      "source": [
        "# 2. EXTRACTING TWEETS\n",
        "This part of the codes consists of the main program extracting the tweets. There are 3 ways in which the user can extract the tweets:\n",
        "\n",
        "1.   Input the keyword only\n",
        "2.   Skip the keyword, and input username only\n",
        "3.   Input keyword + username (finding keywords in one specific account)\n",
        "\n",
        "Numerous efforts and trials had been made to extract data that are relatable to the project, only to return irrelevant tweets. This is due to the coronavirus pandemic that had grounded the aviation industry for 8 months, which does not permit passenger travel. As such, it is close to none that people are tweeting about their experiences in aircraft cabin, other than them missing travelling.\n",
        "\n",
        "\n",
        "Nonetheless, the program would still run perfectly for other queries. For this case we will using Option 2: Analysing tweets under the account of ChannelNewsAsia. We will analyse 100 tweets (the max count), and the list will display the most recent 100 tweets, up to 7 days ago (a limitation of using the standard Tweepy API). \n",
        "\n",
        "\n",
        "KEYNOTES:\n",
        "\n",
        "Polarity - A float which lies in the range between -1 to 1, where 1 would equate to a positive statement and -1 would equate to a negative statement. \n",
        "\n",
        "Subjectivity - Sentences which generally refer to personal opinions, emotion or judgement. It is also a float which lies in the range between 0 to 1.\n",
        "\n",
        "\n",
        "\n"
      ]
    },
    {
      "cell_type": "code",
      "metadata": {
        "id": "803UPqaDluEa",
        "outputId": "2a1923e2-0138-4ab5-d72b-0a4f7d273a97",
        "colab": {
          "base_uri": "https://localhost:8080/",
          "height": 1000
        }
      },
      "source": [
        "#EXTRACTING TWEETS\n",
        "keyWord = input(\"Enter the keyword you are searching for (skip if NA):  \") #search by keyword\n",
        "UserName = input(\"Enter the Twitter username (excluding @, skip if NA): \") #search by username\n",
        "inputString = keyWord +\" from:\" + UserName\n",
        "print ('\\n')\n",
        "print ('RESULTS:')\n",
        "\n",
        "public_tweets = api.search(q=inputString, count=100, lang = \"en\")\n",
        "\n",
        "i = 1\n",
        "for tweet in public_tweets:\n",
        "  print ('\\n')\n",
        "  print ((str(i) + ') ' + tweet.text))\n",
        "  print (('Tweeted by') + ': ' + str(tweet.user.screen_name))\n",
        "  print (('Tweeted at') + ': ' + str(tweet.user.location))\n",
        "  print (('Tweeted on') + ': ' + str(tweet.created_at))\n",
        "  i=i+1\n",
        "  # print(tweet.text)\n",
        "\n",
        "#IF I want to print the latest 5 tweets from the account\n",
        "# print(\"Show the 5 recent tweets: \\n\")\n",
        "# i = 1\n",
        "# for tweet in posts [0:5]:\n",
        "#     print ((str(i) + ') ' + tweet.full_text + '\\n'))\n",
        "#     i = i + 1\n",
        "\n",
        "#Creating a dataframe with a column called Tweets\n",
        "df = pd.DataFrame ([tweet.text for tweet in public_tweets], columns = ['Tweets'])\n",
        "\n",
        "#Show first 5 rows of data\n",
        "df.head()\n",
        "\n",
        "#function to clean the tweets\n",
        "def cleanTxt(text):\n",
        "\ttext = re.sub(r'@[A-Za-z0-9]+', '', text) #removes @mentions\n",
        "\ttext = re.sub(r'#', '', text) #removes the '#'\n",
        "\ttext = re.sub(r'RT[\\s+]+', '', text) #removing RT\n",
        "\ttext = re.sub(r'https?:\\/\\/\\S+', '', text) #removes hyperlinks\n",
        "\treturn text\n",
        "\n",
        "#cleaning the text\n",
        "df['Tweets'] = df['Tweets'].apply(cleanTxt)\n",
        "\n",
        "#Show the cleaned text\n",
        "df\n",
        "\n",
        "#Subjectivity function\n",
        "def getSubjectivity(text):\n",
        "\treturn TextBlob(text).sentiment.subjectivity\n",
        "\n",
        "#Polarity function\n",
        "def getPolarity(text):\n",
        "\treturn TextBlob(text).sentiment.polarity\n",
        "\n",
        "#Creating columns for Subjectivity and Polarity\n",
        "df ['Subjectivity'] = df['Tweets'].apply(getSubjectivity)\n",
        "df ['Polarity'] = df['Tweets'].apply(getPolarity)\n",
        "\n",
        "#Show the new dataframe with the new columns\n",
        "df\n"
      ],
      "execution_count": null,
      "outputs": [
        {
          "output_type": "stream",
          "text": [
            "Enter the keyword you are searching for (skip if NA):  \n",
            "Enter the Twitter username (excluding @, skip if NA): channelnewsasia\n",
            "\n",
            "\n",
            "RESULTS:\n",
            "\n",
            "\n",
            "1) Germany reports new daily record in COVID-19 cases https://t.co/GEFswIMwQO https://t.co/W4taxVeZVz\n",
            "Tweeted by: ChannelNewsAsia\n",
            "Tweeted at: Singapore\n",
            "Tweeted on: 2020-11-07 10:57:03\n",
            "\n",
            "\n",
            "2) 6 countries reported COVID-19 in mink farms, say WHO https://t.co/zCMUOEIizM https://t.co/yEJmGeigr9\n",
            "Tweeted by: ChannelNewsAsia\n",
            "Tweeted at: Singapore\n",
            "Tweeted on: 2020-11-07 10:33:03\n",
            "\n",
            "\n",
            "3) COVID-19 conditional movement control order reinstated across all states in Peninsular Malaysia, except for Perlis,… https://t.co/6htMwl5KsU\n",
            "Tweeted by: ChannelNewsAsia\n",
            "Tweeted at: Singapore\n",
            "Tweeted on: 2020-11-07 10:06:33\n",
            "\n",
            "\n",
            "4) COVID-19: Britain bans entry to all travellers from Denmark https://t.co/lVTjR6DoAw https://t.co/mrllegHcVQ\n",
            "Tweeted by: ChannelNewsAsia\n",
            "Tweeted at: Singapore\n",
            "Tweeted on: 2020-11-07 10:06:32\n",
            "\n",
            "\n",
            "5) Wolves have room for improvement, says Nuno https://t.co/sOrrVZWCtu https://t.co/iBZGoWsrPk\n",
            "Tweeted by: ChannelNewsAsia\n",
            "Tweeted at: Singapore\n",
            "Tweeted on: 2020-11-07 09:04:02\n",
            "\n",
            "\n",
            "6) Tesco gets nod for sale of Thailand supermarket business https://t.co/uhT3UJ0eGu https://t.co/YPS47NZQ7A\n",
            "Tweeted by: ChannelNewsAsia\n",
            "Tweeted at: Singapore\n",
            "Tweeted on: 2020-11-07 08:50:34\n",
            "\n",
            "\n",
            "7) Books? Hairdressers? Europeans split on COVID-19 lockdown essentials https://t.co/jCHSTv7PCg https://t.co/EwCHOOwsIJ\n",
            "Tweeted by: ChannelNewsAsia\n",
            "Tweeted at: Singapore\n",
            "Tweeted on: 2020-11-07 08:50:33\n",
            "\n",
            "\n",
            "8) Djokovic clinches sixth year-end No. 1 ranking to tie Sampras https://t.co/pMawKnzRIe https://t.co/LBhQzlQ3u5\n",
            "Tweeted by: ChannelNewsAsia\n",
            "Tweeted at: Singapore\n",
            "Tweeted on: 2020-11-07 08:36:33\n",
            "\n",
            "\n",
            "9) Japan star sees gymnastics event as 'model' for Olympics https://t.co/eDnN9hEXiw https://t.co/lWdimWECxw\n",
            "Tweeted by: ChannelNewsAsia\n",
            "Tweeted at: Singapore\n",
            "Tweeted on: 2020-11-07 08:23:04\n",
            "\n",
            "\n",
            "10) A look at Myanmar's election and Aung San Suu Kyi's expected victory https://t.co/gSYY29ROQZ https://t.co/RUiireVZCE\n",
            "Tweeted by: ChannelNewsAsia\n",
            "Tweeted at: Singapore\n",
            "Tweeted on: 2020-11-07 08:23:03\n",
            "\n",
            "\n",
            "11) Not waiting: Biden transition team at work amid limbo https://t.co/lfFtNGdMDg https://t.co/QZ6om3bwRk\n",
            "Tweeted by: ChannelNewsAsia\n",
            "Tweeted at: Singapore\n",
            "Tweeted on: 2020-11-07 08:16:33\n",
            "\n",
            "\n",
            "12) Not waiting: Biden transition team at work amid limbo https://t.co/fHMjpCVRxO https://t.co/pcMZTgvJIe\n",
            "Tweeted by: ChannelNewsAsia\n",
            "Tweeted at: Singapore\n",
            "Tweeted on: 2020-11-07 08:02:35\n",
            "\n",
            "\n",
            "13) 7 new COVID-19 cases in Singapore, all imported https://t.co/U0zpJP1vmA https://t.co/UshHQ1aDMp\n",
            "Tweeted by: ChannelNewsAsia\n",
            "Tweeted at: Singapore\n",
            "Tweeted on: 2020-11-07 08:02:34\n",
            "\n",
            "\n",
            "14) In India, polluted air spells trouble for COVID-19 patients https://t.co/SfS73Nkjz4 https://t.co/9t9mCuBCB7\n",
            "Tweeted by: ChannelNewsAsia\n",
            "Tweeted at: Singapore\n",
            "Tweeted on: 2020-11-07 08:02:33\n",
            "\n",
            "\n",
            "15) Singapore reports 7 new #COVID19 cases, all imported: MOH\n",
            "https://t.co/0j3Je0uuIB https://t.co/SiiN5DHHVN\n",
            "Tweeted by: ChannelNewsAsia\n",
            "Tweeted at: Singapore\n",
            "Tweeted on: 2020-11-07 07:39:47\n",
            "\n",
            "\n",
            "16) Important to talk about mental health, says Chelsea's Chilwell https://t.co/GLsxm0AjUd https://t.co/6zCiXNqNrN\n",
            "Tweeted by: ChannelNewsAsia\n",
            "Tweeted at: Singapore\n",
            "Tweeted on: 2020-11-07 06:57:32\n",
            "\n",
            "\n",
            "17) Trump chief of staff Meadows diagnosed with COVID-19 https://t.co/TbaYo23UgL https://t.co/K2EIinjXA0\n",
            "Tweeted by: ChannelNewsAsia\n",
            "Tweeted at: Singapore\n",
            "Tweeted on: 2020-11-07 05:31:32\n",
            "\n",
            "\n",
            "18) Newcastle boss Bruce sweats over fitness of striker Wilson https://t.co/kVLfzOX74u https://t.co/GARKULtgUM\n",
            "Tweeted by: ChannelNewsAsia\n",
            "Tweeted at: Singapore\n",
            "Tweeted on: 2020-11-07 05:19:03\n",
            "\n",
            "\n",
            "19) COVID-19: Australia to allow additional 450 citizens to return before end of 2020 https://t.co/7KquzJ2vro https://t.co/yAsVhfGaRA\n",
            "Tweeted by: ChannelNewsAsia\n",
            "Tweeted at: Singapore\n",
            "Tweeted on: 2020-11-07 05:12:34\n",
            "\n",
            "\n",
            "20) Netherlands' Miedema backs Wiegman for England success https://t.co/cIchfMYx4M https://t.co/NhMmCEYIFh\n",
            "Tweeted by: ChannelNewsAsia\n",
            "Tweeted at: Singapore\n",
            "Tweeted on: 2020-11-07 05:12:34\n",
            "\n",
            "\n",
            "21) Joe Biden projects confidence he will win White House with 'clear majority' https://t.co/7to1gziEBX https://t.co/zJtFcEeJEh\n",
            "Tweeted by: ChannelNewsAsia\n",
            "Tweeted at: Singapore\n",
            "Tweeted on: 2020-11-07 05:12:33\n",
            "\n",
            "\n",
            "22) \"Let's put the anger and demonisation behind us. It's time for us to come together as a nation to heal\": Joe Biden… https://t.co/qP7jW2zoZ4\n",
            "Tweeted by: ChannelNewsAsia\n",
            "Tweeted at: Singapore\n",
            "Tweeted on: 2020-11-07 04:43:24\n",
            "\n",
            "\n",
            "23) China exports remain strong in October, import growth slows https://t.co/5NRLJuQq20 https://t.co/rWYWG3Dgnb\n",
            "Tweeted by: ChannelNewsAsia\n",
            "Tweeted at: Singapore\n",
            "Tweeted on: 2020-11-07 04:39:32\n",
            "\n",
            "\n",
            "24) Former Singapore international footballer Salim Moin dies aged 59 https://t.co/vDCy4IjSsi https://t.co/XGssebCodA\n",
            "Tweeted by: ChannelNewsAsia\n",
            "Tweeted at: Singapore\n",
            "Tweeted on: 2020-11-07 03:53:33\n",
            "\n",
            "\n",
            "25) Supreme Court denies immediate halt of Pennsylvania count https://t.co/yznyeOaGCG https://t.co/WtchpYNOVI\n",
            "Tweeted by: ChannelNewsAsia\n",
            "Tweeted at: Singapore\n",
            "Tweeted on: 2020-11-07 03:16:04\n",
            "\n",
            "\n",
            "26) US COVID-19 cases hit record for third day, topping 127,000 https://t.co/6qtvEIz0hi https://t.co/DiOgM0PV4Q\n",
            "Tweeted by: ChannelNewsAsia\n",
            "Tweeted at: Singapore\n",
            "Tweeted on: 2020-11-07 03:02:33\n",
            "\n",
            "\n",
            "27) VIDEO: The latest job market figures showed Singapore's unemployment rate climbing to a 16-year high. When will thi… https://t.co/QdfNAOHBc2\n",
            "Tweeted by: ChannelNewsAsia\n",
            "Tweeted at: Singapore\n",
            "Tweeted on: 2020-11-07 03:00:01\n",
            "\n",
            "\n",
            "28) China reports 33 new coronavirus cases https://t.co/YSnG3Pjb4w https://t.co/lqrBqIBtRq\n",
            "Tweeted by: ChannelNewsAsia\n",
            "Tweeted at: Singapore\n",
            "Tweeted on: 2020-11-07 02:28:33\n",
            "\n",
            "\n",
            "29) Why is US vote count taking so long? https://t.co/QriuJGg1Dr https://t.co/S1jrt0cu0N\n",
            "Tweeted by: ChannelNewsAsia\n",
            "Tweeted at: Singapore\n",
            "Tweeted on: 2020-11-07 01:11:03\n",
            "\n",
            "\n",
            "30) Baffert's Improbable battles stacked field at Breeders' Cup https://t.co/Vi44hPawvL https://t.co/r0rRrnfodq\n",
            "Tweeted by: ChannelNewsAsia\n",
            "Tweeted at: Singapore\n",
            "Tweeted on: 2020-11-07 01:11:02\n",
            "\n",
            "\n",
            "31) #USElections2020: As Joe Biden edges closer to securing enough votes, Donald Trump has vowed to continue his legal… https://t.co/n8w6LxNS7h\n",
            "Tweeted by: ChannelNewsAsia\n",
            "Tweeted at: Singapore\n",
            "Tweeted on: 2020-11-07 00:30:06\n",
            "\n",
            "\n",
            "32) Trump says Biden 'should not wrongfully claim' presidency https://t.co/PXXXeonsgg https://t.co/JK8O1PkBYQ\n",
            "Tweeted by: ChannelNewsAsia\n",
            "Tweeted at: Singapore\n",
            "Tweeted on: 2020-11-06 23:53:34\n",
            "\n",
            "\n",
            "33) Soccer-Sassuolo held by Udinese, miss chance to top Serie A https://t.co/Pu6qWUuwDa https://t.co/cu7cX92Coy\n",
            "Tweeted by: ChannelNewsAsia\n",
            "Tweeted at: Singapore\n",
            "Tweeted on: 2020-11-06 23:53:33\n",
            "\n",
            "\n",
            "34) What we're doing is scary, says Hasenhuttl as Saints go top https://t.co/k5b4vIcFiP https://t.co/skilHPro2W\n",
            "Tweeted by: ChannelNewsAsia\n",
            "Tweeted at: Singapore\n",
            "Tweeted on: 2020-11-06 23:40:33\n",
            "\n",
            "\n",
            "35) Southwest Airlines issues notices of furloughs for first time in 49-year existence https://t.co/whPbZhIxs3 https://t.co/EOXnoTMUDq\n",
            "Tweeted by: ChannelNewsAsia\n",
            "Tweeted at: Singapore\n",
            "Tweeted on: 2020-11-06 23:40:32\n",
            "\n",
            "\n",
            "36) Johnny Depp is out of Fantastic Beasts after losing 'wife beater' case https://t.co/GAahEI8mjt https://t.co/ZAaOzfCHL2\n",
            "Tweeted by: ChannelNewsAsia\n",
            "Tweeted at: Singapore\n",
            "Tweeted on: 2020-11-06 23:28:05\n",
            "\n",
            "\n",
            "37) This staycation package gives you backstage access to historic Singapore buildings https://t.co/7jj4pe1kOh https://t.co/Ga72eMEP8J\n",
            "Tweeted by: ChannelNewsAsia\n",
            "Tweeted at: Singapore\n",
            "Tweeted on: 2020-11-06 23:28:04\n",
            "\n",
            "\n",
            "38) Football: Southampton go top with 2-0 win over Newcastle https://t.co/xNAhjXD7Wr https://t.co/uP0qOLd71w\n",
            "Tweeted by: ChannelNewsAsia\n",
            "Tweeted at: Singapore\n",
            "Tweeted on: 2020-11-06 23:28:03\n",
            "\n",
            "\n",
            "39) Rossi OK to race but Yamaha boss goes into quarantine https://t.co/shqHX8acfn https://t.co/RGJce8yqDH\n",
            "Tweeted by: ChannelNewsAsia\n",
            "Tweeted at: Singapore\n",
            "Tweeted on: 2020-11-06 23:00:05\n",
            "\n",
            "\n",
            "40) Analysis: High-flying US tech stocks get post-election lift, near new highs https://t.co/9jFnq8f4yd https://t.co/2HoDibjDeD\n",
            "Tweeted by: ChannelNewsAsia\n",
            "Tweeted at: Singapore\n",
            "Tweeted on: 2020-11-06 23:00:03\n",
            "\n",
            "\n",
            "41) Southampton go top with 2-0 win over Newcastle https://t.co/rtk0Gmio6I https://t.co/01ceC4GhKH\n",
            "Tweeted by: ChannelNewsAsia\n",
            "Tweeted at: Singapore\n",
            "Tweeted on: 2020-11-06 23:00:03\n",
            "\n",
            "\n",
            "42) EU set to impose tariffs on US$4 billion US goods next week https://t.co/CaZTlstJXu https://t.co/pYj9BLoCRX\n",
            "Tweeted by: ChannelNewsAsia\n",
            "Tweeted at: Singapore\n",
            "Tweeted on: 2020-11-06 22:53:34\n",
            "\n",
            "\n",
            "43) Google says it will not file motion to dismiss US lawsuit https://t.co/e1rE0GxC9m https://t.co/biho2oZyMH\n",
            "Tweeted by: ChannelNewsAsia\n",
            "Tweeted at: Singapore\n",
            "Tweeted on: 2020-11-06 22:53:33\n",
            "\n",
            "\n",
            "44) Marseille find relief in Ligue 1 with Strasbourg win https://t.co/BBLWL6B58o https://t.co/Tfz5mcRKgo\n",
            "Tweeted by: ChannelNewsAsia\n",
            "Tweeted at: Singapore\n",
            "Tweeted on: 2020-11-06 22:47:05\n",
            "\n",
            "\n",
            "45) Commentary: Why men should care and do more about women’s issues https://t.co/gRX3kfxwCr https://t.co/4BuT1Mqaf8\n",
            "Tweeted by: ChannelNewsAsia\n",
            "Tweeted at: Singapore\n",
            "Tweeted on: 2020-11-06 22:47:04\n",
            "\n",
            "\n",
            "46) Second lockdown observations: COVID-19 donor fatigue kicks in, but Malaysia's volunteers persevere… https://t.co/neExz8DTWM\n",
            "Tweeted by: ChannelNewsAsia\n",
            "Tweeted at: Singapore\n",
            "Tweeted on: 2020-11-06 22:47:03\n",
            "\n",
            "\n",
            "47) Learning the botanical names of plants can make you a better gardener https://t.co/3S9947yFzY https://t.co/17YaN7KPLf\n",
            "Tweeted by: ChannelNewsAsia\n",
            "Tweeted at: Singapore\n",
            "Tweeted on: 2020-11-06 22:41:05\n",
            "\n",
            "\n",
            "48) Regular weight training may help ease anxiety, a new study shows https://t.co/unzOL3exbN https://t.co/vesrvJYjRD\n",
            "Tweeted by: ChannelNewsAsia\n",
            "Tweeted at: Singapore\n",
            "Tweeted on: 2020-11-06 22:41:03\n",
            "\n",
            "\n",
            "49) Commentary: What's behind claims of electoral fraud in US elections https://t.co/kMppd8ejoV https://t.co/ijDq36OTpC\n",
            "Tweeted by: ChannelNewsAsia\n",
            "Tweeted at: Singapore\n",
            "Tweeted on: 2020-11-06 22:35:04\n",
            "\n",
            "\n",
            "50) Commentary: The never-ending political game of Mahathir Mohamad https://t.co/EUZQaKqKFa https://t.co/s97l6CCvbP\n",
            "Tweeted by: ChannelNewsAsia\n",
            "Tweeted at: Singapore\n",
            "Tweeted on: 2020-11-06 22:35:03\n",
            "\n",
            "\n",
            "51) Stressed out, anxious and unable to focus? Here are 10 ways to calm down https://t.co/3BlQNVnHNX https://t.co/BypsJpcmeA\n",
            "Tweeted by: ChannelNewsAsia\n",
            "Tweeted at: Singapore\n",
            "Tweeted on: 2020-11-06 22:35:02\n",
            "\n",
            "\n",
            "52) Republicans seeking to raise at least US$60 million to fund Trump legal challenges https://t.co/R051vReIbh https://t.co/Z1p2Ninn4S\n",
            "Tweeted by: ChannelNewsAsia\n",
            "Tweeted at: Singapore\n",
            "Tweeted on: 2020-11-06 22:28:05\n",
            "\n",
            "\n",
            "53) IN FOCUS: Tackling sexual misconduct in the sports and fitness industry https://t.co/VwU644LIQx https://t.co/N5Me39fypi\n",
            "Tweeted by: ChannelNewsAsia\n",
            "Tweeted at: Singapore\n",
            "Tweeted on: 2020-11-06 22:28:04\n",
            "\n",
            "\n",
            "54) Commentary: Low interest rates don’t necessarily mean we keep more cash in hand https://t.co/9RvYZS9jAy https://t.co/9Jk8kJVI94\n",
            "Tweeted by: ChannelNewsAsia\n",
            "Tweeted at: Singapore\n",
            "Tweeted on: 2020-11-06 22:28:03\n",
            "\n",
            "\n",
            "55) Sassuolo held by Udinese, miss chance to top Serie A https://t.co/9pGsFxdCnn https://t.co/sdonUkFdRb\n",
            "Tweeted by: ChannelNewsAsia\n",
            "Tweeted at: Singapore\n",
            "Tweeted on: 2020-11-06 22:08:35\n",
            "\n",
            "\n",
            "56) Colombia's Duque holds talks with ex-FARC leaders https://t.co/LvQdw4Nafo https://t.co/LOEDEwkG4N\n",
            "Tweeted by: ChannelNewsAsia\n",
            "Tweeted at: Singapore\n",
            "Tweeted on: 2020-11-06 22:08:34\n",
            "\n",
            "\n",
            "57) Burns grabs early second-round lead in Houston https://t.co/BqYbyRtFsz https://t.co/VAsn1ggHuw\n",
            "Tweeted by: ChannelNewsAsia\n",
            "Tweeted at: Singapore\n",
            "Tweeted on: 2020-11-06 22:08:33\n",
            "\n",
            "\n",
            "58) Brazil off to bad start on Paris climate deal: Watchdog https://t.co/gudFHNvMyB https://t.co/HUWLrHm8lv\n",
            "Tweeted by: ChannelNewsAsia\n",
            "Tweeted at: Singapore\n",
            "Tweeted on: 2020-11-06 22:02:03\n",
            "\n",
            "\n",
            "59) Tennis: 'Simply incredible' as Djokovic equals Sampras' year-end world number one record https://t.co/14Wgt2hpTF https://t.co/4SWQ9247nq\n",
            "Tweeted by: ChannelNewsAsia\n",
            "Tweeted at: Singapore\n",
            "Tweeted on: 2020-11-06 21:42:34\n",
            "\n",
            "\n",
            "60) Portugal declares COVID-19 health emergency https://t.co/xgg48I31JQ https://t.co/SthFk12jVk\n",
            "Tweeted by: ChannelNewsAsia\n",
            "Tweeted at: Singapore\n",
            "Tweeted on: 2020-11-06 21:42:33\n",
            "\n",
            "\n",
            "61) Europe COVID-19 deaths surge past 300,000 https://t.co/63qdwdkVcU https://t.co/r5rt9NmDwW\n",
            "Tweeted by: ChannelNewsAsia\n",
            "Tweeted at: Singapore\n",
            "Tweeted on: 2020-11-06 21:35:34\n",
            "\n",
            "\n",
            "62) Whole Foods reverses ban on veteran poppies after backlash in Canada https://t.co/qu2SJpI98G https://t.co/YuNunTdpO0\n",
            "Tweeted by: ChannelNewsAsia\n",
            "Tweeted at: Singapore\n",
            "Tweeted on: 2020-11-06 21:35:33\n",
            "\n",
            "\n",
            "63) US removes shadowy group blamed by China from terror list https://t.co/HMDKzgNz7I https://t.co/8QbIVnKNdN\n",
            "Tweeted by: ChannelNewsAsia\n",
            "Tweeted at: Singapore\n",
            "Tweeted on: 2020-11-06 21:35:32\n",
            "\n",
            "\n",
            "64) Football: Burnley's wait for first win goes on after Brighton stalemate https://t.co/rWmbZGhEk2 https://t.co/Cej0QRiXcq\n",
            "Tweeted by: ChannelNewsAsia\n",
            "Tweeted at: Singapore\n",
            "Tweeted on: 2020-11-06 21:09:04\n",
            "\n",
            "\n",
            "65) Tennis: Nadal beats Carreno Busta to reach Paris Masters semis https://t.co/Ayee0Evgii https://t.co/YhjE8yNN0u\n",
            "Tweeted by: ChannelNewsAsia\n",
            "Tweeted at: Singapore\n",
            "Tweeted on: 2020-11-06 21:09:03\n",
            "\n",
            "\n",
            "66) UN urges cease-fire to tackle COVID-19 ahead of Myanmar vote https://t.co/DfDnCpHHlG https://t.co/fzx2GJqtx2\n",
            "Tweeted by: ChannelNewsAsia\n",
            "Tweeted at: Singapore\n",
            "Tweeted on: 2020-11-06 20:43:36\n",
            "\n",
            "\n",
            "67) Niemann withdraws from Masters after positive COVID-19 test https://t.co/ZeF0vn5N28 https://t.co/LEDF5xHdtL\n",
            "Tweeted by: ChannelNewsAsia\n",
            "Tweeted at: Singapore\n",
            "Tweeted on: 2020-11-06 20:43:35\n",
            "\n",
            "\n",
            "68) Twitter flags 'president-elect Biden' posts as premature https://t.co/Z6fudBKPeL https://t.co/grzdW2w57Z\n",
            "Tweeted by: ChannelNewsAsia\n",
            "Tweeted at: Singapore\n",
            "Tweeted on: 2020-11-06 20:43:33\n",
            "\n",
            "\n",
            "69) Trump faces tough road in getting Supreme Court to intervene https://t.co/Ykq0W3lZAh https://t.co/0NdIgAqit9\n",
            "Tweeted by: ChannelNewsAsia\n",
            "Tweeted at: Singapore\n",
            "Tweeted on: 2020-11-06 20:16:33\n",
            "\n",
            "\n",
            "70) Three teens charged in French teacher's beheading https://t.co/jMkTQHOhVm https://t.co/f0Hyzj0OoL\n",
            "Tweeted by: ChannelNewsAsia\n",
            "Tweeted at: Singapore\n",
            "Tweeted on: 2020-11-06 19:58:33\n",
            "\n",
            "\n",
            "71) France posts record 60,486 new COVID-19 cases https://t.co/mg77OfcR51 https://t.co/XRekelS6XT\n",
            "Tweeted by: ChannelNewsAsia\n",
            "Tweeted at: Singapore\n",
            "Tweeted on: 2020-11-06 19:31:35\n",
            "\n",
            "\n",
            "72) Some Americans dance, others wield guns outside vote-tallying sites as counting draws to a close… https://t.co/5yeOTu38X8\n",
            "Tweeted by: ChannelNewsAsia\n",
            "Tweeted at: Singapore\n",
            "Tweeted on: 2020-11-06 19:31:34\n",
            "\n",
            "\n",
            "73) Wall Street Week Ahead: Small caps join market rally but pandemic could derail them https://t.co/DnZaZbEERd https://t.co/lTFVA4A7sS\n",
            "Tweeted by: ChannelNewsAsia\n",
            "Tweeted at: Singapore\n",
            "Tweeted on: 2020-11-06 19:31:33\n",
            "\n",
            "\n",
            "74) Cricket: Kohli's IPL drought goes on after Sunrisers defeat https://t.co/s603vHArIk https://t.co/ChIuUiLMzM\n",
            "Tweeted by: ChannelNewsAsia\n",
            "Tweeted at: Singapore\n",
            "Tweeted on: 2020-11-06 19:12:32\n",
            "\n",
            "\n",
            "75) Formula One's support series revise schedules to cut costs https://t.co/eu67siuOkJ https://t.co/elL2yqkGZe\n",
            "Tweeted by: ChannelNewsAsia\n",
            "Tweeted at: Singapore\n",
            "Tweeted on: 2020-11-06 19:06:04\n",
            "\n",
            "\n",
            "76) Small group of Southwest workers receive warnings of first-ever furloughs https://t.co/vEHNIxhIRb https://t.co/kGxzESsHHA\n",
            "Tweeted by: ChannelNewsAsia\n",
            "Tweeted at: Singapore\n",
            "Tweeted on: 2020-11-06 19:06:03\n",
            "\n",
            "\n",
            "77) Trump vows to keep fighting, press ahead with legal challenges https://t.co/pqJCGLGPlV https://t.co/qLu5TVS2sv\n",
            "Tweeted by: ChannelNewsAsia\n",
            "Tweeted at: Singapore\n",
            "Tweeted on: 2020-11-06 19:06:02\n",
            "\n",
            "\n",
            "78) Football: Italy coach Mancini tests positive for COVID-19 https://t.co/1Pm9x62cyk https://t.co/0uzafhbzzk\n",
            "Tweeted by: ChannelNewsAsia\n",
            "Tweeted at: Singapore\n",
            "Tweeted on: 2020-11-06 18:39:33\n",
            "\n",
            "\n",
            "79) Johnny Depp out of Fantastic Beasts franchise after losing 'wife beater' case https://t.co/dZNTR7RY5o https://t.co/BoHFTl0jbz\n",
            "Tweeted by: ChannelNewsAsia\n",
            "Tweeted at: Singapore\n",
            "Tweeted on: 2020-11-06 18:19:34\n",
            "\n",
            "\n",
            "80) Explainer: Why AP hasn't called Georgia's close race https://t.co/tc74KzaBnP https://t.co/D8ssle1cll\n",
            "Tweeted by: ChannelNewsAsia\n",
            "Tweeted at: Singapore\n",
            "Tweeted on: 2020-11-06 18:19:33\n",
            "\n",
            "\n",
            "81) Arsenal need more scoring solutions to challenge top teams, says Arteta https://t.co/hs2pnpe3cE https://t.co/ZlrVIWXRmw\n",
            "Tweeted by: ChannelNewsAsia\n",
            "Tweeted at: Singapore\n",
            "Tweeted on: 2020-11-06 18:13:32\n",
            "\n",
            "\n",
            "82) Fiat Chrysler, PSA win Brazil antitrust approval for merger https://t.co/J9ruSZoSEg https://t.co/Gh5KHAsI7q\n",
            "Tweeted by: ChannelNewsAsia\n",
            "Tweeted at: Singapore\n",
            "Tweeted on: 2020-11-06 17:58:35\n",
            "\n",
            "\n",
            "83) Denmark defends COVID-19 measures after mink mutation https://t.co/fsAoR5CT6H https://t.co/wOxTuBG471\n",
            "Tweeted by: ChannelNewsAsia\n",
            "Tweeted at: Singapore\n",
            "Tweeted on: 2020-11-06 17:58:34\n",
            "\n",
            "\n",
            "84) Time is running out to enact any trade deal with UK: EU lawmakers https://t.co/xuc7SbFZOV https://t.co/Ildf6xIuD9\n",
            "Tweeted by: ChannelNewsAsia\n",
            "Tweeted at: Singapore\n",
            "Tweeted on: 2020-11-06 17:58:33\n",
            "\n",
            "\n",
            "85) UK's Johnson says he is confident in US election checks and balances https://t.co/u1quCdO6Wh https://t.co/AIrrcU1MtB\n",
            "Tweeted by: ChannelNewsAsia\n",
            "Tweeted at: Singapore\n",
            "Tweeted on: 2020-11-06 17:52:06\n",
            "\n",
            "\n",
            "86) EU set to impose tariffs on US$4 bln US goods next week https://t.co/tva1l1fABi https://t.co/XurrDng758\n",
            "Tweeted by: ChannelNewsAsia\n",
            "Tweeted at: Singapore\n",
            "Tweeted on: 2020-11-06 17:52:05\n",
            "\n",
            "\n",
            "87) CAS blocks El Haddadi wish to play for Morocco https://t.co/t9iJdtMgtE https://t.co/cwFDOWpDeC\n",
            "Tweeted by: ChannelNewsAsia\n",
            "Tweeted at: Singapore\n",
            "Tweeted on: 2020-11-06 17:52:04\n",
            "\n",
            "\n",
            "88) Video games, long runs and Riesling: How Wall Streeters calmed election nerves https://t.co/5IdW0ubCid https://t.co/R6nhLiypE6\n",
            "Tweeted by: ChannelNewsAsia\n",
            "Tweeted at: Singapore\n",
            "Tweeted on: 2020-11-06 17:38:34\n",
            "\n",
            "\n",
            "89) Racial gap in US jobless rate narrows in October https://t.co/DvT5d5b6nO https://t.co/YP0dgKCmX4\n",
            "Tweeted by: ChannelNewsAsia\n",
            "Tweeted at: Singapore\n",
            "Tweeted on: 2020-11-06 17:31:36\n",
            "\n",
            "\n",
            "90) Top Democrat Pelosi calls Biden 'president-elect' https://t.co/D8lyztx29z https://t.co/sHXX8rFu4V\n",
            "Tweeted by: ChannelNewsAsia\n",
            "Tweeted at: Singapore\n",
            "Tweeted on: 2020-11-06 17:31:35\n",
            "\n",
            "\n",
            "91) Take-Two to buy British videogame developer Codemasters for US$973 million https://t.co/2U7S1O9wC6 https://t.co/lCkUQpAexQ\n",
            "Tweeted by: ChannelNewsAsia\n",
            "Tweeted at: Singapore\n",
            "Tweeted on: 2020-11-06 17:31:34\n",
            "\n",
            "\n",
            "92) Fixture pile-up could affect performances at Euros, World Cup - FIFPRO https://t.co/ZqPxBQD4Cp https://t.co/AXKs2Dx9ep\n",
            "Tweeted by: ChannelNewsAsia\n",
            "Tweeted at: Singapore\n",
            "Tweeted on: 2020-11-06 17:25:35\n",
            "\n",
            "\n",
            "93) Bayer executives buy 2.9 million euro in battered stock after writedowns https://t.co/XwDyiGERxw https://t.co/6fQPX7sAZe\n",
            "Tweeted by: ChannelNewsAsia\n",
            "Tweeted at: Singapore\n",
            "Tweeted on: 2020-11-06 17:25:33\n",
            "\n",
            "\n",
            "94) Roglic strengthens Vuelta lead as Nielsen wins stage 16 https://t.co/iBjBOxiO1K https://t.co/n8Cg2qjzzY\n",
            "Tweeted by: ChannelNewsAsia\n",
            "Tweeted at: Singapore\n",
            "Tweeted on: 2020-11-06 17:12:05\n",
            "\n",
            "\n",
            "95) EU likely to impose tariffs on US$4 billion US imports next week https://t.co/H9FE8TPz61 https://t.co/WV6TgqoPVM\n",
            "Tweeted by: ChannelNewsAsia\n",
            "Tweeted at: Singapore\n",
            "Tweeted on: 2020-11-06 17:05:08\n",
            "\n",
            "\n",
            "96) CVS Health CEO Larry Merlo to step down next year https://t.co/tSiR1ZDxpu https://t.co/4U1JuHRrTG\n",
            "Tweeted by: ChannelNewsAsia\n",
            "Tweeted at: Singapore\n",
            "Tweeted on: 2020-11-06 17:05:06\n",
            "\n",
            "\n",
            "97) Rossi cleared to race at European GP after second negative COVID-19 test https://t.co/PQhfOQn4K9 https://t.co/bM7V4DUea3\n",
            "Tweeted by: ChannelNewsAsia\n",
            "Tweeted at: Singapore\n",
            "Tweeted on: 2020-11-06 17:05:04\n",
            "\n",
            "\n",
            "98) US state of Georgia says it will recount razor-thin vote https://t.co/OEPaDS8YrJ https://t.co/8CUWx9kj5k\n",
            "Tweeted by: ChannelNewsAsia\n",
            "Tweeted at: Singapore\n",
            "Tweeted on: 2020-11-06 16:52:07\n",
            "\n",
            "\n",
            "99) McConnell: Signs of economic recovery point to smaller COVID-19 stimulus https://t.co/xpzXdBmBVa https://t.co/2WomBbGLdO\n",
            "Tweeted by: ChannelNewsAsia\n",
            "Tweeted at: Singapore\n",
            "Tweeted on: 2020-11-06 16:44:35\n",
            "\n",
            "\n",
            "100) US job growth slows in October; unemployment rate falls to 6.9% https://t.co/lmu5odRE1Z https://t.co/Q9wNrXZsvi\n",
            "Tweeted by: ChannelNewsAsia\n",
            "Tweeted at: Singapore\n",
            "Tweeted on: 2020-11-06 16:44:34\n"
          ],
          "name": "stdout"
        },
        {
          "output_type": "execute_result",
          "data": {
            "text/html": [
              "<div>\n",
              "<style scoped>\n",
              "    .dataframe tbody tr th:only-of-type {\n",
              "        vertical-align: middle;\n",
              "    }\n",
              "\n",
              "    .dataframe tbody tr th {\n",
              "        vertical-align: top;\n",
              "    }\n",
              "\n",
              "    .dataframe thead th {\n",
              "        text-align: right;\n",
              "    }\n",
              "</style>\n",
              "<table border=\"1\" class=\"dataframe\">\n",
              "  <thead>\n",
              "    <tr style=\"text-align: right;\">\n",
              "      <th></th>\n",
              "      <th>Tweets</th>\n",
              "      <th>Subjectivity</th>\n",
              "      <th>Polarity</th>\n",
              "    </tr>\n",
              "  </thead>\n",
              "  <tbody>\n",
              "    <tr>\n",
              "      <th>0</th>\n",
              "      <td>Germany reports new daily record in COVID-19 c...</td>\n",
              "      <td>0.227273</td>\n",
              "      <td>0.068182</td>\n",
              "    </tr>\n",
              "    <tr>\n",
              "      <th>1</th>\n",
              "      <td>6 countries reported COVID-19 in mink farms, s...</td>\n",
              "      <td>0.000000</td>\n",
              "      <td>0.000000</td>\n",
              "    </tr>\n",
              "    <tr>\n",
              "      <th>2</th>\n",
              "      <td>COVID-19 conditional movement control order re...</td>\n",
              "      <td>0.000000</td>\n",
              "      <td>0.000000</td>\n",
              "    </tr>\n",
              "    <tr>\n",
              "      <th>3</th>\n",
              "      <td>COVID-19: Britain bans entry to all travellers...</td>\n",
              "      <td>0.000000</td>\n",
              "      <td>0.000000</td>\n",
              "    </tr>\n",
              "    <tr>\n",
              "      <th>4</th>\n",
              "      <td>Wolves have room for improvement, says Nuno</td>\n",
              "      <td>0.000000</td>\n",
              "      <td>0.000000</td>\n",
              "    </tr>\n",
              "    <tr>\n",
              "      <th>...</th>\n",
              "      <td>...</td>\n",
              "      <td>...</td>\n",
              "      <td>...</td>\n",
              "    </tr>\n",
              "    <tr>\n",
              "      <th>95</th>\n",
              "      <td>CVS Health CEO Larry Merlo to step down next y...</td>\n",
              "      <td>0.144444</td>\n",
              "      <td>-0.077778</td>\n",
              "    </tr>\n",
              "    <tr>\n",
              "      <th>96</th>\n",
              "      <td>Rossi cleared to race at European GP after sec...</td>\n",
              "      <td>0.133333</td>\n",
              "      <td>-0.100000</td>\n",
              "    </tr>\n",
              "    <tr>\n",
              "      <th>97</th>\n",
              "      <td>US state of Georgia says it will recount razor...</td>\n",
              "      <td>0.000000</td>\n",
              "      <td>0.000000</td>\n",
              "    </tr>\n",
              "    <tr>\n",
              "      <th>98</th>\n",
              "      <td>McConnell: Signs of economic recovery point to...</td>\n",
              "      <td>0.350000</td>\n",
              "      <td>0.100000</td>\n",
              "    </tr>\n",
              "    <tr>\n",
              "      <th>99</th>\n",
              "      <td>US job growth slows in October; unemployment r...</td>\n",
              "      <td>0.000000</td>\n",
              "      <td>0.000000</td>\n",
              "    </tr>\n",
              "  </tbody>\n",
              "</table>\n",
              "<p>100 rows × 3 columns</p>\n",
              "</div>"
            ],
            "text/plain": [
              "                                               Tweets  Subjectivity  Polarity\n",
              "0   Germany reports new daily record in COVID-19 c...      0.227273  0.068182\n",
              "1   6 countries reported COVID-19 in mink farms, s...      0.000000  0.000000\n",
              "2   COVID-19 conditional movement control order re...      0.000000  0.000000\n",
              "3   COVID-19: Britain bans entry to all travellers...      0.000000  0.000000\n",
              "4       Wolves have room for improvement, says Nuno        0.000000  0.000000\n",
              "..                                                ...           ...       ...\n",
              "95  CVS Health CEO Larry Merlo to step down next y...      0.144444 -0.077778\n",
              "96  Rossi cleared to race at European GP after sec...      0.133333 -0.100000\n",
              "97  US state of Georgia says it will recount razor...      0.000000  0.000000\n",
              "98  McConnell: Signs of economic recovery point to...      0.350000  0.100000\n",
              "99  US job growth slows in October; unemployment r...      0.000000  0.000000\n",
              "\n",
              "[100 rows x 3 columns]"
            ]
          },
          "metadata": {
            "tags": []
          },
          "execution_count": 25
        }
      ]
    },
    {
      "cell_type": "markdown",
      "metadata": {
        "id": "c1hdbWDWL07-"
      },
      "source": [
        "# 3. PLOTTING WORDCLOUD\n",
        "WordCloud is a data visualization technique used for representing text data, in which the size of each word indicates its frequency or importance. If the same words are detected very frequently, then the size of that particular word will be very big in the wordcloud.\n",
        "\n",
        "I'm having trouble at this part (seen in my error as attached). I have tried to troubleshoot it by researching various example but I can't seem to understand the problem."
      ]
    },
    {
      "cell_type": "code",
      "metadata": {
        "id": "X3z6ULaPS4mz",
        "outputId": "fa6a4c13-17dc-47e1-ef86-6edc481c89c3",
        "colab": {
          "base_uri": "https://localhost:8080/",
          "height": 276
        }
      },
      "source": [
        "# #Plotting WORDCLOUD\n",
        "from wordcloud import WordCloud\n",
        "allWords = ' '.join( [twts for twts in df['Tweets']] )\n",
        "wordCloud = WordCloud(width = 5000, height = 300, random_state = 21, max_font_size = 100).generate(allWords)\n",
        "\n",
        "plt.imshow(wordCloud, interpolation = \"bilinear\") #bilinear to make displayed image more smooth\n",
        "plt.axis('off')\n",
        "plt.show()\n",
        "\n"
      ],
      "execution_count": null,
      "outputs": [
        {
          "output_type": "error",
          "ename": "TypeError",
          "evalue": "ignored",
          "traceback": [
            "\u001b[0;31m---------------------------------------------------------------------------\u001b[0m",
            "\u001b[0;31mTypeError\u001b[0m                                 Traceback (most recent call last)",
            "\u001b[0;32m<ipython-input-6-af19586f5bab>\u001b[0m in \u001b[0;36m<module>\u001b[0;34m()\u001b[0m\n\u001b[1;32m      4\u001b[0m \u001b[0mwordCloud\u001b[0m \u001b[0;34m=\u001b[0m \u001b[0mWordCloud\u001b[0m\u001b[0;34m(\u001b[0m\u001b[0mwidth\u001b[0m \u001b[0;34m=\u001b[0m \u001b[0;36m5000\u001b[0m\u001b[0;34m,\u001b[0m \u001b[0mheight\u001b[0m \u001b[0;34m=\u001b[0m \u001b[0;36m300\u001b[0m\u001b[0;34m,\u001b[0m \u001b[0mrandom_state\u001b[0m \u001b[0;34m=\u001b[0m \u001b[0;36m21\u001b[0m\u001b[0;34m,\u001b[0m \u001b[0mmax_font_size\u001b[0m \u001b[0;34m=\u001b[0m \u001b[0;36m100\u001b[0m\u001b[0;34m)\u001b[0m\u001b[0;34m.\u001b[0m\u001b[0mgenerate\u001b[0m\u001b[0;34m(\u001b[0m\u001b[0mallWords\u001b[0m\u001b[0;34m)\u001b[0m\u001b[0;34m\u001b[0m\u001b[0;34m\u001b[0m\u001b[0m\n\u001b[1;32m      5\u001b[0m \u001b[0;34m\u001b[0m\u001b[0m\n\u001b[0;32m----> 6\u001b[0;31m \u001b[0mplt\u001b[0m\u001b[0;34m.\u001b[0m\u001b[0mimshow\u001b[0m\u001b[0;34m(\u001b[0m\u001b[0mwordCloud\u001b[0m\u001b[0;34m,\u001b[0m \u001b[0minterpolation\u001b[0m \u001b[0;34m=\u001b[0m \u001b[0;34m\"bilinear\"\u001b[0m\u001b[0;34m)\u001b[0m \u001b[0;31m#bilinear to make displayed image more smooth\u001b[0m\u001b[0;34m\u001b[0m\u001b[0;34m\u001b[0m\u001b[0m\n\u001b[0m\u001b[1;32m      7\u001b[0m \u001b[0mplt\u001b[0m\u001b[0;34m.\u001b[0m\u001b[0maxis\u001b[0m\u001b[0;34m(\u001b[0m\u001b[0;34m'off'\u001b[0m\u001b[0;34m)\u001b[0m\u001b[0;34m\u001b[0m\u001b[0;34m\u001b[0m\u001b[0m\n\u001b[1;32m      8\u001b[0m \u001b[0mplt\u001b[0m\u001b[0;34m.\u001b[0m\u001b[0mshow\u001b[0m\u001b[0;34m(\u001b[0m\u001b[0;34m)\u001b[0m\u001b[0;34m\u001b[0m\u001b[0;34m\u001b[0m\u001b[0m\n",
            "\u001b[0;31mTypeError\u001b[0m: imshow() missing 1 required positional argument: 'X'"
          ]
        }
      ]
    },
    {
      "cell_type": "code",
      "metadata": {
        "id": "1uFmQ7rsOu-L",
        "outputId": "e48961d6-e7ab-4ab3-fa5a-2f92b33e8674",
        "colab": {
          "base_uri": "https://localhost:8080/",
          "height": 399
        }
      },
      "source": [
        "#Computing the negative, neutral, positive analysis\n",
        "def getAnalysis (score):\n",
        "\tif score < 0:\n",
        "\t\treturn 'Negative'\n",
        "\telif score == 0:\n",
        "\t\treturn 'Neutral'\n",
        "\telse:\n",
        "\t\treturn 'Positive'\n",
        "\n",
        "df['Analysis'] = df['Polarity'].apply(getAnalysis)\n",
        "df\n"
      ],
      "execution_count": null,
      "outputs": [
        {
          "output_type": "execute_result",
          "data": {
            "text/html": [
              "<div>\n",
              "<style scoped>\n",
              "    .dataframe tbody tr th:only-of-type {\n",
              "        vertical-align: middle;\n",
              "    }\n",
              "\n",
              "    .dataframe tbody tr th {\n",
              "        vertical-align: top;\n",
              "    }\n",
              "\n",
              "    .dataframe thead th {\n",
              "        text-align: right;\n",
              "    }\n",
              "</style>\n",
              "<table border=\"1\" class=\"dataframe\">\n",
              "  <thead>\n",
              "    <tr style=\"text-align: right;\">\n",
              "      <th></th>\n",
              "      <th>Tweets</th>\n",
              "      <th>Subjectivity</th>\n",
              "      <th>Polarity</th>\n",
              "      <th>Analysis</th>\n",
              "    </tr>\n",
              "  </thead>\n",
              "  <tbody>\n",
              "    <tr>\n",
              "      <th>0</th>\n",
              "      <td>Germany reports new daily record in COVID-19 c...</td>\n",
              "      <td>0.227273</td>\n",
              "      <td>0.068182</td>\n",
              "      <td>Positive</td>\n",
              "    </tr>\n",
              "    <tr>\n",
              "      <th>1</th>\n",
              "      <td>6 countries reported COVID-19 in mink farms, s...</td>\n",
              "      <td>0.000000</td>\n",
              "      <td>0.000000</td>\n",
              "      <td>Neutral</td>\n",
              "    </tr>\n",
              "    <tr>\n",
              "      <th>2</th>\n",
              "      <td>COVID-19 conditional movement control order re...</td>\n",
              "      <td>0.000000</td>\n",
              "      <td>0.000000</td>\n",
              "      <td>Neutral</td>\n",
              "    </tr>\n",
              "    <tr>\n",
              "      <th>3</th>\n",
              "      <td>COVID-19: Britain bans entry to all travellers...</td>\n",
              "      <td>0.000000</td>\n",
              "      <td>0.000000</td>\n",
              "      <td>Neutral</td>\n",
              "    </tr>\n",
              "    <tr>\n",
              "      <th>4</th>\n",
              "      <td>Wolves have room for improvement, says Nuno</td>\n",
              "      <td>0.000000</td>\n",
              "      <td>0.000000</td>\n",
              "      <td>Neutral</td>\n",
              "    </tr>\n",
              "    <tr>\n",
              "      <th>...</th>\n",
              "      <td>...</td>\n",
              "      <td>...</td>\n",
              "      <td>...</td>\n",
              "      <td>...</td>\n",
              "    </tr>\n",
              "    <tr>\n",
              "      <th>95</th>\n",
              "      <td>CVS Health CEO Larry Merlo to step down next y...</td>\n",
              "      <td>0.144444</td>\n",
              "      <td>-0.077778</td>\n",
              "      <td>Negative</td>\n",
              "    </tr>\n",
              "    <tr>\n",
              "      <th>96</th>\n",
              "      <td>Rossi cleared to race at European GP after sec...</td>\n",
              "      <td>0.133333</td>\n",
              "      <td>-0.100000</td>\n",
              "      <td>Negative</td>\n",
              "    </tr>\n",
              "    <tr>\n",
              "      <th>97</th>\n",
              "      <td>US state of Georgia says it will recount razor...</td>\n",
              "      <td>0.000000</td>\n",
              "      <td>0.000000</td>\n",
              "      <td>Neutral</td>\n",
              "    </tr>\n",
              "    <tr>\n",
              "      <th>98</th>\n",
              "      <td>McConnell: Signs of economic recovery point to...</td>\n",
              "      <td>0.350000</td>\n",
              "      <td>0.100000</td>\n",
              "      <td>Positive</td>\n",
              "    </tr>\n",
              "    <tr>\n",
              "      <th>99</th>\n",
              "      <td>US job growth slows in October; unemployment r...</td>\n",
              "      <td>0.000000</td>\n",
              "      <td>0.000000</td>\n",
              "      <td>Neutral</td>\n",
              "    </tr>\n",
              "  </tbody>\n",
              "</table>\n",
              "<p>100 rows × 4 columns</p>\n",
              "</div>"
            ],
            "text/plain": [
              "                                               Tweets  ...  Analysis\n",
              "0   Germany reports new daily record in COVID-19 c...  ...  Positive\n",
              "1   6 countries reported COVID-19 in mink farms, s...  ...   Neutral\n",
              "2   COVID-19 conditional movement control order re...  ...   Neutral\n",
              "3   COVID-19: Britain bans entry to all travellers...  ...   Neutral\n",
              "4       Wolves have room for improvement, says Nuno    ...   Neutral\n",
              "..                                                ...  ...       ...\n",
              "95  CVS Health CEO Larry Merlo to step down next y...  ...  Negative\n",
              "96  Rossi cleared to race at European GP after sec...  ...  Negative\n",
              "97  US state of Georgia says it will recount razor...  ...   Neutral\n",
              "98  McConnell: Signs of economic recovery point to...  ...  Positive\n",
              "99  US job growth slows in October; unemployment r...  ...   Neutral\n",
              "\n",
              "[100 rows x 4 columns]"
            ]
          },
          "metadata": {
            "tags": []
          },
          "execution_count": 26
        }
      ]
    },
    {
      "cell_type": "markdown",
      "metadata": {
        "id": "Szh44R6_N2-R"
      },
      "source": [
        "# 4. SEGREGATING SENTIMENTS\n",
        "The following parts that follow will classify the tweets based on their sentiments, either Positive, Negative, or Neutral. A Bar graph and a Scatter plot would also help to assist in illustration to observe how the tweets of the user are feeling.\n",
        "\n",
        "As we can observe, there are certain tweets which were not classified accurately. For example under the first few positive tweets, it should not be regarded as a positive sentiment. As a human reader, we would understand that it would be better suited to be classified as a negative sentiment (having a Covid case is undesirable).\n",
        "\n",
        "This would question the accuracy of the sentiment analysis, which if given more time, I would gladly love to continue the project. \n"
      ]
    },
    {
      "cell_type": "code",
      "metadata": {
        "id": "JsaMCganO8wI",
        "outputId": "e5c6e655-f4c3-439d-9293-4abb3c15a129",
        "colab": {
          "base_uri": "https://localhost:8080/"
        }
      },
      "source": [
        "#To seperate and print POSITIVE tweets\n",
        "j = 1\n",
        "sortedDF = df.sort_values(by=['Polarity'])\n",
        "for i in range (0, sortedDF.shape[0]):\n",
        "\tif (sortedDF['Analysis'][i] == 'Positive'):\n",
        "\t\tprint (str(j) + ') '+sortedDF['Tweets'][i])\n",
        "\t\tprint()\n",
        "\t\tj = j + 1\n"
      ],
      "execution_count": null,
      "outputs": [
        {
          "output_type": "stream",
          "text": [
            "1) Germany reports new daily record in COVID-19 cases  \n",
            "\n",
            "2) 7 new COVID-19 cases in Singapore, all imported  \n",
            "\n",
            "3) Singapore reports 7 new COVID19 cases, all imported: MOH\n",
            " \n",
            "\n",
            "4) Important to talk about mental health, says Chelsea's Chilwell  \n",
            "\n",
            "5) Netherlands' Miedema backs Wiegman for England success  \n",
            "\n",
            "6) Joe Biden projects confidence he will win White House with 'clear majority'  \n",
            "\n",
            "7) China exports remain strong in October, import growth slows  \n",
            "\n",
            "8) VIDEO: The latest job market figures showed Singapore's unemployment rate climbing to a 16-year high. When will thi… \n",
            "\n",
            "9) China reports 33 new coronavirus cases  \n",
            "\n",
            "10) Soccer-Sassuolo held by Udinese, miss chance to top Serie A  \n",
            "\n",
            "11) Southwest Airlines issues notices of furloughs for first time in 49-year existence  \n",
            "\n",
            "12) Johnny Depp is out of Fantastic Beasts after losing 'wife beater' case  \n",
            "\n",
            "13) Football: Southampton go top with 2-0 win over Newcastle  \n",
            "\n",
            "14) Rossi OK to race but Yamaha boss goes into quarantine  \n",
            "\n",
            "15) Analysis: High-flying US tech stocks get post-election lift, near new highs  \n",
            "\n",
            "16) Southampton go top with 2-0 win over Newcastle  \n",
            "\n",
            "17) Marseille find relief in Ligue 1 with Strasbourg win  \n",
            "\n",
            "18) Commentary: Why men should care and do more about women’s issues  \n",
            "\n",
            "19) Learning the botanical names of plants can make you a better gardener  \n",
            "\n",
            "20) Regular weight training may help ease anxiety, a new study shows  \n",
            "\n",
            "21) IN FOCUS: Tackling sexual misconduct in the sports and fitness industry  \n",
            "\n",
            "22) Commentary: Low interest rates don’t necessarily mean we keep more cash in hand  \n",
            "\n",
            "23) Sassuolo held by Udinese, miss chance to top Serie A  \n",
            "\n",
            "24) Burns grabs early second-round lead in Houston  \n",
            "\n",
            "25) Tennis: 'Simply incredible' as Djokovic equals Sampras' year-end world number one record  \n",
            "\n",
            "26) Whole Foods reverses ban on veteran poppies after backlash in Canada  \n",
            "\n",
            "27) Football: Burnley's wait for first win goes on after Brighton stalemate  \n",
            "\n",
            "28) Niemann withdraws from Masters after positive COVID-19 test  \n",
            "\n",
            "29) France posts record 60,486 new COVID-19 cases  \n",
            "\n",
            "30) Trump vows to keep fighting, press ahead with legal challenges  \n",
            "\n",
            "31) Football: Italy coach Mancini tests positive for COVID-19  \n",
            "\n",
            "32) Johnny Depp out of Fantastic Beasts franchise after losing 'wife beater' case  \n",
            "\n",
            "33) Arsenal need more scoring solutions to challenge top teams, says Arteta  \n",
            "\n",
            "34) Fiat Chrysler, PSA win Brazil antitrust approval for merger  \n",
            "\n",
            "35) UK's Johnson says he is confident in US election checks and balances  \n",
            "\n",
            "36) Top Democrat Pelosi calls Biden 'president-elect'  \n",
            "\n",
            "37) Roglic strengthens Vuelta lead as Nielsen wins stage 16  \n",
            "\n",
            "38) McConnell: Signs of economic recovery point to smaller COVID-19 stimulus  \n",
            "\n"
          ],
          "name": "stdout"
        }
      ]
    },
    {
      "cell_type": "code",
      "metadata": {
        "id": "9gpq5V-kO3TR",
        "outputId": "d4fb7c8d-1e0f-443a-cf93-cafb5428319e",
        "colab": {
          "base_uri": "https://localhost:8080/"
        }
      },
      "source": [
        "#To seperate and print NEGATIVE tweets\n",
        "j = 1\n",
        "sortedDF = df.sort_values(by=['Polarity'], ascending='False')\n",
        "for i in range(0, sortedDF.shape[0]):\n",
        "  if (sortedDF['Analysis'][i] == 'Negative'):\n",
        "    print (str(j) + ') '+sortedDF['Tweets'][i])\n",
        "    print()\n",
        "    j = j + 1"
      ],
      "execution_count": null,
      "outputs": [
        {
          "output_type": "stream",
          "text": [
            "1) A look at Myanmar's election and Aung San Suu Kyi's expected victory  \n",
            "\n",
            "2) In India, polluted air spells trouble for COVID-19 patients  \n",
            "\n",
            "3) \"Let's put the anger and demonisation behind us. It's time for us to come together as a nation to heal\": Joe Biden… \n",
            "\n",
            "4) Former Singapore international footballer Salim Moin dies aged 59  \n",
            "\n",
            "5) Why is US vote count taking so long?  \n",
            "\n",
            "6) Commentary: What's behind claims of electoral fraud in US elections  \n",
            "\n",
            "7) Commentary: The never-ending political game of Mahathir Mohamad  \n",
            "\n",
            "8) Stressed out, anxious and unable to focus? Here are 10 ways to calm down  \n",
            "\n",
            "9) Republicans seeking to raise at least US$60 million to fund Trump legal challenges  \n",
            "\n",
            "10) Brazil off to bad start on Paris climate deal: Watchdog  \n",
            "\n",
            "11) Europe COVID-19 deaths surge past 300,000  \n",
            "\n",
            "12) Trump faces tough road in getting Supreme Court to intervene  \n",
            "\n",
            "13) Wall Street Week Ahead: Small caps join market rally but pandemic could derail them  \n",
            "\n",
            "14) Small group of Southwest workers receive warnings of first-ever furloughs  \n",
            "\n",
            "15) Video games, long runs and Riesling: How Wall Streeters calmed election nerves  \n",
            "\n",
            "16) CVS Health CEO Larry Merlo to step down next year  \n",
            "\n",
            "17) Rossi cleared to race at European GP after second negative COVID-19 test  \n",
            "\n"
          ],
          "name": "stdout"
        }
      ]
    },
    {
      "cell_type": "code",
      "metadata": {
        "id": "pNwUQf2EfwXO",
        "outputId": "0942c149-7332-41a6-ef60-7a3c79311c94",
        "colab": {
          "base_uri": "https://localhost:8080/"
        }
      },
      "source": [
        "#To seperate and print NEUTRAL tweets\n",
        "j = 1\n",
        "sortedDF = df.sort_values(by=['Polarity'])\n",
        "for i in range (0, sortedDF.shape[0]):\n",
        "\tif (sortedDF['Analysis'][i] == 'Neutral'):\n",
        "\t\tprint (str(j) + ') '+sortedDF['Tweets'][i])\n",
        "\t\tprint()\n",
        "\t\tj = j + 1\n"
      ],
      "execution_count": null,
      "outputs": [
        {
          "output_type": "stream",
          "text": [
            "1) 6 countries reported COVID-19 in mink farms, say WHO  \n",
            "\n",
            "2) COVID-19 conditional movement control order reinstated across all states in Peninsular Malaysia, except for Perlis,… \n",
            "\n",
            "3) COVID-19: Britain bans entry to all travellers from Denmark  \n",
            "\n",
            "4) Wolves have room for improvement, says Nuno  \n",
            "\n",
            "5) Tesco gets nod for sale of Thailand supermarket business  \n",
            "\n",
            "6) Books? Hairdressers? Europeans split on COVID-19 lockdown essentials  \n",
            "\n",
            "7) Djokovic clinches sixth year-end No. 1 ranking to tie Sampras  \n",
            "\n",
            "8) Japan star sees gymnastics event as 'model' for Olympics  \n",
            "\n",
            "9) Not waiting: Biden transition team at work amid limbo  \n",
            "\n",
            "10) Not waiting: Biden transition team at work amid limbo  \n",
            "\n",
            "11) Trump chief of staff Meadows diagnosed with COVID-19  \n",
            "\n",
            "12) Newcastle boss Bruce sweats over fitness of striker Wilson  \n",
            "\n",
            "13) COVID-19: Australia to allow additional 450 citizens to return before end of 2020  \n",
            "\n",
            "14) Supreme Court denies immediate halt of Pennsylvania count  \n",
            "\n",
            "15) US COVID-19 cases hit record for third day, topping 127,000  \n",
            "\n",
            "16) Baffert's Improbable battles stacked field at Breeders' Cup  \n",
            "\n",
            "17) USElections2020: As Joe Biden edges closer to securing enough votes, Donald Trump has vowed to continue his legal… \n",
            "\n",
            "18) Trump says Biden 'should not wrongfully claim' presidency  \n",
            "\n",
            "19) What we're doing is scary, says Hasenhuttl as Saints go top  \n",
            "\n",
            "20) This staycation package gives you backstage access to historic Singapore buildings  \n",
            "\n",
            "21) EU set to impose tariffs on US$4 billion US goods next week  \n",
            "\n",
            "22) Google says it will not file motion to dismiss US lawsuit  \n",
            "\n",
            "23) Second lockdown observations: COVID-19 donor fatigue kicks in, but Malaysia's volunteers persevere… \n",
            "\n",
            "24) Colombia's Duque holds talks with ex-FARC leaders  \n",
            "\n",
            "25) Portugal declares COVID-19 health emergency  \n",
            "\n",
            "26) US removes shadowy group blamed by China from terror list  \n",
            "\n",
            "27) Tennis: Nadal beats Carreno Busta to reach Paris Masters semis  \n",
            "\n",
            "28) UN urges cease-fire to tackle COVID-19 ahead of Myanmar vote  \n",
            "\n",
            "29) Twitter flags 'president-elect Biden' posts as premature  \n",
            "\n",
            "30) Three teens charged in French teacher's beheading  \n",
            "\n",
            "31) Some Americans dance, others wield guns outside vote-tallying sites as counting draws to a close… \n",
            "\n",
            "32) Cricket: Kohli's IPL drought goes on after Sunrisers defeat  \n",
            "\n",
            "33) Formula One's support series revise schedules to cut costs  \n",
            "\n",
            "34) Explainer: Why AP hasn't called Georgia's close race  \n",
            "\n",
            "35) Denmark defends COVID-19 measures after mink mutation  \n",
            "\n",
            "36) Time is running out to enact any trade deal with UK: EU lawmakers  \n",
            "\n",
            "37) EU set to impose tariffs on US$4 bln US goods next week  \n",
            "\n",
            "38) CAS blocks El Haddadi wish to play for Morocco  \n",
            "\n",
            "39) Racial gap in US jobless rate narrows in October  \n",
            "\n",
            "40) Take-Two to buy British videogame developer Codemasters for US$973 million  \n",
            "\n",
            "41) Fixture pile-up could affect performances at Euros, World Cup - FIFPRO  \n",
            "\n",
            "42) Bayer executives buy 2.9 million euro in battered stock after writedowns  \n",
            "\n",
            "43) EU likely to impose tariffs on US$4 billion US imports next week  \n",
            "\n",
            "44) US state of Georgia says it will recount razor-thin vote  \n",
            "\n",
            "45) US job growth slows in October; unemployment rate falls to 6.9%  \n",
            "\n"
          ],
          "name": "stdout"
        }
      ]
    },
    {
      "cell_type": "code",
      "metadata": {
        "id": "N1JNjhZIQ78a",
        "outputId": "ef9be769-736f-4f3d-f68d-03898b88d96b",
        "colab": {
          "base_uri": "https://localhost:8080/"
        }
      },
      "source": [
        "#POSITIVE TWEETS in %\n",
        "ptweets = df[df.Analysis == 'Positive']\n",
        "ptweets = ptweets['Tweets']\n",
        "\n",
        "positive = round ( (ptweets.shape[0]/df.shape[0]) * 100, 1)\n",
        "positive"
      ],
      "execution_count": null,
      "outputs": [
        {
          "output_type": "execute_result",
          "data": {
            "text/plain": [
              "38.0"
            ]
          },
          "metadata": {
            "tags": []
          },
          "execution_count": 30
        }
      ]
    },
    {
      "cell_type": "code",
      "metadata": {
        "id": "LwO7XeziRr-B",
        "outputId": "3dcc4fd4-2661-480d-9721-58eb25c4d97c",
        "colab": {
          "base_uri": "https://localhost:8080/"
        }
      },
      "source": [
        "#NEGATIVE TWEETS in %\n",
        "ntweets = df[df.Analysis == 'Negative']\n",
        "ntweets = ntweets['Tweets']\n",
        "\n",
        "negative = round ( (ntweets.shape[0]/df.shape[0]) * 100, 1)\n",
        "negative"
      ],
      "execution_count": null,
      "outputs": [
        {
          "output_type": "execute_result",
          "data": {
            "text/plain": [
              "17.0"
            ]
          },
          "metadata": {
            "tags": []
          },
          "execution_count": 31
        }
      ]
    },
    {
      "cell_type": "code",
      "metadata": {
        "id": "NX4o2CGRqv7k",
        "outputId": "0df8b76a-1e6f-40aa-8d40-45cac8f8110f",
        "colab": {
          "base_uri": "https://localhost:8080/"
        }
      },
      "source": [
        "#NEUTRAL TWEETS in %\n",
        "100 - positive - negative"
      ],
      "execution_count": null,
      "outputs": [
        {
          "output_type": "execute_result",
          "data": {
            "text/plain": [
              "45.0"
            ]
          },
          "metadata": {
            "tags": []
          },
          "execution_count": 32
        }
      ]
    },
    {
      "cell_type": "code",
      "metadata": {
        "id": "K_kNCZsyR3cg",
        "outputId": "eeddee91-3c95-47c9-c065-95c44aa4ffc4",
        "colab": {
          "base_uri": "https://localhost:8080/",
          "height": 374
        }
      },
      "source": [
        "#BAR GRAPH - POSITIVE, NEGATIVE, NEUTRAL\n",
        "df['Analysis'].value_counts()\n",
        "\n",
        "#plot and visualise the counts\n",
        "plt.title('Sentiment Analysis')\n",
        "plt.xlabel('Sentiment')\n",
        "plt.ylabel('Counts')\n",
        "df['Analysis'].value_counts().plot(kind='bar')\n",
        "plt.show()"
      ],
      "execution_count": null,
      "outputs": [
        {
          "output_type": "display_data",
          "data": {
            "image/png": "[encoded data removed]",
            "text/plain": [
              "<Figure size 432x288 with 1 Axes>"
            ]
          },
          "metadata": {
            "tags": []
          }
        }
      ]
    },
    {
      "cell_type": "code",
      "metadata": {
        "id": "tAcuvzzPQF9v",
        "outputId": "c4e4e196-e755-4ee0-bd52-e0ddbe9c52d1",
        "colab": {
          "base_uri": "https://localhost:8080/",
          "height": 441
        }
      },
      "source": [
        "#SCATTER PLOT - POLARITY AND SUBJECTIVITY\n",
        "plt.figure(figsize = (8,6))\n",
        "for i in range (0,df.shape[0]):\n",
        "  plt.scatter(df['Polarity'][i], df['Subjectivity'][i], color='Blue') #(x,y axis)\n",
        "\n",
        "plt.title('Sentiment Analysis')\n",
        "plt.xlabel('Polarity')\n",
        "plt.ylabel('Subjectivity')\n",
        "plt.show()"
      ],
      "execution_count": null,
      "outputs": [
        {
          "output_type": "display_data",
          "data": {
            "image/png": "[encoded data removed]",
            "text/plain": [
              "<Figure size 576x432 with 1 Axes>"
            ]
          },
          "metadata": {
            "tags": []
          }
        }
      ]
    },
    {
      "cell_type": "markdown",
      "metadata": {
        "id": "mwX5ActTf9wr"
      },
      "source": [
        "# ATTEMPTS TO MEASURE THE ABOVE SENTIMENT ACCURACY\n",
        "While the above program provides the sentiment result classifications, which are then further calculated into percentages, how can we determine that the program is accurate? We can observe that some of the tweets do not belong into their respective categories, for eg. a positive tweet determined in the program would be better suited to be classified as negative if it was a sarcastic tweet. How then can we identify its accuracy?\n",
        "\n",
        "This part of the project aims to code another program that will use the same dataset as the program above, which will then be compared and cross-checked with the accuracy of percentages and classification of tweets. \n",
        "\n",
        "Extensive research has been done to determine the best possible method to conduct the analysis. The following methods are chosen due to their relevance to this project:\n",
        "\n",
        "\n",
        "1.   RandomForestClassifier Algorithm\n",
        "2.   LSTM and RNN\n",
        "3.   SVM with Python's Scikit-Learn\n",
        "\n",
        "\n",
        "\n",
        "\n",
        "\n",
        "\n",
        "\n"
      ]
    },
    {
      "cell_type": "markdown",
      "metadata": {
        "id": "M8m3dI1tEQiN"
      },
      "source": [
        "# ATTEMPT 1: Training model by RandomForestClassifier Algorithm\n",
        "\n",
        "Random forests is a supervised learning algorithm and considered as the most flexible and easy to use algorithm. It can be used for both classification and regression. A forest is comprised of trees and the more trees it has, the more robust a forest is. Hence, random forests creates decision trees based on randomly selected data samples, gets prediction from each tree, and selects the best solution by means of voting. It also provides a good indicator of the feature importance. Such applications include recommendation search engines that are heavily used.\n",
        "\n",
        "The field of sentiment analysis involves some form of the data mining process to extract the text, later carried out in  the machine  learning to be built. As such using the Random Forest approach would be ideal, owing to its ability to act upon non-normalised data."
      ]
    },
    {
      "cell_type": "code",
      "metadata": {
        "id": "KyGMA6dCxe-i"
      },
      "source": [
        "# Link: https://stackabuse.com/python-for-nlp-sentiment-analysis-with-scikit-learn/\n",
        "# Resource: https://www.datacamp.com/community/tutorials/random-forests-classifier-python"
      ],
      "execution_count": null,
      "outputs": []
    },
    {
      "cell_type": "markdown",
      "metadata": {
        "id": "SfkkKaTU38RS"
      },
      "source": [
        "# IMPORTING LIBRARIES AND DATA CLEANING\n",
        "Tweets may contain many slang words and punctuation marks, and we need to clean the tweets first before they can be used to train the machine learning model.\n",
        "\n",
        "To do, we will use regular expresions for text manipulation, already installed in Python's package. "
      ]
    },
    {
      "cell_type": "code",
      "metadata": {
        "id": "98saclPJEZ3U"
      },
      "source": [
        "# import matplotlib.pyplot as plt \n",
        "# import nltk\n",
        "# from nltk.corpus import stopwords\n",
        "# from sklearn.feature_extraction.text import TfidfVectorizer\n",
        "# from sklearn.model_selection import train_test_split\n",
        "# from sklearn.ensemble import RandomForestClassifier\n",
        "# from sklearn.metrics import classification_report, confusion_matrix, accuracy_score\n",
        "\n",
        "# processed_features = []\n",
        "# features = df['Tweets']\n",
        "\n",
        "\n",
        "# for sentence in range(0, len(features)):\n",
        "#     # Remove all the special characters\n",
        "#     processed_feature = re.sub(r'\\W', ' ', str(features[sentence]))\n",
        "\n",
        "     # remove all single characters\n",
        "#     processed_feature= re.sub(r'\\s+[a-zA-Z]\\s+', ' ', processed_feature)\n",
        "\n",
        "#     # Remove single characters from the start\n",
        "#     processed_feature = re.sub(r'\\^[a-zA-Z]\\s+', ' ', processed_feature) \n",
        "\n",
        "#     # Substituting multiple spaces with single space\n",
        "#     processed_feature = re.sub(r'\\s+', ' ', processed_feature, flags=re.I)\n",
        "\n",
        "#     # Removing prefixed 'b'\n",
        "#     processed_feature = re.sub(r'^b\\s+', '', processed_feature)\n",
        "\n",
        "#     # Converting to Lowercase\n",
        "#     processed_feature = processed_feature.lower()\n",
        "\n",
        "#     processed_features.append(processed_feature)\n",
        "\n",
        "# processed_features"
      ],
      "execution_count": null,
      "outputs": []
    },
    {
      "cell_type": "markdown",
      "metadata": {
        "id": "fDBy8tVQ44GN"
      },
      "source": [
        "Next, we will use the Python's Scikit-Learn library which contains the 'TfidVectorizer' class that can be used to convert text features into TF-IDF feature vectors.\n",
        "\n",
        "A TF-IDF (Term-Frequency and Inverse Document Frequency) algorithm is one of 3 ways that can make statistical algorithms work with text (since mathematics only work with numbers). The tweets and data will be converted into numeric form through this algorithm. \n",
        "\n",
        "*The other two methods are Bag of Words, and Word2Vec.\n",
        "\n",
        "NOTE: I would really like to make this algorithm work because it seems to be most promising and relatable. Unfortunately, I came across problems with TfidVectorizer and after multiple searches, I really don't understand the solutions. I can't progress ever since."
      ]
    },
    {
      "cell_type": "code",
      "metadata": {
        "id": "prvDBmYnLnKq"
      },
      "source": [
        "# from nltk.corpus import stopwords\n",
        "# from sklearn.feature_extraction.text import TfidfVectorizer\n",
        "\n",
        "# vectorizer = TfidfVectorizer (max_features=2500, min_df=7, max_df=0.8, stop_words=stopwords.words('english'))\n",
        "# processed_features = vectorizer.fit_transform(processed_features).toarray()\n",
        "\n",
        "# #max_features = most frequently occuring words to create a bag of words feature vector\n",
        "# #max_df = specifies to only using words that occur in a maximum of 80% of the docs\n",
        "# #min_df = similar, include words that occur in at least 7 docs"
      ],
      "execution_count": null,
      "outputs": []
    },
    {
      "cell_type": "markdown",
      "metadata": {
        "id": "7GSuy78z5rzr"
      },
      "source": [
        "Here, we will be dividing our data into training and testing sets. The training set will be used to train the algorithm while the test set will be used to evaluate the performance of the machine learning model.\n",
        "\n",
        "We use the train_test_split class from the sklearn.model_selection module to divide our data into training and testing set.\n",
        "\n",
        "Test size is set to a value of 0.2, which means that our data set will be split into two sets of 80% and 20% data. We will use the 80% dataset for training and 20% dataset for testing."
      ]
    },
    {
      "cell_type": "code",
      "metadata": {
        "id": "ieDjC9BJNJwO"
      },
      "source": [
        "# from sklearn.model_selection import train_test_split\n",
        "\n",
        "# X_train, X_test, y_train, y_test = train_test_split(processed_features, df, test_size=0.2, random_state=0)"
      ],
      "execution_count": null,
      "outputs": []
    },
    {
      "cell_type": "markdown",
      "metadata": {
        "id": "BU1BAGDO6QBf"
      },
      "source": [
        "# TRAINING THE MODEL\n",
        "\n",
        "Once the data above is split into training and test set, we can now use RandomForest to learn from the training data. \n",
        "\n",
        "The sklearn.ensemble module contains the RandomForestClassifier class that can be used to train the machine learning model. We need to call the fit method on the RandomForestClassifier class and pass it our training features and labels, as parameters. "
      ]
    },
    {
      "cell_type": "code",
      "metadata": {
        "id": "wJco-l21Ng87"
      },
      "source": [
        "# from sklearn.ensemble import RandomForestClassifier\n",
        "# from sklearn.preprocessing import StandardScaler\n",
        "\n",
        "# text_classifier = RandomForestClassifier(n_estimators=200, random_state=0)\n",
        "# text_classifier.fit(X_train, y_train)"
      ],
      "execution_count": null,
      "outputs": []
    },
    {
      "cell_type": "markdown",
      "metadata": {
        "id": "wp4YlFhs7XRQ"
      },
      "source": [
        "Once the model has been trained, the last step is to make predictions on the model by calling the predict method on the object of the RandomForestClassifier class that we used for training."
      ]
    },
    {
      "cell_type": "code",
      "metadata": {
        "id": "gCreftKpNiFA"
      },
      "source": [
        "# predictions = text_classifier.predict(X_test)"
      ],
      "execution_count": null,
      "outputs": []
    },
    {
      "cell_type": "code",
      "metadata": {
        "id": "2KHey9XtNkuk"
      },
      "source": [
        "# from sklearn.metrics import classification_report, confusion_matrix, accuracy_score\n",
        "\n",
        "# print(confusion_matrix(y_test,predictions))\n",
        "# print(classification_report(y_test,predictions))\n",
        "# print(accuracy_score(y_test, predictions))"
      ],
      "execution_count": null,
      "outputs": []
    },
    {
      "cell_type": "markdown",
      "metadata": {
        "id": "o6vZxzBmF-_N"
      },
      "source": [
        "The following picture illustrates an example of how the results are portrayed if the program runs smoothly.\n",
        "\n",
        "![ideal RFC score.JPG](data:image/jpeg;base64,/9j/4AAQSkZJRgABAQEAeAB4AAD/4RD4RXhpZgAATU0AKgAAAAgABAE7AAIAAAAPAAAISodpAAQAAAABAAAIWpydAAEAAAAeAAAQ0uocAAcAAAgMAAAAPgAAAAAc6gAAAAgAAAAAAAAAAAAAAAAAAAAAAAAAAAAAAAAAAAAAAAAAAAAAAAAAAAAAAAAAAAAAAAAAAAAAAAAAAAAAAAAAAAAAAAAAAAAAAAAAAAAAAAAAAAAAAAAAAAAAAAAAAAAAAAAAAAAAAAAAAAAAAAAAAAAAAAAAAAAAAAAAAAAAAAAAAAAAAAAAAAAAAAAAAAAAAAAAAAAAAAAAAAAAAAAAAAAAAAAAAAAAAAAAAAAAAAAAAAAAAAAAAAAAAAAAAAAAAAAAAAAAAAAAAAAAAAAAAAAAAAAAAAAAAAAAAAAAAAAAAAAAAAAAAAAAAAAAAAAAAAAAAAAAAAAAAAAAAAAAAAAAAAAAAAAAAAAAAAAAAAAAAAAAAAAAAAAAAAAAAAAAAAAAAAAAAAAAAAAAAAAAAAAAAAAAAAAAAAAAAAAAAAAAAAAAAAAAAAAAAAAAAAAAAAAAAAAAAAAAAAAAAAAAAAAAAAAAAAAAAAAAAAAAAAAAAAAAAAAAAAAAAAAAAAAAAAAAAAAAAAAAAAAAAAAAAAAAAAAAAAAAAAAAAAAAAAAAAAAAAAAAAAAAAAAAAAAAAAAAAAAAAAAAAAAAAAAAAAAAAAAAAAAAAAAAAAAAAAAAAAAAAAAAAAAAAAAAAAAAAAAAAAAAAAAAAAAAAAAAAAAAAAAAAAAAAAAAAAAAAAAAAAAAAAAAAAAAAAAAAAAAAAAAAAAAAAAAAAAAAAAAAAAAAAAAAAAAAAAAAAAAAAAAAAAAAAAAAAAAAAAAAAAAAAAAAAAAAAAAAAAAAAAAAAAAAAAAAAAAAAAAAAAAAAAAAAAAAAAAAAAAAAAAAAAAAAAAAAAAAAAAAAAAAAAAAAAAAAAAAAAAAAAAAAAAAAAAAAAAAAAAAAAAAAAAAAAAAAAAAAAAAAAAAAAAAAAAAAAAAAAAAAAAAAAAAAAAAAAAAAAAAAAAAAAAAAAAAAAAAAAAAAAAAAAAAAAAAAAAAAAAAAAAAAAAAAAAAAAAAAAAAAAAAAAAAAAAAAAAAAAAAAAAAAAAAAAAAAAAAAAAAAAAAAAAAAAAAAAAAAAAAAAAAAAAAAAAAAAAAAAAAAAAAAAAAAAAAAAAAAAAAAAAAAAAAAAAAAAAAAAAAAAAAAAAAAAAAAAAAAAAAAAAAAAAAAAAAAAAAAAAAAAAAAAAAAAAAAAAAAAAAAAAAAAAAAAAAAAAAAAAAAAAAAAAAAAAAAAAAAAAAAAAAAAAAAAAAAAAAAAAAAAAAAAAAAAAAAAAAAAAAAAAAAAAAAAAAAAAAAAAAAAAAAAAAAAAAAAAAAAAAAAAAAAAAAAAAAAAAAAAAAAAAAAAAAAAAAAAAAAAAAAAAAAAAAAAAAAAAAAAAAAAAAAAAAAAAAAAAAAAAAAAAAAAAAAAAAAAAAAAAAAAAAAAAAAAAAAAAAAAAAAAAAAAAAAAAAAAAAAAAAAAAAAAAAAAAAAAAAAAAAAAAAAAAAAAAAAAAAAAAAAAAAAAAAAAAAAAAAAAAAAAAAAAAAAAAAAAAAAAAAAAAAAAAAAAAAAAAAAAAAAAAAAAAAAAAAAAAAAAAAAAAAAAAAAAAAAAAAAAAAAAAAAAAAAAAAAAAAAAAAAAAAAAAAAAAAAAAAAAAAAAAAAAAAAAAAAAAAAAAAAAAAAAAAAAAAAAAAAAAAAAAAAAAAAAAAAAAAAAAAAAAAAAAAAAAAAAAAAAAAAAAAAAAAAAAAAAAAAAAAAAAAAAAAAAAAAAAAAAAAAAAAAAAAAAAAAAAAAAAAAAAAAAAAAAAAAAAAAAAAAAAAAAAAAAAAAAAAAAAAAAAAAAAAAAAAAAAAAAAAAAAAAAAAAAAAAAAAAAAAAAAAAAAAAAAAAAAAAAAAAAAAAAAAAAAAAAAAAAAAAAAAAAAAAAAAAAAAAAAAAAAAAAAAAAAAAAAAAAAAAAAAAAAAAAAAAAAAAAAAAAAAAAAAAAAAAAAAAAAAAAAAAAAAAAAAAAAAAAAAAAAAAAAAAAAAAAAAAAAAAAAAAAAAAAAAAAAAAAAAAAAAAAAAAAAAAAAAAAAAAAAAAAAAAAAAAAAAAAAAAAAAAAAAAAAAAAAAAAAAAAAAAAAAAAAAAAAAAAAAAAAAAAAAAAAAAAAAAAAAAAAAAAAAAAAAAAAAAAAAAAAAAAAAAAAAAAAAAAAAAAAAAAAAAAAAAAAAAAAAAAAAAAAAAAAAAAAAAAAAAAAAAAAAAAAAAAAAAAAAAAAAAAAAAAAAAAAAAAAAAAAAAAAAAAAAAAAAAAAAAAAAAAAAAAAAAAAAAAAAAAAAAAAAAAAAAAAAAAAAAAAAAAAAAAAAAAAAAAAAAAAAAAAAAAAAAAAAAAAAAAAAAAAAAAAAAAAAAAAAAAAAAAAAAAAAAAAAAAAAAAAAAAAAAAAAAAAAAAAAAAAAAAAAAAAAAAAAAAAAAAAAAAAAAAAAAAAAAAAAAAAAAAAAAAAAAAAAAAAAAAAAAAAAAAAAAAAAAAAAAAAAAAAAAAAAAAAAAAAAAAAAAAAAAAAAAAAAAAAAAAAAAAAAAAAAAAAAAAAAAAAAAAAAAAAAAAAAAAAAAAAAAAAAAAAAAAAAAAAAAAAAAAAAAAAAAAAAAAAAAAAAAAAAAAAAAAAAAAAAAAAAAAAAAAAAAAAAAAAAAAAAAAAAAAAAAAAAAAAAAAAAAAAAAAAAAAAAAAAAAAAAAAAAAAAAAAAAAAAAAAAAAAAAAAAAAAAAAAAAAAAAAAAAAAAAAAAERoYW5pZSBTdXlhbnRvAAAABZADAAIAAAAUAAAQqJAEAAIAAAAUAAAQvJKRAAIAAAADMTcAAJKSAAIAAAADMTcAAOocAAcAAAgMAAAInAAAAAAc6gAAAAgAAAAAAAAAAAAAAAAAAAAAAAAAAAAAAAAAAAAAAAAAAAAAAAAAAAAAAAAAAAAAAAAAAAAAAAAAAAAAAAAAAAAAAAAAAAAAAAAAAAAAAAAAAAAAAAAAAAAAAAAAAAAAAAAAAAAAAAAAAAAAAAAAAAAAAAAAAAAAAAAAAAAAAAAAAAAAAAAAAAAAAAAAAAAAAAAAAAAAAAAAAAAAAAAAAAAAAAAAAAAAAAAAAAAAAAAAAAAAAAAAAAAAAAAAAAAAAAAAAAAAAAAAAAAAAAAAAAAAAAAAAAAAAAAAAAAAAAAAAAAAAAAAAAAAAAAAAAAAAAAAAAAAAAAAAAAAAAAAAAAAAAAAAAAAAAAAAAAAAAAAAAAAAAAAAAAAAAAAAAAAAAAAAAAAAAAAAAAAAAAAAAAAAAAAAAAAAAAAAAAAAAAAAAAAAAAAAAAAAAAAAAAAAAAAAAAAAAAAAAAAAAAAAAAAAAAAAAAAAAAAAAAAAAAAAAAAAAAAAAAAAAAAAAAAAAAAAAAAAAAAAAAAAAAAAAAAAAAAAAAAAAAAAAAAAAAAAAAAAAAAAAAAAAAAAAAAAAAAAAAAAAAAAAAAAAAAAAAAAAAAAAAAAAAAAAAAAAAAAAAAAAAAAAAAAAAAAAAAAAAAAAAAAAAAAAAAAAAAAAAAAAAAAAAAAAAAAAAAAAAAAAAAAAAAAAAAAAAAAAAAAAAAAAAAAAAAAAAAAAAAAAAAAAAAAAAAAAAAAAAAAAAAAAAAAAAAAAAAAAAAAAAAAAAAAAAAAAAAAAAAAAAAAAAAAAAAAAAAAAAAAAAAAAAAAAAAAAAAAAAAAAAAAAAAAAAAAAAAAAAAAAAAAAAAAAAAAAAAAAAAAAAAAAAAAAAAAAAAAAAAAAAAAAAAAAAAAAAAAAAAAAAAAAAAAAAAAAAAAAAAAAAAAAAAAAAAAAAAAAAAAAAAAAAAAAAAAAAAAAAAAAAAAAAAAAAAAAAAAAAAAAAAAAAAAAAAAAAAAAAAAAAAAAAAAAAAAAAAAAAAAAAAAAAAAAAAAAAAAAAAAAAAAAAAAAAAAAAAAAAAAAAAAAAAAAAAAAAAAAAAAAAAAAAAAAAAAAAAAAAAAAAAAAAAAAAAAAAAAAAAAAAAAAAAAAAAAAAAAAAAAAAAAAAAAAAAAAAAAAAAAAAAAAAAAAAAAAAAAAAAAAAAAAAAAAAAAAAAAAAAAAAAAAAAAAAAAAAAAAAAAAAAAAAAAAAAAAAAAAAAAAAAAAAAAAAAAAAAAAAAAAAAAAAAAAAAAAAAAAAAAAAAAAAAAAAAAAAAAAAAAAAAAAAAAAAAAAAAAAAAAAAAAAAAAAAAAAAAAAAAAAAAAAAAAAAAAAAAAAAAAAAAAAAAAAAAAAAAAAAAAAAAAAAAAAAAAAAAAAAAAAAAAAAAAAAAAAAAAAAAAAAAAAAAAAAAAAAAAAAAAAAAAAAAAAAAAAAAAAAAAAAAAAAAAAAAAAAAAAAAAAAAAAAAAAAAAAAAAAAAAAAAAAAAAAAAAAAAAAAAAAAAAAAAAAAAAAAAAAAAAAAAAAAAAAAAAAAAAAAAAAAAAAAAAAAAAAAAAAAAAAAAAAAAAAAAAAAAAAAAAAAAAAAAAAAAAAAAAAAAAAAAAAAAAAAAAAAAAAAAAAAAAAAAAAAAAAAAAAAAAAAAAAAAAAAAAAAAAAAAAAAAAAAAAAAAAAAAAAAAAAAAAAAAAAAAAAAAAAAAAAAAAAAAAAAAAAAAAAAAAAAAAAAAAAAAAAAAAAAAAAAAAAAAAAAAAAAAAAAAAAAAAAAAAAAAAAAAAAAAAAAAAAAAAAAAAAAAAAAAAAAAAAAAAAAAAAAAAAAAAAAAAAAAAAAAAAAAAAAAAAAAAAAAAAAAAAAAAAAAAAAAAAAAAAAAAAAAAAAAAAAAAAAAAAAAAAAAAAAAAAAAAAAAAAAAAAAAAAAAAAAAAAAAAAAAAAAAAAAAAAAAAAAAAAAAAAAAAAAAAAAAAAAAAAAAAAAAAAAAAAAAAAAAAAAAAAAAAAAAAAAAAAAAAAAAAAAAAAAAAAAAAAAAAAAAAAAAAAAAAAAAAAAAAAAAAAAAAAAAAAAAAAAAAAAAAAAAAAAAAAAAAAAAAAAAAAAAAAAAAAAAAAAAAAAAAAAAAAAAAAAAAAAAAAAAAAAAAAAAAAAAAAAAAAAAAAAAAAAAAAAAAAAAAAAAAAAAAAAAAAAAAAAAAAAAAAAAAAAAAAAAAAAAAAAAAAAAAAAAAAAAAAAAAAAAAAAAAAAAAAAAAAAAAAAAAAAAAAAAAAAAAAAAAAAAAAAAAAAAAAAAAAAAAAAAAAAAAAAAAAAAAAAAAAAAAAAAAAAAAAAAAAAAAAAAAAAAAAAAAAAAAAAAAAAAAAAAAAAAAAAAAAAAAAAAAAAAAAAAAAAAAAAAAAAAAAAAAAAAAAAAAAAAAAAAAAAAAAAAAAAAAAAAAAAAAAAAAAAAAAAAAAAAAAAAAAAAAAAAAAAAAAAAAAAAAAAAAAAAAAAAAAAAAAAAAAAAAAAAAAAAAAAAAAAAAAAAAAAAAAAAAAAAAAAAAAAAAAAAAAAAAAAAAAAAAAAAAAAAAAAAAAAAAAAAAAAAAAAAAAAAAAAAAAAAAAAAAAAAAAAAAAAAAAAAAAAAAAAAAAAAAAAAAAAAAAAAAAAAAAAAAAAAAAAAAAAAAAAAAAAAAAAAAAAAAAAAAAAAAAAAAAAAAAAAAAAAAAAAAAAAAAAAAAAAAAAAADIwMjA6MTE6MDggMTI6MjM6MzYAMjAyMDoxMTowOCAxMjoyMzozNgAAAEQAaABhAG4AaQBlACAAUwB1AHkAYQBuAHQAbwAAAP/hCyFodHRwOi8vbnMuYWRvYmUuY29tL3hhcC8xLjAvADw/eHBhY2tldCBiZWdpbj0n77u/JyBpZD0nVzVNME1wQ2VoaUh6cmVTek5UY3prYzlkJz8+DQo8eDp4bXBtZXRhIHhtbG5zOng9ImFkb2JlOm5zOm1ldGEvIj48cmRmOlJERiB4bWxuczpyZGY9Imh0dHA6Ly93d3cudzMub3JnLzE5OTkvMDIvMjItcmRmLXN5bnRheC1ucyMiPjxyZGY6RGVzY3JpcHRpb24gcmRmOmFib3V0PSJ1dWlkOmZhZjViZGQ1LWJhM2QtMTFkYS1hZDMxLWQzM2Q3NTE4MmYxYiIgeG1sbnM6ZGM9Imh0dHA6Ly9wdXJsLm9yZy9kYy9lbGVtZW50cy8xLjEvIi8+PHJkZjpEZXNjcmlwdGlvbiByZGY6YWJvdXQ9InV1aWQ6ZmFmNWJkZDUtYmEzZC0xMWRhLWFkMzEtZDMzZDc1MTgyZjFiIiB4bWxuczp4bXA9Imh0dHA6Ly9ucy5hZG9iZS5jb20veGFwLzEuMC8iPjx4bXA6Q3JlYXRlRGF0ZT4yMDIwLTExLTA4VDEyOjIzOjM2LjE3MjwveG1wOkNyZWF0ZURhdGU+PC9yZGY6RGVzY3JpcHRpb24+PHJkZjpEZXNjcmlwdGlvbiByZGY6YWJvdXQ9InV1aWQ6ZmFmNWJkZDUtYmEzZC0xMWRhLWFkMzEtZDMzZDc1MTgyZjFiIiB4bWxuczpkYz0iaHR0cDovL3B1cmwub3JnL2RjL2VsZW1lbnRzLzEuMS8iPjxkYzpjcmVhdG9yPjxyZGY6U2VxIHhtbG5zOnJkZj0iaHR0cDovL3d3dy53My5vcmcvMTk5OS8wMi8yMi1yZGYtc3ludGF4LW5zIyI+PHJkZjpsaT5EaGFuaWUgU3V5YW50bzwvcmRmOmxpPjwvcmRmOlNlcT4NCgkJCTwvZGM6Y3JlYXRvcj48L3JkZjpEZXNjcmlwdGlvbj48L3JkZjpSREY+PC94OnhtcG1ldGE+DQogICAgICAgICAgICAgICAgICAgICAgICAgICAgICAgICAgICAgICAgICAgICAgICAgICAgICAgICAgICAgICAgICAgICAgICAgICAgICAgICAgICAgICAgICAgICAgICAgICAgCiAgICAgICAgICAgICAgICAgICAgICAgICAgICAgICAgICAgICAgICAgICAgICAgICAgICAgICAgICAgICAgICAgICAgICAgICAgICAgICAgICAgICAgICAgICAgICAgICAgICAKICAgICAgICAgICAgICAgICAgICAgICAgICAgICAgICAgICAgICAgICAgICAgICAgICAgICAgICAgICAgICAgICAgICAgICAgICAgICAgICAgICAgICAgICAgICAgICAgICAgIAogICAgICAgICAgICAgICAgICAgICAgICAgICAgICAgICAgICAgICAgICAgICAgICAgICAgICAgICAgICAgICAgICAgICAgICAgICAgICAgICAgICAgICAgICAgICAgICAgICAgCiAgICAgICAgICAgICAgICAgICAgICAgICAgICAgICAgICAgICAgICAgICAgICAgICAgICAgICAgICAgICAgICAgICAgICAgICAgICAgICAgICAgICAgICAgICAgICAgICAgICAKICAgICAgICAgICAgICAgICAgICAgICAgICAgICAgICAgICAgICAgICAgICAgICAgICAgICAgICAgICAgICAgICAgICAgICAgICAgICAgICAgICAgICAgICAgICAgICAgICAgIAogICAgICAgICAgICAgICAgICAgICAgICAgICAgICAgICAgICAgICAgICAgICAgICAgICAgICAgICAgICAgICAgICAgICAgICAgICAgICAgICAgICAgICAgICAgICAgICAgICAgCiAgICAgICAgICAgICAgICAgICAgICAgICAgICAgICAgICAgICAgICAgICAgICAgICAgICAgICAgICAgICAgICAgICAgICAgICAgICAgICAgICAgICAgICAgICAgICAgICAgICAKICAgICAgICAgICAgICAgICAgICAgICAgICAgICAgICAgICAgICAgICAgICAgICAgICAgICAgICAgICAgICAgICAgICAgICAgICAgICAgICAgICAgICAgICAgICAgICAgICAgIAogICAgICAgICAgICAgICAgICAgICAgICAgICAgICAgICAgICAgICAgICAgICAgICAgICAgICAgICAgICAgICAgICAgICAgICAgICAgICAgICAgICAgICAgICAgICAgICAgICAgCiAgICAgICAgICAgICAgICAgICAgICAgICAgICAgICAgICAgICAgICAgICAgICAgICAgICAgICAgICAgICAgICAgICAgICAgICAgICAgICAgICAgICAgICAgICAgICAgICAgICAKICAgICAgICAgICAgICAgICAgICAgICAgICAgICAgICAgICAgICAgICAgICAgICAgICAgICAgICAgICAgICAgICAgICAgICAgICAgICAgICAgICAgICAgICAgICAgICAgICAgIAogICAgICAgICAgICAgICAgICAgICAgICAgICAgICAgICAgICAgICAgICAgICAgICAgICAgICAgICAgICAgICAgICAgICAgICAgICAgICAgICAgICAgICAgICAgICAgICAgICAgCiAgICAgICAgICAgICAgICAgICAgICAgICAgICAgICAgICAgICAgICAgICAgICAgICAgICAgICAgICAgICAgICAgICAgICAgICAgICAgICAgICAgICAgICAgICAgICAgICAgICAKICAgICAgICAgICAgICAgICAgICAgICAgICAgICAgICAgICAgICAgICAgICAgICAgICAgICAgICAgICAgICAgICAgICAgICAgICAgICAgICAgICAgICAgICAgICAgICAgICAgIAogICAgICAgICAgICAgICAgICAgICAgICAgICAgICAgICAgICAgICAgICAgICAgICAgICAgICAgICAgICAgICAgICAgICAgICAgICAgICAgICAgICAgICAgICAgICAgICAgICAgCiAgICAgICAgICAgICAgICAgICAgICAgICAgICAgICAgICAgICAgICAgICAgICAgICAgICAgICAgICAgICAgICAgICAgICAgICAgICAgICAgICAgICAgICAgICAgICAgICAgICAKICAgICAgICAgICAgICAgICAgICAgICAgICAgICAgICAgICAgICAgICAgICAgICAgICAgICAgICAgICAgICAgICAgICAgICAgICAgICAgICAgICAgICAgICAgICAgICAgICAgIAogICAgICAgICAgICAgICAgICAgICAgICAgICAgICAgICAgICAgICAgICAgICAgICAgICAgICAgICAgICAgICAgICAgICAgICAgICAgICAgICAgICAgICAgICAgICAgICAgICAgCiAgICAgICAgICAgICAgICAgICAgICAgICAgICAgICAgICAgICAgICAgICAgICAgICAgICAgICAgICAgICAgICAgICAgICAgICAgICAgICAgICAgICAgICAgICAgICAgICAgICAKICAgICAgICAgICAgICAgICAgICAgICAgICAgIDw/eHBhY2tldCBlbmQ9J3cnPz7/2wBDAAcFBQYFBAcGBQYIBwcIChELCgkJChUPEAwRGBUaGRgVGBcbHichGx0lHRcYIi4iJSgpKywrGiAvMy8qMicqKyr/2wBDAQcICAoJChQLCxQqHBgcKioqKioqKioqKioqKioqKioqKioqKioqKioqKioqKioqKioqKioqKioqKioqKioqKir/wAARCAFLA/oDASIAAhEBAxEB/8QAHwAAAQUBAQEBAQEAAAAAAAAAAAECAwQFBgcICQoL/8QAtRAAAgEDAwIEAwUFBAQAAAF9AQIDAAQRBRIhMUEGE1FhByJxFDKBkaEII0KxwRVS0fAkM2JyggkKFhcYGRolJicoKSo0NTY3ODk6Q0RFRkdISUpTVFVWV1hZWmNkZWZnaGlqc3R1dnd4eXqDhIWGh4iJipKTlJWWl5iZmqKjpKWmp6ipqrKztLW2t7i5usLDxMXGx8jJytLT1NXW19jZ2uHi4+Tl5ufo6erx8vP09fb3+Pn6/8QAHwEAAwEBAQEBAQEBAQAAAAAAAAECAwQFBgcICQoL/8QAtREAAgECBAQDBAcFBAQAAQJ3AAECAxEEBSExBhJBUQdhcRMiMoEIFEKRobHBCSMzUvAVYnLRChYkNOEl8RcYGRomJygpKjU2Nzg5OkNERUZHSElKU1RVVldYWVpjZGVmZ2hpanN0dXZ3eHl6goOEhYaHiImKkpOUlZaXmJmaoqOkpaanqKmqsrO0tba3uLm6wsPExcbHyMnK0tPU1dbX2Nna4uPk5ebn6Onq8vP09fb3+Pn6/9oADAMBAAIRAxEAPwDx+iitjWrCx062sUgS4a4uLWK4eR5lKfMDlQoUH8d1bdLkGPRWxe2NjaeHdPudlw93eo77vOURptkK427cngf3qWHQUl8PXepfb4jJbojm2jG4gM+0bm6Ke+OT64oAxqK1dI02x1O4t7Vrq8S7nkCBIrRZFGTwdxkB9zxxTl03Slvp4J9Xfalx5MTQ2u8yDP3yCwAX6En2osxGRRWsPD1z/wAJJLo7OgeB2Es38CIvJc+2Oah1zTBo2tT2Cz/aBFtxJs27sqG6ZOOtLdXH1sZ9FFPhiM88cQZELsFDOwVRnuSeg96YhlFa+raGunQ6dJb3i3gvkLKUjKgENtwM8kZ7kD6Vcn8KKq6hDa3zT3umxeZcxiDEYx94LJk5I9wM4OKBnOUVsnQUHhubVBfxSSQtGGgiUttD9Mt0zxyBnHc5yBjUdbAFFFFABRVnT7CfU9Qhs7UAyytgZOAB3J9gMk/Stl/C8S+KY9JTUDJDJB54uVg6r5Zf7pb0HrR5gc7RVq5Swjlj+xz3NxH/AMtPNhWE/QYZ/wA6u6vYWUGl6Ze2C3EYvFkLRzyrJt2tt4IVf5UAZFFFFABRRRQAUUUUAFFFFABRRRQAUUUUAFFFFABRRRQAUUUUAFFFFABRRRQAUUUUAFFFFABRRRQAUUUUAFFFFABRRRQAUUUUAFFFFABRRRQAUUUUAFFFFABRRRQAUUUUAFFFFABRRRQAUUUUAFFFFABRRRQAUUUUAFFFFABRRRQAUUUUAFFFFABRRRQAUUUUAFFFFABRRRQAUUUUAFFFFABRRRQAUUUUAFFFFABRRRQAUUUUAFFFFABRRRQAUUUUAFFFFABRRRQAUUUUAFFFFABRRRQAUUUUAFbvin/WaV/2C7f+RrCqzNqV9cWiWs97cS28eNkLysUXAwMKTgUdA6mprP8AyLPh7/rjN/6OaptHbT4fDep21xq1rDNfJEERo5jsKvk7iIyOnpmsX+0r77B9h+23H2T/AJ9/Nby+ufu5x15qtR1YGzo15baVa6hd+eDfmMwWqKp43cNJnHGFyB35qbw2dKtllvr68t1vYj/osFxHIY9399iitnHZe561gUUCN9NXtbVdRhvA+oTXzhpb20nMRdfvFPniJwW5PAzgdqj8WX9hqWvS3OmCQowXdI75D4RRwNoIxjHOc1iUUhhTo1DyqrOsYYgF2zhfc4BP5Cm0UxHTardWS6Xo32PU7a4n01CGjWOUbyZNw2lkAxj1xWhf+JbMPqN3Z3qmK7hdYdPjhZCkkgw7yHG1iOecsTkAYFcTRRv+P4gtHf8ArQ6SxbT08JXtjLq9qlxdSRSqpjmOzbnIJEeM89sj3rm6KKOtw6BRRRQM1dH1W1062vI7i0mle6QR+bDOI2RP4gMo3XgH2+taOr6nZXmt2c+jXsunvHbRo11JK+FIjA2jZHuB6gkZB9hXM0UXEb3iDVIr3T7C2a7Oo3dvv82+YN8wJyqAsAzAc8sO/HFJq/8AyKfh/wD3Lj/0ZWGjtG6ujFWU5DA4IPrVi81G91Bla/vLi6KDCmeVn2/TJoGVqKKKACiiigAooooAKKKKACiiigAooooAKKKKACiiigAooooAKKKKACiiigAooooAKKKKACiiigAooooAKKKKACiiigAooooAKKKKACiiigAooooAKKKKACiiigAooooAKKKKACiiigAooooAKKKKACiiigAooooAKKKKACiiigAooooAKKKKACiiigAooooAKKKKACiiigAooooAKKKKACiiigAooooAKKKKACiiigAooooAKKKKACiiigAooooAKKKKACiiigAooooAKKKKACiiigAooooAKKKKANvUIbS18M6U8dlEbi8jkaS4Z33ArIQMDdt6DHSsSui1a0uZPB+hXMdvK8EUMoklVCVQmZsZPQVztD3fqwN3w7pVvq8qwy6fqEo8wLLdW8qiOBT3YFD05PLCq1nDpK3LwXgvLtzcCOM2rrGpTON2SGJJ4wuB9aTSpNNtZobu7uLxZ4ZBIIoIVw2DkfvC4K/Xace9aena5pkd9qGp3S3EGpXEzPbvFAsqW4Y5JALrlueD2609Lk62GS+H7TT5dZe8kmuoNNmWEJbsEZyxIBZiGCgYweDzxWfrumJpl1B5Hm+RdW6XEQmGHVW7H1IIPPGaks7y3tNUmni1jVLdWH/HxBCBLJnlgw80Y59zmotd1dtZ1BZiJFjjjWKISSb22juzdySSSfep6IrqzNp0YQyqJmZY8jcyrkgd8DIz+YptSQeUbiP7SXEO4eYYwCwXPOM8ZxTW4jXu9O06bw/LqmmC6hWG6EBS5kV/MBBIIIUYIxyOevWpZdGtW8Oz6iLO/wBPMYjML3UodLnccEJ8inOOcjPANLr2p6XfWscGmz3cNtbjFvZtaqqD1ZnEhJY+uPyqGDUNO0zTr6Kwlu7qW9hELCaFYkQZBLYDtuPGB0xkml3H2JtHsdG1GOdri2v4YrS3Ms84u0IBAwAF8rqzEADP8q56tRtSgi8Mrp1qsgmnn827kYABgvCKMHkcknOOay6b3F0CiiigZd0nTX1XUY7ZHWJSC0srfdiQDLMfYCtqfw/pg8XQafFdTR2c0CTI0zqHcsm4JuwFBJ4BPTPesnTdYbTbW6t/sdtcx3QVZPO3g4BzgFGU4z1HfArbfxXYNr9vex2LW6JZ/ZzLCSJUJj2blyxHy846H1NP+vz/AOAL+vyM/WtLtNMtbOZYbi2uZGbzbC8kDuqgjDEqFIB54IB4yKTWre0Gi6Re2tnHaSXSymVYncqdr4H32Yjj3o1LUoLvSLHSrI3N2YJGZZriMK/zYHlqoLccZ68k9Kn8QWtxZ+G9AgvIJIJVSfdHKhVh+89DS/z/AEGc7RRRQAUUUUAFFFFABRRRQAUUUUAFFFFABRRRQAUUUUAFFFFABRRRQAUUUUAFFFFABRRRQAUUUUAFFFFABRRRQAUUUUAFFFFABRRRQAUUUUAFFFFABRRRQAUUUUAFFFFABRRRQAUUUUAFFFFABRRRQAUUUUAFFFFABRRRQAUUUUAFFFFABRRRQAUUUUAFFFFABRRRQAUUUUAFFFFABRRRQAUUUUAFFFFABRRRQAUUUUAFFFFABRRRQAUUUUAFFFFABRRRQAUUUUAFFFFABRRRQAUUUUAFFFFABRRRQAUVv6m62/hTRkhgt1+0xStLJ9nQyMRKQPnxuHAxwawKOtgCiuh8PWWl3tnfpcwSzXcdlNOGZ9qRlQNuAOWP147YPWmeGNKtbu5F3qylrJJUhEYYqZpXOAoI9BljjsPenbWwr6XMGitef7Fp+uajB/Zq3YWd4reN5XCphyOQpDMcDA+YfjR4nsLfTdca3tUMQ8uN3hJJ8l2UFkyeTgmp6Jj62MiiiimAUUV1Ov6bBHHdPoumWEtjEI/9Lt7tpZEyBksolOOcjlaBdbHLUV21poWmtpdvO9gJLRrBpp5y8ouVkA5KIDgqCVw20rjOWriaHo7B0uFFFXtNmgjLRvpi6hcSsqxK8jhR7bUIJJ4xz+BoSuBRorpbvw/af8JjeWUMpi060PmXEmd3koACy57kE7R74pNX0WC48U29lo8AtYbiCKXazlhEGQMzEk5wBkn6UdhnN0V0Pia002yGlz6LEVilhLbpCWMpVyoYg8c7c4xjmm66Vm0DRLswW8c06TeY0ECRb8PgZCgDpQBgUV0F24uvA8NzLBbLOt+YhJFbpGxQRg4JUDPPrXP0dbC6BRRRQMKKKKACiiigAooooAKKKKACiiigAooooAKKKKACiiigAooooAKKKKACiiigAooooAKKKKACiiigAooooAKKKKACiiigAooooAKKKKACiiigAooooAKKKKACiiigAooooAKKKKACiiigAooooAKKKKACiiigAooooAKKKKACiiigAooooAKKKKACiiigAooooAKKKKACiiigAooooAKKKKACiiigAooooAKKKKACiiigAooooAKKKKACiiigAooooAKKKKACiiigAooooAKKKKACiiigDf1NFuPCmjPDPbt9milWWP7QgkUmUkfJnceDngVgUUUdbgbOiaxZaTHcGaxuLiW4ge3dlulRQjDsNh598/hRZ+JLiwkt47aONrK3m82KC4hildckE/vCmQTjqMdvSsaii+txW0sdFa+KIY9du9UutNWSeXd5BhdIjb5JO4fIQzc/eIz3rGvprae4MlpFcRhuX+0TiVmbPJyFX+VVqKQwooopgFa6ava2djdQaVZSwyXcflSy3FwJSEzkhQEXGSBknNZFFAHRweKYobi1vvsDHUbW2FvHILjERAUqGMe3Odp6BgM9q5yiih6u4grY0HWrbRvtDvZSy3Mi7IriKcRvAD125Rhk9M9R2xWPRQBqJrb2PnxaSnlW1xtMsV2sVzuIzg5aMDv6VcvfGF9cXYntora3/wBGW3dfs0T71AAOcp0O0cdB0Fc/RQM2NT16bWbKxs2t7aL7OuwusUabiWJzkKNg56Zx3qfXQsOgaJaGe3kmgSbzFgnSXZl8jJUkdKwKKAOgu0Fr4HhtpZ7Zp2vzKI4rhJGCGMDJCk459a5+iijrcXQKKKKBhRRRQAUUUUAFFFFABRRRQAUUUUAFFFFABRRRQAUUUUAFFFFABRRRQAUUUUAFFFFABRRRQAUUUUAFFFFABRRRQAUUUUAFFFFABRRRQAUUUUAFFFFABRRRQAUUUUAFFFFABRRRQAUUUUAFFFFABRRRQAUUUUAFFFFABRRRQAUUUUAFFFFABRRRQAUUUUAFFFFABRRRQAUUUUAFFFFABRRRQAUUUUAFFFFABRRRQAUUUUAFFFFABRRRQAUUUUAFFFFABRRRQAUUUUAFFFFABRRRQAUUUUAFFFFABRRRQAUUUUAFFFFABRRRQAUUUUAFFFFAGroujxapFfTXF59kis4hK7eUXyNwGAARzz/+rrV238Kpeanp0NrfE2uoQySxXEkO0qUDblZQx7r1BPXNQ+HtTtNOsdXW8WORri2CRQyB9sjbwcEqQRwM9RUcXiW7h1K2u4YbeNbWJooLdVPlxqwIPfJJ3E5JJzQ/6/H/AIAl1v8A1t/wSWHw9b6hNaQ6PqaXMlxO0DJLH5bLgZ3hcklMZ5wDxjGak1PwpNZaf9rg+2FBOICt5Zm2Yk/dZcscg4PoRxxWNY3s+m30V3aNsmhbcpIyPxHpU13qMVzhoNNtLKQPv8y3aXP0wzkAfQU9A1J9W0uy0qWW0N/LPfQkLIiW4EQb+IBy+Tjn+HtVmdX/AOEHia31CWS1F6Fe1ktlTbKY8lg4YkjHHOPpVPUdZ/tTfJc6faC6kwZLqMOrse5K7tmT3+XvUp15Tox00aVYiEv5m4Gbd5m3bv8A9ZjOO2Me1Lox9SWDw8kmgJqckt3IrhywtLQTLDt/56NvGw9+nTmn6EHOj6uLPUJYJfsjPPD9mVkljDAY3lsg5bsPxqpp2uHStklnYWq3SKwW6JlLjIIzjft6H+7il03XBplrNCmm2cxnjMUskpl3OhIOPlcAdB0APFD627C7Ba6TbnRxqWpXclvA8xhiWGESu7AZY4LKABkd+/Sr7eFI7c6m99qPlwWKxOJI4C5mSTlSASMHpwfXrxWdBrZis3s5rG1ubUzGaOGXzMRMRg7SrBsYxwSegp0/iK9uYdRjmETDUDH5mFxsEZ+VVAOAB078CgCLWNMXS7mFI5zPFPbpcRuU2NtYZwRk4P4ms+reoajNqLW5nVF+zwJAuwEZVehOT1qpQMKKKKACuil8NWUH2WO41lIri7tBcxq8OEXKbgruW4yeAQD+Fc7VzUdTm1N7dp1jU29uluuwEZVRgE5PWjoLqbeneC7i9s7OR2ulkvVLRGGzaWJB0UySAjbk+gOByaoRaJFFpsl7q121tGJ2t0SGESu7r97gsoAGRzn8KjXXC9nb299p9nei2UpFJN5isq5ztyjrkA5xnPWm2usvb6e1jPaW15a+Z5qRzhx5bYwSrKynkY4zjgUPfQFtqO0zSE1O4uBCb6WOL7otbIzSMCeCVDAKOOfm6kYzyRfhtLrw144t7KC8lU+dCrPHuiLoxVtrDtwRkVQtNba1tbq0NjazWtxKspgk8zajDOMFXDd+5NSP4ilm1v8AtS5sbOadRHsUh1RCgABAVh6Djp7U07NMHqmR6tcz2fivUJ7SaSCZbuXbJE5Vh8xHBFWvGpLeML0sSSRGST3/AHa1SudVju9Ua9m0y0JkLNJEGlCOxJJY/PkHnsQPajWdYbWrv7TNZ29vM333g3/PgADIZiOAO2KlaJIb1ZnUq43DcSFzyQM4pKKYjsby4tdN8I6aum6pqNstws7nyoBH9obdt/eYl4HGP4uPyqlbGzuPBGqGPT4Y5bZrcCc/PIzMx3Hceg46DH49axrnUZrrT7OzkVBHZhxGVBydzbjnn1q7a6+LTS5bBdKsZIp9nnFzNukK5wTiQY6npgUPZ/11Ap2mmT3kJkhktVUHBE13FEfydgfxq7oug/2ta3M/mTsYGVfItLcTytnPzbNy/KPXnrWNVyxvorMHzNPtrp9wZXmeUFfpsdaasDuWrLR4rn7fPNdSW9lY48yRocykkkKoj3dSR/ewPWiz0m1vprqSG8lSxtIfNlmkgAk6gABA5BJJA+8KUeJLxr2+nuo4Lpb85uIJUOxsdOhBBHYg5qK31lrS6ne3srVLe4i8qa0O9o3X8WLA5AOQwIIpLzH1NC18LR319paWd+WtdSMipNJBtaNkHIZdxHpyG71X/sK3ufs8elanHdXEtyLZopE8s5I4deSSnXkgHpxzSReJrq3v7K4tre2hSx3eRboreWC33icsWJOepPYVmW91NaXkd1bP5c0Th0YDoQcihWvqLobuq+EpNP025vI2u9lrIqSfarJoA4JwGQkncM+uDyK5ytC/1OK/8xv7Ls7aWR97SwGUHPfguVH5Vn0hhRRRTA29J8PjUtLkvTJdP5cvlmGytftEi8Z3Mu5dq9geeQaqjSlbw/NqiTkrHdLbiMpgsCpbdnPHTp+tJpuqpprxyLp1rPPFIJEmlaUMpHI4VwOCPSprfxDcRR3Ud1b217Hczi4dLhWwJBn5htK+p46e1Dt0/rb/AIIkXj4VhiudSW61LyodPgimeQQFi4cDgDd1+bHXB74oh8KR3F3CI9R22c9k92lxJAQQEzuVlBOCCD0JqS28TRTw63carFbyT3kEMccGx1jkKMo/hII4Geo/pTdI8RxjU5ZtRWGK3TT5ba3t0V/LGV4Tg7uSTkk5560/6/P/AIAL+vw/4JFD4WS++xTabfGS1uGkWSWeHyzD5Y3NlQzZ+XkYP5VB/YVvc2cV3pt7JNCbpbaXzrcRtGW+62AzAjr3B496aniW7gntWs4be2htSxS2jUmNt3D7txJbI45PTpio5Ndk8qGG0tLazginFwYoQ5EjjoWLMTx6ZA5NCtcHexb1HQLDT5L2H+2VkubKQLJH5O0ON207CWyzDgkYA68nGam1+z0eHTNLe3muEley3LizRfNO9xlyJODxj+LgD6VhX97JqOo3F5OFWS4kaRggwASc8Zq1JrLT6XDZ3VlbTG3jMcM7bxIikk44YA4JOMg1P2R6c2hm0UUUwCiiigAooooAKKKKACiiigAooooAKKKKACiiigAooooAKKKKACiiigAooooAKKKKACiiigAooooAKKKKACiiigAooooAKKKKACiiigAooooAKKKKACiiigAooooAKKKKACiiigAooooAKKKKACiiigAooooAKKKKACiiigAooooAKKKKACiiigAooooAKKKKACiiigAooooAKKKKACiiigAooooAKKKKACiiigAooooAKKKKACiiigAooooAKKKKACiiigAooooAKKKKACiiigAooooAKKKKACiiigAooooAKKKKACiiigAooooAKKKKACiiigAooooAKKKKACiiigAooooAKKKKACiiigAooooAKKKKACiiigAooooAKKKKACiiigAooooAKKKKACiiigAooooAKKKKACiiigAooooAKKKKACiiigAooooAKKKKACiiigAooooAKKKKACiiigAooooAKKKKACiiigAooooAKKKKACiiigAooooAKKKKACiiigAooooAKKKKACiiigAooooAKKKKACipJoJbaUx3ETxSAAlHUqQCMjg+1Ty6Zdw6XBqMkWLWd2SOTcPmI6jGcigCpRRRQAUUUUAFFFFABRRRQAUUUUAFFWotMv57N7uCyuJLaPO+ZImKLjrlgMCqtABRVy00jUr+Iy2On3VzGG2l4YGcA+mQOvNIuk6i961mlhdNdIMtAIWLqPUrjPcUCKlFPmhlt5nhuI3ilQ4ZHUqyn0IPSmUDCiiigAooooAKKKs2mm32ob/sFlcXXl43+TEz7c9M4HHQ0AVqKKmtbS5vZxDZ28txKRkRxIWY/gKBENFWPsF4L77EbWf7Vnb5Hlnfn029abdWd1YzeTe201tLjOyaMo2PXBoGQ0UUUAFFFFABRRRQAUVNa2V1fTeTY201zLjdshjLtj1wKZNDLbzPDcRvFKhwyOpVlPoQelADKKdHG80qxxIzu5CqqjJYnoAKs3OlahZyxR3dhcwSTHEaSwspc+wI56igRUoq5d6RqVhEJb7T7q2jJ2h5oGQE+mSKp0DCiiigAooooAKKKUAkgAZJ6AUCEoqaWzuoLv7LNbTR3GQvkvGQ+T0G3rzmpp9I1K1liiutPuoZJjtiSSBlMh9FBHPUdPWgZToq9caHq1nA093pl5BEv3pJbd1UfUkVG+mX8Vkt5LZXCWrY2ztEwQ56YbGKAKtFFFABRRRQAUUUUAFFFFABRRRQAUUUUAFFFFABRRRQAUUUUAFFFFABRRRQAUUUUAFFFFABRRRQAUUUUAFFFFABRRRQAUUUUAFFFFABRRRQAUUUUAFFFFABRRRQAUUUUAFFFFABRRRQAUUUUAFFFFABRRRQAUUUUAFFFFABRRRQAUUUUAFFFFABRRRQAUUUUAFb+n29hD4RudSubBLu4S8SGMSSOqgFCTkKRnp6j+hwKkFxMLY24lkELMHMW47S2MZx0z70dBdTsZdA0uC+1mcpCsNolu0UVy8pjTzVBJJjBcgdB9Rk1WtdL0W+1x/sRhngi09p5I/MkjgWYDG3e+1gmcHJPfGa52PVL+G7N1FfXKXBXaZlmYOR0xnOccD8q0NM8S3Npfz3V89zeSzQGETfaCs0Yz1SQhsH8O5p6AaE+nWF9qekWGnWVmLqRS12ltduyA5Jx5hZhjaMnbk9RyaTU7HTrfw/aatb2tlKxumhZYGuBDKu3PPmEPkH+6cVS1XxNPfrZrAbmNrMsyXE9yZZyxP/AD0wuAMDAArNu9Tv79QL6+ubkA5AmmZ+fXk0ugG742uom1qSJdPt43aKFhcK0m4jy19XK47dO1VNQgtJPCtlfwWUVtO9zJC5idyGCqpBwzHnk9MVmyapfy2a2kt9cvbJjbA0zFFx0wucVLLr2sTwNDPqt9JE42tG9y5Vh6EE0PqC6G7Fo+mywQa19nUaalkzzweY3NwvybM5yMsyt16E0tnpmjWuj6Xc6kbUre72medrjcoDbdsflgrkAZ+bPJ6YrlxdXAtDaieUW7NvMIc7C3rjpn3qe01fUtPiMdhqF1bIx3FYZmQE+uAaYEF0sKXkyWshkgWRhG5GCy54OPpUVKzM7lnYszHJJOSTSVK2GFFFFMAooooAKKKKAPRbIwQ6t4Wlj86ctaxrDFH8sUYwfOdm7n72VHpyex4ee0e5ur2bTreWW1hdmLxxkrGmTgnHQY9aji1K+hs3tIb24jtpM74UlYI2euVzg0yG8ubeGWK3uJYo5htlRHKiQejAdfxoerv6/iJaL7jQ8N2EV7qvmXgJsrRDcXPui84/E4H41bTX49QXVotVM8balKkgltkDspU8IVJXK4PrxgdawkuZ4oZYY5pEimx5iKxCvjkZHfFSWeoXunszWF3Pas4wxhlZCw98GgDZ8ZCJNSs4YzKZYbGKObzgA4YA8MB0O0rx26Vz1KzFmLMSSTkk96SkMKKKKYBRRRQAV2Vr5EfhLRJx58pS8kxa23ymW43DbucfdwuMdSc8Y6jjas2mpX1gHFjeXFsJMbxDKybseuDz1NNOwjX8T2zX/jbUYtKt3uGaUkxwIWO4Ab+B/tZqrpGoW1rY6jY3vnxJeIi+dAgZ0KtnG0lcg9+R0FZ9td3FlOJrO4lt5QCBJE5VgPqKdaX95YStLY3c9tIwwzwyFCR6EiktFYZ0muW9w+paRp2kG7a++wLBIr/JJgliFYA/L8h5BPC4yeKz/EN1bi20/SrWZbr+zo3SS5X7ruzbiFPdR0B781lwX95a3TXNtdTw3DZzLHIVY568jnmn3mq6hqCKt/f3N0qnKiaZnAPtk0PUCpRRRQAUUUUAFFFFAHUaGlu/gvVTNLLGi3ELXIhXLvFzhR2A3Y5PA9+hb4wP2zU9MWC2dbl7GJXgyXcMSdqk9S20r71z9re3VjN51jczW0uNu+GQo2PTIpDdXBu/tRnk+0b/ADPO3nfuzndnrnPejdiWiNrwrb3lt4wgi2G3uIRIXSWIlgAjFhtyDkjOBkVfurq3g8O6bfaTFJHYW+pszW07ZdpBhgQ/TbtAGABg9d3WuXa8uXvPtb3ErXO4P5xcl9w6Hd1z71JcapqF3PHPdX1zNLEcxySTMzJzngk8c0X0QGvqNvZarpF7r1tHcWkv2vDxzSrIkpfLEIQqkEdwc8Y5rnqs3mo3uoMrX95cXRQYUzys+36ZNVqQwooopgFFFFABU9ne3FhP51nKYZdpUOoG5QRg4PY+45qCprW7ubKcTWdxLbygYEkTlWH4igR2l0Lhviyn2R1SUKjZdC4wIAT8oIJOM9x9azdWa2m8GxyaQklvYrqDB4LjLOZCpwQ3TG3AxjIPUt1rDuNY1O7eJ7rUbuZoW3RmSdmKH1GTwaZeaje6gytf3lxdFBhTNKz7fpk8UPVWGbV1s0fw9ZadICsuoMt3eeoiz+7T8st+IrprtraDxFr6z+dP5llIZJD8sMUO0eUqj+I5288DPQHrXnVxcT3czTXU0k0rYy8jFmOOOpqWTUr6WzSzlvbh7ZMbYGlYouOmFzgUPVff/kJaP+vUrUUUUDCiiigAooooAKKKKACiiigAooooAKKKKACiiigAooooAKKKKACiiigAooooAKKKKACiiigAooooAKKKKACiiigAooooAKKKKACiiigAooooAKKKKACiiigAooooAKKKKACiiigAooooAKKKKACiiigAooooAKKKKACiiigAooooAKKKKACiiigAooooAKKKKACiui0ExQeGdcvGtbeeeDyPKaeESbCzEEgHj8+K14LCwn16F5LaITS6MlxHFFArCScgZKxZCscZO3gEjpTt/XyuI4aiu6t7axbxPosN7pssMj+akpvNPS1SfIOzEYJXIJxkY7d6y59PuNF8I29xdWMcF6b9sfaIFZ9nl9GVgeMgkAj3pdL/ANbh1sYF7ZXGn3Rt7yPy5VCsV3A8EAjkexFQV1vjRtQnuTcCzQ6dLFCyXSWaAN+7X/lqFz1yMZ9qXxPe2ena1e6cmk2f2drdVXy4lR1kKKRIGwSMH+EYB/EmjuNa2ORrRtNIa80y5vIbu3zap5kkB3hwuQM/d29SO9dho+hp9it47u2Sa2msGmLrpyGPJViP9ILb94OOAPbGOaxvDWl6hPousyQ2NzIk9nsiZIWIkYSLkKccng9PSh6Nrt/wf8hLozl6Kc6NHIySKUdSQysMEH0NNoGFFFFABRRRQAUUUUAaVt4e1O7tUuILYMkgZo1MqB5QvLFEJ3Nj2BrNr0WxKNdeH9UtLX7RHDbxJPdyt+5s1jH7wEDo/U5b1GATzXGnTrnVpNSv9Ot91rbs0shLKPLQkkcE89O2aJaP7xLVFay0y61DzDaxqUiAMkkkixomeBlmIAz2yeakttHvbu4nht0jc24zLJ56CNB0yZCdv681uaQDceDHt7TTBqlwl/vkt/3hKqUAVtqEMeQwznAz7itJLHTkTXdLsIZLoxzQTiyt5ctKADujDckhGbnAJwPxDat/XoBxd9YXOnXRt72IxSABsZBBB5BBHBB9RVeuj8Y3Aln06CSKKK5trNY54ouFiO5iI8eqggevrzXOVIwooopgFFFFABWhYaHf6nD5tpCpj8wRB5JkjDOeiqWI3N7DJrPrtNNiF94W0o2Fi2o3dncSI0Gf3cLO24SSAckYHHReDk9i0riOOlikgmeKZGjkRirIwwVI6gipbSylvZGSFoFKjJM06RD83IB+lbes20vibxxepoaLctI5K7XUB9qgMwJIGMgmsrTLS6nvCLbS21Ixgl4QkjD0ydhB/WktdxvyFOh6iNTFh9mP2grvADqVK4zu3Z27cc7s4qK+02607y/tSKFlUtHJHIsiOAcHDKSDg+/FdTfXM0OvwxQ2Ul3Lc6YLe60+3OWgGCNiYBKkBVOCCRznNUPEZtrXQ9N02O2e2uI3kmkhlm8ySINtwHIAAY4zjAwMZ5NDBf19xzdFFFABRRRQAUUUUAW7HTLvUfNNpGpWFQ0kkkixogJwMsxAGT70y9sbnTrtra9iMUq4ypIOQehBHBHuK6Lw4kN54X1G0FvNd3EdxFcfY4Gw06gFccc7QTk45+nUM8UmTUtZ0yxhhiF6ltFbSQwkBUkLHEY5wMbgOTx3NDWtkJao5itC40LUbQ2gu4Fg+2LvhMsqICPUkn5eo64q1ptjb6d4kaDxE0dt9kyzRSAuruPuoSgbgnqcHjNanikNeaDpFzJqMF3cSNOf3SSZlLSfwgoOB0wce2aOiaAwrjQr61sHvXFu9ujhGeG7il2seg+Rie1Z1dB4iP8AZtnZ6DHgG2XzrvB6zuOQf91cD865+jqPoFFFFABRRRQAUUUUAOjjeaVY4kZ3chVVRksT0AFWr3SrrT2VboQh2bb5cc8cjqfRlUkqfrir/g6WKHxZZvcMFX51UltvzFGC89uSOat6jpzW+kwXR0x9I1T7YI4IYzKHmXGdwVyWyGwARwc0xGNqGj3+lRwNqFs1uLhS0YcjJwcHI6g+xxRHpF9LpEuqJbk2ULhHlLAAE44xnJ6jpXQa5pV8vhjQDe21zAkQmFxLLC/7ndLwW4yOufetCdrK78N6vb2Oq2n2C3it4oBsmBUCTJZ/3f3mPPGfyGaT0uBwVFFFAwooooAKKKKACiiigAooooAKKKKACiiigAooooAKKKKACiiigAooooAKKKKACiiigAooooAKKKKACiiigAooooAKKKKACiiigAooooAKKKKACiiigAooooAKKKKACiiigAooooAKKKKACiiigAooooAKKKKACiiigAooooAKKKKACiiigAooooAKKKKACiiigAooooAKKKt6hb2ltcIlhe/bYzGGaTyjHtY9VwfT1oAqUVb1PTpdKv2tLhkaRVViUJIwyhh1A7GiW3tF0uCeO98y6d2Elr5RHlgdDu6HPpQBUooooAKKKKACiiigAooooAKKKKACitq28MXdzFbf6RaxXF4he2tZHYSTKOhHG0ZwQNxGaxmUqxVgQQcEEdKBCUVdsrCG7TMmpWtq5baI5UlLN7jYjD9c1ZuNAa01S7srvUbGA2mPMlZ2KknHCgKWJ55wvGDmgDJoq3qemz6VfG2uSjHarq8ZyrqwyGB9CKqUDCiiigAooooAKKK1LHQpbyzjupru1soZpfJha5Zh5rd8bVPAyMk4HPWi1xGXRU13aT2F5La3cZjmhYo6nsRVnTNJfUxcsLiC2jtYvNkkm3YC5A/hUnqR2oWoyhRWnaaMb/VfsVpfWso8tpDPiQIAqlj1QN0HpVS8torZ1EN7BeBhktCsgC+x3qv6UAV6KKKACiiigAooooAKKv6fpMt/b3FwZoba2tgvmzzltoJOAoCgkk+w7UzU9Mn0q7EFwUfcgkjkjbKSIejKfQ0AU6KmtLSe+u47W0jMs0rbUQdz/T61PdaclvPHDDqFndO77D5LMFQ5xyzqq49wSKBFKitO90OS1sWvILy1vYEm8mR7YsfLbGRncoyDzgjI4rMoGFFFFABRRRQAUUUUAFFFamr+H7zRbezlvTEDdqWWNWJaPGMhuODyOOaBGXRWpdeH7yy0G31a4MSw3DhEj3HzBkEgkYwAQOOaI/D95J4dl1omJLaNgoVmO98sFyox0ycZz60AZdFFFAwooooAKKKKACiiigAooooAKKKKACiiigAooooAKKKKACiiigAooooAKKKKACiiigAooooAKKKKACiiigAooooAKKKKACiiigAooooAKKKKACiiigAooooAKKKKACiiigAooooAKKKKACiiigAooooAKKKKACiiigAooooAKKKKACiiigAooooAKKKKACuu0J75PAt4dMuY7Wc36DzWnSEgbDnDsRg/Q5xntmuRqwt9crpz2Ak/0Z5RKybRy4BAOevQmjoxdUzsbjUreefVTo99BDqrpbj7X5wh80qMS7JDgDLYPUZAPWq8mpBPEWnzRta3l9FZeXeTNdJGGfBGRMSBvCkDcCeR3xXHUUAdHrPmvq1jJZ6tNLeNHkm41FJDbMCcDzwQvPXtjPrUniie5j1Cx1GDUI3nS0hjea3vUeQSBMNnaxb156e9cxRR0t53GdV4tvr3UJPtEWqi406WOIiH7apIbYAcxbsg5z2pdVF1c+DbSO81C2ubi3nkdlbUYpHWMqoUD5yT0PA/KuUoo6MS6HZQ6raHTYdekuV/tS1tGs1iLje0n3Ukx1ICMefVRU+kalBb6Fpv9nyfvImc3cA1SK0Ej7s/vFkX94CuB1xjI4rhqKdwJrx0kvp3jiWFGkYrGjBggz0BHUD1qGiipWiGFFFFMAooooAKKKKAO+stVtRJouo209lbi2gjjvZpZV89BGMGNEJzhh3UEncQSBkVyf2X+1n1G/FzaWojYzeTNLtaTcSdqDHzEf4Vm0UPV3/rUS0RteGmtrS8l1O7kixYxmWKJ2GZZeiADqcHk+mKNDsINZ1Ke41a9ijjTMsoknSOSdic7VLkDJPU9qxaKA6Gr4jnuLrVmnuhbpuRRFHbXCTJGijaq5UkcAf171lUUUhhRRRTAKKKKACuw0y8iuPDmnR2cljDqFlM6GS8lVPJR23eYiscMe3cjAwMkGuPopp2EdBqZi8UeMruS2u7a1imYlJ7uTy0IVQMk44Jxn8ap6LNfwTXCabNaJ5keyUXTwhHXIOP3vB5ArLopLQDp7y6EXiC3k8PyWMV2LUJdOpiS3aTBD7d/wAmCOOOCc4qr4he0a009QLT+0lVxdmyVBHjOUHyfIWxnJX6HpWFRQAUUUUDCiiigAooooA6bw9dWzeH76xkW1e7WeO5t0u5RHHIQCpySQDgHIUkA+/Qs8SXY1nWdPtftkDyQwR20t0WCxb9xJORxtG7GRxgccVzlFG71EtEdBoLwaJ4wEd1cW0saiSHz433RZZCoO4Y+XJ5P1qXUoop9JtoLx9MTVJLvCPaGFUSEgDMjRfL97pnkDNc1RR6gdTrkCadog0zTJ7Se0RxLcXKXkTPcSYwNqBiwUZ4GM9zXLUUUhhRRRTAKKKKACiiigDR0G5sbLVo7nUllaOEF0EaB/3g+6SCy5APOM84xW/qF5odzp2jSX9/eXgSaeSdFhQSOGcE7h5ny57dcj0rj6KLiOy1LUtJ1Pw7M9xqVy8kmoiUxi2RXCiPaAF8w4UDgH2Ax3qSfVNFvtG1dEvrmGHyoIre3e3QMiI+Qqjzfn9WPHUn2riaKQBRRRTGFFFFABRRRQAUUUUAFFFFABRRRQAUUUUAFFFFABRRRQAUUUUAFFFFABRRRQAUUUUAFFFFABRRRQAUUUUAFFFFABRRRQAUUUUAFFFFABRRRQAUUUUAFFFFABRRRQAUUUUAFFFFABRRRQAUUUUAFFFFABRRRQAUUUUAFFFFABRRRQAUUUUAFFFFABRRRQAUUUUAFFFFABRRRQAUUUUAFFFFABRRRQAUUUUAFFFFABRRRQAUUUUAFFFFABRRRQAUUUUAFFFFABRRRQAUUUUAFFFFABRRRQAUUUUAFFFFABRRRQAUUUUAFFFFABRRRQAUUUUAFFFFABRRRQAUUUUAFFFFABRRRQAUUUUAFFFFABRRRQAUUUUAFFFFABRRRQAUUUUAFFFFABRRRQAUUUUAFFFFABRRRQAUUUUAFFFFABRRRQAUUUUAFFFFABRRRQAUUUUAFFFFABRRRQAUUUUAFFFFABRRRQAUUUUAFFFFABRRRQAUUUUAFFFFABRRRQAUUUUAFFFFABRRRQAUUUUAFFa1p4X1e+s47q1tQ0Mil0YzIuVDbWOCwOAep7cE8VY0vRZ4tWube+0yK8kgRle1a+SFgdudw+bLYAzxkUPTcDBoq1Y6ddalM0dnFvKIXdiwVUUdSzEgKPcmpodDv7m+aztIkuZ1jMhW3mSXKjrgqSCfYc0CM+itKXw9qcVzbQG2Ej3RKw+TIkgcg4I3KSOO/PHeo7zR7ywt0uJ0jaB3KCWGZJU3AZ2lkJAOOcGgZRoorRfQNRjs5LkwoUiQPKqzI0kanoWQHcvXuKBGdRWh/Yeo/wBow2P2cG4mjEsa+YuGQru3bs4xgE9afYeHdT1KOKS0gjKzOUi8yeOMykddoZgWx7ZoAzKKfNE0EzxSbdyMVO1gwyPQjg/UUygYUUUUAFFFFABRRRQAUV1mneFbS6msbGT7W93eW4neeJlEVqGHybgRlu2fmXqAMmuXnhe3uJIZOHjco31BwaHo7CI6K0tIhs7u4itJrK7ubmaUJH5N0sY5wACDG355rYh8Pabc6hrSWEV/fw2AQQxwSL5kpLBW5CHIzkjA6CiwHK0VZv4lgvpIktri1CHBhuW3SKcc5O1f5Cq1IYUUUUwCiiigAoorotL0K1lsrCW8ivLmbUJmWKK0dU8uNDhnYspzyenAwCSaEriOdoq9rWmNo2s3Onu4kMD7Q4GNwxkH8iKis3skZvt9vcTg42iCdYsfXKNn9KFqPYrUV1v/AAjemv4ng0uNL3d9kaa4gEys6y7C4jDBMegPHU1g6tarZ3CRDTr2wbbkx3j7mPoR8i4H4GjYChRRRQAUUUUAFFFFABRWxpOlW8+m3F/ercSokqW8NvbEK80rZOMkNjAB7HPFHiXRBoeoxxIZPKnhWZFlILpnIKsRwSCCOKNg3MeipbZrdZwbyKWWLusUgjY/iVb+Vb8uj6W1vo7Rx3ltNqNwB5Uk6yYh3bd/CLgk5x14FFhHN0VueItKi0mZ4Y9M1K2CzMiXF3ICkqgkZUeWvXg9TWHS3GFFFFMAooooAKKKns/sn2kHUPOMABJWDAZjjgZPA574OPQ0CIKK6eLw1Z3txpL20lxDb38UsrQyMJJV8vOQpAUHdjjj86pXWm2T6LDqtml3b25ufs8qzFZSDjduVgFB4zx69+aP6/QDForcudO02fQLjUtMF1CLe5WErdSK/mhgSCNqjBGORz161fvPDem2+n3MyvceTHbCSDUTMhhuZOP3aptznO4Y3EjGSKP6/UDlKKKKBhRRRQAUUUUAFFFFABRRRQAUUUUAFFFFABRRRQAUUUUAFFFFABRRRQAUUUUAFFFFABRRRQAUUUUAFFFFABRRRQAUUUUAFFFFABRRRQAUUUUAFFFFABRRRQAUUUUAFFFFABRRRQAUUUUAFFFFABRRRQAUUUUAFFFFABRRRQAUUUUAFFFFABRRRQAUUUUAdNbeJLOHQYbJo5zJHYXFsSFG3dJIGB69MDmpY9f0l/F1zrUz3qK4ZUiS3RiQ0WzJPmDByc45+tcpRQ9Xr/VxG1p+oafaQ6lp8r3T2V6iATpEqyIVO4HZuIIzwRu6d6NK1Gx0fULqSGS5nils5YUdoVRg7LgZG88e+fwrFooH1NXQtabS9Qhe4M0tqgkQxI/3A67WZQeAe/vin3OoWMGgvpmmtcTia4E8ktxEseNqkBQoZvU5OfTiseijcArr7jxJoy2eoxWFvJEt1beTDCtlDH5PTrICXfp1P5HtyFFG6sHW50UXiOFPDn2donOpRwvaRT4G0QMQTk5zkfMBx0auh0eBjoWhGG0llmQSNDdxWbXC27M55ZvMRVx1wwYDGa88op3FYnvovI1C4iE6XASRl85DlZMH7w9j1qCiipWiG9WFFFFMAooooAKKKKAOrh8U2jwaVJefa/N0xRttYgvkzug/duzZBBHAPDcDjGaw4ZbC4jvptVN2byT5rcwbdhckk78846dKoUUPUDU0TUoNJa6uisjXnktHalQNqM3BcnOcgE44PJqpZpZOz/b7i4gAA2mCBZc/XLrj9arUUCNPXtVXV9QSWJHWKGFIIzI2XdVGAzH+8f8A61ZlFFAwooooAKKKKACuistdtZPDsOk6nJeQxQTF82iK3nxk5KNlhjB5B5HPTgVztFF7CNiTUrHV/Ek9/rq3KW0xJKWhUuvGFALcHAAFV9GubKy1iG6vo5JYYG8xY0AJdhyoOSMDOM1n0ULTYC358d/qUtxqk8qec7SSSRRCRtx56Fl7+9W9W1SC506w06zEzwWIfbNOAHcuQT8oJCgY4GT61k0Uulh9bhRRRTAKKKKACiiigDd0TXUsdKvtOuJbi3juSrpcWyhnjYcEYJHBBIOCPxHFQ6jqVpqOpWask6adaRpbqBjzTGDy3puOScdB0rIoo6i2Lc/9nnVD9mNyLDzBgyBTKE78DAz1qxrGpRatrTTgPBaDbFEgG4xRKAAAM4zgZxnr3rMoo6DNqbU7K28PzaVpz3NwLmZZZJLiMRhNo4CqGbk55bPQAYrFoooAKKKKACiiigAq7pDacmpxPrSzvaKcukAG5/QckYHrzn+dUqKE7CN3U9Stb7VobxdRvVKMAuyzWIWyL90RgSnp6ZHrnNO1TXkv7W2097q/ubZJvNnublt0rnp8qliAAM4G45JzxWBRQM6HXNT0q8s47bTJ7yG1th+4s3tVClu7O4kJLH12+3FXLrxRZSSajcxNeu19aC3+wyIvkxcAAhtxyF5KjaOvUc1yVFAtgooooGFFFFABRRRQAUUUUAFFFFABRRRQAUUUUAFFFFABRRRQAUUUUAFFFFABRRRQAUUUUAFFFFABRRRQAUUUUAFFFFABRRRQAUUUUAFFFFABRRRQAUUUUAFFFFABRRRQAUUUUAFFFFABRRRQAUUUUAFFFFABRRRQAUUUUAFFFFABRRRQAUUUUAFFFFABRRRQBvWXhK7vdNivReWUMcsTzASyMCERtrE4U9OPrnjJ4qvNoDWuoXFpfahZWrwOELSM5DkjIwFUtjHcgCrMHifydHisfsm7y7Oa13+b18xw27GO2MY71cPjUNNdyfZLmA3Nws5a0vfJchU27GYKSy98cdael/67/wCQuhl/8I3erqN7azvBAtiM3FxI/wC7QdjkAk54wACeelMstCk1LUZLPTru1uGSFpvMDMiEKMkZdRg/UAe9XJ/FC3epanNd2O+11IKJYVmKspXG0q+DyCM8g1VsdXttMvrmWytJfKntZLfZLOGZS643bggz9MfjS6D6kn/CL3ck1mlncW13Hdl1SaFmCLs+/u3AEYHOcdOmarXmjtbaeL6C7tr2283ymkgLjY+MgEOqnkZwcY4NM0jU20nUkuliWZQGR42JG9GBVhkdOCeamutWgOknTdNtZLeCSYTSmacSs7AYUZCqABk9u/WjoBl1qjQXksrie3vrOd7aISzQRuxdFyATkrtOMjOGNZVdXeeNhdWl7Clpcot3AIfKa9LQwAY/1ce0AdPf60PYXUyx4bum1K3tFmtyJ7b7Us+5vLEe0sSTjIxgg8dafp3hmfUY7RjeWlqb2RktknZ8ylTgkbVIAzxzili8SSR+G20zyMy7WiS538rEzBmTGPUdc9zXRaVewLoWkQRXEACB/MmF5bwSWxZzuIEqs+cc5QjPGKfUOhw08XkXEkW9ZNjFd6ggNjuMgH8wKjqe9WBL6dbSVpoFkYRysuC654JH0qCpWw3uFFFFMAooooAKKKKAO30/w5ZM+mWlzYq0V3CjXGoSzMhR5BlEjAO0sODghic84HI426gNreTW7HLRSMhPrg4rch8UKsenyXVkZ7zTY/LtZfPxGAPulkwclT6EZwM1mW15aLb3gvrE3dxOv7qczsnktzlsD73Xv6US308/+AJbFjQUW8voNPXTLS7lnkwJJ2lBQd/uOowACenrWxFpmm3lxqt7pWmG7gjnS2srXzH2MSCS7ENuxhSeoxnnpWDpeqDS47wxwb7meEwxyl8eUG+8cY5JHGcjGTUmlayLCxvbG5heezvVXzEjl8tgVOVIbBH4EHNP+v6/rqH9f1/XQs+KdKt9NubSWy2CG7txLsjk8xEfJVgrHkjI4PP1NYVXtW1P+0p4ikIggt4lhgiDbtiD1Pckkknjk1RqRhRRRTAKKKKACuq0rRrddHsbufT4703crNNLcTNFFbQq237ykYYnPJz0AAJrla2rPXYV0mDTtUs3u4LafzoRHP5WCfvK3yncD+BHPPNNWEV/EOmJo/iC7sInZ44X+Rm6lSARn3wateHNHTUVvrqeMTR2Uav5JlESuxOBuckbV6knI6dRVdNXhudel1HW7IX6zFmeBZWiGT0wRyAPT2pmm6olkl3b3Fu09neIFliWTYwwcqQ2Dgg+x71K0Q3qTXka6dqkb6jpECRNFvjgguGMUmc4bfuYkZ64YdMZFSa/ZW1vYaVdQ2y2c95A0ktsrMVUbsK43EkBh6ntTl1+zOoWDT6V51hp8ZSG0ebliTks7bfm+Y5xgDoMdc1NY1G31S6a6WK7FzI26SS4uVl3ewAjXFN7AZtFFFABRRRQAUUUUAdBoWkpcaTc3xsTqE4mS3gtyzKgJBZncqQcAD1AGcmo/FWlW2l39ubEp5F1brOFjk3qhJIIVj94ZBwag0zWRZadeaddQPPZ3m0uscvlurKcghsEfUEGm3urR32qW889oPsduEjS0EhH7pT93d1yect6nND1YltqHh7ShrOtw2blxGwZ38sfMVVSxA9zjA+tXrqwRb6wkn0yzs9PkuhG0tveGZSMjKu4kYAhT229z9KVtq8Vj4gOoafZrDb5YfZWkLjYw2su488gnmnXGrWrabHp1nZSw2f2jz5g9wHkkOMYDbAAMZ7Hr3ovsBb8Q6f5Mcs1lpllHYrcMkd3aXLTZHOA37xgCRg8gGuerVn1eBNJl07S7SS3huJFkneaYSu+37oBCqABknpnPesqkMKKKKYBRRRQAVPZy28FyJLu2+1RgH90ZCgJxxkjnGewxn1FQVd0i7tbDU4rm/shfRRnPkGTYGPbPByPbvQtxHQpoum3N9oZmtxZvfQySSWaSMA5BPlgFySu/AHX6dararo4g0GDUrrR30yRbryZLcM6+YhXcGAkLMp4Iz09utZ+palY6lqH2ua3vnkkfdOZLxGLj0UiIBfyIxxikudVt5YLazt7NodPhl814jNuklY4BLPgDOBgYUY96P6/r8v0Au3VtY3fhabU4tPTTmS7WKDZI7iZSCSDuJyVwORgc9K1b7QtOg0y8mSwAtEs0kt7gNL9p8xuhkQnCqSG5KgEYwTWLreuWOrKvlWFzbGFAlvELtWhhXuAnlgnPrnOamuPFMUk97eQ2Dx399bmCZzcZiAIAYqm0EdOMsQKOjt/Wn9f8EF0uc7RRRQMKKKKACiiigAooooAKKKKACiiigAooooAKKKKACiiigAooooAKKKKACiiigAooooAKKKKACiiigAooooAKKKKACiiigAooooAKKKKACiiigAooooAKKKKACiiigAooooAKKKKACiiigAooooAKKKKACiiigAooooAKKKKACiiigAooooAKKsafai+1K2tDJ5YnlWMvjO3JAzjv1rUTwvdh52uiYII4rh0l2hvMMJwRjPHOBz+tAGHRXVSeBrqOCQFrr7THb+exNmwt+BuKCbPLY9sZ4zVOxVz4O1Q2uoSoqmI3Vq1su18vhcSbieOvQUbC8zBord0vw/Be2dpcXl7JALy6+ywiG3835uMlvmXA+YdMnrxWrLYWNv4NurW5vpkht9YZFkS3DPIwjxwu/A7nO7oPwp2/r7v8w/r+vuONorrdK0SxsfEOp6fqUzTPb20+zFsrqV8skPywww6gevcVl6bocWsalJBps9xJBDAZpHa1/eYHGFjVjuOSAOR17UgMaiukm8HXCXlhGkksUV4sjbry3MLxCPlyyZPGORgnNLfJaR+AoxYTzTx/wBptlpoRGc+UOwZuPxo2V/63sPqc1RRXRt4Tc6PcXqPeKbeATlprFo4ZBxkJITk9eMqM0dLi62OcorfXwyHvLYLdn7FNZm8a68n7iqDuBXPUMNvXqRT9K8MQX8Wmm6v5YH1KV44BFbeaBtOCWO4Y57DPrRbWwdLnO0VJcIkVzJHE7OisQrMoBIz1wCcfmajpDas7BRRRTAKKKKACiiigAorv7HTLS3l0W1uoLJLG8gj81polee5klHRD95QuRyCAMHqeDw15ALW/uIFbcIpWQN64OM0PR2/rQS2IaK2vDbXNzqUOnwC0Ecjl5JJ7SKUogGWOXUnAAJx0q2v2C/1y/1uW1jh0m1bMcCIEWVukceB3bGTjsGoA5qitvxhFFB4rvEt4Y4IxsIjiQKq5jUnAHTk1iUDCiiigAooooAKKK7DTLOKx8O6dfGOxWO4md7u5vYVlwqttWNFIJJPJ+XnpkgDNNK4jj6K1fE9hBpnia9tLMEQRuDGCc7QQDj8M4qtplxcxXSw2UUEss7KirNbRy5JOABvU469qS1G9CnRXY3F7pUHjBIblLFYLO2e3km+yL5cs+0/OUVSMbzgcHgVja7bXSRWl1NJYz286t5M1lAsSkg/MCAinI46jvQBj0UUUAFFFFABRRRQAUV03h6w3eH76/hitXuFnjhEt2FaO3QglnIYEdgBwTzwM1D4utLO3vrOfT/L8u7tEmbyk2IWyQSq/wAIOM496HoJanP0VLbXL2k4liWJmHQSxLIv/fLAj9K6DXbn7JpumW8tvZ/2gcXczpZxJsDfcjIVQDx8xBB6igDmqK6XV4oZ/C8V0hsrueO6KSXNlbiBY1K8Iy7UJJIJB244Iz2rmqOthhRRRQAUUUUAFFFT2d19juRMIIZ2AIVZ03qCRjO3ocdecj2NAiCiuzlg06LVdEXWobW3vWgdrqPy1jjVzkw+YqgBe24YHGM1U1W0x4ag1C9i01rqO98oizMe2RCu7DeUdvUducH6Ubf152A5eiumvytx4RN5qNna21xNdD7CLeBIi0eDv4UAlRwATk571sX9larZaikVnalY7FWXT1gjFzatgfvGkHzMBjJ+Yn5huUUbX/rpcFrY4GiiigYUUUUAFFFFABRRRQAUUUUAFFFFABRRRQAUUUUAFFFFABRRRQAUUUUAFFFFABRRRQAUUUUAFFFFABRRRQAUUUUAFFFFABRRRQAUUUUAFFFFABRRRQAUUUUAFFFFABRRRQAUUUUAFFFFABRRRQAUUUUAFFFFABRRRQAUUUUAFFFFABRRRQA+KVoZkljOGRgyn3HNbd34v1G8jv45EgVL0AMqKQIhnJ2c8Z75zmsGijdWF1uat3rn29M32nWc1yYxGbo+YshwMAkK4UkDHJHbnNLZa8tlps1kNKspY5womaQzbpNpyM4kAHPoBWTRQB2Oka5bW3h21tI9QgtnEkhuI52uk4YjG3yMBhgfxkn8KxdU1WBoZ9N0qLZpn2w3MPmA+YDt24znp+vvWRRRfUDW/wCEjuz4gl1YxwGWZSskRU+WyldpUjOcEe9R2+tNaXsk9pZWsUUsJhlthvaORT1B3MW9DwR0FZtFAGnDrRtNSgvdPsbW0eHOUTzGWQEYIYO7cEEjjHWi91t7vS006OztbW2jl85VgVs7sYOSzEn8c/lxWZRQMOlb1z4subn7axsbJJ76LyridVfe449WIHQdABWDRR0sBpx69eR6C+kr5fkMxO/B3hSQSgOcbSVBxiui07XLFNC0+ya/hihVGW7hma6RiC5yFEOEYEH+Ln1riqKLiJrw27X05sVdLYyMYlkPzBc8A++KhoopDCiiimAUUUUAFFFFAGzb+Jrq3hth9ntpbi0QpbXUisZIVPYYO04ycbgcZ4qlaaj9ktbuE2lrcG6Xb5k8W54uvKHPB561TooEXbHU5tPt7uO3SMNdxeS0pB3KmckLzgZ6Hg0201bUdPjaOwv7q1RjuZYZmQE+uAaqUUAaGs63e67em5v5SxwAqBmKpwB8oJOM4yfes+iigYUUUUAFFFFABWpY67LZ2aWstra3sMUvnQrcqx8pu+NrDg8ZByOOlZdFFxGhbazNDrD6ldQW1/NIWZ1vIt6MT3K8VHpmpy6VqK3tvFE0yA+X5ikhCRjcACOR2zVOigZNb3CxXPmz28d2OcpMz4JPclWB/WrGoarNqEcEJjigtrcEQ28IIVM8k8kkknnJJqjRQAUUUUAFFFFABRRRQBf0/VpbC3uLcww3NtchfNgnDbSQchgVIII9j3ouNXmutWivriKB/KKbLcp+6VF6Jt/u44x3qhRQItz3wn1Q3ptLZAZA5t40Kxcfw4ByB+NLd6lLf6vJqF6kc0ksm942yFP+zwQQMccHpVOigZoXervcWAsoLW3s7XzPNaOAMd74wCS7MeATxnHPSs+iigAooooAKKKKACruk6m+kalFfRW8FxJFyizqWUHscAjkdqpUUbCNG61WK6ulnfS7QPvLyfvJz5pP94tIT78EGi51iS5Nsn2a3itbZt6Wkat5ZPGScks2ccknOOBis6igZsat4gOsu0lzptmk7KFWWNpQUA6BVMhUD2xinT+KLmc3Ev2W0ju7qLyZ7tFbzJFIAPBbaCQOSFFYtFABRRRQAUUUUAFFFFABRRRQAUUUUAFFFFABRRRQAUUUUAFFFFABRRRQAUUUUAFFFFABRRRQAUUUUAFFFFABRRRQAUUUUAFFFFABRRRQAUUUUAFFFFABRRRQAUUUUAFFFFABRRRQAUUUUAFFFFABRRRQAUUUUAFFFFABRRRQAUUUUAFFFFABRRRQAUUUUAFFFFABRRRQAUUUUAFFFFABRRRQAUUUUAFFFFABRRRQAUUUUAFFFFABRRRQAUUUUAFFFFABRRRQAUUUUAFFFFABRRRQAUUUUAFFFFABRRRQAUUUUAFFFFABRRRQAUUUUAFFFFABRRRQAUUUUAFFFFABRRRQAUUUUAFFFFABRRRQAUUUUAFFFFABRRRQAUUUUAFFFFABRRRQAUUUUAFFFFABRRRQAUUUUAFFFFABRRRQAUUUUAFFFFABRRRQAUUUUAFFFFABRRRQAUUUUAFFFFABRRRQAUUUUAFFFFABRRRQAUUUUAFFFFABRRRQAUUUUAFFFFABRRRQAUUUUAFWZtNvra1jubiyuIreTGyWSJlR8jIwSMHil0vyf7Ys/te3yPPTzN3TbuGc/hXb3jQQ3HiyK68+eRoWaeeXKxo+4eUir36jDHsOAByR7X9fwF1PPq0IdA1i4hSaDSb6WJxuV0tnKsPUEDmqps7lbNbtreUWzNsWYodhb03dM+1bPh8f2Zp95rzj57ceRaZ7zOPvf8BXJ/KgDNttF1S8jMlnpt5cIrFS0UDMAR1GQOtJbaRqV7v+x6fdXHlttfyoGbafQ4HBrU0i7tNStbLQr6zupC12WWa2mUMC+0fdKHOMZ6iqsEdnpfiKSC6invxb3GyNrWYR7yrYz91s5x0BH1p21SBvS5Qt7K6vLg29pbTTzDOY4oyzcdeBzUkelahNeSWkNhcyXMYy8KwsXUe64yOors7m3jVfFK3d024XUUl01tFh3jOSVVc8fMQCSSBjv0OX4oj/ALSv9Egtbdo7uazjQws25hliEDE9Ttxk8fhSXT5fih6amFLo2qQTxQz6beRyzEiKN4GDSEdcAjn8KbNpWoW91HbXFhdRTy/6uJ4WVn7cAjJrR8S3UH9pQ6bbZex0xfITaceYc/vHzzyzZ/IVPqpim8GafLZxy29tFdSxrFO3mO7EAlw4AG3gDAUc9zS0tcOtjKuND1a0hMt1pd7BGCAXkt3VQScDkinS6BrMELyz6TfRxoNzO9s4VR6kkcVf1P8A4lHhu00tRtuLwC8u/UDnyk/LLY9WFC/8SbwgXxtu9XJQHutup5/76bj6LTfUXYyl0y/exN6llcNajrOImMY5x97GOtR21pc3khjs7eWdwpYrEhYgDqcDtXotu1pb+K9PdvOnjk05PLA+WGC28v5yx/i5DccAE9zwKvhK3WyNnFYz2kj3qvLdOLuPeqbG2RbS27r8zcenpQ1a/wDX9f0gWqOItNMv79Xaxsri5WP75hiZwv1wOKit7ae8nWC0hknlbO2OJCzHvwBXR6fJFcxadosjXcd5aXTPH/Z4SZZixBzuDgAjH3huwPpWhpWpZ+KEkOnTEWVzflnCYxJjd3HVc5IHToafVf12E3ZNnG29pcXlwILS3lnmOcRxIWY468DmnS6fewXi2k9pPHcuQFheJg7Z6YUjPNbnhs+WmtyzKZLRbUi4iQfO4LgDac/Lg8k8gAdDXQ2cay39ibadoIpNGlWwDoTNCQSGPqzY3EFcZ7AUul/66/5FNWbX9dP8zhJtMv7e7jtZ7G5iuJMbIXhYO2eBhSMmkvNOvdPZVv7O4tS4yoniZN30yK6HVpbNvAunJBDMipeyCBp2+eWPA3tjoo3EcDIGOpOTUV48UngiCTT45rWCHUCAk0nmNI5TO5XAXGMdNvcHNHf+u3+YjEudMv7KFJryxubeKT7jywsqt34JHNVa6W9aTSPDt3ZanK0up6pJHNLE53NAqkkM5P8AG2enUDr1xXNUdRhRRRQAUUUUAFFFFABRRRQAUUUUAFFFFABRRRQAUUUUAFFFFABRRRQAUUUUAFFFFABRRRQAUUUUAFFFFABRRRQAUUUUAFFFFABRRRQAUUUUAFFFFABRRRQAUUUUAFFFFABRRRQAUUUUAFFFFABRRRQAUUUUAFFFFABRRRQAUUUUAFFFFABRRRQAUUUUAFFFFABRRRQAUUUUAFFFFABRRRQAUUUUAFFFFABRRRQAUUUUAFFFFABRRRQAUUUUAFFFFABRRRQAUUUUAFFFFABRRRQAUUUUAFWZ9Svrm1jtrm8uJoIseXFJKzKmBgYBOBxxVaigCY3ly1mto1xKbZW3rCXOwN67emfeka5ne3S3eaRoYyWSMuSqk9SB0FRUUAW4dV1C3tGtbe/uYrd87oUmZUbPXKg45otNV1GwjaOxv7q2RjllhmZAT6kA1UooETWt5c2U/nWVxNby4x5kTlGx9RSrfXa3pvFuphdEkmcSHeSep3dagooGSQXE1rcLPbTSQzKcrJGxVh9CKfd313fzCW+uprmQDaHmkLkD0yagooAkuLia6naa6mkmlb70kjFmPbkmia4muNn2iaSXy0Eab2LbVHRRnoB6VHRQBZGpXy2JslvLgWh624lbyzzn7ucdeaihnmtphLbyvFIucPGxUjIweR7VHRQBZh1K+t7SS1gvLiK3lzvhSVgj5GDlQcHils9Tv9PDiwvrm1D43CCZk3Y9cHmqtFAi5/a+pfbftn9oXX2rbt8/zm349N2c4qKS+u5rwXk11NJcghhO0hLgjod3XjFQUUDLUup3814l3NfXMlzHjZM8zF1x0w2cikudSvryZJry9uJ5Y/uPLKzMvOeCTxVaigRfn17WLmFobnVb6WJxhkkuXZWHuCeaoUUUDCiiigAooooAKKKKACiiigAooooAKKKKACiiigAooooAKKKKACiiigAooooAKKKKACiiigAooooAKKKKACiiigAooooAKKKKACiiigAooooAKKKKACiiigAooooAKKKKACiiigAooooAKKKKACiiigAooooAKKKKACiiigAooooAKKKKACiiigAooooAKKKKACiiigAooooAKKKKACiiigAooooAKKKKACiiigAooooAKKKKACiiigAooooAKKKKACiiigAooooAKKKKACiiigAooooA/9k=)"
      ]
    },
    {
      "cell_type": "markdown",
      "metadata": {
        "id": "Yf8HWjts_y8E"
      },
      "source": [
        "# ATTEMPT 2: Long Short Term Memory (LSTM) and Recurrent Neural Networks (RNN).\n",
        "\n",
        "LSTM is a type of RNN network that can grasp long term dependence, capable of learning order dependence in sequence prediction problems. This behaviour is important in machine learning that requires complex problem domains like machine translation, text classification, speech recognition, and sentiment analysis. \n",
        "\n",
        "RNN was designed in such a way that they can catch the sequential/time series data. However, it suffers from vanishing gradients and exploding gradients - both related to how the network is trained. As such, LSTM was introduced to overcome this problem. (Dwivedi, 2020)\n"
      ]
    },
    {
      "cell_type": "code",
      "metadata": {
        "id": "96vo_klsvtwz"
      },
      "source": [
        "#Reference link: https://analyticsindiamag.com/how-to-implement-lstm-rnn-network-for-sentiment-analysis/"
      ],
      "execution_count": null,
      "outputs": []
    },
    {
      "cell_type": "markdown",
      "metadata": {
        "id": "2hCzuAYtOP7-"
      },
      "source": [
        "# IMPORTING FILES AND LIBRARIES\n",
        "At this stage is where we initialise importing the required libraries and the csv file that the model should train. \n",
        "\n",
        "The correct procedure for doing this is to first save the tweets extracted in the program above into a csv file, where it will be downloaded back here into this program. We will then be able to compare the accuracy of both such programs.\n",
        "\n",
        "However for the purpose of attempting, we can include any csv file to test the program."
      ]
    },
    {
      "cell_type": "code",
      "metadata": {
        "id": "4_jC2AqDVYXo"
      },
      "source": [
        "# from google.colab import files\n",
        "\n",
        "# df.to_csv('insertcsvfilehere.csv')\n",
        "# files.download('insertcsvfilehere.csv')"
      ],
      "execution_count": null,
      "outputs": []
    },
    {
      "cell_type": "code",
      "metadata": {
        "id": "hi_jdy3xrafS"
      },
      "source": [
        "# import numpy as np\n",
        "# import pandas as pd\n",
        "# from keras.models import Sequential\n",
        "# from keras.layers import Dense, Embedding, LSTM, SpatialDropout1D\n",
        "# from sklearn.model_selection import train_test_split\n",
        "# from sklearn.feature_extraction.text import CountVectorizer\n",
        "# from keras.preprocessing.text import Tokenizer\n",
        "# from keras.preprocessing.sequence import pad_sequences\n",
        "# from keras.utils.np_utils import to_categorical\n",
        "# import re\n",
        "\n",
        "# from google.colab import files\n",
        "\n",
        "# df.to_csv('insertcsvfilehere.csv')\n",
        "# files.download('insertcsvfilehere.csv')\n",
        "\n",
        "# print(df.columns)"
      ],
      "execution_count": null,
      "outputs": []
    },
    {
      "cell_type": "markdown",
      "metadata": {
        "id": "hiFMvNbkRo9m"
      },
      "source": [
        "This part will be only using the tweets and their corresponding sentiments. The new_df creats a new datafame that will only hold these two columns. We will also check the different sentiments present."
      ]
    },
    {
      "cell_type": "code",
      "metadata": {
        "id": "N-zhgDIurflb"
      },
      "source": [
        "# new_df = df[['text','sentiment']]\n",
        "\n",
        "# print(data.sentiment)"
      ],
      "execution_count": null,
      "outputs": []
    },
    {
      "cell_type": "code",
      "metadata": {
        "id": "vmIx56mjR-CX"
      },
      "source": [
        "# new_df = new_df[new_df.sentiment != \"Neutral\"]\n",
        "# new_df['text'] = new_df['text'].str.lower()\n",
        "# new_df['text'] = new_df['text'].re.sub('[^a-zA-z0-9\\s]')"
      ],
      "execution_count": null,
      "outputs": []
    },
    {
      "cell_type": "markdown",
      "metadata": {
        "id": "15Tm2J7CSHe9"
      },
      "source": [
        "This part defines the vocabulary size that is to be used and use the tokenizer to convert them into vectors. The X variable is used to store them. Then we will define the LSTM model architecture from embed_dim onwards.\n",
        "\n",
        "My progress came to a halt when it came to vocabSize. Tried to resolve the issue but the deeper I searched into it, the deeper I got confused. \n",
        "\n",
        "\"NameError: name 'vocabsize' is not defined\". "
      ]
    },
    {
      "cell_type": "code",
      "metadata": {
        "id": "wYg-lCJiSD8F"
      },
      "source": [
        "# tokenizer = Tokenizer(num_words=1500, split=' ')\n",
        "# tokenizer.fit_on_texts(data['text'].values)\n",
        "# X = tokenizer.texts_to_sequences(new_df['text'])\n",
        "# X = pad_sequences(X)\n",
        "\n",
        "# embed_dim = 128\n",
        "# lstm_out = 196\n",
        "# model = Sequential()\n",
        "# model.add(Embedding(vocabSize, embed_dim,input_length = 28)) \n",
        "\n",
        "# model.add(LSTM(lstm_out, dropout=0.2, recurrent_dropout=0.2))\n",
        "# model.add(Dense(2,activation='softmax'))\n",
        "# model.compile(loss = 'binary_crossentropy', optimizer='adam',metrics = ['accuracy'])"
      ],
      "execution_count": null,
      "outputs": []
    },
    {
      "cell_type": "markdown",
      "metadata": {
        "id": "YPoY48TdTXfD"
      },
      "source": [
        "This part encodes the sentiments using Label Encoder. The tweets are stored in X and the corresponding sentiments are stored in y."
      ]
    },
    {
      "cell_type": "code",
      "metadata": {
        "id": "zS3Pk_fPryUg"
      },
      "source": [
        "# from sklearn.preprocessing import LabelEncoder\n",
        "# Le = LabelEncoder()\n",
        "# y = Le.fit_transform(new_df['sentiment'])\n"
      ],
      "execution_count": null,
      "outputs": []
    },
    {
      "cell_type": "markdown",
      "metadata": {
        "id": "fuekyKPfT7IE"
      },
      "source": [
        "This part divides the data set into training sets and testing sets. After which, we will pass the training data and validation data to the model.\n",
        "\n",
        "From the problem above, I 'hashtagged' the vocabSize and I am able to progress up to here. However I stumbled across another problem and I have no idea how to solve ever since. This is the error shown:\n",
        "\n",
        "\"train_test_split() error: Found input variables with inconsistent numbers of samples\" --> based on test_size line"
      ]
    },
    {
      "cell_type": "code",
      "metadata": {
        "id": "dAbbItdRrjQN"
      },
      "source": [
        "# X_train, X_test, y_train, y_test = train_test_split(X,y, test_size = 0.15, random_state = 42)\n",
        "# model.fit(X_train, Y_train,validation_data = (X_test,y_test),epochs = 10, batch_size=32)\n",
        "\n",
        "# model.evaluate(X_test,y_test)"
      ],
      "execution_count": null,
      "outputs": []
    },
    {
      "cell_type": "code",
      "metadata": {
        "id": "iWE-4zbmr9J6"
      },
      "source": [
        "# print(\"Prediction: \",model.predict_classes(X_test[5:10]))\n",
        "# print(\"Actual: \\n\",y_test[5:10])"
      ],
      "execution_count": null,
      "outputs": []
    },
    {
      "cell_type": "markdown",
      "metadata": {
        "id": "4WLZ5PqhVGwk"
      },
      "source": [
        "This would be the ideal result based on example.\n",
        "\n",
        "![lstm rnn ccuracy result](https://drive.google.com/uc?id=1F09C3LLd-L6xJRwAw2SwKATGWWGo0vS8)\n"
      ]
    },
    {
      "cell_type": "markdown",
      "metadata": {
        "id": "E82Z-nh490Rx"
      },
      "source": [
        "# ATTEMPT 3: IMPLEMENTATION SVM with SCIKIT-LEARN\n",
        "\n",
        "SVM differs from the other classification algorithms in the way that it chooses the decision boundary that maximizes the distance from the nearest data points of all the classes. An SVM doesn't merely find a decision boundary; it finds the most optimal decision boundary.\n",
        "\n",
        "This method works, but it only works for values and finds an optimal decision boundary. For my case, I need to tokenize the words, then vectorize it to map words to a corresponding number. Not ideal for my sentiment analysis.\n",
        "\n",
        "*Bill authentication is the csv file based on the web example given."
      ]
    },
    {
      "cell_type": "code",
      "metadata": {
        "id": "6Su7rAOZ06Zr"
      },
      "source": [
        "#link: https://stackabuse.com/implementing-svm-and-kernel-svm-with-pythons-scikit-learn/"
      ],
      "execution_count": null,
      "outputs": []
    },
    {
      "cell_type": "code",
      "metadata": {
        "id": "k1Vm6czz1QJD"
      },
      "source": [
        "# import pandas as pd\n",
        "# import numpy as np\n",
        "# import matplotlib.pyplot as plt\n",
        "# %matplotlib inline\n",
        "\n",
        "# bankdata = pd.read_csv(\"bill_authentication.csv\")\n",
        "# bankdata.shape\n",
        "# bankdata.head()\n",
        "\n",
        "# X = bankdata.drop('Class', axis=1)\n",
        "# y = bankdata['Class']\n",
        "\n",
        "# from sklearn.model_selection import train_test_split\n",
        "# X_train, X_test, y_train, y_test = train_test_split(X, y, test_size = 0.20)\n",
        "\n",
        "# from sklearn.svm import SVC\n",
        "# svclassifier = SVC(kernel='linear')\n",
        "# svclassifier.fit(X_train, y_train)\n",
        "\n",
        "# y_pred = svclassifier.predict(X_test)\n",
        "\n",
        "# from sklearn.metrics import classification_report, confusion_matrix\n",
        "# print(confusion_matrix(y_test,y_pred))\n",
        "# print(classification_report(y_test,y_pred))"
      ],
      "execution_count": null,
      "outputs": []
    }
  ]
}